{
  "cells": [
    {
      "cell_type": "markdown",
      "metadata": {
        "id": "omhdCs_s4ouL"
      },
      "source": [
        "# HNU 3059 (HNU 6059) - Projet final\n",
        "\n",
        "Lien vers le cours sur StudiUM: https://studium.umontreal.ca/course/view.php?id=278064\n"
      ]
    },
    {
      "cell_type": "markdown",
      "metadata": {
        "id": "XIYb6yZZ-9Rv"
      },
      "source": [
        "**⚠ Pensez à renommer ce fichier avec votre nom et et prénom !**\n",
        "\n",
        "Merci de remplir les champs du bloc ci-dessous"
      ]
    },
    {
      "cell_type": "code",
      "execution_count": null,
      "metadata": {
        "id": "eBADYzaW_GV5"
      },
      "outputs": [],
      "source": [
        "# nom:\n",
        "# prénom:\n",
        "# Microprogramme ou 3e cycle: "
      ]
    },
    {
      "cell_type": "markdown",
      "metadata": {
        "id": "_T0Ywe064r6a"
      },
      "source": [
        "# Rappel des consignes\n",
        "\n",
        "Étant donné `bookshelf`, une liste de références bibliographiques dont les éléments sont organisés sous la forme d'un dictionnaire ;\n",
        "- Écrire un programme qui donne à un-e utilisateur-rice la liste des mot clefs lui permettant d'afficher toutes les informations disponibles dans la catégorie demandée. \n",
        "- Exemples de catégories : 'type', 'auteur', 'titre', 'sous-titre', 'lieu-de-publication', 'éditeur', 'date-de-publication', 'sujets', 'tout'\n",
        "- Après chaque requête, l'utilisateur-rice doit pouvoir continuer à interroger la base de données bibliographiques, jusqu'à ce qu'iel indique qu'iel souhaite mettre au fin au programme.\n",
        "\n",
        "> *Exemple :* \n",
        "> 1. *Le programme est lancé, il indique qu'il est possible d'interroger la base en utilisant les mots \"titre\" ou \"sujet\".*\n",
        "> 2. *L'utilisateur-rice entre \"sujet\"*\n",
        "> 3. *Le programme affiche les mots-sujet associés à chaque référence. Le programme demande ensuite à l'utilisateur-rice s'iel souhaite continuer.*\n",
        "> 4. *Si l'utilisateur-rice répond oui, le programme affiche à nouveau la liste des sujets disponibles, et ainsi de suite.*\n",
        "> 5. *Si l'utilisateur-rice répond non, le programme se termine.*\n"
      ]
    },
    {
      "cell_type": "markdown",
      "metadata": {
        "id": "eGlw14AR_Z0X"
      },
      "source": [
        "# Données pour l'exercice"
      ]
    },
    {
      "cell_type": "markdown",
      "metadata": {
        "id": "OmDNmaTV_etQ"
      },
      "source": [
        "Ne modifiez pas le bloc ci-dessous, mais pensez à l'executer avant de rédiger votre programme."
      ]
    },
    {
      "cell_type": "code",
      "execution_count": 1,
      "metadata": {
        "id": "zoJZPWCA_Wu6"
      },
      "outputs": [],
      "source": [
        "# données pour l'exercice\n",
        "bookshelf = [\n",
        "{'type': 'livre', 'auteur': 'Bergeron-Maguire, Myriam', 'titre': 'Le français en Haute-Normandie aux 17e et 18e siècles', 'sous-titre': 'TraLiRo', 'date-de-publication': '2018', 'lieu-de-publication': 'Strasbourg ', 'éditeur': 'ELiPhi', 'sujets': ['Français (langue)', '18e siècle', 'Linguistique historique']}, \n",
        "{'type': 'livre', 'auteur': 'Mileschi, Christophe', 'titre': 'Traduire en langue vulgaire', 'sous-titre': 'Collection Versions françaises', 'date-de-publication': '2018', 'lieu-de-publication': 'Paris', 'éditeur': \"Éditions rue d'Ulm\", 'sujets': ['Renaissance', 'Cadre de classement de la Bibliographie nationale française']}, \n",
        "{'type': 'livre', 'auteur': 'Marcigny, Cyril', 'titre': 'Sur le terrain avec les archéologues', 'date-de-publication': '2018', 'lieu-de-publication': 'Rennes', 'éditeur': 'PUR', 'sujets': ['Archéologie', 'Fouilles archéologiques', 'Antiquités']}, \n",
        "{'type': 'livre', 'auteur': 'Parsons, Timothy H.', 'titre': 'Empires and bureaucracy in world history', 'date-de-publication': '2016', 'lieu-de-publication': 'Cambridge', 'éditeur': 'Cambridge University Press', 'sujets': ['Bureaucratie', 'Administration']}, \n",
        "{'type': 'livre', 'auteur': 'Vial, Charles-Eloi', 'titre': 'La famille royale au Temple', 'date-de-publication': '2018', 'lieu-de-publication': 'Paris', 'éditeur': 'Perrin', 'sujets': ['18e siècle', 'Captivité']}, \n",
        "{'type': 'livre', 'auteur': 'Sciacca, Christine', 'titre': 'Illuminating women in the medieval world', 'date-de-publication': '2017', 'lieu-de-publication': 'Los Angeles', 'éditeur': 'The J. Paul Getty Museum', 'sujets': ['Enluminure', \"Catalogues d'exposition\", 'Femmes']}, \n",
        "{'type': 'livre', 'auteur': 'Milliot, Vincent', 'titre': 'Le nœud gordien', 'sous-titre': \"L'cÉquinoxe\", 'date-de-publication': '2017', 'lieu-de-publication': 'Chêne-Bourg', 'éditeur': 'Georg éditeur', 'sujets': ['Police', 'Justice', 'Administration']}, \n",
        "{'type': 'livre', 'auteur': 'Oosterhoff, Richard J.', 'titre': 'Making Mathematical Culture', 'sous-titre': 'Oxford-Warburg Studies', 'date-de-publication': '2018', 'lieu-de-publication': 'Oxford', 'éditeur': 'OUP Oxford', 'sujets': ['Mathématiques', 'Livres anciens']}, \n",
        "{'type': 'livre', 'auteur': 'Heuclin, Jean', 'titre': 'Le siège de Maubeuge', 'sous-titre': 'Documents et témoignages', 'date-de-publication': '2018', 'lieu-de-publication': \"Villeneuve d'Ascq\", 'éditeur': 'Presses du Septentrion', 'sujets': ['Guerre mondiale (1914-1918)', 'Histoire militaire']}, \n",
        "{'type': 'livre', 'auteur': 'Melo, Arnaldo Sousa', 'titre': 'Evolução da paisagem urbana', 'date-de-publication': '2014', 'lieu-de-publication': '[Porto]', 'éditeur': 'CITCEM-Centro de Investigação Transdisciplinat Cultura, Espaço e Memória, IEM-Instituto de Estudos Medievais', 'sujets': ['Géographie urbaine', 'Paysage urbain', 'Banlieues']}, \n",
        "{'type': 'livre', 'auteur': 'Melo, Daniel', 'titre': 'História e património da ediçao', 'date-de-publication': '2015', 'lieu-de-publication': 'Ribeirão, Lisboa', 'éditeur': \"Húmus, CHAM-Centro de História d'Aquém e d'Além-Mar\", 'sujets': ['Portugal', 'Littérature']}, \n",
        "{'type': 'livre', 'auteur': 'Bertrand, Pascal-François', 'titre': 'Arachné', 'sous-titre': \"Collection Histoires de l'histoire de l'art\", 'date-de-publication': '2016', 'lieu-de-publication': '[Le Kremlin Bicêtre]', 'éditeur': 'Editions Esthétiques du Divers', 'sujets': ['Tapisserie', 'Historiographie', 'Arts décoratifs']}, \n",
        "{'type': 'livre', 'auteur': 'Hélix, Laurence', 'titre': \"L'cancien français\", 'sous-titre': 'Mon cours en fiches', 'date-de-publication': '2018', 'lieu-de-publication': 'Paris ', 'éditeur': 'Armand Colin', 'sujets': ['Français (langue)', \"Manuels d'enseignement supérieur\"]}, \n",
        "{'type': 'livre', 'auteur': 'Jeanne, Raymond', 'titre': 'Trésors de la banque de France', 'date-de-publication': '1993', 'lieu-de-publication': 'Paris', 'éditeur': 'Editions Hervas', 'sujets': ['Banque de France', \"Collections d'art\"]}\n",
        "]\n"
      ]
    },
    {
      "cell_type": "markdown",
      "metadata": {
        "id": "LU0pSv7U_qje"
      },
      "source": [
        "# Projet"
      ]
    },
    {
      "cell_type": "code",
      "execution_count": null,
      "metadata": {
        "id": "dazI04uK_puR"
      },
      "outputs": [],
      "source": [
        "# rédiger votre code ici. Pensez à le documenter !"
      ]
    }
  ],
  "metadata": {
    "colab": {
      "provenance": [],
      "toc_visible": true
    },
    "kernelspec": {
      "display_name": "Python 3",
      "name": "python3"
    },
    "language_info": {
      "name": "python"
    }
  },
  "nbformat": 4,
  "nbformat_minor": 0
}

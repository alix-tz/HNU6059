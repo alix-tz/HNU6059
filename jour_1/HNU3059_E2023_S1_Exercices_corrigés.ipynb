{
  "nbformat": 4,
  "nbformat_minor": 0,
  "metadata": {
    "colab": {
      "provenance": []
    },
    "kernelspec": {
      "name": "python3",
      "display_name": "Python 3"
    },
    "language_info": {
      "name": "python"
    }
  },
  "cells": [
    {
      "cell_type": "markdown",
      "source": [
        "# HNU 3059 (HNU 6059) - Séance 1 - Exercices\n",
        "\n",
        "Lien vers le cours sur StudiUM: https://studium.umontreal.ca/course/view.php?id=237645\n"
      ],
      "metadata": {
        "id": "j0bfpOG4ECDh"
      }
    },
    {
      "cell_type": "markdown",
      "source": [
        "⬅ lien vers le précédent notebook: https://github.com/alix-tz/HNU6059/blob/main/jour_1/HNU3059_E2023_S1_Pratique.ipynb"
      ],
      "metadata": {
        "id": "sD7e5RKV3IAo"
      }
    },
    {
      "cell_type": "markdown",
      "source": [
        "# Liste des exercices de ce notebook\n",
        "\n",
        "1. Print\n",
        "2. Intéraction\n",
        "3. Simple calculatrice I\n",
        "4. Simple calculatrice II\n",
        "5. Mot de passe\n",
        "6. Temps\n",
        "7. Conversions\n",
        "8. Inversions\n",
        "9. Fonctions\n",
        "10. Créer une liste\n",
        "11. Parcourir une liste\n",
        "12. Fusion!\n",
        "13. Contrôle\n",
        "14. String vers Liste"
      ],
      "metadata": {
        "id": "BW8mW9otEXFF"
      }
    },
    {
      "cell_type": "markdown",
      "source": [
        "# 1. Print\n",
        "\n",
        "- créer une chaîne de caractères et l'assigner à une variable\n",
        "- utiliser la fonction `print` pour afficher le contenu de la variable"
      ],
      "metadata": {
        "id": "y9wSaWRVFwTR"
      }
    },
    {
      "cell_type": "code",
      "source": [
        "# écrire le code ici\n",
        "cours = \"hnu-3059\"\n",
        "print(cours)"
      ],
      "metadata": {
        "id": "e3QZvC3zIH2m",
        "outputId": "4bce63f7-ae22-4098-c1b9-960f9ee03675",
        "colab": {
          "base_uri": "https://localhost:8080/"
        }
      },
      "execution_count": 11,
      "outputs": [
        {
          "output_type": "stream",
          "name": "stdout",
          "text": [
            "hnu-3059\n"
          ]
        }
      ]
    },
    {
      "cell_type": "markdown",
      "source": [
        "# 2. Intéraction\n",
        "\n",
        "La fonction `input()` permet de demander à l'utilisateur d'entrer une valeur qui doit être entre stockée dans une variable. On peut passer une chaîne de caractère à `input()` pour donner un prompt à l'utilisateur.\n",
        "\n",
        "- créer une variable qui va recevoir le nom de l'utilisateur\n",
        "- utiliser `input` pour demander son nom à l'utilisateur\n",
        "- afficher un message de bienvenue personnalisé"
      ],
      "metadata": {
        "id": "Yr7kiOL-F_lO"
      }
    },
    {
      "cell_type": "code",
      "source": [
        "response_user = input(\"Voulez-vous continuer? (oui/non) \")\n",
        "\n",
        "print(\"L'utilisateur a dit\", response_user, \"pour continuer.\")"
      ],
      "metadata": {
        "id": "VmBxhLpcuDiX",
        "outputId": "44d39ba0-f8c4-4104-f959-b029f4d0e0c4",
        "colab": {
          "base_uri": "https://localhost:8080/"
        }
      },
      "execution_count": 5,
      "outputs": [
        {
          "output_type": "stream",
          "name": "stdout",
          "text": [
            "Voulez-vous continuer? (oui/non) non\n",
            "L'utilisateur a dit non pour continuer.\n"
          ]
        }
      ]
    },
    {
      "cell_type": "code",
      "source": [
        "# écrire le code ici\n",
        "\n",
        "response_user = input(\"choisissez un nom d'utilisateur > \")\n",
        "print(\"Bienvenue au cours\", response_user, \"!\")"
      ],
      "metadata": {
        "id": "_kXPKGPVG4jv",
        "outputId": "152ee0c4-c622-48b4-8af4-f9d088108cb6",
        "colab": {
          "base_uri": "https://localhost:8080/"
        }
      },
      "execution_count": 14,
      "outputs": [
        {
          "output_type": "stream",
          "name": "stdout",
          "text": [
            "choisissez un nom d'utilisateur > Alix\n",
            "Bienvenue au cours Alix !\n"
          ]
        }
      ]
    },
    {
      "cell_type": "markdown",
      "source": [
        "# 3. Simple calculatrice I\n",
        "\n",
        "- utiliser `input` pour demander deux nombres à l'utilisateur\n",
        "- additionner les deux nombres puis afficher le résultat\n",
        "- attention, `input` enregistre toujours le résultat sous la forme d'une chaîne de caractères, il faut penser à changer le type de la variable avant de pouvoir faie une opération!"
      ],
      "metadata": {
        "id": "CLUePFQZG8uK"
      }
    },
    {
      "cell_type": "code",
      "source": [
        "# écrire le code ici\n",
        "\n",
        "premier_nombre = int(input(\"Entrez votre premier chiffre : \"))\n",
        "deuxième_nombre = int(input(\"Entre votre deuxième chiffre : \"))\n",
        "\n",
        "somme = premier_nombre + deuxième_nombre\n",
        "\n",
        "print(\"La somme est de\", somme)"
      ],
      "metadata": {
        "id": "O82D20AWIWa6",
        "outputId": "9b381307-8332-4650-8dbd-4c8f80286721",
        "colab": {
          "base_uri": "https://localhost:8080/"
        }
      },
      "execution_count": 17,
      "outputs": [
        {
          "output_type": "stream",
          "name": "stdout",
          "text": [
            "Entrez votre premier chiffre : 34\n",
            "Entre votre deuxième chiffre : 23\n",
            "La somme est de 57\n"
          ]
        }
      ]
    },
    {
      "cell_type": "markdown",
      "source": [
        "# 4. Simple calculatrice II\n",
        "\n",
        "- utiliser input pour demander un nombre à l'utilisateur\n",
        "- définir une autre variable contenant un nombre décimal\n",
        "- sur plusieurs lignes, afficher le résultat de toutes les opérations arithmétiques possibles avec ces deux nombres (adition, soustraction, multiplication, division, division entière et reste, puissance)"
      ],
      "metadata": {
        "id": "C5fPCgulH1Ce"
      }
    },
    {
      "cell_type": "code",
      "source": [
        "# écrire le code ici\n",
        "\n",
        "choix_chiffre = input(\"Entrez un nombre entier : \")\n",
        "chiffre = 4.5\n",
        "\n",
        "print(int(choix_chiffre) + chiffre,\n",
        "      int(choix_chiffre) - chiffre,\n",
        "      int(choix_chiffre) * chiffre,\n",
        "      int(choix_chiffre) / chiffre,\n",
        "      int(choix_chiffre) // chiffre,\n",
        "      int(choix_chiffre) % chiffre,\n",
        "      int(choix_chiffre) ** chiffre,\n",
        "      sep=\"\\n\")"
      ],
      "metadata": {
        "id": "xHyQh6ZPHMy9",
        "outputId": "a9ddb34a-0eb7-4816-d3fb-b28d91611f9f",
        "colab": {
          "base_uri": "https://localhost:8080/"
        }
      },
      "execution_count": 18,
      "outputs": [
        {
          "output_type": "stream",
          "name": "stdout",
          "text": [
            "Entrez un nombre entier : 10\n",
            "14.5\n",
            "5.5\n",
            "45.0\n",
            "2.2222222222222223\n",
            "2.0\n",
            "1.0\n",
            "31622.776601683792\n"
          ]
        }
      ]
    },
    {
      "cell_type": "markdown",
      "source": [
        "# 5. Mot de passe\n",
        "\n",
        "Imaginez que vous devez écrire la partie du code qui vérifie la longueur d'un mot de passe. \n",
        "- enregistrer le mot de passe dans une variable\n",
        "- afficher sa longueur (`len()`)"
      ],
      "metadata": {
        "id": "Jwmjx_roHQgv"
      }
    },
    {
      "cell_type": "code",
      "source": [
        "# écrire le code ici\n",
        "\n",
        "mot_de_passe = \"Alice\"\n",
        "print(len(mot_de_passe))"
      ],
      "metadata": {
        "id": "Aa_po0o_Holo",
        "outputId": "e610e1f0-c638-4faa-9c3e-799a421bb72c",
        "colab": {
          "base_uri": "https://localhost:8080/"
        }
      },
      "execution_count": 19,
      "outputs": [
        {
          "output_type": "stream",
          "name": "stdout",
          "text": [
            "5\n"
          ]
        }
      ]
    },
    {
      "cell_type": "markdown",
      "source": [
        "# 6. Temps\n",
        "\n",
        "Créer une suite d'instructions permettant de transformer un nombre de minutes en son équivalent en heure"
      ],
      "metadata": {
        "id": "Vay4j0aJdTj-"
      }
    },
    {
      "cell_type": "code",
      "source": [
        "# écrire le code ici\n",
        "\n",
        "minutes = int(input(\"Donnez un nombre de minutes \"))\n",
        "heures = minutes // 60\n",
        "reste = minutes % 60\n",
        "\n",
        "print(minutes, \"minutes = \", heures, \"H\", reste)"
      ],
      "metadata": {
        "id": "VbEaJ-DXdwQz",
        "outputId": "fb15f1cd-25b8-4f65-8cf2-204cac618117",
        "colab": {
          "base_uri": "https://localhost:8080/"
        }
      },
      "execution_count": 22,
      "outputs": [
        {
          "output_type": "stream",
          "name": "stdout",
          "text": [
            "Donnez un nombre de minutes 238\n",
            "238 minutes =  3 H 58\n"
          ]
        }
      ]
    },
    {
      "cell_type": "markdown",
      "source": [
        "# 7. Conversions\n",
        "\n",
        "Créer quatre ensembles d'instructions :\n",
        "\n",
        "- le premier permet de convertir une température en celsius vers farenheit\n",
        "- le deuxième fait la conversion inverse\n",
        "- le troisième permet de convertir l'heure exrimée en base 12 vers la base 24\n",
        "- le quatrième fait la conversion inverse"
      ],
      "metadata": {
        "id": "XnrPJS2MdyW8"
      }
    },
    {
      "cell_type": "code",
      "source": [
        "# écrire le code ici\n",
        "\n",
        "# bloc 1 : celsius to farenheit\n",
        "# le calcul est : (10°C × 9/5) + 32 = 50°F\n",
        "celsius = 10\n",
        "farenheit = (celsius * 9 / 5) + 32\n",
        "print(farenheit)\n",
        "\n",
        "# bloc 2 : farenheit to celsius\n",
        "# le calcul est : (10°F − 32) × 5/9 = -12,22°C\n",
        "farenheit = 10\n",
        "celsius = (farenheit - 32) * 5/9\n",
        "print(celsius)\n",
        "\n",
        "# bloc 3 : 12:00 to 24h\n",
        "heure_base_12 = 8\n",
        "heure_base_24 = heure_base_12 + 12\n",
        "print(heure_base_24, \"h\", sep=\"\")\n",
        "\n",
        "# bloc 4 : 24h to 12:00\n",
        "heure_base_24 = 18\n",
        "heure_base_12 = heure_base_24 - 12\n",
        "print(heure_base_12, \":00\", sep=\"\")"
      ],
      "metadata": {
        "id": "ZCmyjsNDdx61",
        "outputId": "e323cdb1-e355-400e-cde6-dbaa0668dcf1",
        "colab": {
          "base_uri": "https://localhost:8080/"
        }
      },
      "execution_count": 32,
      "outputs": [
        {
          "output_type": "stream",
          "name": "stdout",
          "text": [
            "50.0\n",
            "-12.222222222222221\n",
            "20h\n",
            "6:00\n"
          ]
        }
      ]
    },
    {
      "cell_type": "markdown",
      "source": [
        "# 8. Inversions\n",
        "\n",
        " - définir 2 variables (par exemple \"feutre\" et \"stylo\") contenant chacune une valeur (par exemple \"bleu\" et \"vert\")\n",
        " - inverser les valeurs contenues dans les variables"
      ],
      "metadata": {
        "id": "9DMLe7C7edan"
      }
    },
    {
      "cell_type": "code",
      "source": [
        "# écrire le code ici\n",
        "# l'exercice était plus d'ordre logique ici\n",
        "\n",
        "feutre = \"bleu\"\n",
        "stylo = \"vert\"\n",
        "\n",
        "print(\"stylo = \", stylo)\n",
        "print(\"feutre = \", feutre)\n",
        "\n",
        "variable_de_transition = feutre # j'ai besoin de garder la valeur de l'un des deux variables de côté\n",
        "feutre = stylo\n",
        "stylo = variable_de_transition\n",
        "\n",
        "print(\"stylo = \", stylo)\n",
        "print(\"feutre = \", feutre)"
      ],
      "metadata": {
        "id": "7hB5aCK2e88S",
        "outputId": "8b5c2173-605e-4904-90cb-9dc9ed5dc523",
        "colab": {
          "base_uri": "https://localhost:8080/"
        }
      },
      "execution_count": 33,
      "outputs": [
        {
          "output_type": "stream",
          "name": "stdout",
          "text": [
            "stylo =  vert\n",
            "feutre =  bleu\n",
            "stylo =  bleu\n",
            "feutre =  vert\n"
          ]
        }
      ]
    },
    {
      "cell_type": "markdown",
      "source": [
        "# 9. Fonctions\n",
        "\n",
        "Refaire les exercices 3 à 8 en définissant des fonctions"
      ],
      "metadata": {
        "id": "j4OrqqgOFqRq"
      }
    },
    {
      "cell_type": "code",
      "source": [
        "# exercice 3\n",
        "def ask_for_numbers_and_add_them():\n",
        "    premier_nombre = int(input(\"Entrez votre premier chiffre : \"))\n",
        "    deuxième_nombre = int(input(\"Entre votre deuxième chiffre : \"))\n",
        "    \n",
        "    somme = premier_nombre + deuxième_nombre\n",
        "    print(\"La somme est de\", somme)\n",
        "\n",
        "ask_for_numbers_and_add_them()"
      ],
      "metadata": {
        "id": "cTmrvouAF7-q",
        "outputId": "0f47de65-d10a-47b3-cd0e-cb45f0517032",
        "colab": {
          "base_uri": "https://localhost:8080/"
        }
      },
      "execution_count": 34,
      "outputs": [
        {
          "output_type": "stream",
          "name": "stdout",
          "text": [
            "Entrez votre premier chiffre : 3\n",
            "Entre votre deuxième chiffre : 4\n",
            "La somme est de 7\n"
          ]
        }
      ]
    },
    {
      "cell_type": "code",
      "source": [
        "# exercice 4\n",
        "\n",
        "def opérations_mathématiques(chiffre_choisi, autre_chiffre=4.5):\n",
        "    print(int(choix_chiffre) + chiffre,\n",
        "          int(choix_chiffre) - chiffre,\n",
        "          int(choix_chiffre) * chiffre,\n",
        "          int(choix_chiffre) / chiffre,\n",
        "          int(choix_chiffre) // chiffre,\n",
        "          int(choix_chiffre) % chiffre,\n",
        "          int(choix_chiffre) ** chiffre,\n",
        "          sep=\"\\n\")\n",
        "\n",
        "choix_chiffre = int(input(\"Choisissez un chiffre: \"))\n",
        "opérations_mathématiques(choix_chiffre)"
      ],
      "metadata": {
        "id": "WZejqAs9Tg3i",
        "outputId": "5f6f3ffe-5949-4dde-dc7f-df1141d1c3e8",
        "colab": {
          "base_uri": "https://localhost:8080/"
        }
      },
      "execution_count": 35,
      "outputs": [
        {
          "output_type": "stream",
          "name": "stdout",
          "text": [
            "Choisissez un chiffre: 45\n",
            "49.5\n",
            "40.5\n",
            "202.5\n",
            "10.0\n",
            "10.0\n",
            "0.0\n",
            "27507828.750705224\n"
          ]
        }
      ]
    },
    {
      "cell_type": "code",
      "source": [
        "# exercice 5\n",
        "\n",
        "def longueur_mot_de_passe(mot_de_passe):\n",
        "    print(len(mot_de_passe))\n",
        "\n",
        "longueur_mot_de_passe(\"Alice\")"
      ],
      "metadata": {
        "id": "bksj02D6UNdn",
        "outputId": "b04dad1e-2d69-4db9-de7a-8498694b0d21",
        "colab": {
          "base_uri": "https://localhost:8080/"
        }
      },
      "execution_count": 36,
      "outputs": [
        {
          "output_type": "stream",
          "name": "stdout",
          "text": [
            "5\n"
          ]
        }
      ]
    },
    {
      "cell_type": "code",
      "source": [
        "# exercice 6 \n",
        "\n",
        "def converti_en_heures(minutes):\n",
        "    heures = minutes // 60\n",
        "    reste = minutes % 60\n",
        "    print(minutes, \"minutes = \", heures, \"H\", reste)\n",
        "\n",
        "minutes = int(input(\"Donnez un nombre de minutes \"))\n",
        "converti_en_heures(minutes)"
      ],
      "metadata": {
        "id": "cOjVnxnXUdqe",
        "outputId": "5e879b31-fc09-46fd-f328-46baf45c45ba",
        "colab": {
          "base_uri": "https://localhost:8080/"
        }
      },
      "execution_count": 37,
      "outputs": [
        {
          "output_type": "stream",
          "name": "stdout",
          "text": [
            "Donnez un nombre de minutes 534\n",
            "534 minutes =  8 H 54\n"
          ]
        }
      ]
    },
    {
      "cell_type": "code",
      "source": [
        "# exercice 7\n",
        "\n",
        "def cel_to_far(celsius):\n",
        "    return (celsius * 9 / 5) + 32\n",
        "\n",
        "def far_to_cel(farenheit):\n",
        "    return (farenheit - 32) * 5/9\n",
        "\n",
        "def base12_to_base24(heure):\n",
        "    return heure + 12\n",
        "\n",
        "def base24_to_base12(heure):\n",
        "    return heure - 12\n",
        "\n",
        "\n",
        "mon_nombre = 23\n",
        "\n",
        "print(mon_nombre, \"°C, ça fait\", cel_to_far(mon_nombre), \"°F!\")\n",
        "print(\"Et\", mon_nombre, \"°F, ça fait\", far_to_cel(mon_nombre), \"°C!\")\n",
        "print(mon_nombre, \"h, ça s'écrit aussi\", base24_to_base12(mon_nombre), \": 00 PM\")\n"
      ],
      "metadata": {
        "id": "EnNPvKp9U4CH",
        "outputId": "a101cf2a-97a5-46ec-9b72-e95b424496fb",
        "colab": {
          "base_uri": "https://localhost:8080/"
        }
      },
      "execution_count": 41,
      "outputs": [
        {
          "output_type": "stream",
          "name": "stdout",
          "text": [
            "23 °C, ça fait 73.4 °F!\n",
            "Et 23 °F, ça fait -5.0 °C!\n",
            "23 h, ça s'écrit aussi 11 : 00 PM\n"
          ]
        }
      ]
    },
    {
      "cell_type": "code",
      "source": [
        "# exercice 8\n",
        "\n",
        "def inverse_des_valeurs(variable_1, variable_2):\n",
        "    stockage = variable_1\n",
        "    variable_1 = variable_2\n",
        "    variable_2 = stockage\n",
        "    return variable_1, variable_2 # on peut renvoyer plusieurs valeurs d'un coup\n",
        "\n",
        "\n",
        "feutre = \"bleu\"\n",
        "stylo = \"vert\"\n",
        "\n",
        "print(\"stylo = \", stylo)\n",
        "print(\"feutre = \", feutre)\n",
        "\n",
        "feutre, stylo = inverse_des_valeurs(feutre, stylo) # on a besoin de plusieurs contenant pour récupérer les valeurs renvoyées par la fonction.\n",
        "\n",
        "print(\"stylo = \", stylo)\n",
        "print(\"feutre = \", feutre)"
      ],
      "metadata": {
        "id": "LUK0JSdgV_ve",
        "outputId": "60b2132f-02dc-4b65-b0e9-b42dcdc98c00",
        "colab": {
          "base_uri": "https://localhost:8080/"
        }
      },
      "execution_count": 42,
      "outputs": [
        {
          "output_type": "stream",
          "name": "stdout",
          "text": [
            "stylo =  vert\n",
            "feutre =  bleu\n",
            "stylo =  bleu\n",
            "feutre =  vert\n"
          ]
        }
      ]
    },
    {
      "cell_type": "markdown",
      "source": [
        "# 10. Créer une liste\n",
        "\n",
        "- créer une liste de 5 éléments de votre choix\n",
        "- afficher la liste"
      ],
      "metadata": {
        "id": "bJEBOaPzQ5nv"
      }
    },
    {
      "cell_type": "code",
      "source": [
        "# écrire le code ici\n",
        "\n",
        "ma_liste = [\"element 1\", \"element 2\", \"element 3\", \"element 4\", True]\n",
        "print(ma_liste)"
      ],
      "metadata": {
        "id": "AukEYMWdRIYB",
        "outputId": "e4bdd8c2-f1a3-47f7-f574-5e85bb41e5c2",
        "colab": {
          "base_uri": "https://localhost:8080/"
        }
      },
      "execution_count": 43,
      "outputs": [
        {
          "output_type": "stream",
          "name": "stdout",
          "text": [
            "['element 1', 'element 2', 'element 3', 'element 4', True]\n"
          ]
        }
      ]
    },
    {
      "cell_type": "markdown",
      "source": [
        "# 11. Parcourir une liste\n",
        "\n",
        "- reprendre la liste de l'exercice précédent\n",
        "- créer une fonction qui affiche chaque élément de la liste de la fin vers le début"
      ],
      "metadata": {
        "id": "bQbSXbLDfe3j"
      }
    },
    {
      "cell_type": "code",
      "source": [
        "# écrire le code ici\n",
        "\n",
        "def montre_la_liste(une_liste):\n",
        "    print(\"en 5e position:\", une_liste[4])\n",
        "    print(\"en 4e position:\", une_liste[3])\n",
        "    print(\"en 3e position:\", une_liste[2])\n",
        "    print(\"en 2e position:\", une_liste[1])\n",
        "    print(\"en 1ere position:\", une_liste[0])\n",
        "\n",
        "ma_liste = [\"element 1\", \"element 2\", \"element 3\", \"element 4\", True]\n",
        "montre_la_liste(ma_liste)"
      ],
      "metadata": {
        "id": "-hqkVkn3frvI",
        "outputId": "3e7a8751-e332-472a-e694-26bddf0b2d53",
        "colab": {
          "base_uri": "https://localhost:8080/"
        }
      },
      "execution_count": 45,
      "outputs": [
        {
          "output_type": "stream",
          "name": "stdout",
          "text": [
            "en 5e position: True\n",
            "en 4e position: element 4\n",
            "en 3e position: element 3\n",
            "en 2e position: element 2\n",
            "en 1ere position: element 1\n"
          ]
        }
      ]
    },
    {
      "cell_type": "markdown",
      "source": [
        "# 12. Fusion!\n",
        "\n",
        "Créer une liste de fruits et une liste de légumes puis les fusionner."
      ],
      "metadata": {
        "id": "XEwttW4ufrPa"
      }
    },
    {
      "cell_type": "code",
      "source": [
        "# écrire le code ici\n",
        "\n",
        "légumes = [\"navets\", \"pommes de terre\", \"carotte\"]\n",
        "fruits = [\"tomates\", \"banane\", \"cerises\"]\n",
        "\n",
        "fruits_et_légumes = fruits + légumes\n",
        "print(fruits_et_légumes)"
      ],
      "metadata": {
        "id": "0CmPrhXHf0V3",
        "outputId": "df14a6a5-eecc-4da2-d139-5d0133cf1af7",
        "colab": {
          "base_uri": "https://localhost:8080/"
        }
      },
      "execution_count": 47,
      "outputs": [
        {
          "output_type": "stream",
          "name": "stdout",
          "text": [
            "['tomates', 'banane', 'cerises', 'navets', 'pommes de terre', 'carotte']\n"
          ]
        }
      ]
    },
    {
      "cell_type": "markdown",
      "source": [
        "# 13. Contrôle\n",
        "\n",
        "- reprendre les listes de l'exercice précédent\n",
        "- vérifier que la longueur de la liste créée est bien égale à la somme des longueurs des deux listes"
      ],
      "metadata": {
        "id": "2y8n6CEagJ53"
      }
    },
    {
      "cell_type": "code",
      "source": [
        "# écrire le code ici\n",
        "\n",
        "légumes = [\"navets\", \"pommes de terre\", \"carotte\"]\n",
        "fruits = [\"tomates\", \"banane\", \"cerises\"]\n",
        "\n",
        "fruits_et_légumes = fruits + légumes\n",
        "\n",
        "longueur_totale = len(fruits_et_légumes)\n",
        "longueur_additionnée = len(fruits) + len(légumes)\n",
        "\n",
        "print(longueur_additionnée == longueur_totale)"
      ],
      "metadata": {
        "id": "vWYgo1DLgX1x",
        "outputId": "3790708a-6e38-43b1-ac7e-132ee42e8361",
        "colab": {
          "base_uri": "https://localhost:8080/"
        }
      },
      "execution_count": 49,
      "outputs": [
        {
          "output_type": "stream",
          "name": "stdout",
          "text": [
            "True\n"
          ]
        }
      ]
    },
    {
      "cell_type": "markdown",
      "source": [
        "# 14. String vers liste\n",
        "\n",
        "- créer une fonction qui prend une chaine de caractères en entrée et renvoie cette chaine sous la forme d'une liste"
      ],
      "metadata": {
        "id": "HaKphOq29_sb"
      }
    },
    {
      "cell_type": "code",
      "source": [
        "# écrire le code ici\n",
        "\n",
        "ma_chaine = \"on a déjà vu cet exemple en cours, non ?\"\n",
        "print(list(ma_chaine))"
      ],
      "metadata": {
        "id": "4r6Kb4iO-G4i",
        "outputId": "7708b802-38ab-4741-e94c-8a0028afe71b",
        "colab": {
          "base_uri": "https://localhost:8080/"
        }
      },
      "execution_count": 50,
      "outputs": [
        {
          "output_type": "stream",
          "name": "stdout",
          "text": [
            "['o', 'n', ' ', 'a', ' ', 'd', 'é', 'j', 'à', ' ', 'v', 'u', ' ', 'c', 'e', 't', ' ', 'e', 'x', 'e', 'm', 'p', 'l', 'e', ' ', 'e', 'n', ' ', 'c', 'o', 'u', 'r', 's', ',', ' ', 'n', 'o', 'n', ' ', '?']\n"
          ]
        }
      ]
    }
  ]
}
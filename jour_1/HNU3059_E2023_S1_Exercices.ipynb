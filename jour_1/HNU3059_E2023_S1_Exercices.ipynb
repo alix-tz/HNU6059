{
  "nbformat": 4,
  "nbformat_minor": 0,
  "metadata": {
    "colab": {
      "provenance": [],
      "toc_visible": true
    },
    "kernelspec": {
      "name": "python3",
      "display_name": "Python 3"
    },
    "language_info": {
      "name": "python"
    }
  },
  "cells": [
    {
      "cell_type": "markdown",
      "source": [
        "# HNU 3059 (HNU 6059) - Séance 1 - Exercices\n",
        "\n",
        "Lien vers le cours sur StudiUM: https://studium.umontreal.ca/course/view.php?id=237645\n"
      ],
      "metadata": {
        "id": "j0bfpOG4ECDh"
      }
    },
    {
      "cell_type": "markdown",
      "source": [
        "⬅ lien vers le précédent notebook: https://github.com/alix-tz/HNU6059/blob/main/jour_1/HNU3059_E2023_S1_Pratique.ipynb"
      ],
      "metadata": {
        "id": "sD7e5RKV3IAo"
      }
    },
    {
      "cell_type": "markdown",
      "source": [
        "# Liste des exercices de ce notebook\n",
        "\n",
        "1. Print\n",
        "2. Intéraction\n",
        "3. Simple calculatrice I\n",
        "4. Simple calculatrice II\n",
        "5. Mot de passe\n",
        "6. Temps\n",
        "7. Conversions\n",
        "8. Inversions\n",
        "9. Fonctions\n",
        "10. Créer une liste\n",
        "11. Parcourir une liste\n",
        "12. Fusion!\n",
        "13. Contrôle"
      ],
      "metadata": {
        "id": "BW8mW9otEXFF"
      }
    },
    {
      "cell_type": "markdown",
      "source": [
        "# 1. Print\n",
        "\n",
        "- créer une chaîne de caractères et l'assigner à une variable\n",
        "- utiliser la fonction `print` pour afficher le contenu de la variable"
      ],
      "metadata": {
        "id": "y9wSaWRVFwTR"
      }
    },
    {
      "cell_type": "code",
      "source": [
        "# écrire le code ici"
      ],
      "metadata": {
        "id": "e3QZvC3zIH2m"
      },
      "execution_count": 1,
      "outputs": []
    },
    {
      "cell_type": "markdown",
      "source": [
        "# 2. Intéraction\n",
        "\n",
        "La fonction `input()` permet de demander à l'utilisateur d'entrer une valeur qui doit être entre stockée dans une variable. On peut passer une chaîne de caractère à `input()` pour donner un prompt à l'utilisateur.\n",
        "\n",
        "- créer une variable qui va recevoir le nom de l'utilisateur\n",
        "- utiliser `input` pour demander son nom à l'utilisateur\n",
        "- afficher un message de bienvenue personnalisé"
      ],
      "metadata": {
        "id": "Yr7kiOL-F_lO"
      }
    },
    {
      "cell_type": "code",
      "source": [
        "# écrire le code ici"
      ],
      "metadata": {
        "id": "_kXPKGPVG4jv"
      },
      "execution_count": 2,
      "outputs": []
    },
    {
      "cell_type": "markdown",
      "source": [
        "# 3. Simple calculatrice I\n",
        "\n",
        "- utiliser `input` pour demander deux nombres à l'utilisateur\n",
        "- additionner les deux nombres puis afficher le résultat\n",
        "- attention, `input` enregistre toujours le résultat sous la forme d'une chaîne de caractères, il faut penser à changer le type de la variable avant de pouvoir faie une opération!"
      ],
      "metadata": {
        "id": "CLUePFQZG8uK"
      }
    },
    {
      "cell_type": "code",
      "source": [
        "# écrire le code ici"
      ],
      "metadata": {
        "id": "O82D20AWIWa6"
      },
      "execution_count": 3,
      "outputs": []
    },
    {
      "cell_type": "markdown",
      "source": [
        "# 4. Simple calculatrice II\n",
        "\n",
        "- utiliser input pour demander un nombre à l'utilisateur\n",
        "- définir une autre variable contenant un nombre décimal\n",
        "- sur plusieurs lignes, afficher le résultat de toutes les opérations arithmétiques possibles avec ces deux nombres (adition, soustraction, multiplication, division, division entière et reste, puissance)"
      ],
      "metadata": {
        "id": "C5fPCgulH1Ce"
      }
    },
    {
      "cell_type": "code",
      "source": [
        "# écrire le code ici\n"
      ],
      "metadata": {
        "id": "xHyQh6ZPHMy9"
      },
      "execution_count": 5,
      "outputs": []
    },
    {
      "cell_type": "markdown",
      "source": [
        "# 5. Mot de passe\n",
        "\n",
        "Imaginez que vous devez écrire la partie du code qui vérifie la longueur d'un mot de passe. \n",
        "- enregistrer le mot de passe dans une variable\n",
        "- afficher sa longueur (`len()`)"
      ],
      "metadata": {
        "id": "Jwmjx_roHQgv"
      }
    },
    {
      "cell_type": "code",
      "source": [
        "# écrire le code ici"
      ],
      "metadata": {
        "id": "Aa_po0o_Holo"
      },
      "execution_count": 7,
      "outputs": []
    },
    {
      "cell_type": "markdown",
      "source": [
        "# 6. Temps\n",
        "\n",
        "Créer une suite d'instruction permettant de transformer un nombre de minutes en son équivalent en heure"
      ],
      "metadata": {
        "id": "Vay4j0aJdTj-"
      }
    },
    {
      "cell_type": "code",
      "source": [
        "# écrire le code ici"
      ],
      "metadata": {
        "id": "VbEaJ-DXdwQz"
      },
      "execution_count": null,
      "outputs": []
    },
    {
      "cell_type": "markdown",
      "source": [
        "# 7. Conversions\n",
        "\n",
        "Créer quatre ensembles d'instructions :\n",
        "\n",
        "- le premier permet de convertir une température en celsius vers farenheit\n",
        "- le deuxième fait la conversion inverse\n",
        "- le troisième permet de convertir l'heure exrimée en base 12 vers la base 24\n",
        "- le quatrième fait la conversion inverse"
      ],
      "metadata": {
        "id": "XnrPJS2MdyW8"
      }
    },
    {
      "cell_type": "code",
      "source": [
        "# écrire le code ici"
      ],
      "metadata": {
        "id": "ZCmyjsNDdx61"
      },
      "execution_count": null,
      "outputs": []
    },
    {
      "cell_type": "markdown",
      "source": [
        "# 8. Inversions\n",
        "\n",
        " - définir 2 variables (par exemple \"feutre\" et \"stylo\") contenant chacune une valeur (par exemple \"bleu\" et \"vert\")\n",
        " - inverser les valeurs contenues dans les variables"
      ],
      "metadata": {
        "id": "9DMLe7C7edan"
      }
    },
    {
      "cell_type": "code",
      "source": [
        "# écrire le code ici"
      ],
      "metadata": {
        "id": "7hB5aCK2e88S"
      },
      "execution_count": null,
      "outputs": []
    },
    {
      "cell_type": "markdown",
      "source": [
        "# 9. Fonctions\n",
        "\n",
        "Refaire les exercices 3 à 8 en définissant des fonctions"
      ],
      "metadata": {
        "id": "j4OrqqgOFqRq"
      }
    },
    {
      "cell_type": "code",
      "source": [
        "# écrire le code ici"
      ],
      "metadata": {
        "id": "cTmrvouAF7-q"
      },
      "execution_count": null,
      "outputs": []
    },
    {
      "cell_type": "markdown",
      "source": [
        "# 10. Créer une liste\n",
        "\n",
        "- créer une liste de 5 éléments de votre choix\n",
        "- afficher la liste"
      ],
      "metadata": {
        "id": "bJEBOaPzQ5nv"
      }
    },
    {
      "cell_type": "code",
      "source": [
        "# écrire le code ici"
      ],
      "metadata": {
        "id": "AukEYMWdRIYB"
      },
      "execution_count": null,
      "outputs": []
    },
    {
      "cell_type": "markdown",
      "source": [
        "# 11. Parcourir une liste\n",
        "\n",
        "- reprendre la liste de l'exercice précédent\n",
        "- créer une fonction qui affiche chaque élément de la liste de la fin vers le début"
      ],
      "metadata": {
        "id": "bQbSXbLDfe3j"
      }
    },
    {
      "cell_type": "code",
      "source": [
        "# écrire le code ici"
      ],
      "metadata": {
        "id": "-hqkVkn3frvI"
      },
      "execution_count": null,
      "outputs": []
    },
    {
      "cell_type": "markdown",
      "source": [
        "# 12. Fusion!\n",
        "\n",
        "Créer une liste de fruits et une liste de légumes puis les fusionner."
      ],
      "metadata": {
        "id": "XEwttW4ufrPa"
      }
    },
    {
      "cell_type": "code",
      "source": [
        "# écrire le code ici"
      ],
      "metadata": {
        "id": "0CmPrhXHf0V3"
      },
      "execution_count": null,
      "outputs": []
    },
    {
      "cell_type": "markdown",
      "source": [
        "# 13. Contrôle\n",
        "\n",
        "- reprendre les listes de l'exercice précédent\n",
        "- vérifier que la longueur de la liste créée est bien égale à la somme des longueurs des deux listes"
      ],
      "metadata": {
        "id": "2y8n6CEagJ53"
      }
    },
    {
      "cell_type": "code",
      "source": [
        "# écrire le code ici"
      ],
      "metadata": {
        "id": "vWYgo1DLgX1x"
      },
      "execution_count": null,
      "outputs": []
    }
  ]
}
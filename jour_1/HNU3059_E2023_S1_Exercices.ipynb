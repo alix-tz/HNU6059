{
  "cells": [
    {
      "cell_type": "markdown",
      "metadata": {
        "id": "j0bfpOG4ECDh"
      },
      "source": [
        "# HNU 3059 (HNU 6059) - Séance 1 - Exercices\n",
        "\n",
        "Lien vers le cours sur StudiUM: https://studium.umontreal.ca/course/view.php?id=278064\n"
      ]
    },
    {
      "cell_type": "markdown",
      "metadata": {
        "id": "sD7e5RKV3IAo"
      },
      "source": [
        "⬅ lien vers le précédent notebook: https://github.com/alix-tz/HNU6059/blob/main/jour_1/HNU3059_E2023_S1_Pratique.ipynb"
      ]
    },
    {
      "cell_type": "markdown",
      "metadata": {
        "id": "BW8mW9otEXFF"
      },
      "source": [
        "# Liste des exercices de ce notebook\n",
        "\n",
        "1. Print\n",
        "2. Intéraction\n",
        "3. Simple calculatrice I\n",
        "4. Simple calculatrice II\n",
        "5. Mot de passe\n",
        "6. Temps\n",
        "7. Conversions\n",
        "8. Inversions\n",
        "9. Fonctions\n",
        "10. Créer une liste\n",
        "11. Parcourir une liste\n",
        "12. Fusion!\n",
        "13. Contrôle\n",
        "14. String vers Liste"
      ]
    },
    {
      "cell_type": "markdown",
      "metadata": {
        "id": "y9wSaWRVFwTR"
      },
      "source": [
        "# 1. Print\n",
        "\n",
        "- créer une chaîne de caractères et l'assigner à une variable\n",
        "- utiliser la fonction `print()` pour afficher le contenu de la variable"
      ]
    },
    {
      "cell_type": "code",
      "execution_count": null,
      "metadata": {
        "id": "e3QZvC3zIH2m"
      },
      "outputs": [],
      "source": [
        "# écrire le code ici"
      ]
    },
    {
      "cell_type": "markdown",
      "metadata": {
        "id": "Yr7kiOL-F_lO"
      },
      "source": [
        "# 2. Intéraction\n",
        "\n",
        "La fonction `input()` permet de demander à l'utilisateur-rice d'entrer une valeur qui doit être entre stockée dans une variable. On peut passer une chaîne de caractères à `input()` pour donner un prompt à l'utilisateur-rice.\n",
        "\n",
        "- créer une variable qui va recevoir le nom de l'utilisateur-rice\n",
        "- utiliser `input()` pour demander son nom à l'utilisateur-rice\n",
        "- afficher un message de bienvenue personnalisé"
      ]
    },
    {
      "cell_type": "code",
      "execution_count": null,
      "metadata": {
        "id": "_kXPKGPVG4jv"
      },
      "outputs": [],
      "source": [
        "# écrire le code ici"
      ]
    },
    {
      "cell_type": "markdown",
      "metadata": {
        "id": "CLUePFQZG8uK"
      },
      "source": [
        "# 3. Simple calculatrice I\n",
        "\n",
        "- utiliser `input()` pour demander deux nombres à l'utilisateur-rice\n",
        "- additionner les deux nombres puis afficher le résultat\n",
        "- attention, `input()` enregistre toujours le résultat sous la forme d'une chaîne de caractères, il faut penser à changer le type de la variable avant de pouvoir faire une opération mathématique!"
      ]
    },
    {
      "cell_type": "code",
      "execution_count": null,
      "metadata": {
        "id": "O82D20AWIWa6"
      },
      "outputs": [],
      "source": [
        "# écrire le code ici"
      ]
    },
    {
      "cell_type": "markdown",
      "metadata": {
        "id": "C5fPCgulH1Ce"
      },
      "source": [
        "# 4. Simple calculatrice II\n",
        "\n",
        "- utiliser `input()` pour demander un nombre à l'utilisateur-rice\n",
        "- définir une autre variable contenant un nombre décimal\n",
        "- sur plusieurs lignes, afficher le résultat de toutes les opérations arithmétiques possibles avec ces deux nombres (adition, soustraction, multiplication, division, division entière et reste, puissance)"
      ]
    },
    {
      "cell_type": "code",
      "execution_count": null,
      "metadata": {
        "id": "xHyQh6ZPHMy9"
      },
      "outputs": [],
      "source": [
        "# écrire le code ici\n"
      ]
    },
    {
      "cell_type": "markdown",
      "metadata": {
        "id": "Jwmjx_roHQgv"
      },
      "source": [
        "# 5. Mot de passe\n",
        "\n",
        "Imaginez que vous devez écrire la partie du code qui vérifie la longueur d'un mot de passe. \n",
        "- enregistrer le mot de passe dans une variable\n",
        "- afficher sa longueur (`len()`)"
      ]
    },
    {
      "cell_type": "code",
      "execution_count": null,
      "metadata": {
        "id": "Aa_po0o_Holo"
      },
      "outputs": [],
      "source": [
        "# écrire le code ici"
      ]
    },
    {
      "cell_type": "markdown",
      "metadata": {
        "id": "Vay4j0aJdTj-"
      },
      "source": [
        "# 6. Temps\n",
        "\n",
        "Créer une suite d'instructions permettant de transformer un nombre de minutes en son équivalent en heure"
      ]
    },
    {
      "cell_type": "code",
      "execution_count": null,
      "metadata": {
        "id": "VbEaJ-DXdwQz"
      },
      "outputs": [],
      "source": [
        "# écrire le code ici"
      ]
    },
    {
      "cell_type": "markdown",
      "metadata": {
        "id": "XnrPJS2MdyW8"
      },
      "source": [
        "# 7. Conversions\n",
        "\n",
        "Créer quatre ensembles d'instructions :\n",
        "\n",
        "- le premier permet de convertir une température en celsius vers farenheit\n",
        "- le deuxième fait la conversion inverse\n",
        "- le troisième permet de convertir l'heure exprimée en base 12 vers la base 24\n",
        "- le quatrième fait la conversion inverse"
      ]
    },
    {
      "cell_type": "code",
      "execution_count": null,
      "metadata": {
        "id": "ZCmyjsNDdx61"
      },
      "outputs": [],
      "source": [
        "# écrire le code ici"
      ]
    },
    {
      "cell_type": "markdown",
      "metadata": {
        "id": "9DMLe7C7edan"
      },
      "source": [
        "# 8. Inversions\n",
        "\n",
        " - définir 2 variables (par exemple \"feutre\" et \"stylo\") contenant chacune une valeur (par exemple \"bleu\" et \"vert\")\n",
        " - inverser les valeurs contenues dans les variables"
      ]
    },
    {
      "cell_type": "code",
      "execution_count": null,
      "metadata": {
        "id": "7hB5aCK2e88S"
      },
      "outputs": [],
      "source": [
        "# écrire le code ici"
      ]
    },
    {
      "cell_type": "markdown",
      "metadata": {
        "id": "j4OrqqgOFqRq"
      },
      "source": [
        "# 9. Fonctions\n",
        "\n",
        "Refaire les exercices 3 à 8 en définissant des fonctions"
      ]
    },
    {
      "cell_type": "code",
      "execution_count": null,
      "metadata": {
        "id": "cTmrvouAF7-q"
      },
      "outputs": [],
      "source": [
        "# écrire le code ici"
      ]
    },
    {
      "cell_type": "markdown",
      "metadata": {
        "id": "bJEBOaPzQ5nv"
      },
      "source": [
        "# 10. Créer une liste\n",
        "\n",
        "- créer une liste de 5 éléments de votre choix\n",
        "- afficher la liste"
      ]
    },
    {
      "cell_type": "code",
      "execution_count": null,
      "metadata": {
        "id": "AukEYMWdRIYB"
      },
      "outputs": [],
      "source": [
        "# écrire le code ici"
      ]
    },
    {
      "cell_type": "markdown",
      "metadata": {
        "id": "bQbSXbLDfe3j"
      },
      "source": [
        "# 11. Parcourir une liste\n",
        "\n",
        "- reprendre la liste de l'exercice précédent\n",
        "- créer une fonction qui affiche chaque élément de la liste de la fin vers le début"
      ]
    },
    {
      "cell_type": "code",
      "execution_count": null,
      "metadata": {
        "id": "-hqkVkn3frvI"
      },
      "outputs": [],
      "source": [
        "# écrire le code ici"
      ]
    },
    {
      "cell_type": "markdown",
      "metadata": {
        "id": "XEwttW4ufrPa"
      },
      "source": [
        "# 12. Fusion!\n",
        "\n",
        "Créer une liste de fruits et une liste de légumes puis les fusionner."
      ]
    },
    {
      "cell_type": "code",
      "execution_count": null,
      "metadata": {
        "id": "0CmPrhXHf0V3"
      },
      "outputs": [],
      "source": [
        "# écrire le code ici"
      ]
    },
    {
      "cell_type": "markdown",
      "metadata": {
        "id": "2y8n6CEagJ53"
      },
      "source": [
        "# 13. Contrôle\n",
        "\n",
        "- reprendre les listes de l'exercice précédent\n",
        "- vérifier que la longueur de la liste créée est bien égale à la somme des longueurs des deux listes"
      ]
    },
    {
      "cell_type": "code",
      "execution_count": null,
      "metadata": {
        "id": "vWYgo1DLgX1x"
      },
      "outputs": [],
      "source": [
        "# écrire le code ici"
      ]
    },
    {
      "cell_type": "markdown",
      "metadata": {
        "id": "HaKphOq29_sb"
      },
      "source": [
        "# 14. String vers liste\n",
        "\n",
        "- créer une fonction qui prend une chaine de caractères en entrée et renvoie cette chaine sous la forme d'une liste"
      ]
    },
    {
      "cell_type": "code",
      "execution_count": null,
      "metadata": {
        "id": "4r6Kb4iO-G4i"
      },
      "outputs": [],
      "source": [
        "# écrire le code ici"
      ]
    }
  ],
  "metadata": {
    "colab": {
      "provenance": [],
      "toc_visible": true
    },
    "kernelspec": {
      "display_name": "Python 3",
      "name": "python3"
    },
    "language_info": {
      "name": "python"
    }
  },
  "nbformat": 4,
  "nbformat_minor": 0
}

{
  "cells": [
    {
      "cell_type": "markdown",
      "metadata": {
        "id": "3LNTNlP3DW9E"
      },
      "source": [
        "# HNU 3059 (HNU 6059) - Séance 1 - Pratique\n",
        "\n",
        "Lien vers le cours sur StudiUM: https://studium.umontreal.ca/course/view.php?id=278064\n"
      ]
    },
    {
      "cell_type": "markdown",
      "metadata": {
        "id": "JL9HPhX8DZQV"
      },
      "source": [
        "⬅ lien vers le précédent notebook: https://github.com/alix-tz/HNU6059/blob/main/jour_1/HNU3059_E2023_S1_Th%C3%A9orie.ipynb"
      ]
    },
    {
      "cell_type": "markdown",
      "metadata": {
        "id": "-B5m3eiPDpYO"
      },
      "source": [
        "# Contenu de ce notebook\n",
        "\n",
        "1. Syntaxe Python\n",
        "2. Variables\n",
        "3. Types\n",
        "4. Fonctions\n",
        "5. Listes\n",
        "6. Bonus\n",
        "\n"
      ]
    },
    {
      "cell_type": "markdown",
      "metadata": {
        "id": "g73i08nOdG7e"
      },
      "source": [
        "# Discutons de la vidéo de Machine Learnia\n",
        "\n",
        "Lien vers la vidéo : https://www.youtube.com/watch?v=doFpNjdmsw8\n",
        "\n",
        "- qu'en avez-vous retenu ?"
      ]
    },
    {
      "cell_type": "markdown",
      "metadata": {
        "id": "f6-iZWDyTgYd"
      },
      "source": [
        "# Syntaxe Python\n"
      ]
    },
    {
      "cell_type": "markdown",
      "metadata": {
        "id": "6Mzvr4r7TpTF"
      },
      "source": [
        "- caractères \"réservés\"\n",
        "    - `#`\n",
        "    - `-` `+` `*` `/` `=` `'` `\"` `,` `<` `>` `:`\n",
        "- indentation (ou tabulation)\n",
        "- distinguer \"ceci\" et ceci\n",
        "- 1 ligne = 1 instruction\n",
        "- execution de haut en bas\n"
      ]
    },
    {
      "cell_type": "markdown",
      "metadata": {
        "id": "qhrf0G2JdoTf"
      },
      "source": [
        "La [PEP 8](https://peps.python.org/pep-0008/) (*Python Enhancement Proposal*) définit des bonnes pratiques et des conventions pour assurer la lisibilité d'un code Python.\n",
        "\n",
        "➡ https://peps.python.org/pep-0008/\n",
        "\n",
        "Voir par exemple la section sur l'indentation.\n",
        "\n"
      ]
    },
    {
      "cell_type": "markdown",
      "metadata": {
        "id": "A2nLpTSsok-C"
      },
      "source": [
        "# Opérations mathématiques et logiques"
      ]
    },
    {
      "cell_type": "markdown",
      "metadata": {
        "id": "6qnfdnwgqDrw"
      },
      "source": [
        "### Opérateurs mathématiques"
      ]
    },
    {
      "cell_type": "markdown",
      "metadata": {
        "id": "4qXAfZLLoohM"
      },
      "source": [
        "On peut faire des maths avec Python"
      ]
    },
    {
      "cell_type": "code",
      "execution_count": null,
      "metadata": {
        "colab": {
          "base_uri": "https://localhost:8080/"
        },
        "id": "-Nj5IJyMor16",
        "outputId": "5f7516cc-da97-40c0-e1ed-eafda2da0462"
      },
      "outputs": [
        {
          "data": {
            "text/plain": [
              "4"
            ]
          },
          "execution_count": 11,
          "metadata": {},
          "output_type": "execute_result"
        }
      ],
      "source": [
        "# addition\n",
        "2 + 2"
      ]
    },
    {
      "cell_type": "code",
      "execution_count": null,
      "metadata": {
        "colab": {
          "base_uri": "https://localhost:8080/"
        },
        "id": "RMAMOhp4owfh",
        "outputId": "19c8e64a-ac48-4016-f788-3fbb71a4c960"
      },
      "outputs": [
        {
          "data": {
            "text/plain": [
              "0"
            ]
          },
          "execution_count": 12,
          "metadata": {},
          "output_type": "execute_result"
        }
      ],
      "source": [
        "# soustraction\n",
        "10 - 10"
      ]
    },
    {
      "cell_type": "code",
      "execution_count": null,
      "metadata": {
        "colab": {
          "base_uri": "https://localhost:8080/"
        },
        "id": "B0jYx2E9ozbB",
        "outputId": "240e94bb-bef8-4cbf-a88a-522ee9eb4bf4"
      },
      "outputs": [
        {
          "data": {
            "text/plain": [
              "20"
            ]
          },
          "execution_count": 14,
          "metadata": {},
          "output_type": "execute_result"
        }
      ],
      "source": [
        "# multiplication\n",
        "2 * 10"
      ]
    },
    {
      "cell_type": "code",
      "execution_count": null,
      "metadata": {
        "colab": {
          "base_uri": "https://localhost:8080/"
        },
        "id": "I556pMcMo12P",
        "outputId": "7400f1ae-0787-4012-e4e3-deba314223f9"
      },
      "outputs": [
        {
          "data": {
            "text/plain": [
              "3.3333333333333335"
            ]
          },
          "execution_count": 16,
          "metadata": {},
          "output_type": "execute_result"
        }
      ],
      "source": [
        "# division décimale\n",
        "10 / 3"
      ]
    },
    {
      "cell_type": "code",
      "execution_count": null,
      "metadata": {
        "colab": {
          "base_uri": "https://localhost:8080/"
        },
        "id": "6_nvzphEo5Y_",
        "outputId": "0fd10cf6-8ef3-47f4-e427-ebb6ea27f8ff"
      },
      "outputs": [
        {
          "data": {
            "text/plain": [
              "3"
            ]
          },
          "execution_count": 18,
          "metadata": {},
          "output_type": "execute_result"
        }
      ],
      "source": [
        "# division entière\n",
        "10 // 3"
      ]
    },
    {
      "cell_type": "code",
      "execution_count": null,
      "metadata": {
        "colab": {
          "base_uri": "https://localhost:8080/"
        },
        "id": "xl6L9auUo-AV",
        "outputId": "0fa738c1-1a5d-4d47-9aca-dcc4d56096ee"
      },
      "outputs": [
        {
          "data": {
            "text/plain": [
              "1"
            ]
          },
          "execution_count": 19,
          "metadata": {},
          "output_type": "execute_result"
        }
      ],
      "source": [
        "# reste de la division entière\n",
        "10 % 3"
      ]
    },
    {
      "cell_type": "code",
      "execution_count": null,
      "metadata": {
        "colab": {
          "base_uri": "https://localhost:8080/"
        },
        "id": "dNgkT4tZpCEZ",
        "outputId": "40032535-d8ad-4927-b4b9-80fb6f7f70a5"
      },
      "outputs": [
        {
          "data": {
            "text/plain": [
              "100"
            ]
          },
          "execution_count": 21,
          "metadata": {},
          "output_type": "execute_result"
        }
      ],
      "source": [
        "# puissance (rarement utilisé)\n",
        "10 ** 2"
      ]
    },
    {
      "cell_type": "markdown",
      "metadata": {
        "id": "LBScQCQVqBPi"
      },
      "source": [
        "### Opérateurs logiques"
      ]
    },
    {
      "cell_type": "markdown",
      "metadata": {
        "id": "NBbhDEATpWNy"
      },
      "source": [
        "On a aussi des opérateurs logiques pour comparer des valeurs entre elles. La réponse est toujours \"True\" (vrai) ou \"False\" (faux)."
      ]
    },
    {
      "cell_type": "code",
      "execution_count": null,
      "metadata": {
        "colab": {
          "base_uri": "https://localhost:8080/"
        },
        "id": "tXiw-n8EpcRA",
        "outputId": "0abc2bb7-bc77-4d9a-a0c5-0c103fada529"
      },
      "outputs": [
        {
          "data": {
            "text/plain": [
              "False"
            ]
          },
          "execution_count": 22,
          "metadata": {},
          "output_type": "execute_result"
        }
      ],
      "source": [
        "# 2 est-il plus grand que 2?\n",
        "2 > 2"
      ]
    },
    {
      "cell_type": "code",
      "execution_count": null,
      "metadata": {
        "colab": {
          "base_uri": "https://localhost:8080/"
        },
        "id": "q_q6ze9uphMs",
        "outputId": "62d3e3c8-62e7-44c0-873c-7464c694e4cf"
      },
      "outputs": [
        {
          "data": {
            "text/plain": [
              "True"
            ]
          },
          "execution_count": 23,
          "metadata": {},
          "output_type": "execute_result"
        }
      ],
      "source": [
        "# 4 est-il plus petit que 10?\n",
        "4 < 10"
      ]
    },
    {
      "cell_type": "code",
      "execution_count": null,
      "metadata": {
        "colab": {
          "base_uri": "https://localhost:8080/"
        },
        "id": "IFuoEHBupu2F",
        "outputId": "89d89098-9683-4671-a6e2-b48de940ab01"
      },
      "outputs": [
        {
          "data": {
            "text/plain": [
              "True"
            ]
          },
          "execution_count": 26,
          "metadata": {},
          "output_type": "execute_result"
        }
      ],
      "source": [
        "# 4 est-il plus petit ou égal à 10?\n",
        "4 <= 10"
      ]
    },
    {
      "cell_type": "code",
      "execution_count": null,
      "metadata": {
        "colab": {
          "base_uri": "https://localhost:8080/"
        },
        "id": "Gw4g4j7vpk6b",
        "outputId": "73f6bf04-b593-4f04-f64c-e51d8e696c45"
      },
      "outputs": [
        {
          "data": {
            "text/plain": [
              "False"
            ]
          },
          "execution_count": 24,
          "metadata": {},
          "output_type": "execute_result"
        }
      ],
      "source": [
        "# 10 est-il égal à 11?\n",
        "10 == 11"
      ]
    },
    {
      "cell_type": "code",
      "execution_count": null,
      "metadata": {
        "colab": {
          "base_uri": "https://localhost:8080/"
        },
        "id": "J2sHtOhGprCX",
        "outputId": "a5b79986-ff39-49a4-fe3c-28e71b851242"
      },
      "outputs": [
        {
          "data": {
            "text/plain": [
              "True"
            ]
          },
          "execution_count": 25,
          "metadata": {},
          "output_type": "execute_result"
        }
      ],
      "source": [
        "# 10 est-il différent de 11?\n",
        "10 != 11"
      ]
    },
    {
      "cell_type": "markdown",
      "metadata": {
        "id": "1-LtKZYfp7_9"
      },
      "source": [
        "Il y a d'autres opérateurs logiques, mais nous les verrons plus tard."
      ]
    },
    {
      "cell_type": "markdown",
      "metadata": {
        "id": "OCPu-fLGTjKi"
      },
      "source": [
        "# Variables"
      ]
    },
    {
      "cell_type": "markdown",
      "metadata": {
        "id": "jewzWEuifJ8G"
      },
      "source": [
        "## Qu'est-ce qu'une variable ?"
      ]
    },
    {
      "cell_type": "markdown",
      "metadata": {
        "id": "fQmsv87ThWfC"
      },
      "source": [
        "- un emplacement de la mémoire de la machine\n",
        "- un nom pour désigner cet emplacement \n",
        "- dans l'emplacement, on stocke des valeurs (du texte, des nombres, etc)\n",
        "- on a besoin des variables pour la programmation"
      ]
    },
    {
      "cell_type": "code",
      "execution_count": null,
      "metadata": {
        "colab": {
          "base_uri": "https://localhost:8080/"
        },
        "id": "em5AE5fHiY1l",
        "outputId": "1cf2d60e-725c-4228-b346-cbc1c624cbe7"
      },
      "outputs": [
        {
          "name": "stdout",
          "output_type": "stream",
          "text": [
            "2\n",
            "2\n"
          ]
        }
      ],
      "source": [
        "# sans variable\n",
        "print(1 + 1)\n",
        "\n",
        "# avec variable\n",
        "contenant = 1\n",
        "print(contenant + contenant)"
      ]
    },
    {
      "cell_type": "markdown",
      "metadata": {
        "id": "AbFPQdkYiii-"
      },
      "source": [
        "Dans le bloc ci-dessus, le résultat est le même (affichage du nombre 2), mais avec des variables, on peut réutiliser la valeur pour autre chose."
      ]
    },
    {
      "cell_type": "code",
      "execution_count": null,
      "metadata": {
        "colab": {
          "base_uri": "https://localhost:8080/"
        },
        "id": "PWQ9n_aRiw50",
        "outputId": "972ae32c-64d8-4c89-e3b9-882bb6e3aee3"
      },
      "outputs": [
        {
          "name": "stdout",
          "output_type": "stream",
          "text": [
            "2\n",
            "2\n"
          ]
        }
      ],
      "source": [
        "contenant = 1\n",
        "print(contenant + contenant)\n",
        "\n",
        "contenant = contenant + contenant\n",
        "print(contenant)"
      ]
    },
    {
      "cell_type": "markdown",
      "metadata": {
        "id": "ZjmpjA2XgmIV"
      },
      "source": [
        "## Définition d'une variable et assignation d'une valeur"
      ]
    },
    {
      "cell_type": "markdown",
      "metadata": {
        "id": "abjBTS4ng7Rv"
      },
      "source": [
        "- On utilise `=` (un seul symbole égal) pour enregistrer une valeur dans une variable\n",
        "\n",
        "- Chaque fois qu'on enregistre une valeur dans une variable, on écrase la valeur qu'elle contenait précédemment\n",
        "\n",
        "- On ne peut pas avoir 2 variables portant le même nom\n",
        "\n",
        "- Par contre les noms de variables sont sensibles à la casse (`ma_variable` n'est pas la même variable que `Ma_variable`)"
      ]
    },
    {
      "cell_type": "code",
      "execution_count": null,
      "metadata": {
        "colab": {
          "base_uri": "https://localhost:8080/"
        },
        "id": "_kmiYhKpglbC",
        "outputId": "8b169aa2-3c07-4a64-d103-79e310d121d4"
      },
      "outputs": [
        {
          "name": "stdout",
          "output_type": "stream",
          "text": [
            "1\n",
            "2\n",
            "4\n",
            "8\n"
          ]
        }
      ],
      "source": [
        "ma_variable_de_demo = 1\n",
        "print(ma_variable_de_demo)\n",
        "\n",
        "ma_variable_de_demo = 2\n",
        "print(ma_variable_de_demo)\n",
        "\n",
        "ma_variable_de_demo = ma_variable_de_demo + ma_variable_de_demo\n",
        "print(ma_variable_de_demo)\n",
        "\n",
        "ma_variable_de_demo = ma_variable_de_demo + ma_variable_de_demo\n",
        "print(ma_variable_de_demo)"
      ]
    },
    {
      "cell_type": "markdown",
      "metadata": {
        "id": "KezfsLjAfNpg"
      },
      "source": [
        "## Convention de nommage des variables"
      ]
    },
    {
      "cell_type": "markdown",
      "metadata": {
        "id": "M7EEcOWIlHzY"
      },
      "source": [
        "### Causes de bugs"
      ]
    },
    {
      "cell_type": "markdown",
      "metadata": {
        "id": "G_-xQYnofPwo"
      },
      "source": [
        "- pas de mot-clef réservé\n",
        "- ne doit pas commencer ou contenir un caractère réservé\n",
        "- ne doit pas commencer par un chiffre\n",
        "\n"
      ]
    },
    {
      "cell_type": "code",
      "execution_count": null,
      "metadata": {
        "colab": {
          "base_uri": "https://localhost:8080/"
        },
        "id": "Qhc2Rm2xgdV0",
        "outputId": "5e806e9c-0e5e-4580-8c31-2ce0eff0c2d9"
      },
      "outputs": [
        {
          "name": "stdout",
          "output_type": "stream",
          "text": [
            "\n",
            "Here is a list of the Python keywords.  Enter any keyword to get more help.\n",
            "\n",
            "False               class               from                or\n",
            "None                continue            global              pass\n",
            "True                def                 if                  raise\n",
            "and                 del                 import              return\n",
            "as                  elif                in                  try\n",
            "assert              else                is                  while\n",
            "async               except              lambda              with\n",
            "await               finally             nonlocal            yield\n",
            "break               for                 not                 \n",
            "\n"
          ]
        }
      ],
      "source": [
        "# pour voir la liste des mots-clefs réservés:\n",
        "help(\"keywords\")"
      ]
    },
    {
      "cell_type": "code",
      "execution_count": null,
      "metadata": {
        "colab": {
          "base_uri": "https://localhost:8080/",
          "height": 131
        },
        "id": "NDu4vv3jjyID",
        "outputId": "0db6b2ad-050d-44fe-828a-2faa1fd0e1b4"
      },
      "outputs": [
        {
          "ename": "SyntaxError",
          "evalue": "ignored",
          "output_type": "error",
          "traceback": [
            "\u001b[0;36m  File \u001b[0;32m\"<ipython-input-9-3975993f3845>\"\u001b[0;36m, line \u001b[0;32m2\u001b[0m\n\u001b[0;31m    1_variable = 2023\u001b[0m\n\u001b[0m     ^\u001b[0m\n\u001b[0;31mSyntaxError\u001b[0m\u001b[0;31m:\u001b[0m invalid decimal literal\n"
          ]
        }
      ],
      "source": [
        "# essayons de créer une variable qui commence par un chiffre\n",
        "1_variable = 2023"
      ]
    },
    {
      "cell_type": "code",
      "execution_count": null,
      "metadata": {
        "colab": {
          "base_uri": "https://localhost:8080/",
          "height": 131
        },
        "id": "FnZbaGGJkGgC",
        "outputId": "2ed2af85-143c-4d99-a577-eddbe4604456"
      },
      "outputs": [
        {
          "ename": "SyntaxError",
          "evalue": "ignored",
          "output_type": "error",
          "traceback": [
            "\u001b[0;36m  File \u001b[0;32m\"<ipython-input-10-5baef16185d4>\"\u001b[0;36m, line \u001b[0;32m3\u001b[0m\n\u001b[0;31m    +_de_variables = 2023\u001b[0m\n\u001b[0m    ^\u001b[0m\n\u001b[0;31mSyntaxError\u001b[0m\u001b[0;31m:\u001b[0m cannot assign to expression here. Maybe you meant '==' instead of '='?\n"
          ]
        }
      ],
      "source": [
        "# essayons de créer une variable qui commence par un caractère réservé\n",
        "+_de_variables = 2023"
      ]
    },
    {
      "cell_type": "code",
      "execution_count": null,
      "metadata": {
        "colab": {
          "base_uri": "https://localhost:8080/",
          "height": 131
        },
        "id": "k8Ssu_yokMWd",
        "outputId": "6064b7a1-3db9-46db-e7e3-8043ddd02a05"
      },
      "outputs": [
        {
          "ename": "SyntaxError",
          "evalue": "ignored",
          "output_type": "error",
          "traceback": [
            "\u001b[0;36m  File \u001b[0;32m\"<ipython-input-16-213c9d784946>\"\u001b[0;36m, line \u001b[0;32m2\u001b[0m\n\u001b[0;31m    lambda = 2023\u001b[0m\n\u001b[0m           ^\u001b[0m\n\u001b[0;31mSyntaxError\u001b[0m\u001b[0;31m:\u001b[0m invalid syntax\n"
          ]
        }
      ],
      "source": [
        "# essayons de créer une variable nommé d'après un mot-clef\n",
        "lambda = 2023"
      ]
    },
    {
      "cell_type": "markdown",
      "metadata": {
        "id": "U2fcVFgjkgx1"
      },
      "source": [
        "⚠ Attention! Tous les mots-clefs ne sont pas \"protégés\" par un message d'erreur !\n",
        "\n",
        "```python\n",
        "# on peut parfaitement poser comme instruction ceci\n",
        "print = 2023\n",
        "\n",
        "# mais si on fait ça, on ne peut plus utiliser l'instruction print() pour afficher le contenu d'une variable...\n",
        "```"
      ]
    },
    {
      "cell_type": "markdown",
      "metadata": {
        "id": "XnGqOg9HlNsG"
      },
      "source": [
        "### Bonnes pratiques"
      ]
    },
    {
      "cell_type": "markdown",
      "metadata": {
        "id": "IDbkTqiTjs8G"
      },
      "source": [
        "\n",
        "- un nom de variable explicit (pas `a` mais `mes_mots_clefs`)\n",
        "- éviter les caractères ambigus (`ma_variable_1` sont proches visuellement `ma_variable_l`)\n",
        "- un nom qui décrit le contenu de la variable (pas `variable_1` mais `mon_prenom`)\n",
        "\n",
        "Voyons ce qu'en dit la [PEP 8](https://peps.python.org/pep-0008/)!"
      ]
    },
    {
      "cell_type": "markdown",
      "metadata": {
        "id": "CsS_kGw3TkDt"
      },
      "source": [
        "# Types"
      ]
    },
    {
      "cell_type": "markdown",
      "metadata": {
        "id": "K9WalXXElTRe"
      },
      "source": [
        "- numériques:\n",
        "    - entier (int / integer): `42`\n",
        "    - décimal (float): `42.0`\n",
        "- itérables:\n",
        "    - chaîne de caractères (str / string): `\"42\"`\n",
        "    - liste de valeurs (list): `[1,2,3]`\n",
        "- autres:\n",
        "    - booléen (bool / boolean): `True`/`False`\n",
        "\n",
        "\n",
        "Il existe bien d'autres types de valeurs en Python, mais contentons-nous de ceux-là pour le moment."
      ]
    },
    {
      "cell_type": "markdown",
      "metadata": {
        "id": "4thEMnnmmzLO"
      },
      "source": [
        "## Type()"
      ]
    },
    {
      "cell_type": "markdown",
      "metadata": {
        "id": "ZOxva9Eams3p"
      },
      "source": [
        "On peut utiliser `type()` pour connaître le type d'une valeur ou d'une variable."
      ]
    },
    {
      "cell_type": "code",
      "execution_count": null,
      "metadata": {
        "colab": {
          "base_uri": "https://localhost:8080/"
        },
        "id": "a5WAdQ5tl1Mu",
        "outputId": "3605524f-1d13-4762-8ead-d4deb5b6a086"
      },
      "outputs": [
        {
          "data": {
            "text/plain": [
              "int"
            ]
          },
          "execution_count": 1,
          "metadata": {},
          "output_type": "execute_result"
        }
      ],
      "source": [
        "type(2023)"
      ]
    },
    {
      "cell_type": "code",
      "execution_count": null,
      "metadata": {
        "colab": {
          "base_uri": "https://localhost:8080/"
        },
        "id": "DPYcsbsCl4AG",
        "outputId": "0cddb702-1169-4eda-f0c3-92ac0413a83c"
      },
      "outputs": [
        {
          "data": {
            "text/plain": [
              "int"
            ]
          },
          "execution_count": 2,
          "metadata": {},
          "output_type": "execute_result"
        }
      ],
      "source": [
        "année = 2023\n",
        "type(année)"
      ]
    },
    {
      "cell_type": "code",
      "execution_count": null,
      "metadata": {
        "colab": {
          "base_uri": "https://localhost:8080/"
        },
        "id": "dls2SGGml8WU",
        "outputId": "0a0b6e08-8006-4fc0-9fbf-5a30297deb76"
      },
      "outputs": [
        {
          "name": "stdout",
          "output_type": "stream",
          "text": [
            "<class 'int'>\n",
            "<class 'float'>\n",
            "<class 'str'>\n",
            "<class 'bool'>\n",
            "<class 'list'>\n"
          ]
        }
      ],
      "source": [
        "print(type(42),\n",
        "      type(42.0),\n",
        "      type(\"42\"),\n",
        "      type(True),\n",
        "      type([1,2,3]),\n",
        "      sep=\"\\n\")"
      ]
    },
    {
      "cell_type": "markdown",
      "metadata": {
        "id": "dGRlZ9Dnm3QH"
      },
      "source": [
        "## Conversions"
      ]
    },
    {
      "cell_type": "markdown",
      "metadata": {
        "id": "u8FSqq69m78p"
      },
      "source": [
        "On peut convertir certaines valeur d'un type à un autre à l'aide des fonctions suivantes: \n",
        "- `int()`\n",
        "- `float()`\n",
        "- `str()`\n",
        "- `bool()`\n",
        "- `list()`\n",
        "\n",
        "Mais attention, toutes les conversions ne fonctionnent pas!"
      ]
    },
    {
      "cell_type": "markdown",
      "metadata": {
        "id": "ok1vAsLQnYmS"
      },
      "source": [
        "On utilise souvent `int()` ou `float()` sur une chaîne de caractère pour pouvoir faire des opérations mathématiques."
      ]
    },
    {
      "cell_type": "code",
      "execution_count": null,
      "metadata": {
        "colab": {
          "base_uri": "https://localhost:8080/"
        },
        "id": "zPW8wzgZnRe8",
        "outputId": "d84ff73d-7544-41d7-8711-200f5f5f843b"
      },
      "outputs": [
        {
          "name": "stdout",
          "output_type": "stream",
          "text": [
            "103.2\n"
          ]
        }
      ],
      "source": [
        "valeur_x = \"10\"\n",
        "valeur_y = \"3.2\"\n",
        "\n",
        "\n",
        "# si on additionne deux chaînes de caractères, on ne fait que les coller l'une à la suite de l'autre (concaténer)\n",
        "print(valeur_x + valeur_y)"
      ]
    },
    {
      "cell_type": "code",
      "execution_count": null,
      "metadata": {
        "colab": {
          "base_uri": "https://localhost:8080/"
        },
        "id": "no2cgqTCnlJD",
        "outputId": "8c5a8967-238a-4cf8-d4a7-dc6574a879bd"
      },
      "outputs": [
        {
          "name": "stdout",
          "output_type": "stream",
          "text": [
            "13.2\n"
          ]
        }
      ],
      "source": [
        "# on change valeur_x en entier et valeur_y en décimal pour pouvoir les additionner\n",
        "print(int(valeur_x) + float(valeur_y))"
      ]
    },
    {
      "cell_type": "markdown",
      "metadata": {
        "id": "8rpZSMOrn9mH"
      },
      "source": [
        "On peut aussi transformer une chaîne de caractères en une liste puisque ces deux types appartiennent à la catégorie des itérables."
      ]
    },
    {
      "cell_type": "code",
      "execution_count": null,
      "metadata": {
        "colab": {
          "base_uri": "https://localhost:8080/"
        },
        "id": "UZhYDMKsnxWl",
        "outputId": "4a625a91-3407-4bb1-d023-f4b197bb7819"
      },
      "outputs": [
        {
          "name": "stdout",
          "output_type": "stream",
          "text": [
            "Jean\n",
            "['J', 'e', 'a', 'n']\n"
          ]
        }
      ],
      "source": [
        "mon_prenom = \"Jean\"\n",
        "print(mon_prenom)\n",
        "print(list(mon_prenom))"
      ]
    },
    {
      "cell_type": "markdown",
      "metadata": {
        "id": "D5uf9jEToLK8"
      },
      "source": [
        "Certaines conversions sont impossibles (le plus souvent parce qu'elles sont illogiques)."
      ]
    },
    {
      "cell_type": "code",
      "execution_count": null,
      "metadata": {
        "colab": {
          "base_uri": "https://localhost:8080/",
          "height": 166
        },
        "id": "KCeMsDOdoPax",
        "outputId": "0f0c8b03-2842-4797-d9b8-375ddf38769a"
      },
      "outputs": [
        {
          "ename": "TypeError",
          "evalue": "ignored",
          "output_type": "error",
          "traceback": [
            "\u001b[0;31m---------------------------------------------------------------------------\u001b[0m",
            "\u001b[0;31mTypeError\u001b[0m                                 Traceback (most recent call last)",
            "\u001b[0;32m<ipython-input-8-3ce7fdf121b8>\u001b[0m in \u001b[0;36m<cell line: 1>\u001b[0;34m()\u001b[0m\n\u001b[0;32m----> 1\u001b[0;31m \u001b[0mprint\u001b[0m\u001b[0;34m(\u001b[0m\u001b[0mlist\u001b[0m\u001b[0;34m(\u001b[0m\u001b[0;36m42\u001b[0m\u001b[0;34m)\u001b[0m\u001b[0;34m)\u001b[0m\u001b[0;34m\u001b[0m\u001b[0;34m\u001b[0m\u001b[0m\n\u001b[0m",
            "\u001b[0;31mTypeError\u001b[0m: 'int' object is not iterable"
          ]
        }
      ],
      "source": [
        "print(list(42))"
      ]
    },
    {
      "cell_type": "code",
      "execution_count": null,
      "metadata": {
        "colab": {
          "base_uri": "https://localhost:8080/",
          "height": 166
        },
        "id": "hiLCIRj1oTcK",
        "outputId": "9f371a7d-acaf-474f-f81a-b99ea8b4de3e"
      },
      "outputs": [
        {
          "ename": "ValueError",
          "evalue": "ignored",
          "output_type": "error",
          "traceback": [
            "\u001b[0;31m---------------------------------------------------------------------------\u001b[0m",
            "\u001b[0;31mValueError\u001b[0m                                Traceback (most recent call last)",
            "\u001b[0;32m<ipython-input-9-dc055c36fab6>\u001b[0m in \u001b[0;36m<cell line: 1>\u001b[0;34m()\u001b[0m\n\u001b[0;32m----> 1\u001b[0;31m \u001b[0mprint\u001b[0m\u001b[0;34m(\u001b[0m\u001b[0mint\u001b[0m\u001b[0;34m(\u001b[0m\u001b[0;34m\"Jean\"\u001b[0m\u001b[0;34m)\u001b[0m\u001b[0;34m)\u001b[0m\u001b[0;34m\u001b[0m\u001b[0;34m\u001b[0m\u001b[0m\n\u001b[0m",
            "\u001b[0;31mValueError\u001b[0m: invalid literal for int() with base 10: 'Jean'"
          ]
        }
      ],
      "source": [
        "print(int(\"Jean\"))"
      ]
    },
    {
      "cell_type": "code",
      "execution_count": null,
      "metadata": {
        "colab": {
          "base_uri": "https://localhost:8080/",
          "height": 166
        },
        "id": "vKkO6nUSoWxa",
        "outputId": "216bed3b-af19-483a-826f-b88eac51e12b"
      },
      "outputs": [
        {
          "ename": "TypeError",
          "evalue": "ignored",
          "output_type": "error",
          "traceback": [
            "\u001b[0;31m---------------------------------------------------------------------------\u001b[0m",
            "\u001b[0;31mTypeError\u001b[0m                                 Traceback (most recent call last)",
            "\u001b[0;32m<ipython-input-10-a2a88f50e512>\u001b[0m in \u001b[0;36m<cell line: 1>\u001b[0;34m()\u001b[0m\n\u001b[0;32m----> 1\u001b[0;31m \u001b[0mprint\u001b[0m\u001b[0;34m(\u001b[0m\u001b[0mfloat\u001b[0m\u001b[0;34m(\u001b[0m\u001b[0;34m[\u001b[0m\u001b[0;36m2\u001b[0m\u001b[0;34m,\u001b[0m\u001b[0;36m3\u001b[0m\u001b[0;34m,\u001b[0m\u001b[0;36m4\u001b[0m\u001b[0;34m]\u001b[0m\u001b[0;34m)\u001b[0m\u001b[0;34m)\u001b[0m\u001b[0;34m\u001b[0m\u001b[0;34m\u001b[0m\u001b[0m\n\u001b[0m",
            "\u001b[0;31mTypeError\u001b[0m: float() argument must be a string or a real number, not 'list'"
          ]
        }
      ],
      "source": [
        "print(float([2,3,4]))"
      ]
    },
    {
      "cell_type": "markdown",
      "metadata": {
        "id": "vJUOtLvxQOJE"
      },
      "source": [
        "# Il est temps pour...\n",
        "\n",
        "<img src=\"https://boisestate.pressbooks.pub/app/uploads/sites/144/2022/05/2-2.png\" width=\"600px\">"
      ]
    },
    {
      "cell_type": "markdown",
      "metadata": {
        "id": "iiRS8WzNTmlE"
      },
      "source": [
        "# Fonctions"
      ]
    },
    {
      "cell_type": "markdown",
      "metadata": {
        "id": "PPe6BOncqdJz"
      },
      "source": [
        "- permet de réaliser une action (transformer une valeur, créer une nouvelle valeur, faire quelque chose avec cette valeur, etc)\n",
        "- est appelée grâce à son nom\n",
        "- peut \"prendre un argument\", c'est-à-dire qu'elle va ingérer une ou des valeurs pour produire un résultat\n",
        "- peut être \"built-in\" ou définie explicitement"
      ]
    },
    {
      "cell_type": "markdown",
      "metadata": {
        "id": "2bwkPKLesOES"
      },
      "source": [
        "### Fonctions built-in"
      ]
    },
    {
      "cell_type": "markdown",
      "metadata": {
        "id": "SMdo4vzTsQjq"
      },
      "source": [
        "Jusqu'ici, on a utilisé plusieurs fonctions built-in:\n",
        "\n",
        "- `print()` \n",
        "    - affiche ce qui lui est passé en argument\n",
        "- `type()` \n",
        "    - renvoie le type de la valeur qui lui est passé en argument\n",
        "- `help()` \n",
        "    - renvoie une description/explication sur ce qui lui est passé en argument\n",
        "- `float()` et les fonctions de conversions \n",
        "    - convertit une valeur passée en argument en une autre"
      ]
    },
    {
      "cell_type": "code",
      "execution_count": null,
      "metadata": {
        "colab": {
          "base_uri": "https://localhost:8080/"
        },
        "id": "p8e0wUFQ_wMb",
        "outputId": "96feb746-2cee-4003-e89f-5cdebb2c1e51"
      },
      "outputs": [
        {
          "name": "stdout",
          "output_type": "stream",
          "text": [
            "Help on built-in function print in module builtins:\n",
            "\n",
            "print(...)\n",
            "    print(value, ..., sep=' ', end='\\n', file=sys.stdout, flush=False)\n",
            "    \n",
            "    Prints the values to a stream, or to sys.stdout by default.\n",
            "    Optional keyword arguments:\n",
            "    file:  a file-like object (stream); defaults to the current sys.stdout.\n",
            "    sep:   string inserted between values, default a space.\n",
            "    end:   string appended after the last value, default a newline.\n",
            "    flush: whether to forcibly flush the stream.\n",
            "\n"
          ]
        }
      ],
      "source": [
        "help(print)"
      ]
    },
    {
      "cell_type": "code",
      "execution_count": null,
      "metadata": {
        "colab": {
          "base_uri": "https://localhost:8080/"
        },
        "id": "_1XXiZOo-T6Y",
        "outputId": "236f0aac-c505-426f-8e5b-4a74af760f4a"
      },
      "outputs": [
        {
          "name": "stdout",
          "output_type": "stream",
          "text": [
            "Help on built-in function len in module builtins:\n",
            "\n",
            "len(obj, /)\n",
            "    Return the number of items in a container.\n",
            "\n"
          ]
        }
      ],
      "source": [
        "help(len)"
      ]
    },
    {
      "cell_type": "markdown",
      "metadata": {
        "id": "6RYmGSeZ-aic"
      },
      "source": [
        "Les fonctions built-in existent par défaut dans le programme, on n'a pas besoin de les définir nous-même."
      ]
    },
    {
      "cell_type": "markdown",
      "metadata": {
        "id": "J3bfu03F-lQZ"
      },
      "source": [
        "## Définition de fonctions"
      ]
    },
    {
      "cell_type": "markdown",
      "metadata": {
        "id": "UugfFjRO-odt"
      },
      "source": [
        "- permet de créer ses propres fonctions\n",
        "- évite de répéter plusieurs fois une même série d'instructions\n",
        "- aide la lisibilité d'un code en identifiant des actions\n",
        "- un bloc d'instructions\n"
      ]
    },
    {
      "cell_type": "markdown",
      "metadata": {
        "id": "OSUWg383__vk"
      },
      "source": [
        "- `def`: mot-clef (définition)\n",
        "- `nom de la fonction`: mêmes règles que pour le nommage des variables\n",
        "- `()`: pour définir les éventuels arguments\n",
        "- `:`: pour poursuivre avec un bloc indenté\n",
        "- toutes les instructions réalisées au sein de la fonction sont identées\n",
        "- fin d'indentation : fin de la fonction"
      ]
    },
    {
      "cell_type": "code",
      "execution_count": null,
      "metadata": {
        "id": "QbDvNa4G-8XS"
      },
      "outputs": [],
      "source": [
        "def table_de_deux():\n",
        "    \"\"\"cette fonction affiche la table de multiplication par 2\"\"\"\n",
        "    print(1 * 2)\n",
        "    print(2 * 2)\n",
        "    print(3 * 2)\n",
        "    print(4 * 2)\n",
        "    print(5 * 2)\n",
        "    print(6 * 2)\n",
        "    print(7 * 2)\n",
        "    print(8 * 2)\n",
        "    print(9 * 2)\n",
        "    print(10 * 2)"
      ]
    },
    {
      "cell_type": "markdown",
      "metadata": {
        "id": "PUfRVdZfAyLH"
      },
      "source": [
        "## Appel de fonction"
      ]
    },
    {
      "cell_type": "markdown",
      "metadata": {
        "id": "mGd9aOl4A0Sb"
      },
      "source": [
        "- la fonction doit exister\n",
        "- les parenthèses sont importantes"
      ]
    },
    {
      "cell_type": "code",
      "execution_count": null,
      "metadata": {
        "colab": {
          "base_uri": "https://localhost:8080/"
        },
        "id": "dZ_fVkA1A7VC",
        "outputId": "c6b3f9f9-e9e0-4aaf-eeac-1a7fb8bea391"
      },
      "outputs": [
        {
          "name": "stdout",
          "output_type": "stream",
          "text": [
            "2\n",
            "4\n",
            "6\n",
            "8\n",
            "10\n",
            "12\n",
            "14\n",
            "16\n",
            "18\n",
            "20\n"
          ]
        }
      ],
      "source": [
        "table_de_deux()"
      ]
    },
    {
      "cell_type": "code",
      "execution_count": null,
      "metadata": {
        "colab": {
          "base_uri": "https://localhost:8080/"
        },
        "id": "u11mzyWzCniw",
        "outputId": "ed6b7166-5ef0-4f9b-9401-4b3817ffc5b5"
      },
      "outputs": [
        {
          "name": "stdout",
          "output_type": "stream",
          "text": [
            "Help on function multiplie_par_deux in module __main__:\n",
            "\n",
            "multiplie_par_deux(nombre)\n",
            "\n"
          ]
        }
      ],
      "source": [
        "help(multiplie_par_deux)"
      ]
    },
    {
      "cell_type": "markdown",
      "metadata": {
        "id": "OpJfVgFNA_0K"
      },
      "source": [
        "## Arguments (ou paramètres)"
      ]
    },
    {
      "cell_type": "markdown",
      "metadata": {
        "id": "zFzTBw68BCMo"
      },
      "source": [
        "Pour rendre les fonctions utiles, on a besoin qu'elles prennent en charge des variables.\n",
        "\n",
        "- les sous-variables pour la fonction\n",
        "- peuvent avoir des valeurs par défaut"
      ]
    },
    {
      "cell_type": "code",
      "execution_count": null,
      "metadata": {
        "colab": {
          "base_uri": "https://localhost:8080/"
        },
        "id": "t0j8XjOTBkE8",
        "outputId": "5d82d8cf-b9c2-4eac-c45d-84289cfa1762"
      },
      "outputs": [
        {
          "name": "stdout",
          "output_type": "stream",
          "text": [
            "Help on built-in function print in module builtins:\n",
            "\n",
            "print(...)\n",
            "    print(value, ..., sep=' ', end='\\n', file=sys.stdout, flush=False)\n",
            "    \n",
            "    Prints the values to a stream, or to sys.stdout by default.\n",
            "    Optional keyword arguments:\n",
            "    file:  a file-like object (stream); defaults to the current sys.stdout.\n",
            "    sep:   string inserted between values, default a space.\n",
            "    end:   string appended after the last value, default a newline.\n",
            "    flush: whether to forcibly flush the stream.\n",
            "\n"
          ]
        }
      ],
      "source": [
        "# la fonction \"help()\" prend comme argument \"print\"\n",
        "help(print)"
      ]
    },
    {
      "cell_type": "code",
      "execution_count": null,
      "metadata": {
        "colab": {
          "base_uri": "https://localhost:8080/"
        },
        "id": "xxFTHK9QA_Y_",
        "outputId": "bf0ad738-5548-45d2-b39d-d23c9844b04a"
      },
      "outputs": [
        {
          "name": "stdout",
          "output_type": "stream",
          "text": [
            "ceci est un argument\n"
          ]
        }
      ],
      "source": [
        "# la fonction print prend plusieurs arguments\n",
        "# certains ont des valeurs par défaut, comme 'sep', que l'on peut modifier\n",
        "print(\"argument\", sep=\"\\n\")"
      ]
    },
    {
      "cell_type": "markdown",
      "metadata": {
        "id": "TInHTR-qBuHS"
      },
      "source": [
        "Préciser les arguments d'une fonction se fait entre les `()` au moment de sa définition."
      ]
    },
    {
      "cell_type": "code",
      "execution_count": null,
      "metadata": {
        "id": "VYHS2wX2Btjc"
      },
      "outputs": [],
      "source": [
        "def multiplie_par_deux(nombre):\n",
        "    \"\"\"cette fonction multiplie un nombre par deux et affiche le résultat\"\"\"\n",
        "    print(nombre * 2)"
      ]
    },
    {
      "cell_type": "markdown",
      "metadata": {
        "id": "cbi6W-YoCHcK"
      },
      "source": [
        "On peut maintenant faire varier le résultat de la fonction, en fonction de la valeur qu'on lui donne en entrée !"
      ]
    },
    {
      "cell_type": "code",
      "execution_count": null,
      "metadata": {
        "colab": {
          "base_uri": "https://localhost:8080/"
        },
        "id": "0akYgaVdB7Q0",
        "outputId": "bdfb2b58-21de-415c-cd98-d828fd8fdc74"
      },
      "outputs": [
        {
          "name": "stdout",
          "output_type": "stream",
          "text": [
            "6\n"
          ]
        }
      ],
      "source": [
        "# amuez-vous à changer la valeur passée à la fonction multiplie_par_deux()\n",
        "multiplie_par_deux(3)"
      ]
    },
    {
      "cell_type": "markdown",
      "metadata": {
        "id": "tDmMZCibCRE8"
      },
      "source": [
        "Les valeurs \"par défaut\" sont aussi définies au moment de la définition de la fonction"
      ]
    },
    {
      "cell_type": "code",
      "execution_count": null,
      "metadata": {
        "id": "PRuPrVHFCExD"
      },
      "outputs": [],
      "source": [
        "def multiplie(nombre, multiplicateur=2):\n",
        "    \"\"\"cette fonction multiplie un nombre par un autre nombre (multiplicateur), par défaut fixé à 2\"\"\"\n",
        "    print(nombre * multiplicateur)"
      ]
    },
    {
      "cell_type": "code",
      "execution_count": null,
      "metadata": {
        "colab": {
          "base_uri": "https://localhost:8080/"
        },
        "id": "8VUZCapcC3GJ",
        "outputId": "1d7adb5e-7eae-4aa1-d4a0-b010451c4df3"
      },
      "outputs": [
        {
          "name": "stdout",
          "output_type": "stream",
          "text": [
            "6\n"
          ]
        }
      ],
      "source": [
        "multiplie(3)"
      ]
    },
    {
      "cell_type": "code",
      "execution_count": null,
      "metadata": {
        "colab": {
          "base_uri": "https://localhost:8080/"
        },
        "id": "nzBO-8W6C5zL",
        "outputId": "82d38628-bbd3-411a-9dc2-3fd0577bb6a0"
      },
      "outputs": [
        {
          "name": "stdout",
          "output_type": "stream",
          "text": [
            "9\n"
          ]
        }
      ],
      "source": [
        "multiplie(3, multiplicateur=3)"
      ]
    },
    {
      "cell_type": "markdown",
      "metadata": {
        "id": "5TvRkOpjDCeS"
      },
      "source": [
        "## Renvoyer une valeur"
      ]
    },
    {
      "cell_type": "markdown",
      "metadata": {
        "id": "nSQsZepNDGaN"
      },
      "source": [
        "- transformation d'une valeur par la fonction\n",
        "- `return`"
      ]
    },
    {
      "cell_type": "code",
      "execution_count": null,
      "metadata": {
        "colab": {
          "base_uri": "https://localhost:8080/"
        },
        "id": "gHkSfCBnDVAc",
        "outputId": "f4c081af-b5f7-4c1f-969b-530a982967f1"
      },
      "outputs": [
        {
          "name": "stdout",
          "output_type": "stream",
          "text": [
            "None\n"
          ]
        }
      ],
      "source": [
        "def soustrait(nombre_de_base, valeur_soustraite):\n",
        "    \"\"\"Soustrait une valeur à un nombre de base\"\"\"\n",
        "    resultat = nombre_de_base - valeur_soustraite\n",
        "\n",
        "# rien de visible ne se passe\n",
        "soustrait(1, 4)\n",
        "\n",
        "# par défaut, en Python, une fonction ne renvoit rien (None)\n",
        "print(soustrait(1, 4))"
      ]
    },
    {
      "cell_type": "code",
      "execution_count": null,
      "metadata": {
        "colab": {
          "base_uri": "https://localhost:8080/"
        },
        "id": "knGVIZxFEJrS",
        "outputId": "137886f4-d1ff-44eb-9925-63310fb0aeb9"
      },
      "outputs": [
        {
          "name": "stdout",
          "output_type": "stream",
          "text": [
            "-3\n"
          ]
        }
      ],
      "source": [
        "def soustrait(nombre_de_base, valeur_soustraite):\n",
        "    \"\"\"Soustrait une valeur à un nombre de base\"\"\"\n",
        "    resultat = nombre_de_base - valeur_soustraite\n",
        "    return resultat\n",
        "\n",
        "# rien de visible ne se passe\n",
        "soustrait(1, 4)\n",
        "\n",
        "# mais cette fois-ci, la fonction renvoie le contenu de resultat\n",
        "print(soustrait(1, 4))"
      ]
    },
    {
      "cell_type": "code",
      "execution_count": null,
      "metadata": {
        "colab": {
          "base_uri": "https://localhost:8080/"
        },
        "id": "Hjou-ao5EVQJ",
        "outputId": "576510ca-e769-44b7-8c89-87bd83f0617a"
      },
      "outputs": [
        {
          "name": "stdout",
          "output_type": "stream",
          "text": [
            "-8\n"
          ]
        }
      ],
      "source": [
        "def soustrait(nombre_de_base, valeur_soustraite):\n",
        "    \"\"\"Soustrait une valeur à un nombre de base\"\"\"\n",
        "    resultat = nombre_de_base - valeur_soustraite\n",
        "    return resultat\n",
        "\n",
        "un_nombre = 13\n",
        "\n",
        "# on peut récupérer la valeur dans une nouvelle variable\n",
        "un_nombre_transformé = soustrait(un_nombre, 21)\n",
        "\n",
        "# mais cette fois-ci, la fonction renvoie le contenu de resultat\n",
        "print(un_nombre_transformé)"
      ]
    },
    {
      "cell_type": "code",
      "execution_count": null,
      "metadata": {
        "colab": {
          "base_uri": "https://localhost:8080/"
        },
        "id": "AvkPTpN9EtbQ",
        "outputId": "3b6f026f-4647-42ed-8032-86c7d4f01dab"
      },
      "outputs": [
        {
          "name": "stdout",
          "output_type": "stream",
          "text": [
            "-16\n"
          ]
        }
      ],
      "source": [
        "multiplie_par_deux(un_nombre_transformé)"
      ]
    },
    {
      "cell_type": "markdown",
      "metadata": {
        "id": "bPh1dOboE_mP"
      },
      "source": [
        "Grâce aux variables et aux fonctions, on sort de la programmation \"calculette\" pour entrer dans la programmation en template. "
      ]
    },
    {
      "cell_type": "markdown",
      "metadata": {
        "id": "3wYgNGpxQdSd"
      },
      "source": [
        "# Il est temps pour...\n",
        "\n",
        "<img src=\"https://boisestate.pressbooks.pub/app/uploads/sites/144/2022/05/2-2.png\" width=\"600px\">"
      ]
    },
    {
      "cell_type": "markdown",
      "metadata": {
        "id": "mRQ7AS8387Uf"
      },
      "source": [
        "# Remarque sur les fonctions et les méthodes"
      ]
    },
    {
      "cell_type": "markdown",
      "metadata": {
        "id": "yfwOt_od8-jV"
      },
      "source": [
        "- quelle est la différence ?\n",
        "- pourquoi a-t-on deux types de fonctions ?"
      ]
    },
    {
      "cell_type": "markdown",
      "metadata": {
        "id": "_I0rQeHU9DwK"
      },
      "source": [
        "```python\n",
        "ceci_est_une_fonction({valeur})\n",
        "\n",
        "{objet}.ceci_est_une_méthode({valeur})\n",
        "```"
      ]
    },
    {
      "cell_type": "code",
      "execution_count": 2,
      "metadata": {
        "colab": {
          "base_uri": "https://localhost:8080/"
        },
        "id": "t7muxxc59gdj",
        "outputId": "73a972f1-aa9f-4198-d8bb-d42e7443d1f2"
      },
      "outputs": [
        {
          "name": "stdout",
          "output_type": "stream",
          "text": [
            "Help on built-in function sorted in module builtins:\n",
            "\n",
            "sorted(iterable, /, *, key=None, reverse=False)\n",
            "    Return a new list containing all items from the iterable in ascending order.\n",
            "    \n",
            "    A custom key function can be supplied to customize the sort order, and the\n",
            "    reverse flag can be set to request the result in descending order.\n",
            "\n"
          ]
        }
      ],
      "source": [
        "help(sorted)"
      ]
    },
    {
      "cell_type": "code",
      "execution_count": 1,
      "metadata": {
        "colab": {
          "base_uri": "https://localhost:8080/",
          "height": 166
        },
        "id": "9YBDji1w9DNW",
        "outputId": "c1c4fb11-9d47-44d8-f8d3-1d85396c7a1c"
      },
      "outputs": [
        {
          "ename": "NameError",
          "evalue": "ignored",
          "output_type": "error",
          "traceback": [
            "\u001b[0;31m---------------------------------------------------------------------------\u001b[0m",
            "\u001b[0;31mNameError\u001b[0m                                 Traceback (most recent call last)",
            "\u001b[0;32m<ipython-input-1-f875e6a31e77>\u001b[0m in \u001b[0;36m<cell line: 1>\u001b[0;34m()\u001b[0m\n\u001b[0;32m----> 1\u001b[0;31m \u001b[0mhelp\u001b[0m\u001b[0;34m(\u001b[0m\u001b[0msort\u001b[0m\u001b[0;34m)\u001b[0m\u001b[0;34m\u001b[0m\u001b[0;34m\u001b[0m\u001b[0m\n\u001b[0m",
            "\u001b[0;31mNameError\u001b[0m: name 'sort' is not defined"
          ]
        }
      ],
      "source": [
        "help(sort)"
      ]
    },
    {
      "cell_type": "code",
      "execution_count": 3,
      "metadata": {
        "colab": {
          "base_uri": "https://localhost:8080/"
        },
        "id": "6VSnJe629igk",
        "outputId": "8632aaa0-b5fd-4848-daba-5577646efba1"
      },
      "outputs": [
        {
          "name": "stdout",
          "output_type": "stream",
          "text": [
            "Help on method_descriptor:\n",
            "\n",
            "sort(self, /, *, key=None, reverse=False)\n",
            "    Sort the list in ascending order and return None.\n",
            "    \n",
            "    The sort is in-place (i.e. the list itself is modified) and stable (i.e. the\n",
            "    order of two equal elements is maintained).\n",
            "    \n",
            "    If a key function is given, apply it once to each list item and sort them,\n",
            "    ascending or descending, according to their function values.\n",
            "    \n",
            "    The reverse flag can be set to sort in descending order.\n",
            "\n"
          ]
        }
      ],
      "source": [
        "help(list.sort)"
      ]
    },
    {
      "cell_type": "markdown",
      "metadata": {
        "id": "UrCc3dBfGPCo"
      },
      "source": [
        "# Les listes"
      ]
    },
    {
      "cell_type": "markdown",
      "metadata": {
        "id": "IBLGKY7aHtAH"
      },
      "source": [
        "## Construction des listes"
      ]
    },
    {
      "cell_type": "markdown",
      "metadata": {
        "id": "dNyYNnfBGRLU"
      },
      "source": [
        "- ensemble de valeurs\n",
        "- indexé\n",
        "- multi-type"
      ]
    },
    {
      "cell_type": "code",
      "execution_count": null,
      "metadata": {
        "colab": {
          "base_uri": "https://localhost:8080/"
        },
        "id": "ySMulUx9OyKX",
        "outputId": "ad400455-43ad-4379-86b6-1eccd2f01899"
      },
      "outputs": [
        {
          "data": {
            "text/plain": [
              "[]"
            ]
          },
          "execution_count": 49,
          "metadata": {},
          "output_type": "execute_result"
        }
      ],
      "source": [
        "# une liste vide\n",
        "[]"
      ]
    },
    {
      "cell_type": "code",
      "execution_count": null,
      "metadata": {
        "colab": {
          "base_uri": "https://localhost:8080/"
        },
        "id": "xwDqUFekN6w5",
        "outputId": "b5ba19f2-747e-408f-a06b-53be52f9312b"
      },
      "outputs": [
        {
          "data": {
            "text/plain": [
              "['A', 'B', 'C', 'D']"
            ]
          },
          "execution_count": 41,
          "metadata": {},
          "output_type": "execute_result"
        }
      ],
      "source": [
        "# une liste de lettres\n",
        "[\"A\", \"B\", \"C\", \"D\"]"
      ]
    },
    {
      "cell_type": "code",
      "execution_count": null,
      "metadata": {
        "colab": {
          "base_uri": "https://localhost:8080/"
        },
        "id": "gCbzRSskN-Iy",
        "outputId": "be94779f-80e4-4ce5-901d-e5ad194ca8bf"
      },
      "outputs": [
        {
          "data": {
            "text/plain": [
              "[1, 2, 3, 4, 5]"
            ]
          },
          "execution_count": 42,
          "metadata": {},
          "output_type": "execute_result"
        }
      ],
      "source": [
        "# une liste de nomres\n",
        "[1, 2, 3, 4, 5]"
      ]
    },
    {
      "cell_type": "code",
      "execution_count": null,
      "metadata": {
        "colab": {
          "base_uri": "https://localhost:8080/"
        },
        "id": "SXHC90jPOHKs",
        "outputId": "ff920b65-8c52-4cfa-c164-445e99ae28f8"
      },
      "outputs": [
        {
          "data": {
            "text/plain": [
              "[3.14, 2.2, 150.0]"
            ]
          },
          "execution_count": 44,
          "metadata": {},
          "output_type": "execute_result"
        }
      ],
      "source": [
        "# une liste de floats\n",
        "[3.14, 2.2, 150.0]"
      ]
    },
    {
      "cell_type": "code",
      "execution_count": null,
      "metadata": {
        "colab": {
          "base_uri": "https://localhost:8080/"
        },
        "id": "vVlY8sPjOCp7",
        "outputId": "067c091f-0fb5-476c-d454-941f94c51fad"
      },
      "outputs": [
        {
          "data": {
            "text/plain": [
              "[True, False, True]"
            ]
          },
          "execution_count": 43,
          "metadata": {},
          "output_type": "execute_result"
        }
      ],
      "source": [
        "# une liste de booléens\n",
        "[True, False, True]"
      ]
    },
    {
      "cell_type": "code",
      "execution_count": null,
      "metadata": {
        "colab": {
          "base_uri": "https://localhost:8080/"
        },
        "id": "_hjv2S_COMRA",
        "outputId": "ce0dbc91-ec0d-4494-cc28-79a834cb0558"
      },
      "outputs": [
        {
          "data": {
            "text/plain": [
              "[True, 2023, 'hello', 4.5, int]"
            ]
          },
          "execution_count": 47,
          "metadata": {},
          "output_type": "execute_result"
        }
      ],
      "source": [
        "# une liste de valeur de différents types\n",
        "encore_un_autre_type = type(3)\n",
        "\n",
        "[True, 2023, \"hello\", 4.5, encore_un_autre_type]"
      ]
    },
    {
      "cell_type": "code",
      "execution_count": null,
      "metadata": {
        "colab": {
          "base_uri": "https://localhost:8080/"
        },
        "id": "3PDJ-SGAGQmF",
        "outputId": "0eeb56e9-2fb5-44f2-a15e-b665cf7f6cc8"
      },
      "outputs": [
        {
          "data": {
            "text/plain": [
              "[[3.14, 2.2], [True, 2023], [3, 4, 5]]"
            ]
          },
          "execution_count": 48,
          "metadata": {},
          "output_type": "execute_result"
        }
      ],
      "source": [
        "# une liste de liste\n",
        "\n",
        "[[3.14, 2.2], [True, 2023], [3, 4, 5]]"
      ]
    },
    {
      "cell_type": "markdown",
      "metadata": {
        "id": "eQfKPhfyMTJR"
      },
      "source": [
        "On vera d'autres types d'objets plus adaptés, mais ça permet par exemple de rassembler des informations qui vont ensemble"
      ]
    },
    {
      "cell_type": "code",
      "execution_count": null,
      "metadata": {
        "id": "3mlopG5uHIqR"
      },
      "outputs": [],
      "source": [
        "une_etudiante = [2019, 4.3, \"Jeanne\", True]"
      ]
    },
    {
      "cell_type": "code",
      "execution_count": null,
      "metadata": {
        "id": "0ROg8GDAO2CQ"
      },
      "outputs": [],
      "source": [
        "des_etudiants = [une_etudiante, \n",
        "                 [2021, 4.0, \"Serge\", True]]"
      ]
    },
    {
      "cell_type": "markdown",
      "metadata": {
        "id": "odYgSWhWHse_"
      },
      "source": [
        "## Indexation\n"
      ]
    },
    {
      "cell_type": "markdown",
      "metadata": {
        "id": "7ANF34q2H3nc"
      },
      "source": [
        "- accès à une information dans la liste\n",
        "- commence à zéro\n",
        "- `[]`"
      ]
    },
    {
      "cell_type": "code",
      "execution_count": null,
      "metadata": {
        "colab": {
          "base_uri": "https://localhost:8080/"
        },
        "id": "Q8QavplQHy7f",
        "outputId": "a096a489-2ece-42c8-9145-8ed8e835d115"
      },
      "outputs": [
        {
          "name": "stdout",
          "output_type": "stream",
          "text": [
            "prenom: Jeanne\n"
          ]
        }
      ],
      "source": [
        "# le prénom est la 3e information dans la liste, donc on vise le 3e index (2)\n",
        "print(\"prenom:\", une_etudiante[2])"
      ]
    },
    {
      "cell_type": "code",
      "execution_count": null,
      "metadata": {
        "colab": {
          "base_uri": "https://localhost:8080/"
        },
        "id": "1pwBH65cPABW",
        "outputId": "bd53c679-4cf3-4d0b-b633-83209c356fbc"
      },
      "outputs": [
        {
          "name": "stdout",
          "output_type": "stream",
          "text": [
            "prenoms:\n",
            "Jeanne\n",
            "Serge\n"
          ]
        }
      ],
      "source": [
        "print(\"prenoms:\", des_etudiants[0][2], des_etudiants[1][2], sep=\"\\n\")"
      ]
    },
    {
      "cell_type": "markdown",
      "metadata": {
        "id": "UQ68rI6HMg0Z"
      },
      "source": [
        "## Opérations avec les listes"
      ]
    },
    {
      "cell_type": "markdown",
      "metadata": {
        "id": "5YHNJMUZMs1U"
      },
      "source": [
        "- addtionner des listes"
      ]
    },
    {
      "cell_type": "code",
      "execution_count": null,
      "metadata": {
        "colab": {
          "base_uri": "https://localhost:8080/"
        },
        "id": "3ktClu69MvGq",
        "outputId": "91ba0425-f787-49d7-b30b-47c5013cbd09"
      },
      "outputs": [
        {
          "data": {
            "text/plain": [
              "[1, 2, 3, 4, 5]"
            ]
          },
          "execution_count": 34,
          "metadata": {},
          "output_type": "execute_result"
        }
      ],
      "source": [
        "[1,2,3] + [4,5]"
      ]
    },
    {
      "cell_type": "markdown",
      "metadata": {
        "id": "LZ1OvxcCM3pP"
      },
      "source": [
        "- multiplier une liste"
      ]
    },
    {
      "cell_type": "code",
      "execution_count": null,
      "metadata": {
        "colab": {
          "base_uri": "https://localhost:8080/"
        },
        "id": "tpeeSJSIM2-C",
        "outputId": "010cdf8b-d896-41a6-9ce8-9368a809311b"
      },
      "outputs": [
        {
          "data": {
            "text/plain": [
              "[1, 2, 3, 1, 2, 3, 1, 2, 3]"
            ]
          },
          "execution_count": 37,
          "metadata": {},
          "output_type": "execute_result"
        }
      ],
      "source": [
        "3 * [1, 2, 3]"
      ]
    },
    {
      "cell_type": "markdown",
      "metadata": {
        "id": "3b4aBeHBM0Ue"
      },
      "source": [
        "- soustraire des listes?"
      ]
    },
    {
      "cell_type": "code",
      "execution_count": null,
      "metadata": {
        "colab": {
          "base_uri": "https://localhost:8080/",
          "height": 166
        },
        "id": "XRlhLrGjMzyt",
        "outputId": "bb7b9bc0-305c-4c3e-a5c2-0bda71285edd"
      },
      "outputs": [
        {
          "ename": "TypeError",
          "evalue": "ignored",
          "output_type": "error",
          "traceback": [
            "\u001b[0;31m---------------------------------------------------------------------------\u001b[0m",
            "\u001b[0;31mTypeError\u001b[0m                                 Traceback (most recent call last)",
            "\u001b[0;32m<ipython-input-39-fc77f225cca3>\u001b[0m in \u001b[0;36m<cell line: 1>\u001b[0;34m()\u001b[0m\n\u001b[0;32m----> 1\u001b[0;31m \u001b[0;34m[\u001b[0m\u001b[0;36m1\u001b[0m\u001b[0;34m,\u001b[0m \u001b[0;36m2\u001b[0m\u001b[0;34m,\u001b[0m \u001b[0;36m3\u001b[0m\u001b[0;34m]\u001b[0m \u001b[0;34m-\u001b[0m \u001b[0;34m[\u001b[0m\u001b[0;36m2\u001b[0m\u001b[0;34m,\u001b[0m \u001b[0;36m3\u001b[0m\u001b[0;34m]\u001b[0m\u001b[0;34m\u001b[0m\u001b[0;34m\u001b[0m\u001b[0m\n\u001b[0m",
            "\u001b[0;31mTypeError\u001b[0m: unsupported operand type(s) for -: 'list' and 'list'"
          ]
        }
      ],
      "source": [
        "[1, 2, 3] - [2, 3]"
      ]
    },
    {
      "cell_type": "markdown",
      "metadata": {
        "id": "1h0vwDs_NNbd"
      },
      "source": [
        "- diviser des listes?"
      ]
    },
    {
      "cell_type": "code",
      "execution_count": null,
      "metadata": {
        "colab": {
          "base_uri": "https://localhost:8080/",
          "height": 166
        },
        "id": "3zsM51Y1NP7l",
        "outputId": "06fad5b4-3fae-423b-9daf-564d1413d2bc"
      },
      "outputs": [
        {
          "ename": "TypeError",
          "evalue": "ignored",
          "output_type": "error",
          "traceback": [
            "\u001b[0;31m---------------------------------------------------------------------------\u001b[0m",
            "\u001b[0;31mTypeError\u001b[0m                                 Traceback (most recent call last)",
            "\u001b[0;32m<ipython-input-40-f3a723327e0e>\u001b[0m in \u001b[0;36m<cell line: 1>\u001b[0;34m()\u001b[0m\n\u001b[0;32m----> 1\u001b[0;31m \u001b[0;34m[\u001b[0m\u001b[0;36m2\u001b[0m\u001b[0;34m,\u001b[0m\u001b[0;36m2\u001b[0m\u001b[0;34m,\u001b[0m\u001b[0;36m2\u001b[0m\u001b[0;34m,\u001b[0m\u001b[0;36m2\u001b[0m\u001b[0;34m,\u001b[0m\u001b[0;36m2\u001b[0m\u001b[0;34m]\u001b[0m \u001b[0;34m/\u001b[0m \u001b[0;36m2\u001b[0m\u001b[0;34m\u001b[0m\u001b[0;34m\u001b[0m\u001b[0m\n\u001b[0m",
            "\u001b[0;31mTypeError\u001b[0m: unsupported operand type(s) for /: 'list' and 'int'"
          ]
        }
      ],
      "source": [
        "[2,2,2,2,2] / 2"
      ]
    },
    {
      "cell_type": "markdown",
      "metadata": {
        "id": "qNu8R7ALNSt2"
      },
      "source": [
        "On ne peut pas soustraire ou diviser des listes, c'est logique. "
      ]
    },
    {
      "cell_type": "markdown",
      "metadata": {
        "id": "f0RYDkAKNoxN"
      },
      "source": [
        "Il y a d'autres manières d'ajouter ou d'enlever des éléments dans une liste, mais on les verra plus tard."
      ]
    },
    {
      "cell_type": "markdown",
      "metadata": {
        "id": "Byef5iHeNYNP"
      },
      "source": [
        "- `ma_liste.pop({valeur})`\n",
        "- `del ma_liste[{index}]`\n",
        "- `ma_list.append({valeur})`"
      ]
    },
    {
      "cell_type": "markdown",
      "metadata": {
        "id": "M_6ogoejMUb9"
      },
      "source": [
        "Il y a plein de choses à connaître sur les listes : https://python.doctor/page-apprendre-listes-list-tableaux-tableaux-liste-array-python-cours-debutant"
      ]
    },
    {
      "cell_type": "markdown",
      "metadata": {
        "id": "4wCjq-DQQo80"
      },
      "source": [
        "# Il est temps pour...\n",
        "\n",
        "<img src=\"https://boisestate.pressbooks.pub/app/uploads/sites/144/2022/05/2-2.png\" width=\"600px\">"
      ]
    },
    {
      "cell_type": "markdown",
      "metadata": {
        "id": "IrLwVwhTPmd_"
      },
      "source": [
        "# S'il nous reste du temps"
      ]
    },
    {
      "cell_type": "markdown",
      "metadata": {
        "id": "gZYWt7pvPodP"
      },
      "source": [
        "- parlons des f-strings\n",
        "- creusons un peu plus le terrain des listes"
      ]
    },
    {
      "cell_type": "markdown",
      "metadata": {
        "id": "1iateixaD6Qh"
      },
      "source": [
        "# Lien vers le prochain notebook\n",
        "\n",
        "➡ https://github.com/alix-tz/HNU6059/blob/main/jour_1/HNU3059_E2023_S1_Exercices.ipynb"
      ]
    }
  ],
  "metadata": {
    "colab": {
      "provenance": [],
      "toc_visible": true
    },
    "kernelspec": {
      "display_name": "Python 3",
      "name": "python3"
    },
    "language_info": {
      "name": "python"
    }
  },
  "nbformat": 4,
  "nbformat_minor": 0
}

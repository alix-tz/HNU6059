{
  "nbformat": 4,
  "nbformat_minor": 0,
  "metadata": {
    "colab": {
      "provenance": [],
      "toc_visible": true
    },
    "kernelspec": {
      "name": "python3",
      "display_name": "Python 3"
    },
    "language_info": {
      "name": "python"
    }
  },
  "cells": [
    {
      "cell_type": "markdown",
      "source": [
        "# HNU 3059 (HNU 6059) - Séance 1 - Pratique\n",
        "\n",
        "Lien vers le cours sur StudiUM: https://studium.umontreal.ca/course/view.php?id=237645\n"
      ],
      "metadata": {
        "id": "3LNTNlP3DW9E"
      }
    },
    {
      "cell_type": "markdown",
      "source": [
        "⬅ lien vers le précédent notebook: https://github.com/alix-tz/HNU6059/blob/main/jour_1/HNU3059_E2023_S1_Th%C3%A9orie.ipynb"
      ],
      "metadata": {
        "id": "JL9HPhX8DZQV"
      }
    },
    {
      "cell_type": "markdown",
      "source": [
        "# Contenu de ce notebook\n",
        "\n",
        "1. Syntaxe Python\n",
        "2. Variables\n",
        "3. Types\n",
        "4. Fonctions\n",
        "5. Listes\n",
        "6. Bonus\n",
        "\n"
      ],
      "metadata": {
        "id": "-B5m3eiPDpYO"
      }
    },
    {
      "cell_type": "markdown",
      "source": [
        "# Discutons de la vidéo de Machine Learnia\n",
        "\n",
        "Lien vers la vidéo : https://www.youtube.com/watch?v=doFpNjdmsw8\n",
        "\n",
        "- qu'en avez-vous retenu ?"
      ],
      "metadata": {
        "id": "g73i08nOdG7e"
      }
    },
    {
      "cell_type": "markdown",
      "source": [
        "# Syntaxe Python\n"
      ],
      "metadata": {
        "id": "f6-iZWDyTgYd"
      }
    },
    {
      "cell_type": "markdown",
      "source": [
        "- caractères \"réservés\"\n",
        "    - `#`\n",
        "    - `-` `+` `*` `/` `=` `'` `\"` `,` `<` `>` `:`\n",
        "- indentation (ou tabulation)\n",
        "- distinguer \"ceci\" et ceci\n",
        "- 1 ligne = 1 instruction\n",
        "- execution de haut en bas\n"
      ],
      "metadata": {
        "id": "6Mzvr4r7TpTF"
      }
    },
    {
      "cell_type": "markdown",
      "source": [
        "La [PEP 8](https://peps.python.org/pep-0008/) (*Python Enhancement Proposal*) définit des bonnes pratiques et des conventions pour assurer la lisibilité d'un code Python.\n",
        "\n",
        "➡ https://peps.python.org/pep-0008/\n",
        "\n",
        "Voir par exemple la section sur l'indentation.\n",
        "\n"
      ],
      "metadata": {
        "id": "qhrf0G2JdoTf"
      }
    },
    {
      "cell_type": "markdown",
      "source": [
        "# Opérations mathématiques et logiques"
      ],
      "metadata": {
        "id": "A2nLpTSsok-C"
      }
    },
    {
      "cell_type": "markdown",
      "source": [
        "### Opérateurs mathématiques"
      ],
      "metadata": {
        "id": "6qnfdnwgqDrw"
      }
    },
    {
      "cell_type": "markdown",
      "source": [
        "On peut faire des maths avec Python"
      ],
      "metadata": {
        "id": "4qXAfZLLoohM"
      }
    },
    {
      "cell_type": "code",
      "source": [
        "# addition\n",
        "2 + 2"
      ],
      "metadata": {
        "colab": {
          "base_uri": "https://localhost:8080/"
        },
        "id": "-Nj5IJyMor16",
        "outputId": "5f7516cc-da97-40c0-e1ed-eafda2da0462"
      },
      "execution_count": 11,
      "outputs": [
        {
          "output_type": "execute_result",
          "data": {
            "text/plain": [
              "4"
            ]
          },
          "metadata": {},
          "execution_count": 11
        }
      ]
    },
    {
      "cell_type": "code",
      "source": [
        "# soustraction\n",
        "10 - 10"
      ],
      "metadata": {
        "colab": {
          "base_uri": "https://localhost:8080/"
        },
        "id": "RMAMOhp4owfh",
        "outputId": "19c8e64a-ac48-4016-f788-3fbb71a4c960"
      },
      "execution_count": 12,
      "outputs": [
        {
          "output_type": "execute_result",
          "data": {
            "text/plain": [
              "0"
            ]
          },
          "metadata": {},
          "execution_count": 12
        }
      ]
    },
    {
      "cell_type": "code",
      "source": [
        "# multiplication\n",
        "2 * 10"
      ],
      "metadata": {
        "colab": {
          "base_uri": "https://localhost:8080/"
        },
        "id": "B0jYx2E9ozbB",
        "outputId": "240e94bb-bef8-4cbf-a88a-522ee9eb4bf4"
      },
      "execution_count": 14,
      "outputs": [
        {
          "output_type": "execute_result",
          "data": {
            "text/plain": [
              "20"
            ]
          },
          "metadata": {},
          "execution_count": 14
        }
      ]
    },
    {
      "cell_type": "code",
      "source": [
        "# division décimale\n",
        "10 / 3"
      ],
      "metadata": {
        "colab": {
          "base_uri": "https://localhost:8080/"
        },
        "id": "I556pMcMo12P",
        "outputId": "7400f1ae-0787-4012-e4e3-deba314223f9"
      },
      "execution_count": 16,
      "outputs": [
        {
          "output_type": "execute_result",
          "data": {
            "text/plain": [
              "3.3333333333333335"
            ]
          },
          "metadata": {},
          "execution_count": 16
        }
      ]
    },
    {
      "cell_type": "code",
      "source": [
        "# division entière\n",
        "10 // 3"
      ],
      "metadata": {
        "colab": {
          "base_uri": "https://localhost:8080/"
        },
        "id": "6_nvzphEo5Y_",
        "outputId": "0fd10cf6-8ef3-47f4-e427-ebb6ea27f8ff"
      },
      "execution_count": 18,
      "outputs": [
        {
          "output_type": "execute_result",
          "data": {
            "text/plain": [
              "3"
            ]
          },
          "metadata": {},
          "execution_count": 18
        }
      ]
    },
    {
      "cell_type": "code",
      "source": [
        "# reste de la division entière\n",
        "10 % 3"
      ],
      "metadata": {
        "colab": {
          "base_uri": "https://localhost:8080/"
        },
        "id": "xl6L9auUo-AV",
        "outputId": "0fa738c1-1a5d-4d47-9aca-dcc4d56096ee"
      },
      "execution_count": 19,
      "outputs": [
        {
          "output_type": "execute_result",
          "data": {
            "text/plain": [
              "1"
            ]
          },
          "metadata": {},
          "execution_count": 19
        }
      ]
    },
    {
      "cell_type": "code",
      "source": [
        "# puissance (rarement utilisé)\n",
        "10 ** 2"
      ],
      "metadata": {
        "colab": {
          "base_uri": "https://localhost:8080/"
        },
        "id": "dNgkT4tZpCEZ",
        "outputId": "40032535-d8ad-4927-b4b9-80fb6f7f70a5"
      },
      "execution_count": 21,
      "outputs": [
        {
          "output_type": "execute_result",
          "data": {
            "text/plain": [
              "100"
            ]
          },
          "metadata": {},
          "execution_count": 21
        }
      ]
    },
    {
      "cell_type": "markdown",
      "source": [
        "### Opérateurs logiques"
      ],
      "metadata": {
        "id": "LBScQCQVqBPi"
      }
    },
    {
      "cell_type": "markdown",
      "source": [
        "On a aussi des opérateurs logiques pour comparer des valeurs entre elles. La réponse est toujours \"True\" (vrai) ou \"False\" (faux)."
      ],
      "metadata": {
        "id": "NBbhDEATpWNy"
      }
    },
    {
      "cell_type": "code",
      "source": [
        "# 2 est-il plus grand que 2?\n",
        "2 > 2"
      ],
      "metadata": {
        "colab": {
          "base_uri": "https://localhost:8080/"
        },
        "id": "tXiw-n8EpcRA",
        "outputId": "0abc2bb7-bc77-4d9a-a0c5-0c103fada529"
      },
      "execution_count": 22,
      "outputs": [
        {
          "output_type": "execute_result",
          "data": {
            "text/plain": [
              "False"
            ]
          },
          "metadata": {},
          "execution_count": 22
        }
      ]
    },
    {
      "cell_type": "code",
      "source": [
        "# 4 est-il plus petit que 10?\n",
        "4 < 10"
      ],
      "metadata": {
        "colab": {
          "base_uri": "https://localhost:8080/"
        },
        "id": "q_q6ze9uphMs",
        "outputId": "62d3e3c8-62e7-44c0-873c-7464c694e4cf"
      },
      "execution_count": 23,
      "outputs": [
        {
          "output_type": "execute_result",
          "data": {
            "text/plain": [
              "True"
            ]
          },
          "metadata": {},
          "execution_count": 23
        }
      ]
    },
    {
      "cell_type": "code",
      "source": [
        "# 4 est-il plus petit ou égal à 10?\n",
        "4 <= 10"
      ],
      "metadata": {
        "colab": {
          "base_uri": "https://localhost:8080/"
        },
        "id": "IFuoEHBupu2F",
        "outputId": "89d89098-9683-4671-a6e2-b48de940ab01"
      },
      "execution_count": 26,
      "outputs": [
        {
          "output_type": "execute_result",
          "data": {
            "text/plain": [
              "True"
            ]
          },
          "metadata": {},
          "execution_count": 26
        }
      ]
    },
    {
      "cell_type": "code",
      "source": [
        "# 10 est-il égal à 11?\n",
        "10 == 11"
      ],
      "metadata": {
        "colab": {
          "base_uri": "https://localhost:8080/"
        },
        "id": "Gw4g4j7vpk6b",
        "outputId": "73f6bf04-b593-4f04-f64c-e51d8e696c45"
      },
      "execution_count": 24,
      "outputs": [
        {
          "output_type": "execute_result",
          "data": {
            "text/plain": [
              "False"
            ]
          },
          "metadata": {},
          "execution_count": 24
        }
      ]
    },
    {
      "cell_type": "code",
      "source": [
        "# 10 est-il différent de 11?\n",
        "10 != 11"
      ],
      "metadata": {
        "colab": {
          "base_uri": "https://localhost:8080/"
        },
        "id": "J2sHtOhGprCX",
        "outputId": "a5b79986-ff39-49a4-fe3c-28e71b851242"
      },
      "execution_count": 25,
      "outputs": [
        {
          "output_type": "execute_result",
          "data": {
            "text/plain": [
              "True"
            ]
          },
          "metadata": {},
          "execution_count": 25
        }
      ]
    },
    {
      "cell_type": "markdown",
      "source": [
        "Il y a d'autres opérateurs logiques, mais nous les verrons plus tard."
      ],
      "metadata": {
        "id": "1-LtKZYfp7_9"
      }
    },
    {
      "cell_type": "markdown",
      "source": [
        "# Variables"
      ],
      "metadata": {
        "id": "OCPu-fLGTjKi"
      }
    },
    {
      "cell_type": "markdown",
      "source": [
        "## Qu'est-ce qu'une variable ?"
      ],
      "metadata": {
        "id": "jewzWEuifJ8G"
      }
    },
    {
      "cell_type": "markdown",
      "source": [
        "- un emplacement de la mémoire de la machine\n",
        "- un nom pour désigner cet emplacement \n",
        "- dans l'emplacement, on stocke des valeur (du texte, des nombres, etc)\n",
        "- on a besoin des variables pour la programmation"
      ],
      "metadata": {
        "id": "fQmsv87ThWfC"
      }
    },
    {
      "cell_type": "code",
      "source": [
        "# sans variable\n",
        "print(1 + 1)\n",
        "\n",
        "# avec variable\n",
        "contenant = 1\n",
        "print(contenant + contenant)"
      ],
      "metadata": {
        "colab": {
          "base_uri": "https://localhost:8080/"
        },
        "id": "em5AE5fHiY1l",
        "outputId": "1cf2d60e-725c-4228-b346-cbc1c624cbe7"
      },
      "execution_count": 6,
      "outputs": [
        {
          "output_type": "stream",
          "name": "stdout",
          "text": [
            "2\n",
            "2\n"
          ]
        }
      ]
    },
    {
      "cell_type": "markdown",
      "source": [
        "Dans le bloc ci-dessus, le résultat est le même (affichage du nombre 2), mais avec des variables, on réutiliser la valeur pour autre chose."
      ],
      "metadata": {
        "id": "AbFPQdkYiii-"
      }
    },
    {
      "cell_type": "code",
      "source": [
        "contenant = 1\n",
        "print(contenant + contenant)\n",
        "\n",
        "contenant = contenant + contenant\n",
        "print(contenant)"
      ],
      "metadata": {
        "colab": {
          "base_uri": "https://localhost:8080/"
        },
        "id": "PWQ9n_aRiw50",
        "outputId": "972ae32c-64d8-4c89-e3b9-882bb6e3aee3"
      },
      "execution_count": 7,
      "outputs": [
        {
          "output_type": "stream",
          "name": "stdout",
          "text": [
            "2\n",
            "2\n"
          ]
        }
      ]
    },
    {
      "cell_type": "markdown",
      "source": [
        "## Définition d'une variable et assignation d'une valeur"
      ],
      "metadata": {
        "id": "ZjmpjA2XgmIV"
      }
    },
    {
      "cell_type": "markdown",
      "source": [
        "- On utilise `=` (un seul symbole égal) pour enregistrer une valeur dans une variable\n",
        "\n",
        "- Chaque fois qu'on enregistre une valeur dans une variable, on écrase la valeur qu'elle contenait précédemment\n",
        "\n",
        "- On ne peut pas avoir 2 variables portant le même nom\n",
        "\n",
        "- Par contre les noms de variables sont sensibles à la casse (`ma_variable` n'est pas la même variable que `Ma_variable`)"
      ],
      "metadata": {
        "id": "abjBTS4ng7Rv"
      }
    },
    {
      "cell_type": "code",
      "source": [
        "ma_variable_de_demo = 1\n",
        "print(ma_variable_de_demo)\n",
        "\n",
        "ma_variable_de_demo = 2\n",
        "print(ma_variable_de_demo)\n",
        "\n",
        "ma_variable_de_demo = ma_variable_de_demo + ma_variable_de_demo\n",
        "print(ma_variable_de_demo)\n",
        "\n",
        "ma_variable_de_demo = ma_variable_de_demo + ma_variable_de_demo\n",
        "print(ma_variable_de_demo)"
      ],
      "metadata": {
        "colab": {
          "base_uri": "https://localhost:8080/"
        },
        "id": "_kmiYhKpglbC",
        "outputId": "8b169aa2-3c07-4a64-d103-79e310d121d4"
      },
      "execution_count": 27,
      "outputs": [
        {
          "output_type": "stream",
          "name": "stdout",
          "text": [
            "1\n",
            "2\n",
            "4\n",
            "8\n"
          ]
        }
      ]
    },
    {
      "cell_type": "markdown",
      "source": [
        "## Convention de nommage des variables"
      ],
      "metadata": {
        "id": "KezfsLjAfNpg"
      }
    },
    {
      "cell_type": "markdown",
      "source": [
        "### Causes de bugs"
      ],
      "metadata": {
        "id": "M7EEcOWIlHzY"
      }
    },
    {
      "cell_type": "markdown",
      "source": [
        "- pas de mot-clef réservé\n",
        "- ne doit pas commencer ou contenir un caractère réservé\n",
        "- ne doit pas commencer par un chiffre\n",
        "\n"
      ],
      "metadata": {
        "id": "G_-xQYnofPwo"
      }
    },
    {
      "cell_type": "code",
      "source": [
        "# pour voir la liste des mots-clefs réservés:\n",
        "help(\"keywords\")"
      ],
      "metadata": {
        "colab": {
          "base_uri": "https://localhost:8080/"
        },
        "id": "Qhc2Rm2xgdV0",
        "outputId": "5e806e9c-0e5e-4580-8c31-2ce0eff0c2d9"
      },
      "execution_count": 1,
      "outputs": [
        {
          "output_type": "stream",
          "name": "stdout",
          "text": [
            "\n",
            "Here is a list of the Python keywords.  Enter any keyword to get more help.\n",
            "\n",
            "False               class               from                or\n",
            "None                continue            global              pass\n",
            "True                def                 if                  raise\n",
            "and                 del                 import              return\n",
            "as                  elif                in                  try\n",
            "assert              else                is                  while\n",
            "async               except              lambda              with\n",
            "await               finally             nonlocal            yield\n",
            "break               for                 not                 \n",
            "\n"
          ]
        }
      ]
    },
    {
      "cell_type": "code",
      "source": [
        "# essayons de créer une variable qui commence par un chiffre\n",
        "1_variable = 2023"
      ],
      "metadata": {
        "colab": {
          "base_uri": "https://localhost:8080/",
          "height": 131
        },
        "id": "NDu4vv3jjyID",
        "outputId": "0db6b2ad-050d-44fe-828a-2faa1fd0e1b4"
      },
      "execution_count": 9,
      "outputs": [
        {
          "output_type": "error",
          "ename": "SyntaxError",
          "evalue": "ignored",
          "traceback": [
            "\u001b[0;36m  File \u001b[0;32m\"<ipython-input-9-3975993f3845>\"\u001b[0;36m, line \u001b[0;32m2\u001b[0m\n\u001b[0;31m    1_variable = 2023\u001b[0m\n\u001b[0m     ^\u001b[0m\n\u001b[0;31mSyntaxError\u001b[0m\u001b[0;31m:\u001b[0m invalid decimal literal\n"
          ]
        }
      ]
    },
    {
      "cell_type": "code",
      "source": [
        "# essayons de créer une variable qui commence par un caractère réservé\n",
        "+_de_variables = 2023"
      ],
      "metadata": {
        "colab": {
          "base_uri": "https://localhost:8080/",
          "height": 131
        },
        "id": "FnZbaGGJkGgC",
        "outputId": "2ed2af85-143c-4d99-a577-eddbe4604456"
      },
      "execution_count": 10,
      "outputs": [
        {
          "output_type": "error",
          "ename": "SyntaxError",
          "evalue": "ignored",
          "traceback": [
            "\u001b[0;36m  File \u001b[0;32m\"<ipython-input-10-5baef16185d4>\"\u001b[0;36m, line \u001b[0;32m3\u001b[0m\n\u001b[0;31m    +_de_variables = 2023\u001b[0m\n\u001b[0m    ^\u001b[0m\n\u001b[0;31mSyntaxError\u001b[0m\u001b[0;31m:\u001b[0m cannot assign to expression here. Maybe you meant '==' instead of '='?\n"
          ]
        }
      ]
    },
    {
      "cell_type": "code",
      "source": [
        "# essayons de créer une variable nommé d'après un mot-clef\n",
        "lambda = 2023"
      ],
      "metadata": {
        "colab": {
          "base_uri": "https://localhost:8080/",
          "height": 131
        },
        "id": "k8Ssu_yokMWd",
        "outputId": "6064b7a1-3db9-46db-e7e3-8043ddd02a05"
      },
      "execution_count": 16,
      "outputs": [
        {
          "output_type": "error",
          "ename": "SyntaxError",
          "evalue": "ignored",
          "traceback": [
            "\u001b[0;36m  File \u001b[0;32m\"<ipython-input-16-213c9d784946>\"\u001b[0;36m, line \u001b[0;32m2\u001b[0m\n\u001b[0;31m    lambda = 2023\u001b[0m\n\u001b[0m           ^\u001b[0m\n\u001b[0;31mSyntaxError\u001b[0m\u001b[0;31m:\u001b[0m invalid syntax\n"
          ]
        }
      ]
    },
    {
      "cell_type": "markdown",
      "source": [
        "⚠ Attention! Tous les mots-clefs ne sont pas \"protégés\" par un message d'erreur !\n",
        "\n",
        "```python\n",
        "# on peut parfaitement poser comme instruction ceci\n",
        "print = 2023\n",
        "\n",
        "# mais si on fait ça, on ne peut plus utiliser l'instruction print() pour afficher le contenu d'une variable...\n",
        "```"
      ],
      "metadata": {
        "id": "U2fcVFgjkgx1"
      }
    },
    {
      "cell_type": "markdown",
      "source": [
        "### Bonnes pratiques"
      ],
      "metadata": {
        "id": "XnGqOg9HlNsG"
      }
    },
    {
      "cell_type": "markdown",
      "source": [
        "\n",
        "- un nom de variable explicit (pas `a` mais `mes_mots_clefs`)\n",
        "- éviter les caractères ambigus (`ma_variable_1` sont proches visuellement `ma_variable_l`)\n",
        "- un nom qui décrit le contenu de la variable (pas `variable_1` mais `mon_prenom`)\n",
        "\n",
        "Voyons ce qu'en dit la [PEP 8](https://peps.python.org/pep-0008/)!"
      ],
      "metadata": {
        "id": "IDbkTqiTjs8G"
      }
    },
    {
      "cell_type": "markdown",
      "source": [
        "# Types"
      ],
      "metadata": {
        "id": "CsS_kGw3TkDt"
      }
    },
    {
      "cell_type": "markdown",
      "source": [
        "- entier (int / integer): `42`\n",
        "- décimal (float): `42.0`\n",
        "- chaîne de caractères (str / string): `\"42\"`\n",
        "- booléen (bool / boolean): `True`/`False`\n",
        "- liste de valeurs (list): `[1,2,3]`\n",
        "\n",
        "Il existe d'autres types de valeur en Python, mais contentons-nous de ceux-là pour le moment."
      ],
      "metadata": {
        "id": "K9WalXXElTRe"
      }
    },
    {
      "cell_type": "markdown",
      "source": [
        "## Type()"
      ],
      "metadata": {
        "id": "4thEMnnmmzLO"
      }
    },
    {
      "cell_type": "markdown",
      "source": [
        "On peut utiliser `type()` pour connaître le type d'une valeur ou d'une variable."
      ],
      "metadata": {
        "id": "ZOxva9Eams3p"
      }
    },
    {
      "cell_type": "code",
      "source": [
        "type(2023)"
      ],
      "metadata": {
        "colab": {
          "base_uri": "https://localhost:8080/"
        },
        "id": "a5WAdQ5tl1Mu",
        "outputId": "3605524f-1d13-4762-8ead-d4deb5b6a086"
      },
      "execution_count": 1,
      "outputs": [
        {
          "output_type": "execute_result",
          "data": {
            "text/plain": [
              "int"
            ]
          },
          "metadata": {},
          "execution_count": 1
        }
      ]
    },
    {
      "cell_type": "code",
      "source": [
        "année = 2023\n",
        "type(année)"
      ],
      "metadata": {
        "colab": {
          "base_uri": "https://localhost:8080/"
        },
        "id": "DPYcsbsCl4AG",
        "outputId": "0cddb702-1169-4eda-f0c3-92ac0413a83c"
      },
      "execution_count": 2,
      "outputs": [
        {
          "output_type": "execute_result",
          "data": {
            "text/plain": [
              "int"
            ]
          },
          "metadata": {},
          "execution_count": 2
        }
      ]
    },
    {
      "cell_type": "code",
      "source": [
        "print(type(42),\n",
        "      type(42.0),\n",
        "      type(\"42\"),\n",
        "      type(True),\n",
        "      type([1,2,3]),\n",
        "      sep=\"\\n\")"
      ],
      "metadata": {
        "colab": {
          "base_uri": "https://localhost:8080/"
        },
        "id": "dls2SGGml8WU",
        "outputId": "0a0b6e08-8006-4fc0-9fbf-5a30297deb76"
      },
      "execution_count": 4,
      "outputs": [
        {
          "output_type": "stream",
          "name": "stdout",
          "text": [
            "<class 'int'>\n",
            "<class 'float'>\n",
            "<class 'str'>\n",
            "<class 'bool'>\n",
            "<class 'list'>\n"
          ]
        }
      ]
    },
    {
      "cell_type": "markdown",
      "source": [
        "## Conversions"
      ],
      "metadata": {
        "id": "dGRlZ9Dnm3QH"
      }
    },
    {
      "cell_type": "markdown",
      "source": [
        "On peut convertir certaines valeur d'un type à un autre à l'aide des fonctions suivantes: \n",
        "- `int()`\n",
        "- `float()`\n",
        "- `str()`\n",
        "- `bool()`\n",
        "- `list()`\n",
        "\n",
        "Mais attention, toutes les conversions ne fonctionnent pas!"
      ],
      "metadata": {
        "id": "u8FSqq69m78p"
      }
    },
    {
      "cell_type": "markdown",
      "source": [
        "On utilise souvent `int()` ou `float()` sur une chaîne de caractère pour pouvoir faire des opérations mathématiques."
      ],
      "metadata": {
        "id": "ok1vAsLQnYmS"
      }
    },
    {
      "cell_type": "code",
      "source": [
        "valeur_x = \"10\"\n",
        "valeur_y = \"3.2\"\n",
        "\n",
        "\n",
        "# si on additionne deux chaîne de caractères, on ne fait que les coller l'une à la suite de l'autre\n",
        "print(valeur_x + valeur_y)"
      ],
      "metadata": {
        "colab": {
          "base_uri": "https://localhost:8080/"
        },
        "id": "zPW8wzgZnRe8",
        "outputId": "d84ff73d-7544-41d7-8711-200f5f5f843b"
      },
      "execution_count": 5,
      "outputs": [
        {
          "output_type": "stream",
          "name": "stdout",
          "text": [
            "103.2\n"
          ]
        }
      ]
    },
    {
      "cell_type": "code",
      "source": [
        "# on change valeur_x en entier et valeur_y en décimal pour pouvoir les additionner\n",
        "print(int(valeur_x) + float(valeur_y))"
      ],
      "metadata": {
        "colab": {
          "base_uri": "https://localhost:8080/"
        },
        "id": "no2cgqTCnlJD",
        "outputId": "8c5a8967-238a-4cf8-d4a7-dc6574a879bd"
      },
      "execution_count": 6,
      "outputs": [
        {
          "output_type": "stream",
          "name": "stdout",
          "text": [
            "13.2\n"
          ]
        }
      ]
    },
    {
      "cell_type": "markdown",
      "source": [
        "On peut aussi transformer une chaîne de caractères en une liste."
      ],
      "metadata": {
        "id": "8rpZSMOrn9mH"
      }
    },
    {
      "cell_type": "code",
      "source": [
        "mon_prenom = \"Jean\"\n",
        "print(mon_prenom)\n",
        "print(list(mon_prenom))"
      ],
      "metadata": {
        "colab": {
          "base_uri": "https://localhost:8080/"
        },
        "id": "UZhYDMKsnxWl",
        "outputId": "4a625a91-3407-4bb1-d023-f4b197bb7819"
      },
      "execution_count": 7,
      "outputs": [
        {
          "output_type": "stream",
          "name": "stdout",
          "text": [
            "Jean\n",
            "['J', 'e', 'a', 'n']\n"
          ]
        }
      ]
    },
    {
      "cell_type": "markdown",
      "source": [
        "Certaines conversions sont impossibles (le plus souvent parce qu'elles sont illogiques)."
      ],
      "metadata": {
        "id": "D5uf9jEToLK8"
      }
    },
    {
      "cell_type": "code",
      "source": [
        "print(list(42))"
      ],
      "metadata": {
        "colab": {
          "base_uri": "https://localhost:8080/",
          "height": 166
        },
        "id": "KCeMsDOdoPax",
        "outputId": "0f0c8b03-2842-4797-d9b8-375ddf38769a"
      },
      "execution_count": 8,
      "outputs": [
        {
          "output_type": "error",
          "ename": "TypeError",
          "evalue": "ignored",
          "traceback": [
            "\u001b[0;31m---------------------------------------------------------------------------\u001b[0m",
            "\u001b[0;31mTypeError\u001b[0m                                 Traceback (most recent call last)",
            "\u001b[0;32m<ipython-input-8-3ce7fdf121b8>\u001b[0m in \u001b[0;36m<cell line: 1>\u001b[0;34m()\u001b[0m\n\u001b[0;32m----> 1\u001b[0;31m \u001b[0mprint\u001b[0m\u001b[0;34m(\u001b[0m\u001b[0mlist\u001b[0m\u001b[0;34m(\u001b[0m\u001b[0;36m42\u001b[0m\u001b[0;34m)\u001b[0m\u001b[0;34m)\u001b[0m\u001b[0;34m\u001b[0m\u001b[0;34m\u001b[0m\u001b[0m\n\u001b[0m",
            "\u001b[0;31mTypeError\u001b[0m: 'int' object is not iterable"
          ]
        }
      ]
    },
    {
      "cell_type": "code",
      "source": [
        "print(int(\"Jean\"))"
      ],
      "metadata": {
        "colab": {
          "base_uri": "https://localhost:8080/",
          "height": 166
        },
        "id": "hiLCIRj1oTcK",
        "outputId": "9f371a7d-acaf-474f-f81a-b99ea8b4de3e"
      },
      "execution_count": 9,
      "outputs": [
        {
          "output_type": "error",
          "ename": "ValueError",
          "evalue": "ignored",
          "traceback": [
            "\u001b[0;31m---------------------------------------------------------------------------\u001b[0m",
            "\u001b[0;31mValueError\u001b[0m                                Traceback (most recent call last)",
            "\u001b[0;32m<ipython-input-9-dc055c36fab6>\u001b[0m in \u001b[0;36m<cell line: 1>\u001b[0;34m()\u001b[0m\n\u001b[0;32m----> 1\u001b[0;31m \u001b[0mprint\u001b[0m\u001b[0;34m(\u001b[0m\u001b[0mint\u001b[0m\u001b[0;34m(\u001b[0m\u001b[0;34m\"Jean\"\u001b[0m\u001b[0;34m)\u001b[0m\u001b[0;34m)\u001b[0m\u001b[0;34m\u001b[0m\u001b[0;34m\u001b[0m\u001b[0m\n\u001b[0m",
            "\u001b[0;31mValueError\u001b[0m: invalid literal for int() with base 10: 'Jean'"
          ]
        }
      ]
    },
    {
      "cell_type": "code",
      "source": [
        "print(float([2,3,4]))"
      ],
      "metadata": {
        "colab": {
          "base_uri": "https://localhost:8080/",
          "height": 166
        },
        "id": "vKkO6nUSoWxa",
        "outputId": "216bed3b-af19-483a-826f-b88eac51e12b"
      },
      "execution_count": 10,
      "outputs": [
        {
          "output_type": "error",
          "ename": "TypeError",
          "evalue": "ignored",
          "traceback": [
            "\u001b[0;31m---------------------------------------------------------------------------\u001b[0m",
            "\u001b[0;31mTypeError\u001b[0m                                 Traceback (most recent call last)",
            "\u001b[0;32m<ipython-input-10-a2a88f50e512>\u001b[0m in \u001b[0;36m<cell line: 1>\u001b[0;34m()\u001b[0m\n\u001b[0;32m----> 1\u001b[0;31m \u001b[0mprint\u001b[0m\u001b[0;34m(\u001b[0m\u001b[0mfloat\u001b[0m\u001b[0;34m(\u001b[0m\u001b[0;34m[\u001b[0m\u001b[0;36m2\u001b[0m\u001b[0;34m,\u001b[0m\u001b[0;36m3\u001b[0m\u001b[0;34m,\u001b[0m\u001b[0;36m4\u001b[0m\u001b[0;34m]\u001b[0m\u001b[0;34m)\u001b[0m\u001b[0;34m)\u001b[0m\u001b[0;34m\u001b[0m\u001b[0;34m\u001b[0m\u001b[0m\n\u001b[0m",
            "\u001b[0;31mTypeError\u001b[0m: float() argument must be a string or a real number, not 'list'"
          ]
        }
      ]
    },
    {
      "cell_type": "markdown",
      "source": [
        "# Il est temps pour...\n",
        "\n",
        "<img src=\"https://boisestate.pressbooks.pub/app/uploads/sites/144/2022/05/2-2.png\" width=\"600px\">"
      ],
      "metadata": {
        "id": "vJUOtLvxQOJE"
      }
    },
    {
      "cell_type": "markdown",
      "source": [
        "# Fonctions"
      ],
      "metadata": {
        "id": "iiRS8WzNTmlE"
      }
    },
    {
      "cell_type": "markdown",
      "source": [
        "- permet de réaliser une action (transformer une valeur, créer une nouvelle valeur, faire quelque chose avec cette valeur, etc)\n",
        "- est appelée grâce à son nom\n",
        "- peut \"prendre un argument\", c'est-à-dire qu'elle va ingérer une ou des valeurs pour produire un résultat\n",
        "- peut être \"built-in\" ou définie explicitement"
      ],
      "metadata": {
        "id": "PPe6BOncqdJz"
      }
    },
    {
      "cell_type": "markdown",
      "source": [
        "### Fonctions built-in"
      ],
      "metadata": {
        "id": "2bwkPKLesOES"
      }
    },
    {
      "cell_type": "markdown",
      "source": [
        "Jusqu'ici, on a utilisé plusieurs fonctions built-in:\n",
        "\n",
        "- `print()` \n",
        "    - affiche ce qui lui est passé en argument\n",
        "- `type()` \n",
        "    - renvoie le type de la valeur qui lui est passé en argument\n",
        "- `help()` \n",
        "    - renvoie une description/explication sur ce qui lui est passé en argument\n",
        "- `float()` et les fonctions de conversions \n",
        "    - convertit une valeur passée en argument en une autre"
      ],
      "metadata": {
        "id": "SMdo4vzTsQjq"
      }
    },
    {
      "cell_type": "code",
      "source": [
        "help(print)"
      ],
      "metadata": {
        "colab": {
          "base_uri": "https://localhost:8080/"
        },
        "id": "p8e0wUFQ_wMb",
        "outputId": "96feb746-2cee-4003-e89f-5cdebb2c1e51"
      },
      "execution_count": 7,
      "outputs": [
        {
          "output_type": "stream",
          "name": "stdout",
          "text": [
            "Help on built-in function print in module builtins:\n",
            "\n",
            "print(...)\n",
            "    print(value, ..., sep=' ', end='\\n', file=sys.stdout, flush=False)\n",
            "    \n",
            "    Prints the values to a stream, or to sys.stdout by default.\n",
            "    Optional keyword arguments:\n",
            "    file:  a file-like object (stream); defaults to the current sys.stdout.\n",
            "    sep:   string inserted between values, default a space.\n",
            "    end:   string appended after the last value, default a newline.\n",
            "    flush: whether to forcibly flush the stream.\n",
            "\n"
          ]
        }
      ]
    },
    {
      "cell_type": "code",
      "source": [
        "help(len)"
      ],
      "metadata": {
        "colab": {
          "base_uri": "https://localhost:8080/"
        },
        "id": "_1XXiZOo-T6Y",
        "outputId": "236f0aac-c505-426f-8e5b-4a74af760f4a"
      },
      "execution_count": 2,
      "outputs": [
        {
          "output_type": "stream",
          "name": "stdout",
          "text": [
            "Help on built-in function len in module builtins:\n",
            "\n",
            "len(obj, /)\n",
            "    Return the number of items in a container.\n",
            "\n"
          ]
        }
      ]
    },
    {
      "cell_type": "markdown",
      "source": [
        "Les fonctions built-in existent par défaut dans le programme, on n'a pas besoin de les définir nous-même."
      ],
      "metadata": {
        "id": "6RYmGSeZ-aic"
      }
    },
    {
      "cell_type": "markdown",
      "source": [
        "## Définition de fonctions"
      ],
      "metadata": {
        "id": "J3bfu03F-lQZ"
      }
    },
    {
      "cell_type": "markdown",
      "source": [
        "- permet de créer ses propres fonctions\n",
        "- évite de répéter plusieurs fois une même série d'instructions\n",
        "- aide la lisibilité d'un code en identifiant des actions\n",
        "- un bloc d'instructions\n"
      ],
      "metadata": {
        "id": "UugfFjRO-odt"
      }
    },
    {
      "cell_type": "markdown",
      "source": [
        "- `def`: mot-clef (définition)\n",
        "- `nom de la fonction`: mêmes règles que pour le nommage des variables\n",
        "- `()`: pour définir les éventuels arguments\n",
        "- `:`: pour poursuivre avec un bloc indenté\n",
        "- toutes les instructions réalisées au sein de la fonction sont identées\n",
        "- fin d'indentation : fin de la fonction"
      ],
      "metadata": {
        "id": "OSUWg383__vk"
      }
    },
    {
      "cell_type": "code",
      "source": [
        "def table_de_deux():\n",
        "    \"\"\"cette fonction affiche la table de multiplication par 2\"\"\"\n",
        "    print(1 * 2)\n",
        "    print(2 * 2)\n",
        "    print(3 * 2)\n",
        "    print(4 * 2)\n",
        "    print(5 * 2)\n",
        "    print(6 * 2)\n",
        "    print(7 * 2)\n",
        "    print(8 * 2)\n",
        "    print(9 * 2)\n",
        "    print(10 * 2)"
      ],
      "metadata": {
        "id": "QbDvNa4G-8XS"
      },
      "execution_count": 14,
      "outputs": []
    },
    {
      "cell_type": "markdown",
      "source": [
        "## Appel de fonction"
      ],
      "metadata": {
        "id": "PUfRVdZfAyLH"
      }
    },
    {
      "cell_type": "markdown",
      "source": [
        "- la fonction doit exister\n",
        "- les parenthèses sont importantes"
      ],
      "metadata": {
        "id": "mGd9aOl4A0Sb"
      }
    },
    {
      "cell_type": "code",
      "source": [
        "table_de_deux()"
      ],
      "metadata": {
        "colab": {
          "base_uri": "https://localhost:8080/"
        },
        "id": "dZ_fVkA1A7VC",
        "outputId": "c6b3f9f9-e9e0-4aaf-eeac-1a7fb8bea391"
      },
      "execution_count": 9,
      "outputs": [
        {
          "output_type": "stream",
          "name": "stdout",
          "text": [
            "2\n",
            "4\n",
            "6\n",
            "8\n",
            "10\n",
            "12\n",
            "14\n",
            "16\n",
            "18\n",
            "20\n"
          ]
        }
      ]
    },
    {
      "cell_type": "code",
      "source": [
        "help(multiplie_par_deux)"
      ],
      "metadata": {
        "colab": {
          "base_uri": "https://localhost:8080/"
        },
        "id": "u11mzyWzCniw",
        "outputId": "ed6b7166-5ef0-4f9b-9401-4b3817ffc5b5"
      },
      "execution_count": 15,
      "outputs": [
        {
          "output_type": "stream",
          "name": "stdout",
          "text": [
            "Help on function multiplie_par_deux in module __main__:\n",
            "\n",
            "multiplie_par_deux(nombre)\n",
            "\n"
          ]
        }
      ]
    },
    {
      "cell_type": "markdown",
      "source": [
        "## Arguments (ou paramètres)"
      ],
      "metadata": {
        "id": "OpJfVgFNA_0K"
      }
    },
    {
      "cell_type": "markdown",
      "source": [
        "Pour rendre les fonctions utiles, on a besoin qu'elles prennent en charge des variables.\n",
        "\n",
        "- les sous-variables pour la fonction\n",
        "- peuvent avoir des valeurs par défaut"
      ],
      "metadata": {
        "id": "zFzTBw68BCMo"
      }
    },
    {
      "cell_type": "code",
      "source": [
        "# la fonction \"help()\" prend comme argument \"print\"\n",
        "help(print)"
      ],
      "metadata": {
        "colab": {
          "base_uri": "https://localhost:8080/"
        },
        "id": "t0j8XjOTBkE8",
        "outputId": "5d82d8cf-b9c2-4eac-c45d-84289cfa1762"
      },
      "execution_count": 11,
      "outputs": [
        {
          "output_type": "stream",
          "name": "stdout",
          "text": [
            "Help on built-in function print in module builtins:\n",
            "\n",
            "print(...)\n",
            "    print(value, ..., sep=' ', end='\\n', file=sys.stdout, flush=False)\n",
            "    \n",
            "    Prints the values to a stream, or to sys.stdout by default.\n",
            "    Optional keyword arguments:\n",
            "    file:  a file-like object (stream); defaults to the current sys.stdout.\n",
            "    sep:   string inserted between values, default a space.\n",
            "    end:   string appended after the last value, default a newline.\n",
            "    flush: whether to forcibly flush the stream.\n",
            "\n"
          ]
        }
      ]
    },
    {
      "cell_type": "code",
      "source": [
        "# la fonction print prend plusieurs arguments\n",
        "# certains ont des valeurs par défaut, comme 'sep', que l'on peut modifier\n",
        "print(\"agument\", sep=\"\\n\")"
      ],
      "metadata": {
        "colab": {
          "base_uri": "https://localhost:8080/"
        },
        "id": "xxFTHK9QA_Y_",
        "outputId": "bf0ad738-5548-45d2-b39d-d23c9844b04a"
      },
      "execution_count": 10,
      "outputs": [
        {
          "output_type": "stream",
          "name": "stdout",
          "text": [
            "ceci est un argument\n"
          ]
        }
      ]
    },
    {
      "cell_type": "markdown",
      "source": [
        "Préciser les arguments d'une fonction se fait entre les `()` au moment de sa définition."
      ],
      "metadata": {
        "id": "TInHTR-qBuHS"
      }
    },
    {
      "cell_type": "code",
      "source": [
        "def multiplie_par_deux(nombre):\n",
        "    \"\"\"cette fonction multiplie un nombre par deux et affiche le résultat\"\"\"\n",
        "    print(nombre * 2)"
      ],
      "metadata": {
        "id": "VYHS2wX2Btjc"
      },
      "execution_count": 12,
      "outputs": []
    },
    {
      "cell_type": "markdown",
      "source": [
        "On peut maintenant faire varier le résultat de la fonction, en fonction de la valeur qu'on lui donne en entrée !"
      ],
      "metadata": {
        "id": "cbi6W-YoCHcK"
      }
    },
    {
      "cell_type": "code",
      "source": [
        "# amuez-vous à changer la valeur passée à la fonction multiplie_par_deux()\n",
        "multiplie_par_deux(3)"
      ],
      "metadata": {
        "colab": {
          "base_uri": "https://localhost:8080/"
        },
        "id": "0akYgaVdB7Q0",
        "outputId": "bdfb2b58-21de-415c-cd98-d828fd8fdc74"
      },
      "execution_count": 13,
      "outputs": [
        {
          "output_type": "stream",
          "name": "stdout",
          "text": [
            "6\n"
          ]
        }
      ]
    },
    {
      "cell_type": "markdown",
      "source": [
        "Les valeurs \"par défaut\" sont aussi définies au moment de la définition de la fonction"
      ],
      "metadata": {
        "id": "tDmMZCibCRE8"
      }
    },
    {
      "cell_type": "code",
      "source": [
        "def multiplie(nombre, multiplicateur=2):\n",
        "    \"\"\"cette fonction multiplie un nombre par un autre nombre (multiplicateur), par défaut fixé à 2\"\"\"\n",
        "    print(nombre * multiplicateur)"
      ],
      "metadata": {
        "id": "PRuPrVHFCExD"
      },
      "execution_count": 16,
      "outputs": []
    },
    {
      "cell_type": "code",
      "source": [
        "multiplie(3)"
      ],
      "metadata": {
        "colab": {
          "base_uri": "https://localhost:8080/"
        },
        "id": "8VUZCapcC3GJ",
        "outputId": "1d7adb5e-7eae-4aa1-d4a0-b010451c4df3"
      },
      "execution_count": 19,
      "outputs": [
        {
          "output_type": "stream",
          "name": "stdout",
          "text": [
            "6\n"
          ]
        }
      ]
    },
    {
      "cell_type": "code",
      "source": [
        "multiplie(3, multiplicateur=3)"
      ],
      "metadata": {
        "colab": {
          "base_uri": "https://localhost:8080/"
        },
        "id": "nzBO-8W6C5zL",
        "outputId": "82d38628-bbd3-411a-9dc2-3fd0577bb6a0"
      },
      "execution_count": 20,
      "outputs": [
        {
          "output_type": "stream",
          "name": "stdout",
          "text": [
            "9\n"
          ]
        }
      ]
    },
    {
      "cell_type": "markdown",
      "source": [
        "## Renvoyer une valeur"
      ],
      "metadata": {
        "id": "5TvRkOpjDCeS"
      }
    },
    {
      "cell_type": "markdown",
      "source": [
        "- transformation d'une valeur par la fonction\n",
        "- `return`"
      ],
      "metadata": {
        "id": "nSQsZepNDGaN"
      }
    },
    {
      "cell_type": "code",
      "source": [
        "def soustrait(nombre_de_base, valeur_soustraite):\n",
        "    \"\"\"Soustrait une valeur à un nombre de base\"\"\"\n",
        "    resultat = nombre_de_base - valeur_soustraite\n",
        "\n",
        "# rien de visible ne se passe\n",
        "soustrait(1, 4)\n",
        "\n",
        "# par défaut, en Python, un fonction ne renvoit rien (None)\n",
        "print(soustrait(1, 4))"
      ],
      "metadata": {
        "colab": {
          "base_uri": "https://localhost:8080/"
        },
        "id": "gHkSfCBnDVAc",
        "outputId": "f4c081af-b5f7-4c1f-969b-530a982967f1"
      },
      "execution_count": 25,
      "outputs": [
        {
          "output_type": "stream",
          "name": "stdout",
          "text": [
            "None\n"
          ]
        }
      ]
    },
    {
      "cell_type": "code",
      "source": [
        "def soustrait(nombre_de_base, valeur_soustraite):\n",
        "    \"\"\"Soustrait une valeur à un nombre de base\"\"\"\n",
        "    resultat = nombre_de_base - valeur_soustraite\n",
        "    return resultat\n",
        "\n",
        "# rien de visible ne se passe\n",
        "soustrait(1, 4)\n",
        "\n",
        "# mais cette fois-ci, la fonction renvoie le contenu de resultat\n",
        "print(soustrait(1, 4))"
      ],
      "metadata": {
        "colab": {
          "base_uri": "https://localhost:8080/"
        },
        "id": "knGVIZxFEJrS",
        "outputId": "137886f4-d1ff-44eb-9925-63310fb0aeb9"
      },
      "execution_count": 26,
      "outputs": [
        {
          "output_type": "stream",
          "name": "stdout",
          "text": [
            "-3\n"
          ]
        }
      ]
    },
    {
      "cell_type": "code",
      "source": [
        "def soustrait(nombre_de_base, valeur_soustraite):\n",
        "    \"\"\"Soustrait une valeur à un nombre de base\"\"\"\n",
        "    resultat = nombre_de_base - valeur_soustraite\n",
        "    return resultat\n",
        "\n",
        "un_nombre = 13\n",
        "\n",
        "# on peut récupérer la valeur dans une nouvelle variable\n",
        "un_nombre_transformé = soustrait(un_nombre, 21)\n",
        "\n",
        "# mais cette fois-ci, la fonction renvoie le contenu de resultat\n",
        "print(un_nombre_transformé)"
      ],
      "metadata": {
        "colab": {
          "base_uri": "https://localhost:8080/"
        },
        "id": "Hjou-ao5EVQJ",
        "outputId": "576510ca-e769-44b7-8c89-87bd83f0617a"
      },
      "execution_count": 28,
      "outputs": [
        {
          "output_type": "stream",
          "name": "stdout",
          "text": [
            "-8\n"
          ]
        }
      ]
    },
    {
      "cell_type": "code",
      "source": [
        "multiplie_par_deux(un_nombre_transformé)"
      ],
      "metadata": {
        "colab": {
          "base_uri": "https://localhost:8080/"
        },
        "id": "AvkPTpN9EtbQ",
        "outputId": "3b6f026f-4647-42ed-8032-86c7d4f01dab"
      },
      "execution_count": 29,
      "outputs": [
        {
          "output_type": "stream",
          "name": "stdout",
          "text": [
            "-16\n"
          ]
        }
      ]
    },
    {
      "cell_type": "markdown",
      "source": [
        "Grâce aux variables et aux fonctions, on sort de la programmation \"calculette\" pour entrer dans la programmation en template. "
      ],
      "metadata": {
        "id": "bPh1dOboE_mP"
      }
    },
    {
      "cell_type": "markdown",
      "source": [
        "# Il est temps pour...\n",
        "\n",
        "<img src=\"https://boisestate.pressbooks.pub/app/uploads/sites/144/2022/05/2-2.png\" width=\"600px\">"
      ],
      "metadata": {
        "id": "3wYgNGpxQdSd"
      }
    },
    {
      "cell_type": "markdown",
      "source": [
        "# Les listes"
      ],
      "metadata": {
        "id": "UrCc3dBfGPCo"
      }
    },
    {
      "cell_type": "markdown",
      "source": [
        "## Construction des listes"
      ],
      "metadata": {
        "id": "IBLGKY7aHtAH"
      }
    },
    {
      "cell_type": "markdown",
      "source": [
        "- ensemble de valeurs\n",
        "- indexé\n",
        "- multi-type"
      ],
      "metadata": {
        "id": "dNyYNnfBGRLU"
      }
    },
    {
      "cell_type": "code",
      "source": [
        "# une liste vide\n",
        "[]"
      ],
      "metadata": {
        "colab": {
          "base_uri": "https://localhost:8080/"
        },
        "id": "ySMulUx9OyKX",
        "outputId": "ad400455-43ad-4379-86b6-1eccd2f01899"
      },
      "execution_count": 49,
      "outputs": [
        {
          "output_type": "execute_result",
          "data": {
            "text/plain": [
              "[]"
            ]
          },
          "metadata": {},
          "execution_count": 49
        }
      ]
    },
    {
      "cell_type": "code",
      "source": [
        "# une liste de lettres\n",
        "[\"A\", \"B\", \"C\", \"D\"]"
      ],
      "metadata": {
        "colab": {
          "base_uri": "https://localhost:8080/"
        },
        "id": "xwDqUFekN6w5",
        "outputId": "b5ba19f2-747e-408f-a06b-53be52f9312b"
      },
      "execution_count": 41,
      "outputs": [
        {
          "output_type": "execute_result",
          "data": {
            "text/plain": [
              "['A', 'B', 'C', 'D']"
            ]
          },
          "metadata": {},
          "execution_count": 41
        }
      ]
    },
    {
      "cell_type": "code",
      "source": [
        "# une liste de nomres\n",
        "[1, 2, 3, 4, 5]"
      ],
      "metadata": {
        "colab": {
          "base_uri": "https://localhost:8080/"
        },
        "id": "gCbzRSskN-Iy",
        "outputId": "be94779f-80e4-4ce5-901d-e5ad194ca8bf"
      },
      "execution_count": 42,
      "outputs": [
        {
          "output_type": "execute_result",
          "data": {
            "text/plain": [
              "[1, 2, 3, 4, 5]"
            ]
          },
          "metadata": {},
          "execution_count": 42
        }
      ]
    },
    {
      "cell_type": "code",
      "source": [
        "# une liste de floats\n",
        "[3.14, 2.2, 150.0]"
      ],
      "metadata": {
        "colab": {
          "base_uri": "https://localhost:8080/"
        },
        "id": "SXHC90jPOHKs",
        "outputId": "ff920b65-8c52-4cfa-c164-445e99ae28f8"
      },
      "execution_count": 44,
      "outputs": [
        {
          "output_type": "execute_result",
          "data": {
            "text/plain": [
              "[3.14, 2.2, 150.0]"
            ]
          },
          "metadata": {},
          "execution_count": 44
        }
      ]
    },
    {
      "cell_type": "code",
      "source": [
        "# une liste de booléens\n",
        "[True, False, True]"
      ],
      "metadata": {
        "colab": {
          "base_uri": "https://localhost:8080/"
        },
        "id": "vVlY8sPjOCp7",
        "outputId": "067c091f-0fb5-476c-d454-941f94c51fad"
      },
      "execution_count": 43,
      "outputs": [
        {
          "output_type": "execute_result",
          "data": {
            "text/plain": [
              "[True, False, True]"
            ]
          },
          "metadata": {},
          "execution_count": 43
        }
      ]
    },
    {
      "cell_type": "code",
      "source": [
        "# une liste de valeur de différents types\n",
        "encore_un_autre_type = type(3)\n",
        "\n",
        "[True, 2023, \"hello\", 4.5, encore_un_autre_type]"
      ],
      "metadata": {
        "colab": {
          "base_uri": "https://localhost:8080/"
        },
        "id": "_hjv2S_COMRA",
        "outputId": "ce0dbc91-ec0d-4494-cc28-79a834cb0558"
      },
      "execution_count": 47,
      "outputs": [
        {
          "output_type": "execute_result",
          "data": {
            "text/plain": [
              "[True, 2023, 'hello', 4.5, int]"
            ]
          },
          "metadata": {},
          "execution_count": 47
        }
      ]
    },
    {
      "cell_type": "code",
      "source": [
        "# une liste de liste\n",
        "\n",
        "[[3.14, 2.2], [True, 2023], [3, 4, 5]]"
      ],
      "metadata": {
        "colab": {
          "base_uri": "https://localhost:8080/"
        },
        "id": "3PDJ-SGAGQmF",
        "outputId": "0eeb56e9-2fb5-44f2-a15e-b665cf7f6cc8"
      },
      "execution_count": 48,
      "outputs": [
        {
          "output_type": "execute_result",
          "data": {
            "text/plain": [
              "[[3.14, 2.2], [True, 2023], [3, 4, 5]]"
            ]
          },
          "metadata": {},
          "execution_count": 48
        }
      ]
    },
    {
      "cell_type": "markdown",
      "source": [
        "On vera d'autres types d'objets plus adaptés, mais ça permet par exemple de rassembler des informations qui vont ensemble"
      ],
      "metadata": {
        "id": "eQfKPhfyMTJR"
      }
    },
    {
      "cell_type": "code",
      "source": [
        "une_etudiante = [2019, 4.3, \"Jeanne\", True]"
      ],
      "metadata": {
        "id": "3mlopG5uHIqR"
      },
      "execution_count": 31,
      "outputs": []
    },
    {
      "cell_type": "code",
      "source": [
        "des_etudiants = [une_etudiante, \n",
        "                 [2021, 4.0, \"Serge\", True]]"
      ],
      "metadata": {
        "id": "0ROg8GDAO2CQ"
      },
      "execution_count": 50,
      "outputs": []
    },
    {
      "cell_type": "markdown",
      "source": [
        "## Indexation\n"
      ],
      "metadata": {
        "id": "odYgSWhWHse_"
      }
    },
    {
      "cell_type": "markdown",
      "source": [
        "- accès à une information dans la liste\n",
        "- commence à zéro\n",
        "- `[]`"
      ],
      "metadata": {
        "id": "7ANF34q2H3nc"
      }
    },
    {
      "cell_type": "code",
      "source": [
        "# le prénom est la 3e information dans la liste, donc on vise le 3e index (2)\n",
        "print(\"prenom:\", une_etudiante[2])"
      ],
      "metadata": {
        "colab": {
          "base_uri": "https://localhost:8080/"
        },
        "id": "Q8QavplQHy7f",
        "outputId": "a096a489-2ece-42c8-9145-8ed8e835d115"
      },
      "execution_count": 32,
      "outputs": [
        {
          "output_type": "stream",
          "name": "stdout",
          "text": [
            "prenom: Jeanne\n"
          ]
        }
      ]
    },
    {
      "cell_type": "code",
      "source": [
        "print(\"prenoms:\", des_etudiants[0][2], des_etudiants[1][2], sep=\"\\n\")"
      ],
      "metadata": {
        "colab": {
          "base_uri": "https://localhost:8080/"
        },
        "id": "1pwBH65cPABW",
        "outputId": "bd53c679-4cf3-4d0b-b633-83209c356fbc"
      },
      "execution_count": 52,
      "outputs": [
        {
          "output_type": "stream",
          "name": "stdout",
          "text": [
            "prenoms:\n",
            "Jeanne\n",
            "Serge\n"
          ]
        }
      ]
    },
    {
      "cell_type": "markdown",
      "source": [
        "## Opérations avec les listes"
      ],
      "metadata": {
        "id": "UQ68rI6HMg0Z"
      }
    },
    {
      "cell_type": "markdown",
      "source": [
        "- addtionner des listes"
      ],
      "metadata": {
        "id": "5YHNJMUZMs1U"
      }
    },
    {
      "cell_type": "code",
      "source": [
        "[1,2,3] + [4,5]"
      ],
      "metadata": {
        "colab": {
          "base_uri": "https://localhost:8080/"
        },
        "id": "3ktClu69MvGq",
        "outputId": "91ba0425-f787-49d7-b30b-47c5013cbd09"
      },
      "execution_count": 34,
      "outputs": [
        {
          "output_type": "execute_result",
          "data": {
            "text/plain": [
              "[1, 2, 3, 4, 5]"
            ]
          },
          "metadata": {},
          "execution_count": 34
        }
      ]
    },
    {
      "cell_type": "markdown",
      "source": [
        "- multiplier une liste"
      ],
      "metadata": {
        "id": "LZ1OvxcCM3pP"
      }
    },
    {
      "cell_type": "code",
      "source": [
        "3 * [1, 2, 3]"
      ],
      "metadata": {
        "colab": {
          "base_uri": "https://localhost:8080/"
        },
        "id": "tpeeSJSIM2-C",
        "outputId": "010cdf8b-d896-41a6-9ce8-9368a809311b"
      },
      "execution_count": 37,
      "outputs": [
        {
          "output_type": "execute_result",
          "data": {
            "text/plain": [
              "[1, 2, 3, 1, 2, 3, 1, 2, 3]"
            ]
          },
          "metadata": {},
          "execution_count": 37
        }
      ]
    },
    {
      "cell_type": "markdown",
      "source": [
        "- soustraire des listes?"
      ],
      "metadata": {
        "id": "3b4aBeHBM0Ue"
      }
    },
    {
      "cell_type": "code",
      "source": [
        "[1, 2, 3] - [2, 3]"
      ],
      "metadata": {
        "colab": {
          "base_uri": "https://localhost:8080/",
          "height": 166
        },
        "id": "XRlhLrGjMzyt",
        "outputId": "bb7b9bc0-305c-4c3e-a5c2-0bda71285edd"
      },
      "execution_count": 39,
      "outputs": [
        {
          "output_type": "error",
          "ename": "TypeError",
          "evalue": "ignored",
          "traceback": [
            "\u001b[0;31m---------------------------------------------------------------------------\u001b[0m",
            "\u001b[0;31mTypeError\u001b[0m                                 Traceback (most recent call last)",
            "\u001b[0;32m<ipython-input-39-fc77f225cca3>\u001b[0m in \u001b[0;36m<cell line: 1>\u001b[0;34m()\u001b[0m\n\u001b[0;32m----> 1\u001b[0;31m \u001b[0;34m[\u001b[0m\u001b[0;36m1\u001b[0m\u001b[0;34m,\u001b[0m \u001b[0;36m2\u001b[0m\u001b[0;34m,\u001b[0m \u001b[0;36m3\u001b[0m\u001b[0;34m]\u001b[0m \u001b[0;34m-\u001b[0m \u001b[0;34m[\u001b[0m\u001b[0;36m2\u001b[0m\u001b[0;34m,\u001b[0m \u001b[0;36m3\u001b[0m\u001b[0;34m]\u001b[0m\u001b[0;34m\u001b[0m\u001b[0;34m\u001b[0m\u001b[0m\n\u001b[0m",
            "\u001b[0;31mTypeError\u001b[0m: unsupported operand type(s) for -: 'list' and 'list'"
          ]
        }
      ]
    },
    {
      "cell_type": "markdown",
      "source": [
        "- diviser des listes?"
      ],
      "metadata": {
        "id": "1h0vwDs_NNbd"
      }
    },
    {
      "cell_type": "code",
      "source": [
        "[2,2,2,2,2] / 2"
      ],
      "metadata": {
        "colab": {
          "base_uri": "https://localhost:8080/",
          "height": 166
        },
        "id": "3zsM51Y1NP7l",
        "outputId": "06fad5b4-3fae-423b-9daf-564d1413d2bc"
      },
      "execution_count": 40,
      "outputs": [
        {
          "output_type": "error",
          "ename": "TypeError",
          "evalue": "ignored",
          "traceback": [
            "\u001b[0;31m---------------------------------------------------------------------------\u001b[0m",
            "\u001b[0;31mTypeError\u001b[0m                                 Traceback (most recent call last)",
            "\u001b[0;32m<ipython-input-40-f3a723327e0e>\u001b[0m in \u001b[0;36m<cell line: 1>\u001b[0;34m()\u001b[0m\n\u001b[0;32m----> 1\u001b[0;31m \u001b[0;34m[\u001b[0m\u001b[0;36m2\u001b[0m\u001b[0;34m,\u001b[0m\u001b[0;36m2\u001b[0m\u001b[0;34m,\u001b[0m\u001b[0;36m2\u001b[0m\u001b[0;34m,\u001b[0m\u001b[0;36m2\u001b[0m\u001b[0;34m,\u001b[0m\u001b[0;36m2\u001b[0m\u001b[0;34m]\u001b[0m \u001b[0;34m/\u001b[0m \u001b[0;36m2\u001b[0m\u001b[0;34m\u001b[0m\u001b[0;34m\u001b[0m\u001b[0m\n\u001b[0m",
            "\u001b[0;31mTypeError\u001b[0m: unsupported operand type(s) for /: 'list' and 'int'"
          ]
        }
      ]
    },
    {
      "cell_type": "markdown",
      "source": [
        "On ne peut pas soustraire ou diviser des listes, c'est logique. "
      ],
      "metadata": {
        "id": "qNu8R7ALNSt2"
      }
    },
    {
      "cell_type": "markdown",
      "source": [
        "Il y a d'autres manières d'ajouter ou d'enlever des éléments dans une liste, mais on les verra plus tard."
      ],
      "metadata": {
        "id": "f0RYDkAKNoxN"
      }
    },
    {
      "cell_type": "markdown",
      "source": [
        "- `ma_liste.pop({valeur})`\n",
        "- `del ma_liste[{index}]`\n",
        "- `ma_list.append({valeur})`"
      ],
      "metadata": {
        "id": "Byef5iHeNYNP"
      }
    },
    {
      "cell_type": "markdown",
      "source": [
        "Il y a plein de choses à connaître sur les listes : https://python.doctor/page-apprendre-listes-list-tableaux-tableaux-liste-array-python-cours-debutant"
      ],
      "metadata": {
        "id": "M_6ogoejMUb9"
      }
    },
    {
      "cell_type": "markdown",
      "source": [
        "# Il est temps pour...\n",
        "\n",
        "<img src=\"https://boisestate.pressbooks.pub/app/uploads/sites/144/2022/05/2-2.png\" width=\"600px\">"
      ],
      "metadata": {
        "id": "4wCjq-DQQo80"
      }
    },
    {
      "cell_type": "markdown",
      "source": [
        "# S'il nous reste du temps"
      ],
      "metadata": {
        "id": "IrLwVwhTPmd_"
      }
    },
    {
      "cell_type": "markdown",
      "source": [
        "- parlons des f-strings\n",
        "- creusons un peu plus le terrain des listes"
      ],
      "metadata": {
        "id": "gZYWt7pvPodP"
      }
    },
    {
      "cell_type": "markdown",
      "source": [
        "# Lien vers le prochain notebook\n",
        "\n",
        "➡ https://github.com/alix-tz/HNU6059/blob/main/jour_1/HNU3059_E2023_S1_Exercices.ipynb"
      ],
      "metadata": {
        "id": "1iateixaD6Qh"
      }
    }
  ]
}
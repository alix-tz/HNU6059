{
  "cells": [
    {
      "cell_type": "markdown",
      "metadata": {
        "id": "R6IBUCor9vVD"
      },
      "source": [
        "# HNU 3059 (HNU 6059) - Séance 1 - Théorie\n",
        "\n",
        "Lien vers le cours sur StudiUM: https://studium.umontreal.ca/course/view.php?id=278064\n"
      ]
    },
    {
      "cell_type": "markdown",
      "metadata": {
        "id": "Zo72x4_T-cdN"
      },
      "source": [
        "# Contenu de ce notebook\n",
        "\n",
        "1. Présentation du cours et de ses objectifs\n",
        "2. Présentation de Python\n",
        "3. Présentation des Jupyter Notebooks"
      ]
    },
    {
      "cell_type": "markdown",
      "metadata": {
        "id": "6_Y1dWrw-c0H"
      },
      "source": [
        "# Le cours et ses objectifs\n",
        "\n",
        "- lisons ensemble le [plan de cours](https://studium.umontreal.ca/mod/syllabus/view.php?id=5398319) disponible sur Studium\n",
        "- regardons l'organisation du cours sur Studium"
      ]
    },
    {
      "cell_type": "markdown",
      "metadata": {
        "id": "lNq6AcHw-uvV"
      },
      "source": [
        "## Organisation des séances\n",
        "\n",
        "- Séance 1:\n",
        "    - présentation de Python et des Jupyter notebooks\n",
        "    - syntaxe\n",
        "    - variables, valeurs, types\n",
        "    - définition de fonction\n",
        "    - bonus : les f-strings\n",
        "- Séance 2:\n",
        "    - les PEP\n",
        "    - les autres langages de programmation\n",
        "    - comprendre les messages d'erreur\n",
        "    - conditions\n",
        "    - itérations\n",
        "    - bonus : les dictionnaires\n",
        "- Séance 3: \n",
        "    - quelques usages de Python dans les humanités\n",
        "    - bonnes pratiques pour continuer à apprendre\n",
        "    - interaction avec un fichier\n",
        "    - packages et modules\n",
        "    - interaction avec une page web\n",
        "    - debriefing et préparation de l'exercice final\n"
      ]
    },
    {
      "cell_type": "markdown",
      "metadata": {
        "id": "vXWCG_-r-vrX"
      },
      "source": [
        "## Lectures optionnelles\n",
        "\n",
        "Aucune lecture n'est imposée pour suivre ce cours mais vous trouverez dans StudiUM les références de quelques articles ou chapitres d'ouvrages qui pourront compléter les éléments abordés. "
      ]
    },
    {
      "cell_type": "markdown",
      "metadata": {
        "id": "sROIkFkB_JKT"
      },
      "source": [
        "## Evaluation\n",
        "\n",
        "Le cours est évalué de la manière suivante : \n",
        "- 3 questionnaires à remplir dans StudiuM portant sur le contenu de chaque séance (20% par questionnaire)\n",
        "   - chaque questionnaire est noté sur 10\n",
        "   - dans le questionnaire 3, seules les 5 meilleures scores comptent : les questions 6 à 10 sont optionnelles\n",
        "- 1 note de participation (40%)\n",
        "- 1 travail de programmation optionel comptant comme bonus (jusqu'à 20%)\n",
        "\n",
        "Toutes les évaluations sont personnelles et ne peuvent pas être réalisées en groupe.\n",
        "\n",
        "**Dates limites :**\n",
        "- pour les questionnaires : 4 avril 2025\n",
        "- pour le projet de développement : 11 avril 2025"
      ]
    },
    {
      "cell_type": "markdown",
      "metadata": {
        "id": "04pO7QcDAKjb"
      },
      "source": [
        "# Le langage de programmation Python"
      ]
    },
    {
      "cell_type": "markdown",
      "metadata": {
        "id": "ZcTdJNDA1GvR"
      },
      "source": [
        "## Un langage de programmation ?\n",
        "\n",
        "- un vocabulaire pour exprimer des **instructions**\n",
        "- permet d'interagir avec une machine qui **execute** les instructions\n",
        "- un ensemble de conventions (syntaxe et bonnes pratiques)\n",
        "- un format de fichier pour enregistrer un ensemble d'instructions (ex: `.py`, `.ipynb`)\n",
        "\n",
        "Programmer, c'est avant tout rédiger, mais en suivant les conventions du langage qu'on utilise."
      ]
    },
    {
      "cell_type": "markdown",
      "metadata": {},
      "source": [
        "## Conventions des languages de programmation\n",
        "\n",
        "La logique algorithmique change peu d'un language à l'autre, mais la syntaxe et les conventions peuvent varier énormément.\n",
        "\n",
        "Voici 4 blocs d'instructions qui réalisent la même chose (l'affichage de la somme de 5 nombres) en **Python**, en **C++**, en **Java** et en **Cobol**.\n",
        "\n",
        "```python\n",
        "# Python\n",
        "\n",
        "def main():\n",
        "    total = 0\n",
        "    for number in [1, 2, 3, 4, 5]:\n",
        "        total += number\n",
        "    print(total)\n",
        "``` \n",
        "\n",
        "```c++\n",
        "// C++\n",
        "\n",
        "#include <iostream>\n",
        "int main() {\n",
        "    int total = 0;\n",
        "    int numbers[] = {1, 2, 3, 4, 5};\n",
        "    for (int i = 0; i < 5; ++i) {\n",
        "        total += numbers[i];\n",
        "    }\n",
        "    cout << total << endl;\n",
        "    return 0;\n",
        "}\n",
        "``` \n",
        "\n",
        "```java\n",
        "// Java\n",
        "\n",
        "public class Main {\n",
        "    public static void main(String[] args) {\n",
        "        int total = 0;\n",
        "        int[] numbers = {1, 2, 3, 4, 5};\n",
        "        for (int i = 0; i < 5; ++i) {\n",
        "            total += numbers[i];\n",
        "        }\n",
        "        System.out.println(total);\n",
        "    }\n",
        "}\n",
        "```\n",
        "\n",
        "```cobol\n",
        "*> Cobol\n",
        "\n",
        "IDENTIFICATION DIVISION.\n",
        "PROGRAM-ID. Main.\n",
        "DATA DIVISION.\n",
        "WORKING-STORAGE SECTION.\n",
        "01 TOTAL PIC 9(4) VALUE 0.\n",
        "01 NUMBERS PIC 9(4) OCCURS 5 VALUE 1, 2, 3, 4, 5.\n",
        "PROCEDURE DIVISION.\n",
        "    PERFORM VARYING I FROM 1 BY 1 UNTIL I > 5\n",
        "     ADD NUMBERS(I) TO TOTAL\n",
        "    END-PERFORM\n",
        "    DISPLAY TOTAL\n",
        "    STOP RUN.\n",
        "```\n",
        "\n",
        "Le vocabulaire et la syntaxe sont définis par le(s) créateur(rice.s) du langage. En principe tout est possible, y compris les approaches les plus [ésotériques](https://en.wikipedia.org/wiki/Esoteric_programming_language). Quelques exemples :\n",
        "\n",
        "- [Tabloid](https://tabloid.vercel.app/?mc_cid=4c5c51f54d&mc_eid=5e96643e16) - un language de programmation qui utilise le vocabulaire des tabloïds\n",
        "- [ArnoldC](https://github.com/lhartikk/ArnoldC) - un langage de programmation basé sur les répliques d'Arnold Schwarzenegger\n",
        "- [Piet](https://www.dangermouse.net/esoteric/piet/samples.html) - un language de programmation qui utilise un bitmap comme code source\n",
        "\n",
        "En fait, c'est l'interprêteur associé au langage qui s'occupe de traduire ces instructions dans une forme que la machine peut comprendre. "
      ]
    },
    {
      "cell_type": "markdown",
      "metadata": {
        "id": "X87aCjHD1JkQ"
      },
      "source": [
        "## Python"
      ]
    },
    {
      "cell_type": "markdown",
      "metadata": {
        "id": "dpGzlBRQzaZn"
      },
      "source": [
        "- créé en 1989 par Guido van Rossum, \n",
        "    - première version publiée en 1991\n",
        "    - Python 2 publié en 2000\n",
        "    - Python 3 publié en 2008\n",
        "- développement organisé par la [Python Software Foundation](https://www.python.org/psf-landing/)\n",
        "- Python est [open source](https://github.com/python/cpython/tree/3.13) et gratuit\n",
        "- le nom est une référence aux [Monty Python](https://youtu.be/D5Df191WJ3o?feature=shared)\n",
        "\n",
        "\n",
        "<img src=\"https://upload.wikimedia.org/wikipedia/commons/thumb/f/f8/Python_logo_and_wordmark.svg/1920px-Python_logo_and_wordmark.svg.png\" width=\"400px\">"
      ]
    },
    {
      "cell_type": "markdown",
      "metadata": {
        "id": "kfCyZg9f9nlA"
      },
      "source": [
        "Les avantages de Python\n",
        "\n",
        "- fonctionne sur presque tous les systèmes d'exploitation (Windows, macOS, Linux, etc.)\n",
        "- gratuit\n",
        "- bien documenté et avec une communauté active\n",
        "- très beginner-friendly (typage dynamique, gestion de la mémoire, etc.), ce qui n'est pas le cas de tous les langages\n",
        "- applicable à de nombreux domaines (développement applicatif, machine learning, analyse de données, etc.)"
      ]
    },
    {
      "cell_type": "markdown",
      "metadata": {
        "id": "Ui_P9bROv6fJ"
      },
      "source": [
        "## Python et ses versions"
      ]
    },
    {
      "cell_type": "markdown",
      "metadata": {
        "id": "9Df51lEC-dWW"
      },
      "source": [
        "- Python vient en plusieurs [versions](https://en.wikipedia.org/wiki/Software_versioning)."
      ]
    },
    {
      "cell_type": "code",
      "execution_count": 1,
      "metadata": {
        "colab": {
          "base_uri": "https://localhost:8080/"
        },
        "id": "XkZrSvb1v4GW",
        "outputId": "4ef38bae-80fa-42ba-b950-382132e1a786"
      },
      "outputs": [
        {
          "name": "stdout",
          "output_type": "stream",
          "text": [
            "Python 3.12.8\n"
          ]
        }
      ],
      "source": [
        "!python --version"
      ]
    },
    {
      "cell_type": "markdown",
      "metadata": {
        "id": "HUCxCNlXxKtW"
      },
      "source": [
        "> Conventions pour le versionnage:\n",
        ">\n",
        "> <img src=\"https://upload.wikimedia.org/wikipedia/commons/8/82/Semver.jpg\" width=\"200px\">\n",
        "\n",
        "\n",
        "- Python 2 n'est plus développé/soutenu depuis le 31 décembre 2019\n",
        "\n",
        "- il y a des syntaxes incompatibles entre Python 2 et Python 3 (ex: `print` vs. `print()`)\n"
      ]
    },
    {
      "cell_type": "code",
      "execution_count": null,
      "metadata": {
        "colab": {
          "base_uri": "https://localhost:8080/",
          "height": 131
        },
        "id": "xGdNwNcgyW8F",
        "outputId": "e9e6b992-335d-41bb-d785-2926fa64baf6"
      },
      "outputs": [
        {
          "ename": "SyntaxError",
          "evalue": "ignored",
          "output_type": "error",
          "traceback": [
            "\u001b[0;36m  File \u001b[0;32m\"<ipython-input-4-2a0eaa89f43f>\"\u001b[0;36m, line \u001b[0;32m1\u001b[0m\n\u001b[0;31m    print \"hello\"\u001b[0m\n\u001b[0m    ^\u001b[0m\n\u001b[0;31mSyntaxError\u001b[0m\u001b[0;31m:\u001b[0m Missing parentheses in call to 'print'. Did you mean print(...)?\n"
          ]
        }
      ],
      "source": [
        "# voici une syntaxe qui fonctionnait dans Python 2 mais qui n'est plus supportée dans Python 3\n",
        "print \"hello\""
      ]
    },
    {
      "cell_type": "markdown",
      "metadata": {
        "id": "C8s-5Ips-fvT"
      },
      "source": [
        "- Il y a aussi des incompatibilités entre les versions mineurs (ex: es `f-strings`)\n"
      ]
    },
    {
      "cell_type": "code",
      "execution_count": null,
      "metadata": {
        "colab": {
          "base_uri": "https://localhost:8080/"
        },
        "id": "rBQwAypLy4Cc",
        "outputId": "cb4cdf23-f0ed-42d9-bbee-c4676bd0e6bc"
      },
      "outputs": [
        {
          "name": "stdout",
          "output_type": "stream",
          "text": [
            "Je m'appelle Alix\n",
            "Je m'appelle Alix\n"
          ]
        }
      ],
      "source": [
        "# les f-strings ne sont pas supportées par les versions antérieures a Python 3.6\n",
        "mon_prenom = \"Alix\"\n",
        "\n",
        "# avec f-string\n",
        "print(f\"Je m'appelle {mon_prenom}\")\n",
        "\n",
        "# sans f-string\n",
        "print(\"Je m'appelle {}\".format(mon_prenom))"
      ]
    },
    {
      "cell_type": "markdown",
      "metadata": {
        "id": "BltfoP-y-mvc"
      },
      "source": [
        "Pour le reste, le plus simple c'est de pratiquer pour comprendre la programmation et ce que Python a dans le coffre !\n",
        "\n",
        "Le but de ces précisions sur les versions de Python est de vous aider à naviguer dans les ressources que vous trouverez en ligne."
      ]
    },
    {
      "cell_type": "markdown",
      "metadata": {},
      "source": [
        "# Environnements d'exécution"
      ]
    },
    {
      "cell_type": "markdown",
      "metadata": {
        "id": "0YLsBrKE-xx4"
      },
      "source": [
        "## \"Traditionnel\"\n",
        "\n",
        "![Capture d'écrant d'un même bloc d'instruction dans Note, Notepad++ et Sublime](https://raw.githubusercontent.com/alix-tz/HNU6059/main/img/editeur_text_brut.png \"Exemple d'éditeurs de texte brut\"){width=40%, style=\"float: right\"}\n",
        "\n",
        "- installation locale de Python \n",
        "- exécution depuis la ligne de commande\n",
        "    - en mode intéractif\n",
        "    - en mode script (exécution d'un fichier `.py`)\n",
        "- rédaction des scripts dans un éditeur de texte brut ou un IDE\n",
        "    - Editeurs de texte brut: \n",
        "        - *note*, \n",
        "        - *notepad++*, \n",
        "        - *sublime*, \n",
        "        - ...\n",
        "    - IDE (Environnement de Développement Intégré): \n",
        "        - *Visual Studio Code*, \n",
        "        - *PyCharm*, \n",
        "        - *Atom*, \n",
        "        - ...\n",
        "\n",
        "\n",
        "![Capture d'écran d'un petit bloc d'instruction exécuté dans l'IDE Visual Studio Code](https://raw.githubusercontent.com/alix-tz/HNU6059/main/img/ide_vscode.png \"Exemple d'IDA (Visual Studio Code)\"){width=50%}"
      ]
    },
    {
      "cell_type": "markdown",
      "metadata": {
        "id": "VO1iSuGxH14t"
      },
      "source": [
        "## Editeurs et executeurs de Python en ligne\n",
        "\n",
        "Il y a aussi des environnements d'exécution de Python en ligne: \n",
        "\n",
        "- https://www.python.org/shell/ (simulation d'un terminal)\n",
        "\n",
        "- https://replit.com/languages/python3 (simulation d'une forme simple d'IDE)\n",
        "\n"
      ]
    },
    {
      "cell_type": "markdown",
      "metadata": {
        "id": "YNYUq4mNJMIt"
      },
      "source": [
        "## Notebooks Jupyter\n",
        "\n",
        "- application web\n",
        "- développé depuis 2014, initialement sous le nom d'IPython (Python interactif)\n",
        "- open source et gratuit\n",
        "- https://jupyter.org/about\n",
        "\n",
        "Ok mais c'est quoi ?\n",
        "\n",
        "Un ***document executable***\n",
        "- extension des fichiers : `.ipynb` (ipython notebook)\n",
        "- des blocs de texte (formaté avec [Markdown](https://www.markdownguide.org/))\n",
        "- des blocs de code (en Python ou dans d'autres langages)\n",
        "\n",
        "Intérêt des Juptyer Notebooks\n",
        "\n",
        "- permet de mélanger du texte et du code (facilite la documentation)\n",
        "- permet d'exécuter du code en blocs (facilite le débuggage)\n",
        "- permet de visualiser des résultats (graphiques, tableaux, etc.)\n",
        "- disponible comme un programme local ou comme un service en ligne\n",
        "- bien intégré dans l'écosystème Python (très utilisés par les data scientists)\n",
        "\n",
        "Difficultés des Jupyter Notebooks (pour les débutants)\n",
        "\n",
        "- non linéarité de l'exécution (on peut exécuter les blocs dans n'importe quel ordre et plusieurs fois)\n",
        "- gestion des variables (elles restent en mémoire même si on les efface)"
      ]
    },
    {
      "cell_type": "code",
      "execution_count": null,
      "metadata": {
        "id": "uZP1qkMcJLhl"
      },
      "outputs": [],
      "source": []
    },
    {
      "cell_type": "markdown",
      "metadata": {
        "id": "bGg8mmFMLumC"
      },
      "source": []
    },
    {
      "cell_type": "markdown",
      "metadata": {
        "id": "Uw4azlD7Lxtu"
      },
      "source": [
        "## Jupyter en local vs. Jupyter en ligne"
      ]
    },
    {
      "cell_type": "markdown",
      "metadata": {
        "id": "ewSwWW7tL88V"
      },
      "source": [
        "- installation locale de Jupyter\n",
        "- interaction avec le système de fichiers local\n",
        "- pour les extensions, il faut gérer les installations locales\n",
        "- des options existent pour utiliser Jupyter en ligne:\n",
        "    - [Jupyter demo](https://jupyter.org/try)\n",
        "    - [MyBinder](https://mybinder.org/)\n",
        "    - [Google Colab](https://colab.research.google.com/)\n",
        "        - beaucoup d'extensions déjà installées\n",
        "        - gestion de l'historique comme pour un Google Docs\n",
        "        - mais il faut un compte Google\n",
        "    - Visualisation des `.ipynb` dans [GitHub](https://github.com/alix-tz/HNU6059/blob/main/jour_1/HNU3059_E2023_S1_Th%C3%A9orie.ipynb) (non interactif)"
      ]
    },
    {
      "cell_type": "markdown",
      "metadata": {
        "id": "3t41LTw_M9q8"
      },
      "source": [
        "## Pourquoi Jupyter pour ce cours ?"
      ]
    },
    {
      "cell_type": "markdown",
      "metadata": {
        "id": "0Ry1YFStNBp-"
      },
      "source": [
        "- éviter les problèmes d'installation locale\n",
        "- se concentrer sur le travail par blocs"
      ]
    },
    {
      "cell_type": "markdown",
      "metadata": {
        "id": "KACnWc1oODsl"
      },
      "source": [
        "## Astuce Colab"
      ]
    },
    {
      "cell_type": "markdown",
      "metadata": {
        "id": "Bk7tTbKWw6LW"
      },
      "source": [
        "Activer l'affichage des numéros de ligne dans les blocs de code : \n",
        "\n",
        "- `Ctrl` + `M` + `L`"
      ]
    },
    {
      "cell_type": "markdown",
      "metadata": {
        "id": "rJi_fnkYN9Xp"
      },
      "source": [
        "## Testons MyBinder et Colab"
      ]
    },
    {
      "cell_type": "markdown",
      "metadata": {
        "id": "QteEt1Q2B_Wt"
      },
      "source": [
        "Dans [Colab](https://colab.research.google.com/) :\n",
        "\n",
        "- aller sur la page de Google Colaboratory\n",
        "- (s'authentifier)\n",
        "- cliquer sur \"ouvrir un notebook\", puis \"GitHub\"\n",
        "- utiliser l'URL du répertoire GitHub (https://github.com/alix-tz/HNU6059)\n",
        "- sélectionner le notebook\n",
        "\n",
        "<img src=\"https://raw.githubusercontent.com/alix-tz/HNU6059/main/img/import_in_colab.png\" width=\"600px\">\n",
        "\n",
        "Dans [MyBinder](https://mybinder.org/) :\n",
        "\n",
        "- aller sur la page d'accueil de MyBinder\n",
        "- copier-coller l'URL du repertoire GitHub (https://github.com/alix-tz/HNU6059)\n",
        "- cliquer sur \"launch\"\n",
        "- sélectionner le notebook\n",
        "\n",
        "<img src=\"https://raw.githubusercontent.com/alix-tz/HNU6059/main/img/import_in_mybinder.png\" width=\"600px\">"
      ]
    },
    {
      "cell_type": "markdown",
      "metadata": {
        "id": "SD06BQemCY1C"
      },
      "source": [
        "## Pratique\n",
        "\n",
        "- essayons d'importer ce notebook dans ces environnements et d'éditer le document.\n",
        "- voyons ensemble l'interface"
      ]
    },
    {
      "cell_type": "code",
      "execution_count": null,
      "metadata": {
        "colab": {
          "base_uri": "https://localhost:8080/"
        },
        "id": "GOrZknVgC2Zm",
        "outputId": "38bc7c93-35d6-4025-a9ca-aeb2de246cdb"
      },
      "outputs": [
        {
          "name": "stdout",
          "output_type": "stream",
          "text": [
            "Shall we begin?\n"
          ]
        }
      ],
      "source": [
        "print(\"Shall we begin?\")"
      ]
    },
    {
      "cell_type": "markdown",
      "metadata": {
        "id": "vHUc1h8AC-RG"
      },
      "source": [
        "# Lien vers le prochain notebook\n",
        "\n",
        "➡ https://github.com/alix-tz/HNU6059/blob/main/jour_1/HNU3059_E2023_S1_Pratique.ipynb"
      ]
    }
  ],
  "metadata": {
    "colab": {
      "collapsed_sections": [
        "04pO7QcDAKjb"
      ],
      "provenance": []
    },
    "kernelspec": {
      "display_name": "3.12.8",
      "language": "python",
      "name": "python3"
    },
    "language_info": {
      "codemirror_mode": {
        "name": "ipython",
        "version": 3
      },
      "file_extension": ".py",
      "mimetype": "text/x-python",
      "name": "python",
      "nbconvert_exporter": "python",
      "pygments_lexer": "ipython3",
      "version": "3.12.8"
    }
  },
  "nbformat": 4,
  "nbformat_minor": 0
}

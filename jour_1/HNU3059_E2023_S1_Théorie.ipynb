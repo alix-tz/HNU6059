{
  "cells": [
    {
      "cell_type": "markdown",
      "metadata": {
        "id": "R6IBUCor9vVD"
      },
      "source": [
        "# HNU 3059 (HNU 6059) - Séance 1 - Théorie\n",
        "\n",
        "Lien vers le cours sur StudiUM: https://studium.umontreal.ca/course/view.php?id=278064\n"
      ]
    },
    {
      "cell_type": "markdown",
      "metadata": {
        "id": "Zo72x4_T-cdN"
      },
      "source": [
        "# Contenu de ce notebook\n",
        "\n",
        "1. Présentation du cours et de ses objectifs\n",
        "2. Présentation de Python\n",
        "3. Présentation des Jupyter Notebooks"
      ]
    },
    {
      "cell_type": "markdown",
      "metadata": {
        "id": "6_Y1dWrw-c0H"
      },
      "source": [
        "# Le cours et ses objectifs\n",
        "\n",
        "- lisons ensemble le [plan de cours](https://studium.umontreal.ca/mod/syllabus/view.php?id=5398319) disponible sur Studium\n",
        "- regardons l'organisation du cours sur Studium"
      ]
    },
    {
      "cell_type": "markdown",
      "metadata": {
        "id": "lNq6AcHw-uvV"
      },
      "source": [
        "## Organisation des séances\n",
        "\n",
        "- Séance 1:\n",
        "    - présentation de Python et des Jupyter notebooks\n",
        "    - syntaxe\n",
        "    - variables, valeurs, types\n",
        "    - définition de fonction\n",
        "    - bonus : les f-strings\n",
        "- Séance 2:\n",
        "    - les PEP\n",
        "    - les autres langages de programmation\n",
        "    - comprendre les messages d'erreur\n",
        "    - conditions\n",
        "    - itérations\n",
        "    - bonus : les dictionnaires\n",
        "- Séance 3: \n",
        "    - quelques usages de Python dans les humanités\n",
        "    - bonnes pratiques pour continuer à apprendre\n",
        "    - interaction avec un fichier\n",
        "    - packages et modules\n",
        "    - interaction avec une page web\n",
        "    - debriefing et préparation de l'exercice final\n"
      ]
    },
    {
      "cell_type": "markdown",
      "metadata": {
        "id": "vXWCG_-r-vrX"
      },
      "source": [
        "## Lectures optionnelles\n",
        "\n",
        "Aucune lecture n'est imposée pour suivre ce cours mais vous trouverez dans StudiUM les références de quelques articles ou chapitres d'ouvrages qui pourront compléter les éléments abordés. "
      ]
    },
    {
      "cell_type": "markdown",
      "metadata": {
        "id": "sROIkFkB_JKT"
      },
      "source": [
        "## Evaluation\n",
        "\n",
        "Le cours est évalué de la manière suivante : \n",
        "- 3 questionnaires à remplir dans StudiuM portant sur le contenu de chaque séance (20% par questionnaire)\n",
        "   - chaque questionnaire est noté sur 10\n",
        "   - dans le questionnaire 3, seules les 5 meilleures scores comptent : les questions 6 à 10 sont optionnelles\n",
        "- 1 note de participation (40%)\n",
        "- 1 travail de programmation optionel comptant comme bonus (jusqu'à 20%)\n",
        "\n",
        "Toutes les évaluations sont personnelles et ne peuvent être réalisées en groupe.\n",
        "\n",
        "**Dates limites :**\n",
        "- pour les questionnaires : 7 juin\n",
        "- pour les programme de développement : 21 juin"
      ]
    },
    {
      "cell_type": "markdown",
      "metadata": {
        "id": "04pO7QcDAKjb"
      },
      "source": [
        "# Le langage de programmation Python"
      ]
    },
    {
      "cell_type": "markdown",
      "metadata": {
        "id": "ZcTdJNDA1GvR"
      },
      "source": [
        "## Un langage de programmation ?\n",
        "\n",
        "- un vocabulaire pour exprimer des **instructions**\n",
        "- permet d'interagir avec une machine qui **execute** les instructions\n",
        "- un ensemble de conventions (syntaxe et bonnes pratiques)\n",
        "- un format de fichier pour enregistrer un ensemble d'instructions (`.py`)\n",
        "\n",
        "Programmer, c'est avant tout rédiger, mais en suivant les conventions du langage qu'on utilise."
      ]
    },
    {
      "cell_type": "markdown",
      "metadata": {
        "id": "X87aCjHD1JkQ"
      },
      "source": [
        "## Description et historique de Python"
      ]
    },
    {
      "cell_type": "markdown",
      "metadata": {
        "id": "dpGzlBRQzaZn"
      },
      "source": [
        "- créé en 1989 par Guido van Rossum, \n",
        "    - première version publiée en 1991\n",
        "    - Python 2 publié en 2000\n",
        "    - Python 3 publié en 2008\n",
        "- développement organisé par la [Python Software Foundation](https://www.python.org/psf-landing/)\n",
        "- Python est [open source](https://github.com/python/cpython/tree/3.13) et gratuit\n",
        "- le nom est une référence aux [Monty Python](https://fr.wikipedia.org/wiki/Monty_Python)\n",
        "\n",
        "\n",
        "<img src=\"https://upload.wikimedia.org/wikipedia/commons/thumb/f/f8/Python_logo_and_wordmark.svg/1920px-Python_logo_and_wordmark.svg.png\" width=\"400px\">"
      ]
    },
    {
      "cell_type": "markdown",
      "metadata": {
        "id": "kfCyZg9f9nlA"
      },
      "source": [
        "Les avantages de Python\n",
        "\n",
        "- fonctionne sur presque tous les systèmes d'exploitation (Windows, Mac OS, Linux, etc)\n",
        "- gratuit\n",
        "- bien documenté et avec une communauté active\n",
        "- très beginner-friendly (typage dynamique, gestion de la mémoire, etc), ce qui n'est pas le cas de tous les langages\n",
        "- applicable à de nombreux domaines (développement applicatif, machine learning, analyse de données, etc.)"
      ]
    },
    {
      "cell_type": "markdown",
      "metadata": {
        "id": "Ui_P9bROv6fJ"
      },
      "source": [
        "## Python et ses versions"
      ]
    },
    {
      "cell_type": "markdown",
      "metadata": {
        "id": "9Df51lEC-dWW"
      },
      "source": [
        "- Python vient en plusieurs [versions](https://en.wikipedia.org/wiki/Software_versioning)."
      ]
    },
    {
      "cell_type": "code",
      "execution_count": null,
      "metadata": {
        "colab": {
          "base_uri": "https://localhost:8080/"
        },
        "id": "XkZrSvb1v4GW",
        "outputId": "4ef38bae-80fa-42ba-b950-382132e1a786"
      },
      "outputs": [
        {
          "name": "stdout",
          "output_type": "stream",
          "text": [
            "Python 3.10.11\n"
          ]
        }
      ],
      "source": [
        "!python --version"
      ]
    },
    {
      "cell_type": "markdown",
      "metadata": {
        "id": "HUCxCNlXxKtW"
      },
      "source": [
        "<img src=\"https://upload.wikimedia.org/wikipedia/commons/8/82/Semver.jpg\" width=\"200px\">\n",
        "\n",
        "\n",
        "- Python 2 n'est plus développé/soutenu depuis le 31 décembre 2019\n",
        "\n",
        "- Des syntaxes incompatibles entre Python 2 et Python 3 (ex: `print` vs. `print()`)\n"
      ]
    },
    {
      "cell_type": "code",
      "execution_count": null,
      "metadata": {
        "colab": {
          "base_uri": "https://localhost:8080/",
          "height": 131
        },
        "id": "xGdNwNcgyW8F",
        "outputId": "e9e6b992-335d-41bb-d785-2926fa64baf6"
      },
      "outputs": [
        {
          "ename": "SyntaxError",
          "evalue": "ignored",
          "output_type": "error",
          "traceback": [
            "\u001b[0;36m  File \u001b[0;32m\"<ipython-input-4-2a0eaa89f43f>\"\u001b[0;36m, line \u001b[0;32m1\u001b[0m\n\u001b[0;31m    print \"hello\"\u001b[0m\n\u001b[0m    ^\u001b[0m\n\u001b[0;31mSyntaxError\u001b[0m\u001b[0;31m:\u001b[0m Missing parentheses in call to 'print'. Did you mean print(...)?\n"
          ]
        }
      ],
      "source": [
        "# voici une syntaxe qui fonctionnait dans Python 2 mais qui n'est plus supportée dans Python 3\n",
        "print \"hello\""
      ]
    },
    {
      "cell_type": "markdown",
      "metadata": {
        "id": "C8s-5Ips-fvT"
      },
      "source": [
        "- Certaines incompatibilités entre les versions mineurs (ex: es f-strings)\n"
      ]
    },
    {
      "cell_type": "code",
      "execution_count": null,
      "metadata": {
        "colab": {
          "base_uri": "https://localhost:8080/"
        },
        "id": "rBQwAypLy4Cc",
        "outputId": "cb4cdf23-f0ed-42d9-bbee-c4676bd0e6bc"
      },
      "outputs": [
        {
          "name": "stdout",
          "output_type": "stream",
          "text": [
            "Je m'appelle Alix\n",
            "Je m'appelle Alix\n"
          ]
        }
      ],
      "source": [
        "# les f-strings ne sont pas supportées par les versions antérieures a Python 3.6\n",
        "mon_prenom = \"Alix\"\n",
        "\n",
        "# avec f-string\n",
        "print(f\"Je m'appelle {mon_prenom}\")\n",
        "\n",
        "# sans f-string\n",
        "print(\"Je m'appelle {}\".format(mon_prenom))"
      ]
    },
    {
      "cell_type": "markdown",
      "metadata": {
        "id": "BltfoP-y-mvc"
      },
      "source": [
        "Pour le reste, le plus simple c'est de pratiquer pour comprendre la programmation et ce que Python a dans le coffre !"
      ]
    },
    {
      "cell_type": "markdown",
      "metadata": {
        "id": "jJ9OImd8B3bo"
      },
      "source": [
        "# Notebooks Jupyter"
      ]
    },
    {
      "cell_type": "markdown",
      "metadata": {
        "id": "0YLsBrKE-xx4"
      },
      "source": [
        "## Sans Jupyter\n",
        "\n",
        "- installation locale de Python \n",
        "\n",
        "<img src=\"https://raw.githubusercontent.com/alix-tz/HNU6059/main/img/download_python.png\" width=\"600px\">\n",
        "\n",
        "\n",
        "- utilisation d'un éditeur de texte\n",
        "    - texte brut: *note*, *notepad++*, *sublime*, ...\n",
        "    - IDE (Environnement de Développement Intégré): Visual Studio Code, PyCharm, Atom, ...\n",
        "- exécution depuis la ligne de commande\n",
        "\n",
        "\n",
        "<img src=\"https://raw.githubusercontent.com/alix-tz/HNU6059/main/img/editeur_text_brut.png\" width=\"600px\">\n",
        "\n",
        "\n",
        "<img src=\"https://raw.githubusercontent.com/alix-tz/HNU6059/main/img/ide_vscode.png\" width=\"600px\">\n",
        "\n",
        "> Dans beaucoup de cas, c'est vraiment utile de programmer localement, mais quand on débute, ça fait beaucoup de choses à télécharger, installer et découvrir !"
      ]
    },
    {
      "cell_type": "markdown",
      "metadata": {
        "id": "VO1iSuGxH14t"
      },
      "source": [
        "## Editeur et executeur de Python en ligne\n",
        "\n",
        "Il y a aussi des environnements d'exécution de Python en ligne: \n",
        "\n",
        "- https://www.python.org/shell/ (qui simule un terminal)\n",
        "\n",
        "- https://replit.com/languages/python3 (qui simule une forme simple d'IDE)\n",
        "\n"
      ]
    },
    {
      "cell_type": "markdown",
      "metadata": {
        "id": "0ikOy1BVJD67"
      },
      "source": [
        "## Et Jupyter, c'est quoi?"
      ]
    },
    {
      "cell_type": "markdown",
      "metadata": {
        "id": "YNYUq4mNJMIt"
      },
      "source": [
        "- application web\n",
        "- développé depuis 2014\n",
        "- open source et gratuit\n",
        "- https://jupyter.org/about\n",
        "\n",
        "Ok mais c'est quoi ?\n",
        "\n",
        "Un ***document executable***\n",
        "- enregistré dans un fichier `.ipynb`\n",
        "- des blocs de texte (formaté avec [Markdown](https://www.markdownguide.org/))\n",
        "- des blocs de code (en Python ou dans d'autres langages)"
      ]
    },
    {
      "cell_type": "code",
      "execution_count": null,
      "metadata": {
        "id": "uZP1qkMcJLhl"
      },
      "outputs": [],
      "source": []
    },
    {
      "cell_type": "markdown",
      "metadata": {
        "id": "bGg8mmFMLumC"
      },
      "source": []
    },
    {
      "cell_type": "markdown",
      "metadata": {
        "id": "Uw4azlD7Lxtu"
      },
      "source": [
        "## Jupyter en local vs. Jupyter en ligne"
      ]
    },
    {
      "cell_type": "markdown",
      "metadata": {
        "id": "ewSwWW7tL88V"
      },
      "source": [
        "- installation locale de Jupyter (via [Anaconda](https://www.anaconda.com/))\n",
        "- interaction avec le système de fichiers local\n",
        "- pour les extensions, il faut gérer les installations locales\n",
        "- des options existent pour utiliser Jupyter en ligne:\n",
        "    - [Jupyter demo](https://jupyter.org/try)\n",
        "    - [MyBinder](https://mybinder.org/)\n",
        "    - [Google Colab](https://colab.research.google.com/)\n",
        "        - beaucoup d'extensions déjà installées\n",
        "        - gestion de l'historique comme pour un Google Docs\n",
        "        - mais il faut un compte Google\n",
        "    - Visualisation des `.ipynb` dans [GitHub](https://github.com/alix-tz/HNU6059/blob/main/jour_1/HNU3059_E2023_S1_Th%C3%A9orie.ipynb) (non interactif)"
      ]
    },
    {
      "cell_type": "markdown",
      "metadata": {
        "id": "3t41LTw_M9q8"
      },
      "source": [
        "## Pourquoi Jupyter pour ce cours ?"
      ]
    },
    {
      "cell_type": "markdown",
      "metadata": {
        "id": "0Ry1YFStNBp-"
      },
      "source": [
        "- éviter les problèmes d'installation locale\n",
        "- se concentrer sur le travail par blocs"
      ]
    },
    {
      "cell_type": "markdown",
      "metadata": {
        "id": "KACnWc1oODsl"
      },
      "source": [
        "## Astuce Colab"
      ]
    },
    {
      "cell_type": "markdown",
      "metadata": {
        "id": "Bk7tTbKWw6LW"
      },
      "source": [
        "Activer l'affichage des numéros de ligne dans les blocs de code : \n",
        "\n",
        "- `Ctrl` + `M` + `L`"
      ]
    },
    {
      "cell_type": "markdown",
      "metadata": {
        "id": "rJi_fnkYN9Xp"
      },
      "source": [
        "## Testons MyBinder et Colab"
      ]
    },
    {
      "cell_type": "markdown",
      "metadata": {
        "id": "QteEt1Q2B_Wt"
      },
      "source": [
        "Dans [Colab](https://colab.research.google.com/) :\n",
        "\n",
        "- aller sur la page de Google Colaboratory\n",
        "- (s'authentifier)\n",
        "- cliquer sur \"ouvrir un notebook\", puis \"GitHub\"\n",
        "- utiliser l'URL du répertoire GitHub (https://github.com/alix-tz/HNU6059)\n",
        "- sélectionner le notebook\n",
        "\n",
        "<img src=\"https://raw.githubusercontent.com/alix-tz/HNU6059/main/img/import_in_colab.png\" width=\"600px\">\n",
        "\n",
        "Dans [MyBinder](https://mybinder.org/) :\n",
        "\n",
        "- aller sur la page d'accueil de MyBinder\n",
        "- copier-coller l'URL du repertoire GitHub (https://github.com/alix-tz/HNU6059)\n",
        "- cliquer sur \"launch\"\n",
        "- sélectionner le notebook\n",
        "\n",
        "<img src=\"https://raw.githubusercontent.com/alix-tz/HNU6059/main/img/import_in_mybinder.png\" width=\"600px\">"
      ]
    },
    {
      "cell_type": "markdown",
      "metadata": {
        "id": "SD06BQemCY1C"
      },
      "source": [
        "## Pratique\n",
        "\n",
        "- essayons d'importer ce notebook dans ces environnements et d'éditer le document.\n",
        "- voyons ensemble l'interface"
      ]
    },
    {
      "cell_type": "code",
      "execution_count": null,
      "metadata": {
        "colab": {
          "base_uri": "https://localhost:8080/"
        },
        "id": "GOrZknVgC2Zm",
        "outputId": "38bc7c93-35d6-4025-a9ca-aeb2de246cdb"
      },
      "outputs": [
        {
          "name": "stdout",
          "output_type": "stream",
          "text": [
            "Shall we begin?\n"
          ]
        }
      ],
      "source": [
        "print(\"Shall we begin?\")"
      ]
    },
    {
      "cell_type": "markdown",
      "metadata": {
        "id": "vHUc1h8AC-RG"
      },
      "source": [
        "# Lien vers le prochain notebook\n",
        "\n",
        "➡ https://github.com/alix-tz/HNU6059/blob/main/jour_1/HNU3059_E2023_S1_Pratique.ipynb"
      ]
    }
  ],
  "metadata": {
    "colab": {
      "collapsed_sections": [
        "04pO7QcDAKjb"
      ],
      "provenance": []
    },
    "kernelspec": {
      "display_name": "Python 3",
      "name": "python3"
    },
    "language_info": {
      "name": "python"
    }
  },
  "nbformat": 4,
  "nbformat_minor": 0
}

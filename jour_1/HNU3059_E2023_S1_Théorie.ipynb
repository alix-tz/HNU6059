{
  "nbformat": 4,
  "nbformat_minor": 0,
  "metadata": {
    "colab": {
      "provenance": [],
      "collapsed_sections": [
        "04pO7QcDAKjb"
      ]
    },
    "kernelspec": {
      "name": "python3",
      "display_name": "Python 3"
    },
    "language_info": {
      "name": "python"
    }
  },
  "cells": [
    {
      "cell_type": "markdown",
      "source": [
        "# HNU 3059 (HNU 6059) - Séance 1 - Théorie\n",
        "\n",
        "Lien vers le cours sur StudiUM: https://studium.umontreal.ca/course/view.php?id=237645\n"
      ],
      "metadata": {
        "id": "R6IBUCor9vVD"
      }
    },
    {
      "cell_type": "markdown",
      "source": [
        "# Contenu de ce notebook\n",
        "\n",
        "1. Présentation du cours et de ses objectifs\n",
        "2. Présentation de Python\n",
        "3. Présentation des Jupyter Notebooks"
      ],
      "metadata": {
        "id": "Zo72x4_T-cdN"
      }
    },
    {
      "cell_type": "markdown",
      "source": [
        "# Le cours et ses objectifs\n",
        "\n",
        "- lisons ensemble le [plan de cours](https://studium.umontreal.ca/mod/syllabus/view.php?id=4773301) disponible sur Studium\n",
        "- regardons l'organisation du cours sur Studium"
      ],
      "metadata": {
        "id": "6_Y1dWrw-c0H"
      }
    },
    {
      "cell_type": "markdown",
      "source": [
        "## Organisation des séances\n",
        "\n",
        "⚠ **(todo)**\n"
      ],
      "metadata": {
        "id": "lNq6AcHw-uvV"
      }
    },
    {
      "cell_type": "markdown",
      "source": [
        "## Lectures optionnelles\n",
        "\n",
        "Aucune lecture n'est imposée pour suivre ce cours mais vous trouverez dans StudiUM les références de quelques ouvrages qui pourront compléter les éléments abordés. "
      ],
      "metadata": {
        "id": "vXWCG_-r-vrX"
      }
    },
    {
      "cell_type": "markdown",
      "source": [
        "## Evaluation\n",
        "\n",
        "Le cours est évalué de la manière suivante : \n",
        "- 3 quizzes portant sur le contenu de chaque séance (20% par quiz)\n",
        "- 1 note de participation (40%)\n",
        "- 1 travail bonus de développement (jusqu'à 20%)\n",
        "\n",
        "Toutes les évaluations sont personnelles et ne peuvent être réalisées en groupe.\n",
        "\n",
        "⚠ **(préciser les dates limites)**"
      ],
      "metadata": {
        "id": "sROIkFkB_JKT"
      }
    },
    {
      "cell_type": "markdown",
      "source": [
        "# Le langage de programmation Python"
      ],
      "metadata": {
        "id": "04pO7QcDAKjb"
      }
    },
    {
      "cell_type": "markdown",
      "source": [
        "## Un langage de programmation ?\n",
        "\n",
        "- un vocabulaire pour exprimer des instructions\n",
        "- permet d'interagir avec une machine qui execute les instructions\n",
        "- un ensemble de conventions (syntaxe et bonnes pratiques)\n",
        "- un format de fichier pour enregistrer un ensemble d'instructions (`.py`)\n",
        "\n",
        "Programmer, c'est avant tout rédiger, mais en suivant les conventions du langage qu'on utilise."
      ],
      "metadata": {
        "id": "ZcTdJNDA1GvR"
      }
    },
    {
      "cell_type": "markdown",
      "source": [
        "## Description et historique de Python"
      ],
      "metadata": {
        "id": "X87aCjHD1JkQ"
      }
    },
    {
      "cell_type": "markdown",
      "source": [
        "- créé en 1989 par Guido van Rossum, \n",
        "    - première version publiée en 1991\n",
        "    - Python 2 publié en 2000\n",
        "    - Python 3 publié en 2008\n",
        "- développement organisé par la Python software Foundation\n",
        "- Python est open source et gratuit\n",
        "- le nom est une référence aux Monty Python\n",
        "\n",
        "\n",
        "<img src=\"https://upload.wikimedia.org/wikipedia/commons/thumb/f/f8/Python_logo_and_wordmark.svg/1920px-Python_logo_and_wordmark.svg.png\" width=\"400px\">"
      ],
      "metadata": {
        "id": "dpGzlBRQzaZn"
      }
    },
    {
      "cell_type": "markdown",
      "source": [
        "Les avantages de Python\n",
        "\n",
        "- fonctionne sur presque tous les systèmes d'exploitation (Windows, Mac OS, Linux, etc)\n",
        "- gratuit\n",
        "- bien documenté et avec une communauté active\n",
        "- très beginner-friendly (typage dynamique, gestion de la mémoire, etc), ce qui n'est pas le cas de tous les langages\n",
        "- applicable à de nombreux domaines (développement applicatif, machine learning, analyse de données, etc.)"
      ],
      "metadata": {
        "id": "kfCyZg9f9nlA"
      }
    },
    {
      "cell_type": "markdown",
      "source": [
        "## Python et ses versions"
      ],
      "metadata": {
        "id": "Ui_P9bROv6fJ"
      }
    },
    {
      "cell_type": "markdown",
      "source": [
        "- Python vient en plusieurs [versions](https://en.wikipedia.org/wiki/Software_versioning)."
      ],
      "metadata": {
        "id": "9Df51lEC-dWW"
      }
    },
    {
      "cell_type": "code",
      "source": [
        "!python --version"
      ],
      "metadata": {
        "colab": {
          "base_uri": "https://localhost:8080/"
        },
        "id": "XkZrSvb1v4GW",
        "outputId": "4ef38bae-80fa-42ba-b950-382132e1a786"
      },
      "execution_count": 1,
      "outputs": [
        {
          "output_type": "stream",
          "name": "stdout",
          "text": [
            "Python 3.10.11\n"
          ]
        }
      ]
    },
    {
      "cell_type": "markdown",
      "source": [
        "<img src=\"https://upload.wikimedia.org/wikipedia/commons/8/82/Semver.jpg\" width=\"200px\">\n",
        "\n",
        "\n",
        "- Python 2 n'est plus développé/soutenu depuis le 31 décembre 2019\n",
        "\n",
        "- Des syntaxes incompatibles entre Python 2 et Python 3 (ex: `print` vs. `print()`)\n"
      ],
      "metadata": {
        "id": "HUCxCNlXxKtW"
      }
    },
    {
      "cell_type": "code",
      "source": [
        "# voici une syntaxe qui fonctionnait dans Python 2 mais qui n'est plus supportée dans Python 3\n",
        "print \"hello\""
      ],
      "metadata": {
        "colab": {
          "base_uri": "https://localhost:8080/",
          "height": 131
        },
        "id": "xGdNwNcgyW8F",
        "outputId": "e9e6b992-335d-41bb-d785-2926fa64baf6"
      },
      "execution_count": 4,
      "outputs": [
        {
          "output_type": "error",
          "ename": "SyntaxError",
          "evalue": "ignored",
          "traceback": [
            "\u001b[0;36m  File \u001b[0;32m\"<ipython-input-4-2a0eaa89f43f>\"\u001b[0;36m, line \u001b[0;32m1\u001b[0m\n\u001b[0;31m    print \"hello\"\u001b[0m\n\u001b[0m    ^\u001b[0m\n\u001b[0;31mSyntaxError\u001b[0m\u001b[0;31m:\u001b[0m Missing parentheses in call to 'print'. Did you mean print(...)?\n"
          ]
        }
      ]
    },
    {
      "cell_type": "markdown",
      "source": [
        "- Certaines incompatibilités entre les versions mineurs (ex: es f-strings)\n"
      ],
      "metadata": {
        "id": "C8s-5Ips-fvT"
      }
    },
    {
      "cell_type": "code",
      "source": [
        "# les f-strings ne sont pas supportées par les versions antérieures a Python 3.6\n",
        "mon_prenom = \"Alix\"\n",
        "\n",
        "# avec f-string\n",
        "print(f\"Je m'appelle {mon_prenom}\")\n",
        "\n",
        "# sans f-string\n",
        "print(\"Je m'appelle {}\".format(mon_prenom))"
      ],
      "metadata": {
        "colab": {
          "base_uri": "https://localhost:8080/"
        },
        "id": "rBQwAypLy4Cc",
        "outputId": "cb4cdf23-f0ed-42d9-bbee-c4676bd0e6bc"
      },
      "execution_count": 6,
      "outputs": [
        {
          "output_type": "stream",
          "name": "stdout",
          "text": [
            "Je m'appelle Alix\n",
            "Je m'appelle Alix\n"
          ]
        }
      ]
    },
    {
      "cell_type": "markdown",
      "source": [
        "Pour le reste, le plus simple c'est de pratiquer pour comprendre la programmation et ce que Python a dans le coffre !"
      ],
      "metadata": {
        "id": "BltfoP-y-mvc"
      }
    },
    {
      "cell_type": "markdown",
      "source": [
        "# Notebooks Jupyter"
      ],
      "metadata": {
        "id": "jJ9OImd8B3bo"
      }
    },
    {
      "cell_type": "markdown",
      "source": [
        "## Sans Jupyter\n",
        "\n",
        "- installation locale de Python \n",
        "\n",
        "<img src=\"https://raw.githubusercontent.com/alix-tz/HNU6059/main/img/download_python.png\" width=\"600px\">\n",
        "\n",
        "\n",
        "- utilisation d'un éditeur de texte\n",
        "    - texte brut: *note*, *notepad++*, *sublime*, ...\n",
        "    - IDE (Environnement de Développement Intégré): Visual Studio Code, PyCharm, Atom, ...\n",
        "- exécution depuis la ligne de commande\n",
        "\n",
        "\n",
        "<img src=\"https://raw.githubusercontent.com/alix-tz/HNU6059/main/img/editeur_text_brut.png\" width=\"600px\">\n",
        "\n",
        "\n",
        "<img src=\"https://raw.githubusercontent.com/alix-tz/HNU6059/main/img/ide_vscode.png\" width=\"600px\">\n",
        "\n",
        "> Dans beaucoup de cas, c'est vraiment utile de programmer localement, mais quand on débute, ça fait beaucoup de choses à télécharger, installer et découvrir !"
      ],
      "metadata": {
        "id": "0YLsBrKE-xx4"
      }
    },
    {
      "cell_type": "markdown",
      "source": [
        "## Editeur et executeur de Python en ligne\n",
        "\n",
        "Il y a aussi des environnement d'exécution de Python en ligne: \n",
        "\n",
        "- https://www.python.org/shell/ (qui simule un terminal)\n",
        "\n",
        "- https://replit.com/languages/python3 (qui simule une forme simple d'IDE)\n",
        "\n"
      ],
      "metadata": {
        "id": "VO1iSuGxH14t"
      }
    },
    {
      "cell_type": "markdown",
      "source": [
        "## Et Jupyer, c'est quoi?"
      ],
      "metadata": {
        "id": "0ikOy1BVJD67"
      }
    },
    {
      "cell_type": "markdown",
      "source": [
        "- application web\n",
        "- développé depuis 2014\n",
        "- open source et gratuit\n",
        "- https://jupyter.org/about\n",
        "\n",
        "Ok mais c'est quoi ?\n",
        "\n",
        "Un ***document executable***\n",
        "- enregistré dans un fichier `.ipynb`\n",
        "- des blocs de texte (formaté avec Markdown)\n",
        "- des blocs de code (en Python ou dans d'autres langages)"
      ],
      "metadata": {
        "id": "YNYUq4mNJMIt"
      }
    },
    {
      "cell_type": "code",
      "source": [],
      "metadata": {
        "id": "uZP1qkMcJLhl"
      },
      "execution_count": null,
      "outputs": []
    },
    {
      "cell_type": "markdown",
      "source": [],
      "metadata": {
        "id": "bGg8mmFMLumC"
      }
    },
    {
      "cell_type": "markdown",
      "source": [
        "## Jupyter en local vs. Jupyter en ligne"
      ],
      "metadata": {
        "id": "Uw4azlD7Lxtu"
      }
    },
    {
      "cell_type": "markdown",
      "source": [
        "- installation locale de Jupyter (via Anaconda)\n",
        "- interaction avec le système de fichier local\n",
        "- pour les extensions, il faut gérer les installations locales\n",
        "- des options pour utiliser Jupyter en ligne:\n",
        "    - [MyBinder](https://mybinder.org/)\n",
        "    - [Google Colab](https://colab.research.google.com/)\n",
        "        - beaucoup d'extensions déjà installées\n",
        "        - gestion de l'historique comme pour un Google Doc\n",
        "        - mais il faut un compte Google\n",
        "    - Visualisation des `.ipynb` dans [GitHub](https://github.com/alix-tz/HNU6059/blob/main/jour_1/HNU3059_E2023_S1_Th%C3%A9orie.ipynb) (non interactif)"
      ],
      "metadata": {
        "id": "ewSwWW7tL88V"
      }
    },
    {
      "cell_type": "markdown",
      "source": [
        "## Pourquoi Jupyter pour ce cours ?"
      ],
      "metadata": {
        "id": "3t41LTw_M9q8"
      }
    },
    {
      "cell_type": "markdown",
      "source": [
        "- éviter les problèmes d'installation locale\n",
        "- se concentrer sur le travail par blocs"
      ],
      "metadata": {
        "id": "0Ry1YFStNBp-"
      }
    },
    {
      "cell_type": "markdown",
      "source": [
        "## Astuce Colab"
      ],
      "metadata": {
        "id": "KACnWc1oODsl"
      }
    },
    {
      "cell_type": "markdown",
      "source": [
        "Activer l'affichage des numéros de ligne dans les blocs de code : \n",
        "\n",
        "- `Ctrl` + `M` + `L`"
      ],
      "metadata": {
        "id": "Bk7tTbKWw6LW"
      }
    },
    {
      "cell_type": "markdown",
      "source": [
        "## Testons MyBinder et Colab"
      ],
      "metadata": {
        "id": "rJi_fnkYN9Xp"
      }
    },
    {
      "cell_type": "markdown",
      "source": [
        "Dans [Colab](https://colab.research.google.com/) :\n",
        "\n",
        "- aller sur la page de Google Colaboratory\n",
        "- (s'authentifier)\n",
        "- cliquer sur \"ouvrir un notebook\", puis \"GitHub\"\n",
        "- utiliser l'URL du répertoire GitHub (https://github.com/alix-tz/HNU6059)\n",
        "- sélectionner le notebook\n",
        "\n",
        "<img src=\"https://raw.githubusercontent.com/alix-tz/HNU6059/main/img/import_in_colab.png\" width=\"600px\">\n",
        "\n",
        "Dans [MyBinder](https://mybinder.org/) :\n",
        "\n",
        "- aller sur la page d'accueil de MyBinder\n",
        "- copier-coller l'URL du repertoire GitHub (https://github.com/alix-tz/HNU6059)\n",
        "- cliquer sur \"launch\"\n",
        "- sélectionner le notebook\n",
        "\n",
        "<img src=\"https://raw.githubusercontent.com/alix-tz/HNU6059/main/img/import_in_mybinder.png\" width=\"600px\">"
      ],
      "metadata": {
        "id": "QteEt1Q2B_Wt"
      }
    },
    {
      "cell_type": "markdown",
      "source": [
        "## Pratique\n",
        "\n",
        "- essayons d'importer ce notebook dans ces environnements et d'éditer le document.\n",
        "- voyons ensemble l'interface"
      ],
      "metadata": {
        "id": "SD06BQemCY1C"
      }
    },
    {
      "cell_type": "code",
      "source": [
        "print(\"Shall we begin?\")"
      ],
      "metadata": {
        "colab": {
          "base_uri": "https://localhost:8080/"
        },
        "id": "GOrZknVgC2Zm",
        "outputId": "38bc7c93-35d6-4025-a9ca-aeb2de246cdb"
      },
      "execution_count": null,
      "outputs": [
        {
          "output_type": "stream",
          "name": "stdout",
          "text": [
            "Shall we begin?\n"
          ]
        }
      ]
    },
    {
      "cell_type": "markdown",
      "source": [
        "# Lien vers le prochain notebook\n",
        "\n",
        "➡ https://github.com/alix-tz/HNU6059/blob/main/jour_1/HNU3059_E2023_S1_Pratique.ipynb"
      ],
      "metadata": {
        "id": "vHUc1h8AC-RG"
      }
    }
  ]
}
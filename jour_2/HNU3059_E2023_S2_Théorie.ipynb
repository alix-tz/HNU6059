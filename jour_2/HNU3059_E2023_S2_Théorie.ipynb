{
  "nbformat": 4,
  "nbformat_minor": 0,
  "metadata": {
    "colab": {
      "provenance": [],
      "toc_visible": true
    },
    "kernelspec": {
      "name": "python3",
      "display_name": "Python 3"
    },
    "language_info": {
      "name": "python"
    }
  },
  "cells": [
    {
      "cell_type": "markdown",
      "source": [
        "# HNU 3059 (HNU 6059) - Séance 2 - Théorie\n",
        "\n",
        "Lien vers le cours sur StudiUM: https://studium.umontreal.ca/course/view.php?id=237645\n"
      ],
      "metadata": {
        "id": "omhdCs_s4ouL"
      }
    },
    {
      "cell_type": "markdown",
      "source": [
        "# Contenu de ce notebook\n",
        "\n",
        "1. PEP 8 et les PEP en général\n",
        "2. Communauté Python\n",
        "3. Petite histoire de l'informatique pour une mise en perspective"
      ],
      "metadata": {
        "id": "_T0Ywe064r6a"
      }
    },
    {
      "cell_type": "markdown",
      "source": [
        "# Les Python Enhancement Proposals et la PEP 8"
      ],
      "metadata": {
        "id": "XVw7qMCY4192"
      }
    },
    {
      "cell_type": "markdown",
      "source": [
        "## Définition selon la PEP 1\n",
        "\n",
        "https://peps.python.org/pep-0001/"
      ],
      "metadata": {
        "id": "9qM7Lqg4kkU8"
      }
    },
    {
      "cell_type": "markdown",
      "source": [
        "\n",
        "- un document de design qui permet un consensus sur l'ajout de fonctionnalités\n",
        "- décrit et justifie une fonctionnalité, mais aussi des bonnes pratiques\n",
        "- public visé par les PEP : principalement les développeur-ses de Python\n",
        "- 3 types (standard track, informational, process)\n",
        "- les PEP 'informational' peuvent s'adresser aux utilisateur-rices de Python"
      ],
      "metadata": {
        "id": "6mBz643rly0H"
      }
    },
    {
      "cell_type": "markdown",
      "source": [
        "## La PEP 20\n",
        "\n",
        "- https://peps.python.org/pep-0020/"
      ],
      "metadata": {
        "id": "-ENpSfKA5jcf"
      }
    },
    {
      "cell_type": "code",
      "source": [
        "import this"
      ],
      "metadata": {
        "colab": {
          "base_uri": "https://localhost:8080/"
        },
        "id": "JTQTQbuF5FZJ",
        "outputId": "1b130926-7d24-4596-da37-0e147806c8d1"
      },
      "execution_count": 1,
      "outputs": [
        {
          "output_type": "stream",
          "name": "stdout",
          "text": [
            "The Zen of Python, by Tim Peters\n",
            "\n",
            "Beautiful is better than ugly.\n",
            "Explicit is better than implicit.\n",
            "Simple is better than complex.\n",
            "Complex is better than complicated.\n",
            "Flat is better than nested.\n",
            "Sparse is better than dense.\n",
            "Readability counts.\n",
            "Special cases aren't special enough to break the rules.\n",
            "Although practicality beats purity.\n",
            "Errors should never pass silently.\n",
            "Unless explicitly silenced.\n",
            "In the face of ambiguity, refuse the temptation to guess.\n",
            "There should be one-- and preferably only one --obvious way to do it.\n",
            "Although that way may not be obvious at first unless you're Dutch.\n",
            "Now is better than never.\n",
            "Although never is often better than *right* now.\n",
            "If the implementation is hard to explain, it's a bad idea.\n",
            "If the implementation is easy to explain, it may be a good idea.\n",
            "Namespaces are one honking great idea -- let's do more of those!\n"
          ]
        }
      ]
    },
    {
      "cell_type": "markdown",
      "source": [
        "## La PEP 8\n",
        "\n",
        "- https://peps.python.org/pep-0008/"
      ],
      "metadata": {
        "id": "Pxpj8d5K5IrK"
      }
    },
    {
      "cell_type": "markdown",
      "source": [
        "# Communauté Python"
      ],
      "metadata": {
        "id": "ep7rpOkG5y-r"
      }
    },
    {
      "cell_type": "markdown",
      "source": [
        "- utiliser un programme c'est rejoindre une communauté d'utilisateur-rices\n",
        "- [stackoverflow](https://stackoverflow.com/)\n",
        "    - exemple: https://stackoverflow.com/questions/1720421/how-do-i-concatenate-two-lists-in-python\n",
        "- du code source qu'on peut aller lire (sur [Github](https://github.com/search?q=python+language%3APython+&type=repositories&l=Python) par exemple)\n",
        "- https://twitter.com/cool_python"
      ],
      "metadata": {
        "id": "G-tpqtRHpMB_"
      }
    },
    {
      "cell_type": "markdown",
      "source": [
        "# Petite histoire des langages informatiques"
      ],
      "metadata": {
        "id": "8PGRJKya54ms"
      }
    },
    {
      "cell_type": "markdown",
      "source": [
        "- quels autres langages connaissez-vous ?\n",
        "- peut-on les regrouper ? (usage, niveau de complexité, etc)\n"
      ],
      "metadata": {
        "id": "7y9_wCw_59FY"
      }
    },
    {
      "cell_type": "markdown",
      "source": [
        "# Lien vers le prochain notebook\n",
        "\n",
        "➡ https://github.com/alix-tz/HNU6059/blob/main/jour_1/HNU3059_E2023_S2_Pratique.ipynb"
      ],
      "metadata": {
        "id": "SkAjxhSV4yXk"
      }
    }
  ]
}
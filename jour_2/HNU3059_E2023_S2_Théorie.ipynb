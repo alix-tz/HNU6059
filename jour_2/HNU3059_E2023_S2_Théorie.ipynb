{
  "cells": [
    {
      "cell_type": "markdown",
      "metadata": {
        "id": "omhdCs_s4ouL"
      },
      "source": [
        "# HNU 3059 (HNU 6059) - Séance 2 - Théorie\n",
        "\n",
        "Lien vers le cours sur StudiUM: https://studium.umontreal.ca/course/view.php?id=312237\n"
      ]
    },
    {
      "cell_type": "markdown",
      "metadata": {
        "id": "_T0Ywe064r6a"
      },
      "source": [
        "# Contenu de ce notebook\n",
        "\n",
        "1. PEP 8 et les PEP en général\n",
        "2. Communauté Python"
      ]
    },
    {
      "cell_type": "markdown",
      "metadata": {
        "id": "XVw7qMCY4192"
      },
      "source": [
        "# Les Python Enhancement Proposals et la PEP 8"
      ]
    },
    {
      "cell_type": "markdown",
      "metadata": {
        "id": "9qM7Lqg4kkU8"
      },
      "source": [
        "## Définition selon la PEP 1\n",
        "\n",
        "https://peps.python.org/pep-0001/"
      ]
    },
    {
      "cell_type": "markdown",
      "metadata": {
        "id": "6mBz643rly0H"
      },
      "source": [
        "\n",
        "- un document de design qui permet un consensus sur l'ajout de fonctionnalités\n",
        "- décrit et justifie une fonctionnalité, mais aussi des bonnes pratiques\n",
        "- public visé par les PEP : principalement les développeur-ses de Python\n",
        "- 3 types (standard track, informational, process)\n",
        "- les PEP 'informational' peuvent s'adresser aux utilisateur-rices de Python"
      ]
    },
    {
      "cell_type": "markdown",
      "metadata": {
        "id": "-ENpSfKA5jcf"
      },
      "source": [
        "## La PEP 20\n",
        "\n",
        "- https://peps.python.org/pep-0020/"
      ]
    },
    {
      "cell_type": "code",
      "execution_count": 1,
      "metadata": {
        "colab": {
          "base_uri": "https://localhost:8080/"
        },
        "id": "JTQTQbuF5FZJ",
        "outputId": "1b130926-7d24-4596-da37-0e147806c8d1"
      },
      "outputs": [
        {
          "name": "stdout",
          "output_type": "stream",
          "text": [
            "The Zen of Python, by Tim Peters\n",
            "\n",
            "Beautiful is better than ugly.\n",
            "Explicit is better than implicit.\n",
            "Simple is better than complex.\n",
            "Complex is better than complicated.\n",
            "Flat is better than nested.\n",
            "Sparse is better than dense.\n",
            "Readability counts.\n",
            "Special cases aren't special enough to break the rules.\n",
            "Although practicality beats purity.\n",
            "Errors should never pass silently.\n",
            "Unless explicitly silenced.\n",
            "In the face of ambiguity, refuse the temptation to guess.\n",
            "There should be one-- and preferably only one --obvious way to do it.\n",
            "Although that way may not be obvious at first unless you're Dutch.\n",
            "Now is better than never.\n",
            "Although never is often better than *right* now.\n",
            "If the implementation is hard to explain, it's a bad idea.\n",
            "If the implementation is easy to explain, it may be a good idea.\n",
            "Namespaces are one honking great idea -- let's do more of those!\n"
          ]
        }
      ],
      "source": [
        "import this"
      ]
    },
    {
      "cell_type": "markdown",
      "metadata": {
        "id": "Pxpj8d5K5IrK"
      },
      "source": [
        "## La PEP 8\n",
        "\n",
        "- https://peps.python.org/pep-0008/"
      ]
    },
    {
      "cell_type": "markdown",
      "metadata": {
        "id": "ep7rpOkG5y-r"
      },
      "source": [
        "# Communauté Python"
      ]
    },
    {
      "cell_type": "markdown",
      "metadata": {
        "id": "G-tpqtRHpMB_"
      },
      "source": [
        "- utiliser un programme c'est rejoindre une communauté d'utilisateur-rices\n",
        "- [stackoverflow](https://stackoverflow.com/)\n",
        "    - exemple: https://stackoverflow.com/questions/1720421/how-do-i-concatenate-two-lists-in-python\n",
        "- du code source qu'on peut aller lire (sur [Github](https://github.com/search?q=python+language%3APython+&type=repositories&l=Python) par exemple)\n",
        "- https://twitter.com/cool_python"
      ]
    },
    {
      "cell_type": "markdown",
      "metadata": {
        "id": "SkAjxhSV4yXk"
      },
      "source": [
        "# Lien vers le prochain notebook\n",
        "\n",
        "➡ https://github.com/alix-tz/HNU6059/blob/main/jour_1/HNU3059_E2023_S2_Pratique.ipynb"
      ]
    }
  ],
  "metadata": {
    "colab": {
      "provenance": [],
      "toc_visible": true
    },
    "kernelspec": {
      "display_name": "Python 3",
      "name": "python3"
    },
    "language_info": {
      "name": "python"
    }
  },
  "nbformat": 4,
  "nbformat_minor": 0
}

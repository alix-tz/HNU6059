{
  "cells": [
    {
      "cell_type": "markdown",
      "metadata": {
        "id": "AHYdzulnIPu5"
      },
      "source": [
        "# HNU 3059 (HNU 6059) - Séance 2 - Exercices\n",
        "\n",
        "Lien vers le cours sur StudiUM: https://studium.umontreal.ca/course/view.php?id=278064\n"
      ]
    },
    {
      "cell_type": "markdown",
      "metadata": {
        "id": "zTKX4C7QIYd4"
      },
      "source": [
        "⬅ lien vers le précédent notebook: https://github.com/alix-tz/HNU6059/blob/main/jour_2/HNU3059_E2023_S2_Pratique.ipynb"
      ]
    },
    {
      "cell_type": "markdown",
      "metadata": {
        "id": "57UcAGI3IWCJ"
      },
      "source": [
        "# Contenu de ce notebook\n",
        "\n",
        "1. Egalités\n",
        "2. Comparaisons arithmétiques\n",
        "3. Opérateurs booléens I\n",
        "4. Opérateurs booléens II\n",
        "5. Conditions\n",
        "6. Itérations\n",
        "7. Bounce\n",
        "8. Bonus Dictionnaires I\n",
        "9. Bonus Dictionnaires II"
      ]
    },
    {
      "cell_type": "markdown",
      "metadata": {
        "id": "RZdLRvdhIfDz"
      },
      "source": [
        "# 1. Egalités\n",
        "\n",
        "- testez l'égalité de `10` et `\"10\"` et affichez le résultat\n",
        "- testez la non égalité de \"10.0\" et \"10\" et affichez le résultat"
      ]
    },
    {
      "cell_type": "code",
      "execution_count": null,
      "metadata": {
        "id": "H4NqP37XI7HG"
      },
      "outputs": [],
      "source": [
        "# écrite le code ici"
      ]
    },
    {
      "cell_type": "markdown",
      "metadata": {
        "id": "6V1J27DAI6XX"
      },
      "source": [
        "# 2. Comparaisons arithmétiques\n",
        "\n",
        "- créer la variable `pi` telle que `pi == 3.14`\n",
        "- tester si $5 \\times 5$ est plus grand que 30\n",
        "- tester si $5 \\times 3.1$ est plus petit que $\\pi + 3$\n",
        "- tester si $5 \\times 5$ est plus petit ou égal à 25.0\n",
        "- tester si $5 \\times 5$ est plus grand ou égal à $25.0 - \\pi$\n",
        "- tester si `\"baba\"` est plus grand que `\"pi\"`\n"
      ]
    },
    {
      "cell_type": "code",
      "execution_count": null,
      "metadata": {
        "id": "FT7ZLVOBJ7cq"
      },
      "outputs": [],
      "source": [
        "# écrire le code ici"
      ]
    },
    {
      "cell_type": "markdown",
      "metadata": {
        "id": "hSIrxDXLJ8zX"
      },
      "source": [
        "# 3. Opérateurs booléens I"
      ]
    },
    {
      "cell_type": "markdown",
      "metadata": {
        "id": "2B1McoTJKEFu"
      },
      "source": [
        "- quel est le résultat de `not \"vrai\"`?\n",
        "- quel est le résultat de `not 56 > 42`?\n",
        "- quel est le résultat de `testeur == (not 56)`?\n",
        "- quel est le résultat de `not (56 != bool(pi))`?\n",
        "- quel est le résultat de `not (not True == 42)`?\n"
      ]
    },
    {
      "cell_type": "code",
      "execution_count": null,
      "metadata": {
        "id": "8hdyKVd7KDqj"
      },
      "outputs": [],
      "source": [
        "testeur = False\n",
        "\n",
        "# écrire le code ici"
      ]
    },
    {
      "cell_type": "markdown",
      "metadata": {
        "id": "kdWfHhC3K2bm"
      },
      "source": [
        "# 4. Opérateurs booléens II"
      ]
    },
    {
      "cell_type": "markdown",
      "metadata": {
        "id": "Cp_AB5P_LCVb"
      },
      "source": [
        "- quel sera le résultat de : `bool(\"a\" and \"b\")` ?\n",
        "- quel sera le résultat de : `not (24 < 42) and not True` ?\n",
        "- quel sera le résultat de : `not 56 == testeur and bool(\"\")` ?\n",
        "- quel sera le résultat de : `True and False` ?\n",
        "- quel sera le résultat de : `True or True` ?\n",
        "- quel sera le résultat de : `24 < 42 or \"abcdefg\"` ?\n",
        "- quel sera le résultat de : `reponse == \"oui\" or reponse == \"o\"` ?\n",
        "- quel sera le résultat de : `False or type(45) == type(45.0)` ?\n",
        "- quel sera le résultat de : `not (56 == testeur and bool(\"\")) or type(\"hello\") == type(str(\"42\"))` ?"
      ]
    },
    {
      "cell_type": "code",
      "execution_count": null,
      "metadata": {
        "id": "Xdntn8M8K5ay"
      },
      "outputs": [],
      "source": [
        "testeur = False\n",
        "reponse = \"oui\"\n",
        "\n",
        "# écrire le code ici"
      ]
    },
    {
      "cell_type": "markdown",
      "metadata": {
        "id": "m7TBIqdeLkdc"
      },
      "source": [
        "# 5. Conditions"
      ]
    },
    {
      "cell_type": "code",
      "execution_count": 26,
      "metadata": {
        "id": "kLUs7tKsLkCe"
      },
      "outputs": [],
      "source": [
        "# bloc à executer avant de faire les exercices sur les conditions\n",
        "\n",
        "# Ouvrage A\n",
        "titre_A = 'A'\n",
        "tradition_A = 'Copie'\n",
        "temoin_A = 'Copie. Bibl. nat., Dupuy 350. fol. 57.'\n",
        "institution_A = 'Paris, Bibl. nat. Fr.'\n",
        "nb_pages_A = 234\n",
        "\n",
        "# Ouvrage B\n",
        "titre_B = 'B'\n",
        "tradition_B = 'Original'\n",
        "temoin_B = 'Aut. Bibl. nat., Fonds français, n° 3387, f° 5.'\n",
        "institution_B = 'Turin, Archivio di Stato'\n",
        "nb_pages_B = 100\n",
        "\n",
        "# Ouvrage C\n",
        "titre_C = 'C'\n",
        "tradition_C = 'Original'\n",
        "temoin_C = 'Aut. Bibl. nat., Fonds français, n° 3387, f° 5.'\n",
        "institution_C = 'Inconnue'\n",
        "nb_pages_C = 51\n",
        "# -----------------------------------"
      ]
    },
    {
      "cell_type": "markdown",
      "metadata": {
        "id": "G1YfbTcALxP5"
      },
      "source": [
        "## 5.1 Livre à Turin\n",
        "\n",
        "- pour chaque ouvrage, tester s'il est conservé à Turin\n",
        "- s'il est conservé à Turin, afficher un texte qui l'indique et qui donne son titre\n",
        "- sinon, ne rien faire"
      ]
    },
    {
      "cell_type": "code",
      "execution_count": null,
      "metadata": {
        "id": "2nhM4V4yMKS9"
      },
      "outputs": [],
      "source": [
        "# écrire le code ici"
      ]
    },
    {
      "cell_type": "markdown",
      "metadata": {
        "id": "sHr4khLNMJF0"
      },
      "source": [
        "## 5.2 Traditions\n",
        "\n",
        "- pour chaque ouvrage, tester si sa tradition est différente de \"Copie\"\n",
        "- si oui, afficher son titre et son institution de conservation\n",
        "- sinon, afficher, son titre, son institution de conservation et sa tradition"
      ]
    },
    {
      "cell_type": "code",
      "execution_count": 31,
      "metadata": {
        "colab": {
          "base_uri": "https://localhost:8080/"
        },
        "id": "9pRy75pAMegq",
        "outputId": "1411eb58-728f-4daa-f3b5-8b9822316c6a"
      },
      "outputs": [
        {
          "name": "stdout",
          "output_type": "stream",
          "text": [
            "L'ouvrage A est conservé à Paris, Bibl. nat. Fr.\n",
            "L'ouvrage B est conservé à Turin, Archivio di Stato\n"
          ]
        }
      ],
      "source": [
        "# écrire le code ici\n",
        "\n",
        "#titre_A = 'A'\n",
        "#tradition_A = 'Copie'\n",
        "#temoin_A = 'Copie. Bibl. nat., Dupuy 350. fol. 57.'\n",
        "#institution_A = 'Paris, Bibl. nat. Fr.'\n",
        "#nb_pages_A = 234\n",
        "\n",
        "if tradition_A != 'Copie ':\n",
        "    print(f\"L'ouvrage {titre_A} est conservé à {institution_A}\")\n",
        "else:\n",
        "    print(f\"L'ouvrage {titre_A} est une {tradition_A} et est conservé à {institution_A}\")\n",
        "\n",
        "if tradition_B != 'Copie':\n",
        "    print(f\"L'ouvrage {titre_B} est conservé à {institution_B}\")\n",
        "else:\n",
        "    print(f\"L'ouvrage {titre_B} est une {tradition_B} et est conservé à {institution_B}\")"
      ]
    },
    {
      "cell_type": "code",
      "execution_count": 5,
      "metadata": {
        "colab": {
          "base_uri": "https://localhost:8080/"
        },
        "id": "JX6hDt5Ji_Kj",
        "outputId": "1d2f9c97-71af-4748-9e61-1220a1a8d8ab"
      },
      "outputs": [
        {
          "name": "stdout",
          "output_type": "stream",
          "text": [
            "L'ouvrage A est une Copie et est conservé à Paris, Bibl. nat. Fr.\n"
          ]
        }
      ],
      "source": [
        "def trouver_copie(tradition, titre, institution):\n",
        "    if tradition != \"Copie\":\n",
        "        print(f\"L'ouvrage {titre} est conservé à {institution}\")\n",
        "    else:\n",
        "        print(f\"L'ouvrage {titre} est une {tradition} et est conservé à {institution}\")\n",
        "\n",
        "trouver_copie(tradition_A, titre_A, institution_A)"
      ]
    },
    {
      "cell_type": "code",
      "execution_count": 7,
      "metadata": {
        "id": "vJVS98wHjeYz"
      },
      "outputs": [],
      "source": [
        "# nota : les fonctions peuvent renvoyer différentes valeurs !\n",
        "def trouver_copie(tradition):\n",
        "    if tradition != \"Copie\":\n",
        "        return False\n",
        "    elif tradition == \"hello\":\n",
        "        return \"hello\"\n",
        "    else:\n",
        "        return True"
      ]
    },
    {
      "cell_type": "markdown",
      "metadata": {
        "id": "iXYJOXX9MgZ0"
      },
      "source": [
        "## 5.3 Pages\n",
        "\n",
        "- tester si le nombre de page total (en cumulant celles de toutes les ouvrages) est supérieur à 300\n",
        "- si oui, afficher le nombre de pages excédentaires\n",
        "- s'il est inférieur à 300, indiquer combien de pages il manque pour atteindre 300\n",
        "- sinon, afficher qu'on a exactement 300 pages"
      ]
    },
    {
      "cell_type": "code",
      "execution_count": 20,
      "metadata": {
        "colab": {
          "base_uri": "https://localhost:8080/"
        },
        "id": "ksywGwVGM2R_",
        "outputId": "7e48e4b7-10a7-45b0-c5bc-f3642b20d0e2"
      },
      "outputs": [
        {
          "name": "stdout",
          "output_type": "stream",
          "text": [
            "<class 'int'>\n",
            "Il y a 85 pages en trop\n"
          ]
        }
      ],
      "source": [
        "# écrire le code ici\n",
        "\n",
        "nb_pages_visé = 300\n",
        "total = nb_pages_A + nb_pages_B + nb_pages_C\n",
        "\n",
        "if total > nb_pages_visé:\n",
        "    print(f\"Il y a {total - nb_pages_visé} pages en trop\")\n",
        "elif total == nb_pages_visé:\n",
        "    print(f\"Il y a exactement {nb_pages_visé} pages\")\n",
        "else:\n",
        "    print(f\"Il manque {nb_pages_visé - total} pages\")"
      ]
    },
    {
      "cell_type": "markdown",
      "metadata": {
        "id": "JCpvEQntM8TS"
      },
      "source": [
        "## 5.4 Copies\n",
        "\n",
        "- tester s'il existe au moins une \"Copie\" parmi les ouvrages"
      ]
    },
    {
      "cell_type": "code",
      "execution_count": 27,
      "metadata": {
        "colab": {
          "base_uri": "https://localhost:8080/"
        },
        "id": "UF7bu_H4M73G",
        "outputId": "f9db8635-58ce-415e-876a-64957b6aa186"
      },
      "outputs": [
        {
          "name": "stdout",
          "output_type": "stream",
          "text": [
            "True\n"
          ]
        }
      ],
      "source": [
        "# écrire le code ici\n",
        "\n",
        "if \"Copie\" in tradition_A or \"Copie\" in  tradition_B or \"Copie\" in tradition_C:\n",
        "    print(True)\n",
        "else:\n",
        "    print(\"ça n'a pas marché\")"
      ]
    },
    {
      "cell_type": "code",
      "execution_count": 32,
      "metadata": {
        "colab": {
          "base_uri": "https://localhost:8080/"
        },
        "id": "bl60XkaqmS_J",
        "outputId": "31396267-29b3-4f7d-8042-64042a11d0e1"
      },
      "outputs": [
        {
          "name": "stdout",
          "output_type": "stream",
          "text": [
            "Il y a bien une copie dans les ouvrages.\n",
            "['Copie', 'Original', 'Original']\n"
          ]
        }
      ],
      "source": [
        "liste_de_traditions = [tradition_A, tradition_B, tradition_C]\n",
        "\n",
        "if \"Copie\" in liste_de_traditions:\n",
        "    print(\"Il y a bien une copie dans les ouvrages.\")\n",
        "\n",
        "print(liste_de_traditions)"
      ]
    },
    {
      "cell_type": "code",
      "execution_count": 38,
      "metadata": {
        "colab": {
          "base_uri": "https://localhost:8080/"
        },
        "id": "sIJbtxdlmuLJ",
        "outputId": "6aae160c-bee0-43d0-bd71-5c9fc33d112e"
      },
      "outputs": [
        {
          "name": "stdout",
          "output_type": "stream",
          "text": [
            "Il y a une copie !\n"
          ]
        }
      ],
      "source": [
        "liste_de_traditions = [tradition_A, tradition_B, tradition_C]\n",
        "\n",
        "for tradition in liste_de_traditions:\n",
        "    if 'COPIE' in tradition.upper():\n",
        "        print(\"Il y a une copie !\")"
      ]
    },
    {
      "cell_type": "code",
      "execution_count": 48,
      "metadata": {
        "colab": {
          "base_uri": "https://localhost:8080/"
        },
        "id": "2rdUWivcnWqf",
        "outputId": "8a939e7b-e944-48c2-b71c-2512a8b02c6c"
      },
      "outputs": [
        {
          "name": "stdout",
          "output_type": "stream",
          "text": [
            "le mot n'est pas en majuscule (9/11)\n"
          ]
        }
      ],
      "source": [
        "# de l'intérêt de isupper()\n",
        "\n",
        "upper = \"ABCDEFGHIJKLMNOPQRSTUVWXYZ \"\n",
        "is_upper = 0\n",
        "ma_chaine = \"ALIX CHAGUÉ\"\n",
        "\n",
        "for letter in ma_chaine:\n",
        "    if letter in upper:\n",
        "        is_upper += 1\n",
        "\n",
        "if len(ma_chaine) == is_upper:\n",
        "    print(\"le mot est en majuscule\")\n",
        "else:\n",
        "    print(f\"le mot n'est pas en majuscule ({is_upper}/{len(ma_chaine)})\")"
      ]
    },
    {
      "cell_type": "markdown",
      "metadata": {
        "id": "Wy_vW9hcNDM2"
      },
      "source": [
        "## 5.5 PEB\n",
        "\n",
        "Imaginons que seuls les ouvrages de Paris et de Turin sont disponibles à la consultation.\n",
        "\n",
        "Pour chaque ouvrage:\n",
        "- S'il est conservé à Paris, Bibl. nat. Fr. OU à Turin, Archivio di Stato, afficher toutes les informations dont vous disposez\n",
        "- Sinon, afficher le message 'Ouvrage {titre} non disponible'"
      ]
    },
    {
      "cell_type": "code",
      "execution_count": 51,
      "metadata": {
        "colab": {
          "base_uri": "https://localhost:8080/"
        },
        "id": "MsbfGFOINTbT",
        "outputId": "c1a9d3ad-ef64-4893-dbf5-1356c47bffc4"
      },
      "outputs": [
        {
          "name": "stdout",
          "output_type": "stream",
          "text": [
            "Toutes les infos...\n",
            "Toutes les infos...\n",
            "Ouvrage C n'est pas disponible\n"
          ]
        },
        {
          "data": {
            "text/plain": [
              "False"
            ]
          },
          "execution_count": 51,
          "metadata": {},
          "output_type": "execute_result"
        }
      ],
      "source": [
        "# écrire le code ici\n",
        "\n",
        "def est_disponible(institution, titre):\n",
        "    if institution == \"Paris, Bibl. nat. Fr.\" or institution == \"Turin, Archivio di Stato\":\n",
        "        print(f\"Toutes les infos...\")\n",
        "        return True\n",
        "    else:\n",
        "        print(f\"Ouvrage {titre} n'est pas disponible\")\n",
        "        return False\n",
        "\n",
        "est_disponible(institution_A, titre_A)\n",
        "est_disponible(institution_B, titre_B)\n",
        "est_disponible(institution_C, titre_C)\n"
      ]
    },
    {
      "cell_type": "code",
      "execution_count": null,
      "metadata": {
        "id": "PgxK0N9vqvNS"
      },
      "outputs": [],
      "source": [
        "if institution_A == \"Paris, Bibl. nat. Fr.\":\n",
        "    print(f\"Toutes les infos...\")\n",
        "\n",
        "if institution_B == \"Turin, Archivio di Stato\":\n",
        "    print(f\"Toutes les infos...\")\n",
        "\n",
        "if institution_C != \"Paris, Bibl. nat. Fr.\" or institution_C != \"Turin, Archivio di Stato\":\n",
        "    print(f\"Ouvrage {titre_C} non disponible\")"
      ]
    },
    {
      "cell_type": "markdown",
      "metadata": {
        "id": "7yKdu4zzNfnO"
      },
      "source": [
        "## 5.6 Selectif\n",
        "\n",
        "- Afficher le témoin des ouvrages respectant AU MOINS une des contraintes suivantes :\n",
        "    - plus de 50 pages mais de moins de 100 pages\n",
        "    - l'institution est 'Inconnue'"
      ]
    },
    {
      "cell_type": "code",
      "execution_count": 53,
      "metadata": {
        "colab": {
          "base_uri": "https://localhost:8080/"
        },
        "id": "AtBegcSjNset",
        "outputId": "564951d6-aae1-4bd0-ddab-2a52fd2b46c2"
      },
      "outputs": [
        {
          "name": "stdout",
          "output_type": "stream",
          "text": [
            "Aut. Bibl. nat., Fonds français, n° 3387, f° 5.\n"
          ]
        }
      ],
      "source": [
        "# écrire le code ici\n",
        "def filtre(nb_de_pages, institution):\n",
        "    if 50 < nb_de_pages < 100 and institution == \"Inconnue\":\n",
        "        return True\n",
        "    else:\n",
        "        return False\n",
        "\n",
        "if filtre(nb_pages_A, institution_A):\n",
        "    print(temoin_A)\n",
        "\n",
        "if filtre(nb_pages_B, institution_B):\n",
        "    print(temoin_B)\n",
        "\n",
        "if filtre(nb_pages_C, institution_C):\n",
        "    print(temoin_C)"
      ]
    },
    {
      "cell_type": "markdown",
      "metadata": {
        "id": "DcB4g27mNpqg"
      },
      "source": [
        "# 6. Itérations"
      ]
    },
    {
      "cell_type": "markdown",
      "metadata": {
        "id": "qhtQt6GlNyWl"
      },
      "source": [
        "## 6.1 Pyramides\n",
        "\n",
        "Rédiger un petit programme qui affiche le dessin suivant :\n",
        "```\n",
        "*\n",
        "* *\n",
        "* * *\n",
        "* * * *\n",
        "* * * * *\n",
        "* * * *\n",
        "* * *\n",
        "* *\n",
        "*\n",
        "```"
      ]
    },
    {
      "cell_type": "code",
      "execution_count": 13,
      "metadata": {
        "colab": {
          "base_uri": "https://localhost:8080/"
        },
        "id": "xLJabIa4Wsxp",
        "outputId": "2f6ef9c9-8800-442e-91ab-4cde37df17e0"
      },
      "outputs": [
        {
          "name": "stdout",
          "output_type": "stream",
          "text": [
            "* \n",
            "* * \n",
            "* * * \n",
            "* * * * \n",
            "* * * * * \n",
            "* * * * \n",
            "* * * \n",
            "* * \n",
            "* \n"
          ]
        }
      ],
      "source": [
        "# solution avec 2 boucles\n",
        "\n",
        "motif = \"* \"\n",
        "taille = 9\n",
        "\n",
        "for i in range(5):\n",
        "    print(motif * (i+1))\n",
        "\n",
        "for i in range(4, 0, -1):\n",
        "    print(motif * i)"
      ]
    },
    {
      "cell_type": "code",
      "execution_count": 19,
      "metadata": {
        "colab": {
          "base_uri": "https://localhost:8080/"
        },
        "id": "0cfSOIfuN6oj",
        "outputId": "62209f60-837a-42f6-e90a-0f429a94f506"
      },
      "outputs": [
        {
          "name": "stdout",
          "output_type": "stream",
          "text": [
            "* \n",
            "* * \n",
            "* * * \n",
            "* * * * \n",
            "* * * * * \n",
            "* * * * \n",
            "* * * \n",
            "* * \n",
            "* \n"
          ]
        }
      ],
      "source": [
        "# écrire le code ici\n",
        "\n",
        "# solution avec une seule boucle et un peu de maths\n",
        "\n",
        "motif = \"* \"\n",
        "taille = 9\n",
        "bottom = taille // 2\n",
        "\n",
        "for i in range(taille):\n",
        "    if i < bottom:\n",
        "        print(motif * (i + 1))\n",
        "    else:\n",
        "        print(motif * (taille - i))"
      ]
    },
    {
      "cell_type": "markdown",
      "metadata": {
        "id": "zvZoedXPN99B"
      },
      "source": [
        "## 6.2 Itération sur une liste\n",
        "\n",
        "- créer une liste contenant plusieurs objets\n",
        "- faire une boucle qui, pour chaque élément de la liste, affiche l'élément puis son type"
      ]
    },
    {
      "cell_type": "code",
      "execution_count": 55,
      "metadata": {
        "colab": {
          "base_uri": "https://localhost:8080/"
        },
        "id": "9ltNhDPQOM9k",
        "outputId": "29a97eca-6492-4843-c638-82705fbd66eb"
      },
      "outputs": [
        {
          "name": "stdout",
          "output_type": "stream",
          "text": [
            "<class 'str'>\n",
            "<class 'str'>\n",
            "<class 'str'>\n",
            "<class 'int'>\n"
          ]
        }
      ],
      "source": [
        "# écrire le code ici\n",
        "liste = [\"A\", \"B\", \"C\", 2023]\n",
        "\n",
        "for elem in liste:\n",
        "    print(type(elem))"
      ]
    },
    {
      "cell_type": "markdown",
      "metadata": {
        "id": "kwDynQO8OOZS"
      },
      "source": [
        "## 6.3 Devinettes\n",
        "\n",
        "Sachant que `random.randint(0,50)` permet de générer un nombre entier compris entre 0 et 50:\n",
        "- créer une variable qui contient un nombre au hasard, choisi entre 0 et 50\n",
        "- créer un programme qui demande à l'utilisateur-rice de deviner ce nombre, en autant de coups que nécessaire\n",
        "- en cas d'échec, le programme doit indiquer si le nombre à trouver est plus grand ou plus petit que celui proposé"
      ]
    },
    {
      "cell_type": "code",
      "execution_count": 23,
      "metadata": {
        "colab": {
          "base_uri": "https://localhost:8080/"
        },
        "id": "VDPW3-Y1Oqhe",
        "outputId": "0c400e64-48dd-4b91-d08d-cef92cc47b76"
      },
      "outputs": [
        {
          "name": "stdout",
          "output_type": "stream",
          "text": [
            "Devinez un nombre compris entre 0 et 50\n",
            "Proposez un nombre 45\n",
            "Mauvaise réponse, c'est moins!\n",
            "Proposez un nombre 23\n",
            "Mauvaise réponse, c'est moins!\n",
            "Proposez un nombre 1\n",
            "Mauvaise réponse, c'est plus!\n",
            "Proposez un nombre 20\n",
            "Mauvaise réponse, c'est plus!\n",
            "Proposez un nombre 22\n",
            "Barvo ! Le jeu est terminé\n"
          ]
        }
      ],
      "source": [
        "import random\n",
        "\n",
        "# écrire le code ici\n",
        "\n",
        "nb_a_deviner = random.randint(0,50)\n",
        "print(\"Devinez un nombre compris entre 0 et 50\")\n",
        "\n",
        "proposition = int(input(\"Proposez un nombre \"))\n",
        "\n",
        "while nb_a_deviner != proposition:\n",
        "    if nb_a_deviner > proposition:\n",
        "        print(\"Mauvaise réponse, c'est plus!\")\n",
        "    elif nb_a_deviner < proposition:\n",
        "        print(\"Mauvaise réponse, c'est moins!\")\n",
        "    proposition = int(input(\"Proposez un nombre \"))\n",
        "\n",
        "print(\"Bravo ! Le jeu est terminé\")"
      ]
    },
    {
      "cell_type": "markdown",
      "metadata": {
        "id": "2jZDlNMaPswn"
      },
      "source": [
        "## 6.4 Devinettes en trois coups\n",
        "\n",
        "Refaire le même programme que l'exercice précédent, mais cette fois-ci le joueur ou la joueuse n'a que 3 coups."
      ]
    },
    {
      "cell_type": "code",
      "execution_count": 70,
      "metadata": {
        "colab": {
          "base_uri": "https://localhost:8080/"
        },
        "id": "rekbZ_5_P11K",
        "outputId": "94874785-1a46-41f4-a8c6-cfa620ec8389"
      },
      "outputs": [
        {
          "name": "stdout",
          "output_type": "stream",
          "text": [
            "Devinez un nombre compris entre 0 et 50\n",
            "Proposition : 1\n",
            "Ce n'est pas le bon nombre.\n",
            "C'est moins\n",
            "Il vous reste 2 essais!\n",
            "Proposition : 2\n",
            "Ce n'est pas le bon nombre.\n",
            "C'est moins\n",
            "Il vous reste 1 essais!\n",
            "Proposition : 0\n",
            "Bravo ! C'est ça !!\n"
          ]
        }
      ],
      "source": [
        "import random\n",
        "# écrire le code ici\n",
        "\n",
        "nb_a_deviner = random.randint(0,1)\n",
        "print(\"Devinez un nombre compris entre 0 et 50\")\n",
        "nb_essais = 3\n",
        "\n",
        "for i in range(nb_essais):\n",
        "    proposition = int(input(\"Proposition : \"))\n",
        "\n",
        "    if proposition == nb_a_deviner:\n",
        "        print(\"Bravo ! C'est ça !!\")\n",
        "        break # permet de terminer la boucle plus tôt que prévu\n",
        "        # autant que possible éviter d'utiliser break !\n",
        "    else:\n",
        "        print(\"Ce n'est pas le bon nombre.\")\n",
        "        if proposition > nb_a_deviner:\n",
        "            print(\"C'est moins\")\n",
        "        else:\n",
        "            print(\"C'est plus\")\n",
        "        print(f\"Il vous reste {nb_essais - (i + 1)} essais!\") # +1 car l'utilisateur a déjà utilisé 1 essai\n",
        "\n",
        "if proposition != nb_a_deviner:\n",
        "    print(\"Plus d'essais possibles ! :(\")"
      ]
    },
    {
      "cell_type": "markdown",
      "metadata": {
        "id": "JB3C6ItlY49R"
      },
      "source": [
        "Pour des explications sur break : https://www.w3schools.com/python/ref_keyword_break.asp"
      ]
    },
    {
      "cell_type": "code",
      "execution_count": 31,
      "metadata": {
        "colab": {
          "base_uri": "https://localhost:8080/"
        },
        "id": "7FbmxF9PvilX",
        "outputId": "766f7361-f6a5-4217-e8da-befa2c454031"
      },
      "outputs": [
        {
          "name": "stdout",
          "output_type": "stream",
          "text": [
            "Devinez un nombre compris entre 0 et 50\n",
            "Proposez un nombre 1\n",
            "Bravo !  Vous avez gagné !\n"
          ]
        }
      ],
      "source": [
        "# même chose mais avec while et sans break\n",
        "\n",
        "nb_a_deviner = random.randint(0,1)\n",
        "essais_max = 5\n",
        "print(\"Devinez un nombre compris entre 0 et 50\")\n",
        "\n",
        "proposition = int(input(\"Proposez un nombre \"))\n",
        "\n",
        "while nb_a_deviner != proposition and essais_max > 0:\n",
        "    if nb_a_deviner > proposition:\n",
        "        print(\"Mauvaise réponse, c'est plus!\")\n",
        "    elif nb_a_deviner < proposition:\n",
        "        print(\"Mauvaise réponse, c'est moins!\")\n",
        "    else:\n",
        "        print(\"Bravo ! Le jeu est terminé\")\n",
        "        essais_max = 0\n",
        "\n",
        "    essais_max -= 1 # comme +=, -= sert à baisser la valeur de 1\n",
        "    print(f\"Il vous reste {essais_max} essai(s)!\")\n",
        "    if essais_max != 0:\n",
        "        proposition = int(input(\"Proposez un nombre \"))\n",
        "\n",
        "if nb_a_deviner == proposition:\n",
        "    print(\"Bravo ! Vous avez gagné !\")\n",
        "\n"
      ]
    },
    {
      "cell_type": "markdown",
      "metadata": {
        "id": "SzwOf2VhOus-"
      },
      "source": [
        "## 6.5 Générateur de listes\n",
        "\n",
        "Sachant que `.append()` permet d'ajouter un objet à une liste, selon la syntaxe suivante:\n",
        "\n",
        "```python\n",
        "ma_liste = [1,2,3]\n",
        "ma_liste.append(4)\n",
        "print(ma_liste)\n",
        ">>> [1,2,3,4]\n",
        "\n",
        "```\n",
        "\n",
        "Ecrire un programme qui\n",
        "- prend deux entiers (n et m)\n",
        "- génère et affiche une liste de longueur n, contenant des listes de longueur m\n",
        "- chaque liste de longueur m contient une suite de nombres allant de 0 à m"
      ]
    },
    {
      "cell_type": "code",
      "execution_count": 32,
      "metadata": {
        "colab": {
          "base_uri": "https://localhost:8080/"
        },
        "id": "0E171CpwPh2P",
        "outputId": "454f4590-9389-4406-f3ae-677394269ad8"
      },
      "outputs": [
        {
          "name": "stdout",
          "output_type": "stream",
          "text": [
            "[[0, 1, 2, 3, 4], [0, 1, 2, 3, 4]]\n"
          ]
        }
      ],
      "source": [
        "# écrire le code ici\n",
        "\n",
        "n = 2\n",
        "m = 5\n",
        "liste_finale = []\n",
        "\n",
        "for l in range(n):\n",
        "    nouvelle_liste = []\n",
        "    for p in range(m):\n",
        "        nouvelle_liste.append(p)\n",
        "    liste_finale.append(nouvelle_liste)\n",
        "\n",
        "print(liste_finale)"
      ]
    },
    {
      "cell_type": "markdown",
      "metadata": {
        "id": "PFteS-leP9hK"
      },
      "source": [
        "# 7. Bounce"
      ]
    },
    {
      "cell_type": "markdown",
      "metadata": {
        "id": "SO2tmv6HXQDM"
      },
      "source": [
        "Créer une fonction qui prend une liste en entrée et qui renvoie une nouvelle liste en ne conservant que les valeurs qui ne sont ni des entiers, ni des chaines de caractères.\n"
      ]
    },
    {
      "cell_type": "code",
      "execution_count": 36,
      "metadata": {
        "colab": {
          "base_uri": "https://localhost:8080/"
        },
        "id": "u9Xdi6JZQAFU",
        "outputId": "d83d28b7-a576-4add-fda6-e709157a2e01"
      },
      "outputs": [
        {
          "name": "stdout",
          "output_type": "stream",
          "text": [
            "[3.4, True]\n"
          ]
        }
      ],
      "source": [
        "# écrire le code ici\n",
        "def triage(une_liste):\n",
        "    nouvelle_liste = []\n",
        "    for elem in une_liste:\n",
        "        if type(\"\") != type(elem) and type(1) != type(elem):\n",
        "            nouvelle_liste.append(elem)\n",
        "    return nouvelle_liste\n",
        "\n",
        "\n",
        "ma_liste = [2, 3.4, 5, \"2023\", True, 2012]\n",
        "print(triage(ma_liste))"
      ]
    },
    {
      "cell_type": "markdown",
      "metadata": {
        "id": "3ka0Bw3EXstc"
      },
      "source": [
        "# 8. Bonus Dictionnaires I\n",
        "\n",
        "Créer une fonction qui renvoie la liste de toutes les clefs d'un dictionnaire fourni en entrée et qui affiche combien de clefs existent dans ce dictionnaire.\n",
        "\n"
      ]
    },
    {
      "cell_type": "code",
      "execution_count": 85,
      "metadata": {
        "colab": {
          "base_uri": "https://localhost:8080/"
        },
        "id": "qL70rK_qYMGj",
        "outputId": "df7b9c4d-017c-41f5-b38f-78d45864b444"
      },
      "outputs": [
        {
          "name": "stdout",
          "output_type": "stream",
          "text": [
            "Il y a 5 clef(s) dans ce dictionnaire.\n",
            "['PRENOM', 'NOM']\n"
          ]
        }
      ],
      "source": [
        "# écrire le code ici\n",
        "dico = {\"prenom\": \"Taylor\", \"nom\": \"Swift\", \"naissance\": 1989, \"métier\": \"chanteuse\", \"nationalité\": \"américaine\"}\n",
        "\n",
        "def liste_clefs(dictionnaire):\n",
        "    liste_des_clefs = dictionnaire.keys()\n",
        "    print(f\"Il y a {len(liste_des_clefs)} clef(s) dans ce dictionnaire.\")\n",
        "    return liste_des_clefs\n",
        "\n",
        "mes_clefs = list(liste_clefs(dico))\n",
        "\n",
        "#mes_clefs_liste = []\n",
        "#for elem in mes_clefs:\n",
        "#    mes_clefs_liste.append(elem)\n",
        "\n",
        "mes_clefs = [elem.upper() for elem in mes_clefs if elem in ['nom', 'prenom']]\n",
        "print(mes_clefs)\n",
        "#print(mes_clefs + [1,2,3])"
      ]
    },
    {
      "cell_type": "code",
      "execution_count": 80,
      "metadata": {
        "colab": {
          "base_uri": "https://localhost:8080/"
        },
        "id": "BSNfoO2Ny23Z",
        "outputId": "9cafb093-8237-43c5-d2f6-43358d7eaf05"
      },
      "outputs": [
        {
          "name": "stdout",
          "output_type": "stream",
          "text": [
            "['A', 'B', 'C', 1]\n",
            "['A', 'B', 'C', 1, 2]\n",
            "['A', 'B', 'C', 1, 2, 3]\n",
            "['A', 'B', 'C', 1, 2, 3, 4]\n"
          ]
        }
      ],
      "source": [
        "# explication de .append()\n",
        "nombres = [1, 2, 3, 4]\n",
        "\n",
        "lettres_et_nombres = ['A', 'B', 'C']\n",
        "\n",
        "for n in nombres:\n",
        "    lettres_et_nombres.append(n)\n",
        "    print(lettres_et_nombres)"
      ]
    },
    {
      "cell_type": "markdown",
      "metadata": {
        "id": "cL4zuERiX-Ae"
      },
      "source": [
        "# 9. Bonus Dictionnaires II\n",
        "\n",
        "Ecrire une fonction qui, pour chaque individu décrit dans la liste, affiche une phrase telle que:\n",
        "- pour `{\"prenom\": \"Guido\", \"nom\": \"van Rossum\", \"naissance\": 1956, \"métier\": \"développeur\", \"nationalité\": \"néerlandaise\"}\n",
        "- on obtiendra : \"Guido van Rossum est un(e) développeur agé(e) de 64 ans de natioanlité néerlandaise."
      ]
    },
    {
      "cell_type": "code",
      "execution_count": 92,
      "metadata": {
        "colab": {
          "base_uri": "https://localhost:8080/"
        },
        "id": "0_OAwNRsXsNT",
        "outputId": "f2805e65-10ea-4263-d4f5-e45138745569"
      },
      "outputs": [
        {
          "name": "stdout",
          "output_type": "stream",
          "text": [
            "Guido van Rossum est un(e) développeur  agé(e) de 67 et de nationalité néerlandaise\n",
            "Taylor Swift est un(e) chanteuse  agé(e) de 34 et de nationalité américaine\n",
            "Omar Sy est un(e) acteur  agé(e) de 45 et de nationalité française\n"
          ]
        }
      ],
      "source": [
        "individus = [\n",
        "    {\"prenom\": \"Guido\", \"nom\": \"van Rossum\", \"naissance\": 1956, \"métier\": \"développeur\", \"nationalité\": \"néerlandaise\"},\n",
        "    {\"prenom\": \"Taylor\", \"nom\": \"Swift\", \"naissance\": 1989, \"métier\": \"chanteuse\", \"nationalité\": \"américaine\"},\n",
        "    {\"prenom\": \"Omar\", \"nom\": \"Sy\", \"naissance\": 1978, \"métier\": \"acteur\", \"nationalité\": \"française\"}\n",
        "]\n",
        "\n",
        "# écrire le code ici\n",
        "\n",
        "def fait_une_phrase(description):\n",
        "    print(f'{description.get(\"prenom\")} {description.get(\"nom\")} est un(e) {description.get(\"métier\")} ',\n",
        "          f'agé(e) de {2023 - int(description.get(\"naissance\"))} et de nationalité {description.get(\"nationalité\")}')\n",
        "\n",
        "for individu in individus:\n",
        "    fait_une_phrase(individu)\n"
      ]
    },
    {
      "cell_type": "code",
      "execution_count": 90,
      "metadata": {
        "colab": {
          "base_uri": "https://localhost:8080/",
          "height": 35
        },
        "id": "WZYXcYAa1ft7",
        "outputId": "157de6ad-2fc3-43a7-b860-3456ab954303"
      },
      "outputs": [
        {
          "data": {
            "application/vnd.google.colaboratory.intrinsic+json": {
              "type": "string"
            },
            "text/plain": [
              "\"je suis à l'université\""
            ]
          },
          "execution_count": 90,
          "metadata": {},
          "output_type": "execute_result"
        }
      ],
      "source": [
        "# précision sur l'échappement de caractères\n",
        "'je suis à l\\'université'"
      ]
    }
  ],
  "metadata": {
    "colab": {
      "provenance": []
    },
    "kernelspec": {
      "display_name": "Python 3",
      "name": "python3"
    },
    "language_info": {
      "name": "python"
    }
  },
  "nbformat": 4,
  "nbformat_minor": 0
}

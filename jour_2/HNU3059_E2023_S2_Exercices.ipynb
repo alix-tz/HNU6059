{
  "cells": [
    {
      "cell_type": "markdown",
      "metadata": {
        "id": "AHYdzulnIPu5"
      },
      "source": [
        "# HNU 3059 (HNU 6059) - Séance 2 - Exercices\n",
        "\n",
        "Lien vers le cours sur StudiUM: https://studium.umontreal.ca/course/view.php?id=278064\n"
      ]
    },
    {
      "cell_type": "markdown",
      "metadata": {
        "id": "zTKX4C7QIYd4"
      },
      "source": [
        "⬅ lien vers le précédent notebook: https://github.com/alix-tz/HNU6059/blob/main/jour_2/HNU3059_E2023_S2_Pratique.ipynb"
      ]
    },
    {
      "cell_type": "markdown",
      "metadata": {
        "id": "57UcAGI3IWCJ"
      },
      "source": [
        "# Contenu de ce notebook\n",
        "\n",
        "1. Egalités\n",
        "2. Comparaisons arithmétiques\n",
        "3. Opérateurs booléens I\n",
        "4. Opérateurs booléens II\n",
        "5. Conditions\n",
        "6. Itérations\n",
        "7. Bounce\n",
        "8. Bonus Dictionnaires I\n",
        "9. Bonus Dictionnaires II"
      ]
    },
    {
      "cell_type": "markdown",
      "metadata": {
        "id": "RZdLRvdhIfDz"
      },
      "source": [
        "# 1. Egalités\n",
        "\n",
        "- testez l'égalité de `10` et `\"10\"` et affichez le résultat\n",
        "- testez la non égalité de \"10.0\" et \"10\" et affichez le résultat"
      ]
    },
    {
      "cell_type": "code",
      "execution_count": null,
      "metadata": {
        "id": "H4NqP37XI7HG"
      },
      "outputs": [],
      "source": [
        "# écrite le code ici"
      ]
    },
    {
      "cell_type": "markdown",
      "metadata": {
        "id": "6V1J27DAI6XX"
      },
      "source": [
        "# 2. Comparaisons arithmétiques\n",
        "\n",
        "- créer la variable `pi` telle que `pi == 3.14`\n",
        "- tester si $5 \\times 5$ est plus grand que 30\n",
        "- tester si $5 \\times 3.1$ est plus petit que $\\pi + 3$\n",
        "- tester si $5 \\times 5$ est plus petit ou égal à 25.0\n",
        "- tester si $5 \\times 5$ est plus grand ou égal à $25.0 - \\pi$\n",
        "- tester si `\"baba\"` est plus grand que `\"pi\"`\n"
      ]
    },
    {
      "cell_type": "code",
      "execution_count": null,
      "metadata": {
        "id": "FT7ZLVOBJ7cq"
      },
      "outputs": [],
      "source": [
        "# écrire le code ici"
      ]
    },
    {
      "cell_type": "markdown",
      "metadata": {
        "id": "hSIrxDXLJ8zX"
      },
      "source": [
        "# 3. Opérateurs booléens I"
      ]
    },
    {
      "cell_type": "markdown",
      "metadata": {
        "id": "2B1McoTJKEFu"
      },
      "source": [
        "- quel est le résultat de `not \"vrai\"`?\n",
        "- quel est le résultat de `not 56 > 42`?\n",
        "- quel est le résultat de `testeur == (not 56)`?\n",
        "- quel est le résultat de `not (56 != bool(pi))`?\n",
        "- quel est le résultat de `not (not True == 42)`?\n"
      ]
    },
    {
      "cell_type": "code",
      "execution_count": 3,
      "metadata": {
        "id": "8hdyKVd7KDqj"
      },
      "outputs": [],
      "source": [
        "testeur = False\n",
        "\n",
        "# écrire le code ici"
      ]
    },
    {
      "cell_type": "markdown",
      "metadata": {
        "id": "kdWfHhC3K2bm"
      },
      "source": [
        "# 4. Opérateurs booléens II"
      ]
    },
    {
      "cell_type": "markdown",
      "metadata": {
        "id": "Cp_AB5P_LCVb"
      },
      "source": [
        "- quel sera le résultat de : `bool(\"a\" and \"b\")` ?\n",
        "- quel sera le résultat de : `not (24 < 42) and not True` ?\n",
        "- quel sera le résultat de : `not 56 == testeur and bool(\"\")` ?\n",
        "- quel sera le résultat de : `True and False` ?\n",
        "- quel sera le résultat de : `True or True` ?\n",
        "- quel sera le résultat de : `24 < 42 or \"abcdefg\"` ?\n",
        "- quel sera le résultat de : `reponse == \"oui\" or reponse == \"o\"` ?\n",
        "- quel sera le résultat de : `False or type(45) == type(45.0)` ?\n",
        "- quel sera le résultat de : `not (56 == testeur and bool(\"\")) or type(\"hello\") == type(str(\"42\"))` ?"
      ]
    },
    {
      "cell_type": "code",
      "execution_count": null,
      "metadata": {
        "id": "Xdntn8M8K5ay"
      },
      "outputs": [],
      "source": [
        "testeur = False\n",
        "reponse = \"oui\"\n",
        "\n",
        "# écrire le code ici"
      ]
    },
    {
      "cell_type": "markdown",
      "metadata": {
        "id": "m7TBIqdeLkdc"
      },
      "source": [
        "# 5. Conditions"
      ]
    },
    {
      "cell_type": "code",
      "execution_count": null,
      "metadata": {
        "id": "kLUs7tKsLkCe"
      },
      "outputs": [],
      "source": [
        "# bloc à executer avant de faire les exercices sur les conditions\n",
        "\n",
        "# Ouvrage A\n",
        "titre_A = 'A'\n",
        "tradition_A = 'Copie'\n",
        "temoin_A = 'Copie. Bibl. nat., Dupuy 350. fol. 57.'\n",
        "institution_A = 'Paris, Bibl. nat. Fr.'\n",
        "nb_pages_A = 234\n",
        "\n",
        "# Ouvrage B\n",
        "titre_B = 'B'\n",
        "tradition_B = 'Original'\n",
        "temoin_B = 'Aut. Bibl. nat., Fonds français, n° 3387, f° 5.'\n",
        "institution_B = 'Turin, Archivio di Stato'\n",
        "nb_pages_B = 100\n",
        "\n",
        "# Ouvrage C\n",
        "titre_C = 'C'\n",
        "tradition_C = 'Original'\n",
        "temoin_C = 'Aut. Bibl. nat., Fonds français, n° 3387, f° 5.'\n",
        "institution_C = 'Inconnue'\n",
        "nb_pages_C = 51\n",
        "# -----------------------------------"
      ]
    },
    {
      "cell_type": "markdown",
      "metadata": {
        "id": "G1YfbTcALxP5"
      },
      "source": [
        "## 5.1 Livre à Turin\n",
        "\n",
        "- pour chaque ouvrage, tester s'il est conservé à Turin\n",
        "- s'il est conservé à Turin, afficher un texte qui l'indique et qui donne son titre\n",
        "- sinon, ne rien faire"
      ]
    },
    {
      "cell_type": "code",
      "execution_count": null,
      "metadata": {
        "id": "2nhM4V4yMKS9"
      },
      "outputs": [],
      "source": [
        "# écrire le code ici"
      ]
    },
    {
      "cell_type": "markdown",
      "metadata": {
        "id": "sHr4khLNMJF0"
      },
      "source": [
        "## 5.2 Traditions\n",
        "\n",
        "- pour chaque ouvrage, tester s'il sa tradition est différente de \"Copie\"\n",
        "- si oui, afficher son titre et son institution de conservation\n",
        "- sinon, afficher, son titre, son institution de conservation et sa tradition"
      ]
    },
    {
      "cell_type": "code",
      "execution_count": null,
      "metadata": {
        "id": "9pRy75pAMegq"
      },
      "outputs": [],
      "source": [
        "# écrire le code ici"
      ]
    },
    {
      "cell_type": "markdown",
      "metadata": {
        "id": "iXYJOXX9MgZ0"
      },
      "source": [
        "## 5.3 Pages\n",
        "\n",
        "- tester si le nombre de page total (en cumulant celles de toutes les ouvrages) est supérieur à 300\n",
        "- si oui, afficher le nombre de pages excédentaires\n",
        "- s'il est inférieur à 300, indiquer combien de pages il manque pour atteindre 300\n",
        "- sinon, afficher qu'on a exactement 300 pages"
      ]
    },
    {
      "cell_type": "code",
      "execution_count": null,
      "metadata": {
        "id": "ksywGwVGM2R_"
      },
      "outputs": [],
      "source": [
        "# écrire le code ici"
      ]
    },
    {
      "cell_type": "markdown",
      "metadata": {
        "id": "JCpvEQntM8TS"
      },
      "source": [
        "## 5.4 Copies\n",
        "\n",
        "- tester s'il existe au moins une \"Copie\" parmi les ouvrages"
      ]
    },
    {
      "cell_type": "code",
      "execution_count": null,
      "metadata": {
        "id": "UF7bu_H4M73G"
      },
      "outputs": [],
      "source": [
        "# écrire le code ici"
      ]
    },
    {
      "cell_type": "markdown",
      "metadata": {
        "id": "Wy_vW9hcNDM2"
      },
      "source": [
        "## 5.5 PEB\n",
        "\n",
        "Imaginons que seuls les ouvrages de Paris et de Turin sont disponibles à la consultation. \n",
        "\n",
        "Pour chaque ouvrage:\n",
        "- S'il est conservé à Paris, Bibl. nat. Fr. OU à Turin, Archivio di Stato, afficher toutes les informations dont vous disposez\n",
        "- Sinon, afficher le message 'Ouvrage {titre} non disponible'"
      ]
    },
    {
      "cell_type": "code",
      "execution_count": null,
      "metadata": {
        "id": "MsbfGFOINTbT"
      },
      "outputs": [],
      "source": [
        "# écrire le code ici"
      ]
    },
    {
      "cell_type": "markdown",
      "metadata": {
        "id": "7yKdu4zzNfnO"
      },
      "source": [
        "## 5.6 Selectif\n",
        "\n",
        "- Afficher le témoin des ouvrages respectant AU MOINS une des contraintes suivantes :\n",
        "    - plus de 50 pages mais de moins de 100 pages\n",
        "    - l'institution est 'Inconnue'"
      ]
    },
    {
      "cell_type": "code",
      "execution_count": null,
      "metadata": {
        "id": "AtBegcSjNset"
      },
      "outputs": [],
      "source": [
        "# écrire le code ici"
      ]
    },
    {
      "cell_type": "markdown",
      "metadata": {
        "id": "DcB4g27mNpqg"
      },
      "source": [
        "# 6. Itérations"
      ]
    },
    {
      "cell_type": "markdown",
      "metadata": {
        "id": "qhtQt6GlNyWl"
      },
      "source": [
        "## 6.1 Pyramides\n",
        "\n",
        "Rédiger un petit programme qui affiche le dessin suivant :\n",
        "```\n",
        "* \n",
        "* * \n",
        "* * * \n",
        "* * * * \n",
        "* * * * * \n",
        "* * * * \n",
        "* * * \n",
        "* * \n",
        "*\n",
        "```"
      ]
    },
    {
      "cell_type": "code",
      "execution_count": null,
      "metadata": {
        "id": "0cfSOIfuN6oj"
      },
      "outputs": [],
      "source": [
        "# écrire le code ici"
      ]
    },
    {
      "cell_type": "markdown",
      "metadata": {
        "id": "zvZoedXPN99B"
      },
      "source": [
        "## 6.2 Itération sur une liste\n",
        "\n",
        "- créer une liste contenant plusieurs objets\n",
        "- faire une boucle qui, pour chaque élément de la liste, affiche l'élément puis son type"
      ]
    },
    {
      "cell_type": "code",
      "execution_count": null,
      "metadata": {
        "id": "9ltNhDPQOM9k"
      },
      "outputs": [],
      "source": [
        "# écrire le code ici"
      ]
    },
    {
      "cell_type": "markdown",
      "metadata": {
        "id": "kwDynQO8OOZS"
      },
      "source": [
        "## 6.3 Devinettes\n",
        "\n",
        "Sachant que `random.randint(0,50)` permet de générer un nombre entier compris entre 0 et 50:\n",
        "- créer une variable qui contient un nombre au hasard, choisi entre 0 et 50\n",
        "- créer un programme qui demande à l'utilisateur-rice de deviner ce nombre, en autant de coups que nécessaire\n",
        "- en cas d'échec, le programme doit indiquer si le nombre à trouver est plus grand ou plus petit que celui proposé"
      ]
    },
    {
      "cell_type": "code",
      "execution_count": 5,
      "metadata": {
        "id": "VDPW3-Y1Oqhe"
      },
      "outputs": [],
      "source": [
        "import random\n",
        "\n",
        "# écrire le code ici"
      ]
    },
    {
      "cell_type": "markdown",
      "metadata": {
        "id": "2jZDlNMaPswn"
      },
      "source": [
        "## 6.4 Devinettes en trois coups\n",
        "\n",
        "Refaire le même programme que l'exercice précédent, mais cette fois-ci le joueur ou la joueuse n'a que 3 coups."
      ]
    },
    {
      "cell_type": "code",
      "execution_count": null,
      "metadata": {
        "id": "rekbZ_5_P11K"
      },
      "outputs": [],
      "source": [
        "import random\n",
        "\n",
        "# écrire le code ici"
      ]
    },
    {
      "cell_type": "markdown",
      "metadata": {
        "id": "SzwOf2VhOus-"
      },
      "source": [
        "## 6.5 Générateur de listes\n",
        "\n",
        "Sachant que `.append()` permet d'ajouter un objet à une liste, selon la syntaxe suivante: \n",
        "\n",
        "```python\n",
        "ma_liste = [1,2,3]\n",
        "ma_liste.append(4)\n",
        "print(ma_liste)\n",
        ">>> [1,2,3,4]\n",
        "\n",
        "```\n",
        "\n",
        "Ecrire un programme qui \n",
        "- prend deux entiers (n et m)\n",
        "- génère et affiche une liste de longueur n, contenant des listes de longueur m\n",
        "- chaque liste de longueur m contient une suite de nombres allant de 0 à m"
      ]
    },
    {
      "cell_type": "code",
      "execution_count": null,
      "metadata": {
        "id": "0E171CpwPh2P"
      },
      "outputs": [],
      "source": [
        "# écrire le code ici"
      ]
    },
    {
      "cell_type": "markdown",
      "metadata": {
        "id": "PFteS-leP9hK"
      },
      "source": [
        "# 7. Bounce"
      ]
    },
    {
      "cell_type": "markdown",
      "metadata": {
        "id": "SO2tmv6HXQDM"
      },
      "source": [
        "Créer une fonction qui prend une liste en entrée et qui renvoie une nouvelle liste en ne conservant que les valeurs qui ne sont ni des entiers, ni des chaines de caractères.\n"
      ]
    },
    {
      "cell_type": "code",
      "execution_count": null,
      "metadata": {
        "id": "u9Xdi6JZQAFU"
      },
      "outputs": [],
      "source": [
        "# écrire le code ici"
      ]
    },
    {
      "cell_type": "markdown",
      "metadata": {
        "id": "3ka0Bw3EXstc"
      },
      "source": [
        "# 8. Bonus Dictionnaires I\n",
        "\n",
        "Créer une fonction qui renvoie la liste de toutes les clefs d'un dictionnaire fourni en entrée et qui affiche combien de clefs existent dans ce dictionnaire.\n",
        "\n"
      ]
    },
    {
      "cell_type": "code",
      "execution_count": null,
      "metadata": {
        "id": "qL70rK_qYMGj"
      },
      "outputs": [],
      "source": [
        "# écrire le code ici"
      ]
    },
    {
      "cell_type": "markdown",
      "metadata": {
        "id": "cL4zuERiX-Ae"
      },
      "source": [
        "# 9. Bonus Dictionnaires II\n",
        "\n",
        "Ecrire une fonction qui, pour chaque individu décrit dans la liste, affiche une phrase telle que:\n",
        "- pour `{\"prenom\": \"Guido\", \"nom\": \"van Rossum\", \"naissance\": 1956, \"métier\": \"développeur\", \"nationalité\": \"néerlandaise\"}\n",
        "- on obtiendra : \"Guido van Rossum est un(e) développeur agé(e) de 64 ans de natioanlité néerlandaise."
      ]
    },
    {
      "cell_type": "code",
      "execution_count": null,
      "metadata": {
        "id": "0_OAwNRsXsNT"
      },
      "outputs": [],
      "source": [
        "individus = [\n",
        "    {\"prenom\": \"Guido\", \"nom\": \"van Rossum\", \"naissance\": 1956, \"métier\": \"développeur\", \"nationalité\": \"néerlandaise\"},\n",
        "    {\"prenom\": \"Taylor\", \"nom\": \"Swift\", \"naissance\": 1989, \"métier\": \"chanteuse\", \"nationalité\": \"américaine\"},\n",
        "    {\"prenom\": \"Omar\", \"nom\": \"Sy\", \"naissance\": 1978, \"métier\": \"acteur\", \"nationalité\": \"française\"}\n",
        "]\n",
        "\n",
        "# écrire le code ici"
      ]
    }
  ],
  "metadata": {
    "colab": {
      "provenance": [],
      "toc_visible": true
    },
    "kernelspec": {
      "display_name": "Python 3",
      "name": "python3"
    },
    "language_info": {
      "name": "python"
    }
  },
  "nbformat": 4,
  "nbformat_minor": 0
}

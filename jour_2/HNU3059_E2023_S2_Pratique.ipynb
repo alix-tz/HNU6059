{
  "cells": [
    {
      "cell_type": "markdown",
      "metadata": {
        "id": "3LNTNlP3DW9E"
      },
      "source": [
        "# HNU 3059 (HNU 6059) - Séance 2 - Pratique\n",
        "\n",
        "Lien vers le cours sur StudiUM: https://studium.umontreal.ca/course/view.php?id=278064\n"
      ]
    },
    {
      "cell_type": "markdown",
      "metadata": {
        "id": "JL9HPhX8DZQV"
      },
      "source": [
        "⬅ lien vers le précédent notebook: https://github.com/alix-tz/HNU6059/blob/main/jour_2/HNU3059_E2023_S2_Th%C3%A9orie.ipynb"
      ]
    },
    {
      "cell_type": "markdown",
      "metadata": {
        "id": "-B5m3eiPDpYO"
      },
      "source": [
        "# Contenu de ce notebook\n",
        "\n",
        "1. Messages de bugs\n",
        "2. Conditions\n",
        "3. Boucles\n",
        "4. S'il nous reste du temps \n",
        "\n"
      ]
    },
    {
      "cell_type": "markdown",
      "metadata": {
        "id": "fD85X2O66veE"
      },
      "source": [
        "# Messages d'erreur"
      ]
    },
    {
      "cell_type": "markdown",
      "metadata": {
        "id": "Recdda2YAGL1"
      },
      "source": [
        "- indique pourquoi le programme s'est interrompu\n",
        "- important de savoir les lire pour résoudre les problèmes"
      ]
    },
    {
      "cell_type": "markdown",
      "metadata": {
        "id": "BVWb7by4An2u"
      },
      "source": [
        "![](https://raw.githubusercontent.com/alix-tz/HNU6059/main/img/error_1.png)"
      ]
    },
    {
      "cell_type": "markdown",
      "metadata": {
        "id": "yI_g0TkMArv3"
      },
      "source": [
        "- indique la ligne\n",
        "- indique l'emplacement sur la ligne\n",
        "- indique le type d'erreur\n",
        "- explicite l'erreur, parfois suggère une correction!"
      ]
    },
    {
      "cell_type": "markdown",
      "metadata": {
        "id": "_KBuxoDiBDhT"
      },
      "source": [
        "Parfois, l'erreur n'est pas au bon endroit"
      ]
    },
    {
      "cell_type": "code",
      "execution_count": null,
      "metadata": {
        "colab": {
          "base_uri": "https://localhost:8080/",
          "height": 131
        },
        "id": "cJ551WMtARTl",
        "outputId": "935625e5-def9-4751-c17f-c94613596e74"
      },
      "outputs": [
        {
          "ename": "SyntaxError",
          "evalue": "ignored",
          "output_type": "error",
          "traceback": [
            "\u001b[0;36m  File \u001b[0;32m\"<ipython-input-1-075bb1d15818>\"\u001b[0;36m, line \u001b[0;32m1\u001b[0m\n\u001b[0;31m    print(\"hello\"\u001b[0m\n\u001b[0m                 ^\u001b[0m\n\u001b[0;31mSyntaxError\u001b[0m\u001b[0;31m:\u001b[0m incomplete input\n"
          ]
        }
      ],
      "source": [
        "print(\"hello"
      ]
    },
    {
      "cell_type": "markdown",
      "metadata": {
        "id": "26ObJPJrBNul"
      },
      "source": [
        "## Les types d'erreur les plus fréquents"
      ]
    },
    {
      "cell_type": "markdown",
      "metadata": {
        "id": "S1z9nRVfBUMO"
      },
      "source": [
        "### NameError"
      ]
    },
    {
      "cell_type": "code",
      "execution_count": 2,
      "metadata": {
        "colab": {
          "base_uri": "https://localhost:8080/",
          "height": 166
        },
        "id": "xQ-309KxBQev",
        "outputId": "54e9211e-2181-43b4-e3e8-bd3f7efbaaf8"
      },
      "outputs": [
        {
          "ename": "NameError",
          "evalue": "ignored",
          "output_type": "error",
          "traceback": [
            "\u001b[0;31m---------------------------------------------------------------------------\u001b[0m",
            "\u001b[0;31mNameError\u001b[0m                                 Traceback (most recent call last)",
            "\u001b[0;32m<ipython-input-2-137915367199>\u001b[0m in \u001b[0;36m<cell line: 1>\u001b[0;34m()\u001b[0m\n\u001b[0;32m----> 1\u001b[0;31m \u001b[0mprint\u001b[0m\u001b[0;34m(\u001b[0m\u001b[0mhello\u001b[0m\u001b[0;34m,\u001b[0m \u001b[0mworld\u001b[0m\u001b[0;34m)\u001b[0m\u001b[0;34m\u001b[0m\u001b[0;34m\u001b[0m\u001b[0m\n\u001b[0m",
            "\u001b[0;31mNameError\u001b[0m: name 'hello' is not defined"
          ]
        }
      ],
      "source": [
        "print(hello, world)"
      ]
    },
    {
      "cell_type": "markdown",
      "metadata": {
        "id": "IOQXJW17BV7g"
      },
      "source": [
        "Python comprend ces instructions comme un appel aux variables \"hello\" et \"world\".\n",
        "\n",
        "- soit on a oublié les `\"` pour faire une chaîne de caractères\n",
        "- soit on a fait une faute en tapant le nom de la variable\n",
        "- soit on a fait référence à une variable avant de l'avoir définie"
      ]
    },
    {
      "cell_type": "markdown",
      "metadata": {
        "id": "Yltl1PZ5BnGy"
      },
      "source": [
        "### SyntaxError"
      ]
    },
    {
      "cell_type": "code",
      "execution_count": 3,
      "metadata": {
        "colab": {
          "base_uri": "https://localhost:8080/",
          "height": 131
        },
        "id": "JTJsMHxbBrBo",
        "outputId": "369db4ce-2c1b-45e0-d9ab-c4cee2c3cc57"
      },
      "outputs": [
        {
          "ename": "SyntaxError",
          "evalue": "ignored",
          "output_type": "error",
          "traceback": [
            "\u001b[0;36m  File \u001b[0;32m\"<ipython-input-3-61b0003d6a65>\"\u001b[0;36m, line \u001b[0;32m1\u001b[0m\n\u001b[0;31m    print \"hello, world\"\u001b[0m\n\u001b[0m    ^\u001b[0m\n\u001b[0;31mSyntaxError\u001b[0m\u001b[0;31m:\u001b[0m Missing parentheses in call to 'print'. Did you mean print(...)?\n"
          ]
        }
      ],
      "source": [
        "print \"hello, world\""
      ]
    },
    {
      "cell_type": "markdown",
      "metadata": {
        "id": "4PoNtaoTBusH"
      },
      "source": [
        "En gros, on ne respecte pas la syntaxe attendue par Python\n",
        "\n",
        "- \"EOL while scanning string literal\" : on a oublié de fermer la chaîne de caractères\n",
        "- \"Missing parentheses in...\" : on a mal fermé un bloc entre parenthèses\n",
        "- \"can't assign to literal\": on essaie d'assigner une valeur à un nombre (en général, on a mis 1 seul signe `=` au lieu de 2)\n",
        "    - `=` est une assignation, comme dans `variable = 'bonjour'`\n",
        "    - `==` est un test d'égalité, comme dans `3 == 2+1`\n",
        "- \"invalid syntax\" : message générique\n"
      ]
    },
    {
      "cell_type": "markdown",
      "metadata": {
        "id": "R5fjF-U2CxY6"
      },
      "source": [
        "### TypeError"
      ]
    },
    {
      "cell_type": "code",
      "execution_count": 4,
      "metadata": {
        "colab": {
          "base_uri": "https://localhost:8080/",
          "height": 166
        },
        "id": "3vKG0eMBC1Ub",
        "outputId": "cc51f7eb-18e6-4c43-fe1b-bbf2f735db42"
      },
      "outputs": [
        {
          "ename": "TypeError",
          "evalue": "ignored",
          "output_type": "error",
          "traceback": [
            "\u001b[0;31m---------------------------------------------------------------------------\u001b[0m",
            "\u001b[0;31mTypeError\u001b[0m                                 Traceback (most recent call last)",
            "\u001b[0;32m<ipython-input-4-f6573dd7bfb1>\u001b[0m in \u001b[0;36m<cell line: 1>\u001b[0;34m()\u001b[0m\n\u001b[0;32m----> 1\u001b[0;31m \u001b[0;36m63\u001b[0m \u001b[0;34m+\u001b[0m \u001b[0;34m\"E\"\u001b[0m\u001b[0;34m\u001b[0m\u001b[0;34m\u001b[0m\u001b[0m\n\u001b[0m",
            "\u001b[0;31mTypeError\u001b[0m: unsupported operand type(s) for +: 'int' and 'str'"
          ]
        }
      ],
      "source": [
        "63 + \"E\""
      ]
    },
    {
      "cell_type": "markdown",
      "metadata": {
        "id": "bxQNTD8OC6NI"
      },
      "source": [
        "En général, on essaie de faire une opération avec un type d'objet qui n'est pas compatible\n",
        "\n",
        "- diviser une chaîne de caractères\n",
        "- additionner deux types d'objets incompatibles\n",
        "- ..."
      ]
    },
    {
      "cell_type": "markdown",
      "metadata": {
        "id": "7wggLvfUDTk5"
      },
      "source": [
        "### ValueError"
      ]
    },
    {
      "cell_type": "code",
      "execution_count": 7,
      "metadata": {
        "colab": {
          "base_uri": "https://localhost:8080/",
          "height": 166
        },
        "id": "zzXrSCE3DdUa",
        "outputId": "6c2417dd-2f08-42f4-e30a-08aab18b43b0"
      },
      "outputs": [
        {
          "ename": "ValueError",
          "evalue": "ignored",
          "output_type": "error",
          "traceback": [
            "\u001b[0;31m---------------------------------------------------------------------------\u001b[0m",
            "\u001b[0;31mValueError\u001b[0m                                Traceback (most recent call last)",
            "\u001b[0;32m<ipython-input-7-35a429728b12>\u001b[0m in \u001b[0;36m<cell line: 1>\u001b[0;34m()\u001b[0m\n\u001b[0;32m----> 1\u001b[0;31m \u001b[0mint\u001b[0m\u001b[0;34m(\u001b[0m\u001b[0;34m\"soixante\"\u001b[0m\u001b[0;34m)\u001b[0m\u001b[0;34m\u001b[0m\u001b[0;34m\u001b[0m\u001b[0m\n\u001b[0m",
            "\u001b[0;31mValueError\u001b[0m: invalid literal for int() with base 10: 'soixante'"
          ]
        }
      ],
      "source": [
        "int(\"soixante\")"
      ]
    },
    {
      "cell_type": "markdown",
      "metadata": {
        "id": "XFkXcqeeDfjB"
      },
      "source": [
        "On a évité un TypeError mais le contenu de la variable ne permet pas de faire l'opération attendue"
      ]
    },
    {
      "cell_type": "markdown",
      "metadata": {
        "id": "up62XtwGD473"
      },
      "source": [
        "### IndentationError"
      ]
    },
    {
      "cell_type": "code",
      "execution_count": 12,
      "metadata": {
        "id": "Wc5lfm72D6zZ"
      },
      "outputs": [],
      "source": [
        "def ma_fonction():\n",
        "print(\"hello\")"
      ]
    },
    {
      "cell_type": "markdown",
      "metadata": {
        "id": "1i5mvGQJD_YR"
      },
      "source": [
        "- on a oublié l'indentation au sein d'un bloc logique\n",
        "- on a pas utilisé le même type d'indentation (tabulation, 4 espaces, 2 espaces)"
      ]
    },
    {
      "cell_type": "markdown",
      "metadata": {
        "id": "g73i08nOdG7e"
      },
      "source": [
        "# Discutons de la vidéo de Machine Learnia\n",
        "\n",
        "Lien vers la vidéo : https://www.youtube.com/watch?v=x_Jeyvw7n9I\n",
        "\n",
        "- qu'en avez-vous retenu ?"
      ]
    },
    {
      "cell_type": "markdown",
      "metadata": {
        "id": "65HAHhej65jr"
      },
      "source": [
        "# Conditions (if/else)"
      ]
    },
    {
      "cell_type": "markdown",
      "metadata": {
        "id": "VQyo64wBEuez"
      },
      "source": [
        "## Revenons sur les opérateurs logiques"
      ]
    },
    {
      "cell_type": "markdown",
      "metadata": {
        "id": "xoMru3nXEz2D"
      },
      "source": [
        "On connaît\n",
        "- `==` (égal à)\n",
        "- `!=` (différent de)\n",
        "- `>` (plus grand que)\n",
        "- `<` (plus petit que)\n",
        "- `>=` (plus grand ou égal à)\n",
        "- `<=` (plus petit ou égal à)\n",
        "\n",
        "Mais il y a aussi\n",
        "- `or` (ou)\n",
        "- `and` (et)\n",
        "- `not` (négation)\n",
        "- `in` (présent dans un ensemble)\n"
      ]
    },
    {
      "cell_type": "markdown",
      "metadata": {
        "id": "FCZAMcyRFCiV"
      },
      "source": [
        "Tous ces opérateurs permettent d'exprimer des tests, plus ou moins complexes, qui renvoient toujours `True` ou `False`."
      ]
    },
    {
      "cell_type": "code",
      "execution_count": 14,
      "metadata": {
        "colab": {
          "base_uri": "https://localhost:8080/"
        },
        "id": "eQEeamhMFKVE",
        "outputId": "523f0692-ffd7-4fbd-fce7-0e464e76fe3a"
      },
      "outputs": [
        {
          "name": "stdout",
          "output_type": "stream",
          "text": [
            "Suis-je majeur?\n",
            "True\n",
            "True\n",
            "True\n",
            "True\n"
          ]
        }
      ],
      "source": [
        "mon_age = 21\n",
        "\n",
        "print(\"Suis-je majeur-e?\")\n",
        "# il y a plusieurs manières de faire ce test\n",
        "print(mon_age > 17)\n",
        "print(mon_age >= 18)\n",
        "print(mon_age == 18 or mon_age > 18)\n",
        "print(not (mon_age < 18)) # pas très Zen car inutilement compliqué"
      ]
    },
    {
      "cell_type": "code",
      "execution_count": 15,
      "metadata": {
        "colab": {
          "base_uri": "https://localhost:8080/"
        },
        "id": "crUhPg8nFgZm",
        "outputId": "0eeaf7bf-d862-4431-f303-a1dd0fcc1bd5"
      },
      "outputs": [
        {
          "name": "stdout",
          "output_type": "stream",
          "text": [
            "Mon feutre est-il d'une couleur autorisée\n"
          ]
        },
        {
          "data": {
            "text/plain": [
              "False"
            ]
          },
          "execution_count": 15,
          "metadata": {},
          "output_type": "execute_result"
        }
      ],
      "source": [
        "couleurs_autorisées = [\"bleu\", \"rouge\", \"vert\"]\n",
        "mon_feutre = \"jaune\"\n",
        "\n",
        "print(\"Mon feutre est-il d'une couleur autorisée\")\n",
        "mon_feutre in couleurs_autorisées"
      ]
    },
    {
      "cell_type": "code",
      "execution_count": null,
      "metadata": {
        "id": "UgG_leKiGT7F"
      },
      "outputs": [],
      "source": []
    },
    {
      "cell_type": "markdown",
      "metadata": {
        "id": "5oF8u-HBGHNf"
      },
      "source": [
        "## A quoi servent les conditions?"
      ]
    },
    {
      "cell_type": "markdown",
      "metadata": {
        "id": "Ewu8VwaaGLgr"
      },
      "source": [
        "- difficile de faire un code intéressant sans conditions\n",
        "- créer des scenarios d'instructions qui s'adaptent à la situation\n",
        "\n",
        "![](https://raw.githubusercontent.com/alix-tz/Intro-algo/master/images/flow.png)"
      ]
    },
    {
      "cell_type": "markdown",
      "metadata": {
        "id": "APE3vCaTGeM6"
      },
      "source": [
        "## Différents niveaux de complexité\n",
        "\n",
        "- condition unique : \"si {test} renvoie True, alors fait ceci\"\n",
        "\n",
        "- condition binaire : \"si {test} renvoie True, alors fait ceci, sinon, fait cela\"\n",
        "\n",
        "- conditions multiples : \"si {test} renvoie True, alors fait ceci, sinon si {autre_test} renvoie true, alors fait cela, sinon, fait ceci.\""
      ]
    },
    {
      "cell_type": "code",
      "execution_count": 19,
      "metadata": {
        "id": "Un7CeB_NHPKP"
      },
      "outputs": [],
      "source": [
        "mon_age = 19"
      ]
    },
    {
      "cell_type": "code",
      "execution_count": 16,
      "metadata": {
        "colab": {
          "base_uri": "https://localhost:8080/"
        },
        "id": "uEQXUU3RG46Z",
        "outputId": "eb75eabe-a6b7-4d59-d26b-97d068b2ba5f"
      },
      "outputs": [
        {
          "name": "stdout",
          "output_type": "stream",
          "text": [
            "Tu es majeur\n"
          ]
        }
      ],
      "source": [
        "if mon_age > 18:\n",
        "    print(\"Tu es majeur-e\")"
      ]
    },
    {
      "cell_type": "code",
      "execution_count": 17,
      "metadata": {
        "colab": {
          "base_uri": "https://localhost:8080/"
        },
        "id": "o1xuQ0TiG9O_",
        "outputId": "3e91d8d4-2ca7-488f-de7a-ed35a7975a33"
      },
      "outputs": [
        {
          "name": "stdout",
          "output_type": "stream",
          "text": [
            "Tu es majeur\n"
          ]
        }
      ],
      "source": [
        "if mon_age > 18:\n",
        "    print(\"Tu es majeur-e\")\n",
        "else:\n",
        "    print(\"Tu es mineur-e\")"
      ]
    },
    {
      "cell_type": "code",
      "execution_count": 18,
      "metadata": {
        "colab": {
          "base_uri": "https://localhost:8080/"
        },
        "id": "s_Gox98qHDPD",
        "outputId": "39e5957e-20de-4c31-9114-bff10184ec13"
      },
      "outputs": [
        {
          "name": "stdout",
          "output_type": "stream",
          "text": [
            "Tu es majeur\n"
          ]
        }
      ],
      "source": [
        "if mon_age > 18:\n",
        "    print(\"Tu es majeur-e\")\n",
        "elif mon_age == 18:\n",
        "    print(\"Tu es tout juste majeur-e\")\n",
        "else:\n",
        "    print(\"Tu es mineur-e\")"
      ]
    },
    {
      "cell_type": "markdown",
      "metadata": {
        "id": "mNZnhN4SHuvK"
      },
      "source": [
        "## Imbriquer des conditions"
      ]
    },
    {
      "cell_type": "markdown",
      "metadata": {
        "id": "FNYKWfOjHy5c"
      },
      "source": [
        "- on peut mettre autant d'instructions qu'on veut après chaque ligne \"if/elif/else\"\n",
        "- on peut imbriquer des conditions\n",
        "- l'indentation permet de rapidement retrouver les niveaux d'imbrication"
      ]
    },
    {
      "cell_type": "markdown",
      "metadata": {
        "id": "vJUOtLvxQOJE"
      },
      "source": [
        "# Il est temps pour...\n",
        "\n",
        "<img src=\"https://boisestate.pressbooks.pub/app/uploads/sites/144/2022/05/2-2.png\" width=\"600px\">"
      ]
    },
    {
      "cell_type": "markdown",
      "metadata": {
        "id": "iiRS8WzNTmlE"
      },
      "source": [
        "# Boucles\n",
        "\n",
        "- répéter une action plusieurs fois\n",
        "- `for x in {iterateur}:`: nombre d'itérations limité\n",
        "- `while {condition}:`: nombre d'itérations illimité"
      ]
    },
    {
      "cell_type": "markdown",
      "metadata": {
        "id": "U2Fl9PP5ZxrJ"
      },
      "source": [
        "## For"
      ]
    },
    {
      "cell_type": "markdown",
      "metadata": {
        "id": "Y7w_Pa-VZ3cZ"
      },
      "source": [
        "- suppose d'utiliser un itérateur (c'est-à-dire un objet qui a une longueur)\n",
        "    - une liste\n",
        "    - une chaîne de caractères\n",
        "    - un itérateur créé exprès, avec la fonction `range()`"
      ]
    },
    {
      "cell_type": "code",
      "execution_count": 24,
      "metadata": {
        "colab": {
          "base_uri": "https://localhost:8080/"
        },
        "id": "T-odhlK2Z9V-",
        "outputId": "c3f0afa5-6bd7-4cd6-eb95-3703b60f75b9"
      },
      "outputs": [
        {
          "name": "stdout",
          "output_type": "stream",
          "text": [
            "<class 'range'>\n",
            "<class 'list'>\n",
            "<class 'str'>\n"
          ]
        }
      ],
      "source": [
        "print(type(range(5)))\n",
        "print(type([\"Montréal\", \"Québec\", \"Rimouski\"]))\n",
        "print(type(\"Alix\"))"
      ]
    },
    {
      "cell_type": "code",
      "execution_count": 25,
      "metadata": {
        "colab": {
          "base_uri": "https://localhost:8080/"
        },
        "id": "2bJqAwbPaPOu",
        "outputId": "e596dc42-afb8-4763-fa5a-848a680cf96d"
      },
      "outputs": [
        {
          "name": "stdout",
          "output_type": "stream",
          "text": [
            "5\n",
            "3\n",
            "4\n"
          ]
        }
      ],
      "source": [
        "print(len(range(5)))\n",
        "print(len([\"Montréal\", \"Québec\", \"Rimouski\"]))\n",
        "print(len(\"Alix\"))"
      ]
    },
    {
      "cell_type": "markdown",
      "metadata": {},
      "source": [
        "> Notez qu'un objet numérique (entier ou décimal) n'a pas de longueur:"
      ]
    },
    {
      "cell_type": "code",
      "execution_count": 26,
      "metadata": {
        "colab": {
          "base_uri": "https://localhost:8080/",
          "height": 166
        },
        "id": "PphchRyIaSeZ",
        "outputId": "5c65d307-434f-4309-f3cc-345cd7004ada"
      },
      "outputs": [
        {
          "ename": "TypeError",
          "evalue": "ignored",
          "output_type": "error",
          "traceback": [
            "\u001b[0;31m---------------------------------------------------------------------------\u001b[0m",
            "\u001b[0;31mTypeError\u001b[0m                                 Traceback (most recent call last)",
            "\u001b[0;32m<ipython-input-26-835c36e169db>\u001b[0m in \u001b[0;36m<cell line: 1>\u001b[0;34m()\u001b[0m\n\u001b[0;32m----> 1\u001b[0;31m \u001b[0mprint\u001b[0m\u001b[0;34m(\u001b[0m\u001b[0mlen\u001b[0m\u001b[0;34m(\u001b[0m\u001b[0;36m4\u001b[0m\u001b[0;34m)\u001b[0m\u001b[0;34m)\u001b[0m\u001b[0;34m\u001b[0m\u001b[0;34m\u001b[0m\u001b[0m\n\u001b[0m",
            "\u001b[0;31mTypeError\u001b[0m: object of type 'int' has no len()"
          ]
        }
      ],
      "source": [
        "print(len(4))"
      ]
    },
    {
      "cell_type": "markdown",
      "metadata": {
        "id": "zu_zjmI_aY5l"
      },
      "source": [
        "- création d'une variable et assignation d'une valeur\n",
        "- la variable existe toujours à la fin de la boucle, avec la dernière valeur qu'elle contient"
      ]
    },
    {
      "cell_type": "code",
      "execution_count": 28,
      "metadata": {
        "colab": {
          "base_uri": "https://localhost:8080/"
        },
        "id": "F-1wLLQeY1PD",
        "outputId": "519b9abc-619c-4963-d07b-2d4614342f6f"
      },
      "outputs": [
        {
          "name": "stdout",
          "output_type": "stream",
          "text": [
            "Montréal\n",
            "Québec\n",
            "Rimouski\n",
            "Rimouski\n",
            "Rimouski\n",
            "Rimouski\n"
          ]
        }
      ],
      "source": [
        "villes = [\"Montréal\", \"Québec\", \"Rimouski\"]\n",
        "\n",
        "for ville in villes:\n",
        "    print(ville)\n",
        "\n",
        "print(ville)\n",
        "print(ville)\n",
        "print(ville)"
      ]
    },
    {
      "cell_type": "code",
      "execution_count": 21,
      "metadata": {
        "colab": {
          "base_uri": "https://localhost:8080/"
        },
        "id": "tFjromguY_kD",
        "outputId": "196bbb21-7350-484a-f025-e1e51655611a"
      },
      "outputs": [
        {
          "name": "stdout",
          "output_type": "stream",
          "text": [
            "J'avais 25$.\n",
            "J'ai acheté un beigne pour 5$, il me reste donc 20$\n",
            "J'avais 20$.\n",
            "J'ai acheté un beigne pour 5$, il me reste donc 15$\n",
            "J'avais 15$.\n",
            "J'ai acheté un beigne pour 5$, il me reste donc 10$\n",
            "J'avais 10$.\n",
            "J'ai acheté un beigne pour 5$, il me reste donc 5$\n",
            "J'avais 5$.\n",
            "J'ai acheté un beigne pour 5$, il me reste donc 0$\n"
          ]
        }
      ],
      "source": [
        "argent = 25\n",
        "\n",
        "for nombre in range(5):\n",
        "    print(f\"J'avais {argent}$.\")\n",
        "    argent = argent - 5\n",
        "    print(f\"J'ai acheté un beigne pour 5$, il me reste donc {argent}$\")"
      ]
    },
    {
      "cell_type": "markdown",
      "metadata": {
        "id": "-6Jc_9ouZzm7"
      },
      "source": [
        "## While"
      ]
    },
    {
      "cell_type": "markdown",
      "metadata": {
        "id": "coqtHs_vZ1Iw"
      },
      "source": [
        "- suppose d'utiliser une condition\n",
        "- si la condition n'est jamais \"False\", on tombe dans une boucle infinie"
      ]
    },
    {
      "cell_type": "markdown",
      "metadata": {
        "id": "H_bpjLSubGF1"
      },
      "source": [
        "```python\n",
        "while True:\n",
        "    print(\"Ceci est une très mauvaise idée\")\n",
        "```"
      ]
    },
    {
      "cell_type": "code",
      "execution_count": 35,
      "metadata": {
        "colab": {
          "base_uri": "https://localhost:8080/"
        },
        "id": "yqxqwE8QbFKH",
        "outputId": "96f25b93-5bf1-4415-d581-41299ae286ca"
      },
      "outputs": [
        {
          "name": "stdout",
          "output_type": "stream",
          "text": [
            "J'avais 25$.\n",
            "J'ai acheté un beigne pour 5$, il me reste donc 20$\n",
            "J'avais 20$.\n",
            "J'ai acheté un beigne pour 5$, il me reste donc 15$\n",
            "J'avais 15$.\n",
            "J'ai acheté un beigne pour 5$, il me reste donc 10$\n",
            "J'avais 10$.\n",
            "J'ai acheté un beigne pour 5$, il me reste donc 5$\n",
            "J'avais 5$.\n",
            "J'ai acheté un beigne pour 5$, il me reste donc 0$\n"
          ]
        }
      ],
      "source": [
        "mon_argent = 25\n",
        "prix_beigne = 5\n",
        "\n",
        "while mon_argent > 0: #tant qu'il me reste de l'argent\n",
        "    print(f\"J'avais {mon_argent}$.\")\n",
        "    # j'achète des beignes\n",
        "    mon_argent = mon_argent - prix_beigne\n",
        "    print(f\"J'ai acheté un beigne pour {prix_beigne}$, il me reste donc {mon_argent}$\")"
      ]
    },
    {
      "cell_type": "markdown",
      "metadata": {
        "id": "cAgXm0leb20s"
      },
      "source": [
        "## Imbrication de boucles"
      ]
    },
    {
      "cell_type": "markdown",
      "metadata": {
        "id": "Lx8Bbt7bb5NN"
      },
      "source": [
        "Comme pour les conditions, on peut imbriquer des boucles dans des boucles. On peut même combiner des conditions et des boucles."
      ]
    },
    {
      "cell_type": "code",
      "execution_count": 37,
      "metadata": {
        "colab": {
          "base_uri": "https://localhost:8080/"
        },
        "id": "kODuDKcvY_lz",
        "outputId": "e88f28be-b02f-4164-c6fd-7871c63f2043"
      },
      "outputs": [
        {
          "name": "stdout",
          "output_type": "stream",
          "text": [
            "J'ai encore assez d'argent pour acheter un beigne.\n",
            "J'ai encore assez d'argent pour acheter un beigne.\n",
            "J'ai encore assez d'argent pour acheter un beigne.\n",
            "J'ai encore assez d'argent pour acheter un beigne.\n",
            "Je n'ai plus assez d'argent pour acheter un beigne.\n"
          ]
        }
      ],
      "source": [
        "mon_argent = 25\n",
        "\n",
        "# je ne peux acheter que 5 beignes maximum\n",
        "for i in range(5):\n",
        "    if mon_argent >= 6:\n",
        "        print(\"J'ai encore assez d'argent pour acheter un beigne.\")\n",
        "        mon_argent = mon_argent - 6\n",
        "    else:\n",
        "        print(\"Je n'ai plus assez d'argent pour acheter un beigne.\")\n"
      ]
    },
    {
      "cell_type": "markdown",
      "metadata": {
        "id": "3wYgNGpxQdSd"
      },
      "source": [
        "# Il est temps pour...\n",
        "\n",
        "<img src=\"https://boisestate.pressbooks.pub/app/uploads/sites/144/2022/05/2-2.png\" width=\"600px\">"
      ]
    },
    {
      "cell_type": "markdown",
      "metadata": {
        "id": "IrLwVwhTPmd_"
      },
      "source": [
        "# S'il nous reste du temps"
      ]
    },
    {
      "cell_type": "markdown",
      "metadata": {
        "id": "gZYWt7pvPodP"
      },
      "source": [
        "- parlons des dictionnaires\n",
        "- quelques fonctions cools sur les chaînes de caractères"
      ]
    },
    {
      "cell_type": "markdown",
      "metadata": {
        "id": "1iateixaD6Qh"
      },
      "source": [
        "# Lien vers le prochain notebook\n",
        "\n",
        "➡ https://github.com/alix-tz/HNU6059/blob/main/jour_1/HNU3059_E2023_S2_Exercices.ipynb"
      ]
    }
  ],
  "metadata": {
    "colab": {
      "provenance": [],
      "toc_visible": true
    },
    "kernelspec": {
      "display_name": "Python 3",
      "name": "python3"
    },
    "language_info": {
      "name": "python"
    }
  },
  "nbformat": 4,
  "nbformat_minor": 0
}

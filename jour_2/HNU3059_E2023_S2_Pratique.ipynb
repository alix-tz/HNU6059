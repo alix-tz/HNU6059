{
  "nbformat": 4,
  "nbformat_minor": 0,
  "metadata": {
    "colab": {
      "provenance": [],
      "toc_visible": true
    },
    "kernelspec": {
      "name": "python3",
      "display_name": "Python 3"
    },
    "language_info": {
      "name": "python"
    }
  },
  "cells": [
    {
      "cell_type": "markdown",
      "source": [
        "# HNU 3059 (HNU 6059) - Séance 2 - Pratique\n",
        "\n",
        "Lien vers le cours sur StudiUM: https://studium.umontreal.ca/course/view.php?id=237645\n"
      ],
      "metadata": {
        "id": "3LNTNlP3DW9E"
      }
    },
    {
      "cell_type": "markdown",
      "source": [
        "⬅ lien vers le précédent notebook: https://github.com/alix-tz/HNU6059/blob/main/jour_2/HNU3059_E2023_S2_Th%C3%A9orie.ipynb"
      ],
      "metadata": {
        "id": "JL9HPhX8DZQV"
      }
    },
    {
      "cell_type": "markdown",
      "source": [
        "# Contenu de ce notebook\n",
        "\n",
        "1. Messages de bugs\n",
        "2. Conditions\n",
        "3. Boucles\n",
        "4. S'il nous reste du temps \n",
        "\n"
      ],
      "metadata": {
        "id": "-B5m3eiPDpYO"
      }
    },
    {
      "cell_type": "markdown",
      "source": [
        "# Messages d'erreur"
      ],
      "metadata": {
        "id": "fD85X2O66veE"
      }
    },
    {
      "cell_type": "markdown",
      "source": [
        "- indique pourquoi le programme s'est interrompu\n",
        "- important de savoir les lire pour résoudre les problèmes"
      ],
      "metadata": {
        "id": "Recdda2YAGL1"
      }
    },
    {
      "cell_type": "markdown",
      "source": [
        "![](https://raw.githubusercontent.com/alix-tz/HNU6059/main/img/error_1.png)"
      ],
      "metadata": {
        "id": "BVWb7by4An2u"
      }
    },
    {
      "cell_type": "markdown",
      "source": [
        "- indique la ligne\n",
        "- indique l'emplacement sur la ligne\n",
        "- indique le type d'erreur\n",
        "- explicite l'erreur, parfois suggère une correction!"
      ],
      "metadata": {
        "id": "yI_g0TkMArv3"
      }
    },
    {
      "cell_type": "markdown",
      "source": [
        "Parfois, l'erreur n'est pas au bon endroit"
      ],
      "metadata": {
        "id": "_KBuxoDiBDhT"
      }
    },
    {
      "cell_type": "code",
      "source": [],
      "metadata": {
        "colab": {
          "base_uri": "https://localhost:8080/",
          "height": 131
        },
        "id": "cJ551WMtARTl",
        "outputId": "935625e5-def9-4751-c17f-c94613596e74"
      },
      "execution_count": 1,
      "outputs": [
        {
          "output_type": "error",
          "ename": "SyntaxError",
          "evalue": "ignored",
          "traceback": [
            "\u001b[0;36m  File \u001b[0;32m\"<ipython-input-1-075bb1d15818>\"\u001b[0;36m, line \u001b[0;32m1\u001b[0m\n\u001b[0;31m    print(\"hello\"\u001b[0m\n\u001b[0m                 ^\u001b[0m\n\u001b[0;31mSyntaxError\u001b[0m\u001b[0;31m:\u001b[0m incomplete input\n"
          ]
        }
      ]
    },
    {
      "cell_type": "markdown",
      "source": [
        "## Les types d'erreur les plus fréquents"
      ],
      "metadata": {
        "id": "26ObJPJrBNul"
      }
    },
    {
      "cell_type": "markdown",
      "source": [
        "### NameError"
      ],
      "metadata": {
        "id": "S1z9nRVfBUMO"
      }
    },
    {
      "cell_type": "code",
      "source": [
        "print(hello, world)"
      ],
      "metadata": {
        "colab": {
          "base_uri": "https://localhost:8080/",
          "height": 166
        },
        "id": "xQ-309KxBQev",
        "outputId": "54e9211e-2181-43b4-e3e8-bd3f7efbaaf8"
      },
      "execution_count": 2,
      "outputs": [
        {
          "output_type": "error",
          "ename": "NameError",
          "evalue": "ignored",
          "traceback": [
            "\u001b[0;31m---------------------------------------------------------------------------\u001b[0m",
            "\u001b[0;31mNameError\u001b[0m                                 Traceback (most recent call last)",
            "\u001b[0;32m<ipython-input-2-137915367199>\u001b[0m in \u001b[0;36m<cell line: 1>\u001b[0;34m()\u001b[0m\n\u001b[0;32m----> 1\u001b[0;31m \u001b[0mprint\u001b[0m\u001b[0;34m(\u001b[0m\u001b[0mhello\u001b[0m\u001b[0;34m,\u001b[0m \u001b[0mworld\u001b[0m\u001b[0;34m)\u001b[0m\u001b[0;34m\u001b[0m\u001b[0;34m\u001b[0m\u001b[0m\n\u001b[0m",
            "\u001b[0;31mNameError\u001b[0m: name 'hello' is not defined"
          ]
        }
      ]
    },
    {
      "cell_type": "markdown",
      "source": [
        "Python comprend ces instructions comme un appel aux variables \"hello\" et \"world\".\n",
        "\n",
        "- soit on a oublié les `\"` pour faire une chaîne de caractères\n",
        "- soit on a fait une faute en tapant le nom de la variable\n",
        "- soit on a fait référence à une variable avant de l'avoir définie"
      ],
      "metadata": {
        "id": "IOQXJW17BV7g"
      }
    },
    {
      "cell_type": "markdown",
      "source": [
        "### SyntaxError"
      ],
      "metadata": {
        "id": "Yltl1PZ5BnGy"
      }
    },
    {
      "cell_type": "code",
      "source": [
        "print \"hello, world\""
      ],
      "metadata": {
        "colab": {
          "base_uri": "https://localhost:8080/",
          "height": 131
        },
        "id": "JTJsMHxbBrBo",
        "outputId": "369db4ce-2c1b-45e0-d9ab-c4cee2c3cc57"
      },
      "execution_count": 3,
      "outputs": [
        {
          "output_type": "error",
          "ename": "SyntaxError",
          "evalue": "ignored",
          "traceback": [
            "\u001b[0;36m  File \u001b[0;32m\"<ipython-input-3-61b0003d6a65>\"\u001b[0;36m, line \u001b[0;32m1\u001b[0m\n\u001b[0;31m    print \"hello, world\"\u001b[0m\n\u001b[0m    ^\u001b[0m\n\u001b[0;31mSyntaxError\u001b[0m\u001b[0;31m:\u001b[0m Missing parentheses in call to 'print'. Did you mean print(...)?\n"
          ]
        }
      ]
    },
    {
      "cell_type": "markdown",
      "source": [
        "En gros, on ne respecte pas la syntaxe attendue par Python\n",
        "\n",
        "- \"EOL while scanning string literal\" : on a oublié de fermer la chaîne de caractères\n",
        "- \"Missing parentheses in...\" : on a mal fermé un bloc entre parenthèses\n",
        "- \"can't assign to literal\": on essaie d'assigner une valeur à un nombre (en général, on a mis 1 `=` au lieu de 2)\n",
        "- \"invalid syntax\" : message générique\n"
      ],
      "metadata": {
        "id": "4PoNtaoTBusH"
      }
    },
    {
      "cell_type": "markdown",
      "source": [
        "### TypeError"
      ],
      "metadata": {
        "id": "R5fjF-U2CxY6"
      }
    },
    {
      "cell_type": "code",
      "source": [
        "63 + \"E\""
      ],
      "metadata": {
        "colab": {
          "base_uri": "https://localhost:8080/",
          "height": 166
        },
        "id": "3vKG0eMBC1Ub",
        "outputId": "cc51f7eb-18e6-4c43-fe1b-bbf2f735db42"
      },
      "execution_count": 4,
      "outputs": [
        {
          "output_type": "error",
          "ename": "TypeError",
          "evalue": "ignored",
          "traceback": [
            "\u001b[0;31m---------------------------------------------------------------------------\u001b[0m",
            "\u001b[0;31mTypeError\u001b[0m                                 Traceback (most recent call last)",
            "\u001b[0;32m<ipython-input-4-f6573dd7bfb1>\u001b[0m in \u001b[0;36m<cell line: 1>\u001b[0;34m()\u001b[0m\n\u001b[0;32m----> 1\u001b[0;31m \u001b[0;36m63\u001b[0m \u001b[0;34m+\u001b[0m \u001b[0;34m\"E\"\u001b[0m\u001b[0;34m\u001b[0m\u001b[0;34m\u001b[0m\u001b[0m\n\u001b[0m",
            "\u001b[0;31mTypeError\u001b[0m: unsupported operand type(s) for +: 'int' and 'str'"
          ]
        }
      ]
    },
    {
      "cell_type": "markdown",
      "source": [
        "En général, on essaie de faire une opération avec un type d'objet qui n'est pas compatible\n",
        "\n",
        "- diviser une chaîne de caractères\n",
        "- additionner deux types d'objets incompatibles\n",
        "- ..."
      ],
      "metadata": {
        "id": "bxQNTD8OC6NI"
      }
    },
    {
      "cell_type": "markdown",
      "source": [
        "### ValueError"
      ],
      "metadata": {
        "id": "7wggLvfUDTk5"
      }
    },
    {
      "cell_type": "code",
      "source": [
        "int(\"soixante\")"
      ],
      "metadata": {
        "colab": {
          "base_uri": "https://localhost:8080/",
          "height": 166
        },
        "id": "zzXrSCE3DdUa",
        "outputId": "6c2417dd-2f08-42f4-e30a-08aab18b43b0"
      },
      "execution_count": 7,
      "outputs": [
        {
          "output_type": "error",
          "ename": "ValueError",
          "evalue": "ignored",
          "traceback": [
            "\u001b[0;31m---------------------------------------------------------------------------\u001b[0m",
            "\u001b[0;31mValueError\u001b[0m                                Traceback (most recent call last)",
            "\u001b[0;32m<ipython-input-7-35a429728b12>\u001b[0m in \u001b[0;36m<cell line: 1>\u001b[0;34m()\u001b[0m\n\u001b[0;32m----> 1\u001b[0;31m \u001b[0mint\u001b[0m\u001b[0;34m(\u001b[0m\u001b[0;34m\"soixante\"\u001b[0m\u001b[0;34m)\u001b[0m\u001b[0;34m\u001b[0m\u001b[0;34m\u001b[0m\u001b[0m\n\u001b[0m",
            "\u001b[0;31mValueError\u001b[0m: invalid literal for int() with base 10: 'soixante'"
          ]
        }
      ]
    },
    {
      "cell_type": "markdown",
      "source": [
        "On a évité un TypeError mais le contenu de la variable ne permet pas de faire l'opération attendue"
      ],
      "metadata": {
        "id": "XFkXcqeeDfjB"
      }
    },
    {
      "cell_type": "markdown",
      "source": [
        "### IndentationError"
      ],
      "metadata": {
        "id": "up62XtwGD473"
      }
    },
    {
      "cell_type": "code",
      "source": [
        "def ma_fonction():\n",
        "print(\"hello\")"
      ],
      "metadata": {
        "id": "Wc5lfm72D6zZ"
      },
      "execution_count": 12,
      "outputs": []
    },
    {
      "cell_type": "markdown",
      "source": [
        "- on a oublié l'indentation au sein d'un bloc logique\n",
        "- on a pas utilisé le même type d'indentation (tabulation, 4 espaces, 2 espaces)"
      ],
      "metadata": {
        "id": "1i5mvGQJD_YR"
      }
    },
    {
      "cell_type": "markdown",
      "source": [
        "# Discutons de la vidéo de Machine Learnia\n",
        "\n",
        "Lien vers la vidéo : https://www.youtube.com/watch?v=x_Jeyvw7n9I\n",
        "\n",
        "- qu'en avez-vous retenu ?"
      ],
      "metadata": {
        "id": "g73i08nOdG7e"
      }
    },
    {
      "cell_type": "markdown",
      "source": [
        "# Conditions (if/else)"
      ],
      "metadata": {
        "id": "65HAHhej65jr"
      }
    },
    {
      "cell_type": "markdown",
      "source": [
        "## Revenons sur les opérateurs logiques"
      ],
      "metadata": {
        "id": "VQyo64wBEuez"
      }
    },
    {
      "cell_type": "markdown",
      "source": [
        "On connaît\n",
        "- `==` (égal à)\n",
        "- `!=` (différent de)\n",
        "- `>` (plus grand que)\n",
        "- `<` (plus petit que)\n",
        "- `>=` (plus grand ou égal à)\n",
        "- `<=` (plus petit ou égal à)\n",
        "\n",
        "Mais il y a aussi\n",
        "- `or` (ou)\n",
        "- `and` (et)\n",
        "- `not` (négation)\n",
        "- `in` (présent dans un ensemble)\n"
      ],
      "metadata": {
        "id": "xoMru3nXEz2D"
      }
    },
    {
      "cell_type": "markdown",
      "source": [
        "Tous ces opérateurs permettent d'exprimer des tests, plus ou moins complexes, qui renvoient toujours `True` ou `False`."
      ],
      "metadata": {
        "id": "FCZAMcyRFCiV"
      }
    },
    {
      "cell_type": "code",
      "source": [
        "mon_age = 21\n",
        "\n",
        "print(\"Suis-je majeur?\")\n",
        "# il y a plusieurs manières de faire ce test\n",
        "print(mon_age > 17)\n",
        "print(mon_age >= 18)\n",
        "print(mon_age == 18 or mon_age > 18)\n",
        "print(not (mon_age < 18))"
      ],
      "metadata": {
        "colab": {
          "base_uri": "https://localhost:8080/"
        },
        "id": "eQEeamhMFKVE",
        "outputId": "523f0692-ffd7-4fbd-fce7-0e464e76fe3a"
      },
      "execution_count": 14,
      "outputs": [
        {
          "output_type": "stream",
          "name": "stdout",
          "text": [
            "Suis-je majeur?\n",
            "True\n",
            "True\n",
            "True\n",
            "True\n"
          ]
        }
      ]
    },
    {
      "cell_type": "code",
      "source": [
        "couleurs_autorisées = [\"bleu\", \"rouge\", \"vert\"]\n",
        "mon_feutre = \"jaune\"\n",
        "\n",
        "print(\"Mon feutre est-il d'une couleur autorisée\")\n",
        "mon_feutre in couleurs_autorisées"
      ],
      "metadata": {
        "colab": {
          "base_uri": "https://localhost:8080/"
        },
        "id": "crUhPg8nFgZm",
        "outputId": "0eeaf7bf-d862-4431-f303-a1dd0fcc1bd5"
      },
      "execution_count": 15,
      "outputs": [
        {
          "output_type": "stream",
          "name": "stdout",
          "text": [
            "Mon feutre est-il d'une couleur autorisée\n"
          ]
        },
        {
          "output_type": "execute_result",
          "data": {
            "text/plain": [
              "False"
            ]
          },
          "metadata": {},
          "execution_count": 15
        }
      ]
    },
    {
      "cell_type": "code",
      "source": [],
      "metadata": {
        "id": "UgG_leKiGT7F"
      },
      "execution_count": null,
      "outputs": []
    },
    {
      "cell_type": "markdown",
      "source": [
        "## A quoi servent les conditions?"
      ],
      "metadata": {
        "id": "5oF8u-HBGHNf"
      }
    },
    {
      "cell_type": "markdown",
      "source": [
        "- difficile de faire un code intéressant sans conditions\n",
        "- créer des scenarios d'instructions qui s'adaptent à la situation\n",
        "\n",
        "![](https://raw.githubusercontent.com/alix-tz/Intro-algo/master/images/flow.png)"
      ],
      "metadata": {
        "id": "Ewu8VwaaGLgr"
      }
    },
    {
      "cell_type": "markdown",
      "source": [
        "## Différents niveaux de complexité\n",
        "\n",
        "- condition unique : \"si {test} renvoie True, alors fait ceci\"\n",
        "\n",
        "- condition binaire : \"si {test} renvoie True, alors fait ceci, sinon, fait cela\"\n",
        "\n",
        "- conditions multiples : \"si {test} renvoie True, alors fait ceci, sinon si {autre_test} renvoie true, alors fait cela, sinon, fait ceci.\""
      ],
      "metadata": {
        "id": "APE3vCaTGeM6"
      }
    },
    {
      "cell_type": "code",
      "source": [
        "mon_age = 19"
      ],
      "metadata": {
        "id": "Un7CeB_NHPKP"
      },
      "execution_count": 19,
      "outputs": []
    },
    {
      "cell_type": "code",
      "source": [
        "if mon_age > 18:\n",
        "    print(\"Tu es majeur\")"
      ],
      "metadata": {
        "colab": {
          "base_uri": "https://localhost:8080/"
        },
        "id": "uEQXUU3RG46Z",
        "outputId": "eb75eabe-a6b7-4d59-d26b-97d068b2ba5f"
      },
      "execution_count": 16,
      "outputs": [
        {
          "output_type": "stream",
          "name": "stdout",
          "text": [
            "Tu es majeur\n"
          ]
        }
      ]
    },
    {
      "cell_type": "code",
      "source": [
        "if mon_age > 18:\n",
        "    print(\"Tu es majeur\")\n",
        "else:\n",
        "    print(\"Tu es mineur\")"
      ],
      "metadata": {
        "colab": {
          "base_uri": "https://localhost:8080/"
        },
        "id": "o1xuQ0TiG9O_",
        "outputId": "3e91d8d4-2ca7-488f-de7a-ed35a7975a33"
      },
      "execution_count": 17,
      "outputs": [
        {
          "output_type": "stream",
          "name": "stdout",
          "text": [
            "Tu es majeur\n"
          ]
        }
      ]
    },
    {
      "cell_type": "code",
      "source": [
        "if mon_age > 18:\n",
        "    print(\"Tu es majeur\")\n",
        "elif mon_age == 18:\n",
        "    print(\"Tu es tout juste majeur\")\n",
        "else:\n",
        "    print(\"Tu es mineur\")"
      ],
      "metadata": {
        "colab": {
          "base_uri": "https://localhost:8080/"
        },
        "id": "s_Gox98qHDPD",
        "outputId": "39e5957e-20de-4c31-9114-bff10184ec13"
      },
      "execution_count": 18,
      "outputs": [
        {
          "output_type": "stream",
          "name": "stdout",
          "text": [
            "Tu es majeur\n"
          ]
        }
      ]
    },
    {
      "cell_type": "markdown",
      "source": [
        "## Imbriquer des conditions"
      ],
      "metadata": {
        "id": "mNZnhN4SHuvK"
      }
    },
    {
      "cell_type": "markdown",
      "source": [
        "- on peut mettre autant d'instructions qu'on veut après chaque ligne \"if/elif/else\"\n",
        "- on peut imbriquer des conditions\n",
        "- l'indentation permet de rapidement retrouver les niveaux d'imbrication"
      ],
      "metadata": {
        "id": "FNYKWfOjHy5c"
      }
    },
    {
      "cell_type": "markdown",
      "source": [
        "# Il est temps pour...\n",
        "\n",
        "<img src=\"https://boisestate.pressbooks.pub/app/uploads/sites/144/2022/05/2-2.png\" width=\"600px\">"
      ],
      "metadata": {
        "id": "vJUOtLvxQOJE"
      }
    },
    {
      "cell_type": "markdown",
      "source": [
        "# Boucles\n",
        "\n",
        "- répéter une action plusieurs fois\n",
        "- `for x in {iterateur}:`: nombre d'itérations limité\n",
        "- `while {condition}:`: nombre d'itérations illimité"
      ],
      "metadata": {
        "id": "iiRS8WzNTmlE"
      }
    },
    {
      "cell_type": "markdown",
      "source": [
        "## For"
      ],
      "metadata": {
        "id": "U2Fl9PP5ZxrJ"
      }
    },
    {
      "cell_type": "markdown",
      "source": [
        "- suppose d'utiliser un itérateur (c'est-à-dire un objet qui a une longueur)\n",
        "    - une liste\n",
        "    - une chaîne de caractères\n",
        "    - un itérateur créé exprès, avec la fonction `range()`"
      ],
      "metadata": {
        "id": "Y7w_Pa-VZ3cZ"
      }
    },
    {
      "cell_type": "code",
      "source": [
        "print(type(range(5)))\n",
        "print(type([\"Montréal\", \"Québec\", \"Rimouski\"]))\n",
        "print(type(\"Alix\"))"
      ],
      "metadata": {
        "colab": {
          "base_uri": "https://localhost:8080/"
        },
        "id": "T-odhlK2Z9V-",
        "outputId": "c3f0afa5-6bd7-4cd6-eb95-3703b60f75b9"
      },
      "execution_count": 24,
      "outputs": [
        {
          "output_type": "stream",
          "name": "stdout",
          "text": [
            "<class 'range'>\n",
            "<class 'list'>\n",
            "<class 'str'>\n"
          ]
        }
      ]
    },
    {
      "cell_type": "code",
      "source": [
        "print(len(range(5)))\n",
        "print(len([\"Montréal\", \"Québec\", \"Rimouski\"]))\n",
        "print(len(\"Alix\"))"
      ],
      "metadata": {
        "colab": {
          "base_uri": "https://localhost:8080/"
        },
        "id": "2bJqAwbPaPOu",
        "outputId": "e596dc42-afb8-4763-fa5a-848a680cf96d"
      },
      "execution_count": 25,
      "outputs": [
        {
          "output_type": "stream",
          "name": "stdout",
          "text": [
            "5\n",
            "3\n",
            "4\n"
          ]
        }
      ]
    },
    {
      "cell_type": "code",
      "source": [
        "print(len(4))"
      ],
      "metadata": {
        "colab": {
          "base_uri": "https://localhost:8080/",
          "height": 166
        },
        "id": "PphchRyIaSeZ",
        "outputId": "5c65d307-434f-4309-f3cc-345cd7004ada"
      },
      "execution_count": 26,
      "outputs": [
        {
          "output_type": "error",
          "ename": "TypeError",
          "evalue": "ignored",
          "traceback": [
            "\u001b[0;31m---------------------------------------------------------------------------\u001b[0m",
            "\u001b[0;31mTypeError\u001b[0m                                 Traceback (most recent call last)",
            "\u001b[0;32m<ipython-input-26-835c36e169db>\u001b[0m in \u001b[0;36m<cell line: 1>\u001b[0;34m()\u001b[0m\n\u001b[0;32m----> 1\u001b[0;31m \u001b[0mprint\u001b[0m\u001b[0;34m(\u001b[0m\u001b[0mlen\u001b[0m\u001b[0;34m(\u001b[0m\u001b[0;36m4\u001b[0m\u001b[0;34m)\u001b[0m\u001b[0;34m)\u001b[0m\u001b[0;34m\u001b[0m\u001b[0;34m\u001b[0m\u001b[0m\n\u001b[0m",
            "\u001b[0;31mTypeError\u001b[0m: object of type 'int' has no len()"
          ]
        }
      ]
    },
    {
      "cell_type": "markdown",
      "source": [
        "- création d'une variable et assignation d'une valeur\n",
        "- la variable existe toujours à la fin de la boucle, avec la dernière valeur qu'elle contient"
      ],
      "metadata": {
        "id": "zu_zjmI_aY5l"
      }
    },
    {
      "cell_type": "code",
      "source": [
        "villes = [\"Montréal\", \"Québec\", \"Rimouski\"]\n",
        "\n",
        "for ville in villes:\n",
        "    print(ville)\n",
        "\n",
        "print(ville)\n",
        "print(ville)\n",
        "print(ville)"
      ],
      "metadata": {
        "colab": {
          "base_uri": "https://localhost:8080/"
        },
        "id": "F-1wLLQeY1PD",
        "outputId": "519b9abc-619c-4963-d07b-2d4614342f6f"
      },
      "execution_count": 28,
      "outputs": [
        {
          "output_type": "stream",
          "name": "stdout",
          "text": [
            "Montréal\n",
            "Québec\n",
            "Rimouski\n",
            "Rimouski\n",
            "Rimouski\n",
            "Rimouski\n"
          ]
        }
      ]
    },
    {
      "cell_type": "code",
      "source": [
        "argent = 25\n",
        "\n",
        "for nombre in range(5):\n",
        "    print(f\"J'avais {argent}$.\")\n",
        "    argent = argent - 5\n",
        "    print(f\"J'ai acheté un beigne pour 5$, il me reste donc {argent}$\")"
      ],
      "metadata": {
        "colab": {
          "base_uri": "https://localhost:8080/"
        },
        "id": "tFjromguY_kD",
        "outputId": "196bbb21-7350-484a-f025-e1e51655611a"
      },
      "execution_count": 21,
      "outputs": [
        {
          "output_type": "stream",
          "name": "stdout",
          "text": [
            "J'avais 25$.\n",
            "J'ai acheté un beigne pour 5$, il me reste donc 20$\n",
            "J'avais 20$.\n",
            "J'ai acheté un beigne pour 5$, il me reste donc 15$\n",
            "J'avais 15$.\n",
            "J'ai acheté un beigne pour 5$, il me reste donc 10$\n",
            "J'avais 10$.\n",
            "J'ai acheté un beigne pour 5$, il me reste donc 5$\n",
            "J'avais 5$.\n",
            "J'ai acheté un beigne pour 5$, il me reste donc 0$\n"
          ]
        }
      ]
    },
    {
      "cell_type": "markdown",
      "source": [
        "## While"
      ],
      "metadata": {
        "id": "-6Jc_9ouZzm7"
      }
    },
    {
      "cell_type": "markdown",
      "source": [
        "- suppose d'utiliser une condition\n",
        "- si la condition n'est jamais \"False\", on tombe dans une boucle infinie"
      ],
      "metadata": {
        "id": "coqtHs_vZ1Iw"
      }
    },
    {
      "cell_type": "markdown",
      "source": [
        "```python\n",
        "while True:\n",
        "    print(\"Ceci est une très mauvaise idée\")\n",
        "```"
      ],
      "metadata": {
        "id": "H_bpjLSubGF1"
      }
    },
    {
      "cell_type": "code",
      "source": [
        "mon_argent = 25\n",
        "prix_beigne = 5\n",
        "\n",
        "while mon_argent > 0: #tant qu'il me reste de l'argent\n",
        "    print(f\"J'avais {mon_argent}$.\")\n",
        "    # j'achète des beignes\n",
        "    mon_argent = mon_argent - prix_beigne\n",
        "    print(f\"J'ai acheté un beigne pour {prix_beigne}$, il me reste donc {mon_argent}$\")"
      ],
      "metadata": {
        "colab": {
          "base_uri": "https://localhost:8080/"
        },
        "id": "yqxqwE8QbFKH",
        "outputId": "96f25b93-5bf1-4415-d581-41299ae286ca"
      },
      "execution_count": 35,
      "outputs": [
        {
          "output_type": "stream",
          "name": "stdout",
          "text": [
            "J'avais 25$.\n",
            "J'ai acheté un beigne pour 5$, il me reste donc 20$\n",
            "J'avais 20$.\n",
            "J'ai acheté un beigne pour 5$, il me reste donc 15$\n",
            "J'avais 15$.\n",
            "J'ai acheté un beigne pour 5$, il me reste donc 10$\n",
            "J'avais 10$.\n",
            "J'ai acheté un beigne pour 5$, il me reste donc 5$\n",
            "J'avais 5$.\n",
            "J'ai acheté un beigne pour 5$, il me reste donc 0$\n"
          ]
        }
      ]
    },
    {
      "cell_type": "markdown",
      "source": [
        "## Imbrication de boucles"
      ],
      "metadata": {
        "id": "cAgXm0leb20s"
      }
    },
    {
      "cell_type": "markdown",
      "source": [
        "Comme pour les conditions, on peut imbriquer des boucles dans des boucles. On peut même combiner des conditions et des boucles."
      ],
      "metadata": {
        "id": "Lx8Bbt7bb5NN"
      }
    },
    {
      "cell_type": "code",
      "source": [
        "mon_argent = 25\n",
        "\n",
        "# je ne peux acheter que 5 beignes maximum\n",
        "for i in range(5):\n",
        "    if mon_argent >= 6:\n",
        "        print(\"J'ai encore assez d'argent pour acheter un beigne.\")\n",
        "        mon_argent = mon_argent - 6\n",
        "    else:\n",
        "        print(\"Je n'ai plus assez d'argent pour acheter un beigne.\")\n"
      ],
      "metadata": {
        "colab": {
          "base_uri": "https://localhost:8080/"
        },
        "id": "kODuDKcvY_lz",
        "outputId": "e88f28be-b02f-4164-c6fd-7871c63f2043"
      },
      "execution_count": 37,
      "outputs": [
        {
          "output_type": "stream",
          "name": "stdout",
          "text": [
            "J'ai encore assez d'argent pour acheter un beigne.\n",
            "J'ai encore assez d'argent pour acheter un beigne.\n",
            "J'ai encore assez d'argent pour acheter un beigne.\n",
            "J'ai encore assez d'argent pour acheter un beigne.\n",
            "Je n'ai plus assez d'argent pour acheter un beigne.\n"
          ]
        }
      ]
    },
    {
      "cell_type": "markdown",
      "source": [
        "# Il est temps pour...\n",
        "\n",
        "<img src=\"https://boisestate.pressbooks.pub/app/uploads/sites/144/2022/05/2-2.png\" width=\"600px\">"
      ],
      "metadata": {
        "id": "3wYgNGpxQdSd"
      }
    },
    {
      "cell_type": "markdown",
      "source": [
        "# S'il nous reste du temps"
      ],
      "metadata": {
        "id": "IrLwVwhTPmd_"
      }
    },
    {
      "cell_type": "markdown",
      "source": [
        "- parlons des dictionnaires\n",
        "- quelques fonctions cools sur les chaînes de caractères"
      ],
      "metadata": {
        "id": "gZYWt7pvPodP"
      }
    },
    {
      "cell_type": "markdown",
      "source": [
        "# Lien vers le prochain notebook\n",
        "\n",
        "➡ https://github.com/alix-tz/HNU6059/blob/main/jour_1/HNU3059_E2023_S2_Exercices.ipynb"
      ],
      "metadata": {
        "id": "1iateixaD6Qh"
      }
    }
  ]
}
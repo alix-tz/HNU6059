{
  "nbformat": 4,
  "nbformat_minor": 0,
  "metadata": {
    "colab": {
      "provenance": []
    },
    "kernelspec": {
      "name": "python3",
      "display_name": "Python 3"
    },
    "language_info": {
      "name": "python"
    }
  },
  "cells": [
    {
      "cell_type": "markdown",
      "source": [
        "# HNU 3059 (HNU 6059) - Séance 3 - Exercices\n",
        "\n",
        "Lien vers le cours sur StudiUM: https://studium.umontreal.ca/course/view.php?id=237645\n"
      ],
      "metadata": {
        "id": "j0bfpOG4ECDh"
      }
    },
    {
      "cell_type": "markdown",
      "source": [
        "# Contenu de ce notebook\n",
        "\n",
        "- Dictionnaires 1\n",
        "- Dictionnaires 2\n",
        "- Dictionnaires 3\n",
        "- Dictionnaires 4\n",
        "- Dictionnaires 5\n",
        "- Fichiers 1\n",
        "- Fichiers 2\n",
        "- Fichiers 3\n",
        "- Requêtes Web 1"
      ],
      "metadata": {
        "id": "BW8mW9otEXFF"
      }
    },
    {
      "cell_type": "markdown",
      "source": [
        "Quelques exercices sur les dictionnaires, en grande partie proposés par ChatGPT... 🤖💬"
      ],
      "metadata": {
        "id": "o7PFPstT6AYw"
      }
    },
    {
      "cell_type": "markdown",
      "source": [
        "# Dictionnaires 1\n",
        "\n",
        "Créez un dictionnaire vide appelé personne. Demandez à l'utilisateur d'entrer son nom, son âge et son lieu de résidence, puis ajoutez ces informations au dictionnaire. Enfin, affichez le dictionnaire complet.\n"
      ],
      "metadata": {
        "id": "6F9vT-0r6F1M"
      }
    },
    {
      "cell_type": "code",
      "source": [
        "# écrire le code ici\n",
        "\n",
        "#personne = {}\n",
        "personne = {\"nom\": \"\", \"age\": 0, \"lieu\": \"\"}\n",
        "print(personne)\n",
        "\n",
        "personne[\"nom\"] = input(\"Inscrivez votre nom: \")\n",
        "personne[\"age\"] = input(\"Inscrivez votre age (entier): \")\n",
        "personne[\"lieu\"] = input(\"Inscrivez votre localisation: \")\n",
        "\n",
        "print(personne)"
      ],
      "metadata": {
        "id": "2Fgn0NAn6KtC",
        "outputId": "763c3cb6-e55f-4401-f8e2-5755fc4281bb",
        "colab": {
          "base_uri": "https://localhost:8080/"
        }
      },
      "execution_count": 9,
      "outputs": [
        {
          "output_type": "stream",
          "name": "stdout",
          "text": [
            "{'nom': '', 'age': 0, 'lieu': ''}\n",
            "Inscrivez votre nom: jkepj\n",
            "Inscrivez votre age (entier): pejgpoej\n",
            "Inscrivez votre localisation: oejogej\n",
            "{'nom': 'jkepj', 'age': 'pejgpoej', 'lieu': 'oejogej'}\n"
          ]
        }
      ]
    },
    {
      "cell_type": "markdown",
      "source": [
        "# Dictionnaires 2\n",
        "\n",
        "Créez un dictionnaire appelé fruits qui contient les paires clé-valeur suivantes :\n",
        "\n",
        "    \"pomme\" : 3\n",
        "    \"banane\" : 6\n",
        "    \"orange\" : 2\n",
        "    \"fraise\" : 10\n",
        "\n",
        "Affichez le nombre de bananes dans le dictionnaire."
      ],
      "metadata": {
        "id": "EZ205q3s6Lzj"
      }
    },
    {
      "cell_type": "code",
      "source": [
        "# écrire le code ici\n",
        "\n",
        "fruits = {\"pomme\": 3,\n",
        "          \"banane\": 6,\n",
        "          \"orange\": 2,\n",
        "          \"fraise\": 10}\n",
        "\n",
        "#nombre_de_bananes = fruits[\"banane\"]\n",
        "#print(\"Nombre de bananes:\", nombre_de_bananes)\n",
        "\n",
        "#print(\"Nombre de bananes:\", fruits[\"banane\"])\n",
        "print(f\"Nombre de bananes: {fruits['banane']}\")"
      ],
      "metadata": {
        "id": "0R3xXjdi6T2E",
        "outputId": "84792f1a-bf36-46c1-9217-1f05ca914a6b",
        "colab": {
          "base_uri": "https://localhost:8080/"
        }
      },
      "execution_count": 18,
      "outputs": [
        {
          "output_type": "stream",
          "name": "stdout",
          "text": [
            "Nombre de bananes: 6\n"
          ]
        }
      ]
    },
    {
      "cell_type": "markdown",
      "source": [
        "# Dictionnaires 3\n",
        "\n",
        "Créez un dictionnaire appelé etudiants qui contient les informations suivantes sur plusieurs étudiants :\n",
        "\n",
        "    Clé : Nom de l'étudiant\n",
        "    Valeur : Liste des matières qu'il étudie (par exemple, [\"maths\", \"physique\", \"chimie\"])\n",
        "\n",
        "Ajoutez les informations pour au moins trois étudiants. Ensuite, demandez à l'utilisateur d'entrer le nom d'un étudiant et affichez les matières qu'il étudie."
      ],
      "metadata": {
        "id": "rzh_jy1_6QXB"
      }
    },
    {
      "cell_type": "code",
      "source": [
        "# écrire le code ici\n",
        "\n",
        "etudiants = {\"John\": [\"géographie\", \"physique\", \"espagnol\"],\n",
        "             \"Jane\": [\"français\", \"art\", \"philo\"]}\n",
        "\n",
        "nom = input(\"Renseignez votre nom : \")\n",
        "#print(etudiants[nom])\n",
        "print(etudiants.get(nom))"
      ],
      "metadata": {
        "id": "2ArlcusG6Vc8",
        "outputId": "789a9a25-c9b9-48d7-83df-68f96e768a93",
        "colab": {
          "base_uri": "https://localhost:8080/"
        }
      },
      "execution_count": 22,
      "outputs": [
        {
          "output_type": "stream",
          "name": "stdout",
          "text": [
            "Renseignez votre nom : hello\n",
            "None\n"
          ]
        }
      ]
    },
    {
      "cell_type": "markdown",
      "source": [
        "# Dictionnaires 4\n",
        "\n",
        "Créez un dictionnaire appelé scores qui contient les scores de plusieurs joueurs à un jeu. Les clés sont les noms des joueurs et les valeurs sont les scores correspondants.\n",
        "\n",
        "Demandez à l'utilisateur d'entrer le nom d'un joueur et affichez son score. Si le joueur n'est pas présent dans le dictionnaire, affichez un message approprié."
      ],
      "metadata": {
        "id": "oU9JSCkG6e6X"
      }
    },
    {
      "cell_type": "code",
      "source": [
        "# écrire le code ici\n",
        "scores = {\"joueur1\": 20,\n",
        "          \"joueur2\": 42,\n",
        "          \"joueur3\": 18}\n",
        "\n",
        "val_possibles = \" | \".join(list(scores.keys()))\n",
        "# la méthode .join() permet de transformer une liste\n",
        "# en une chaîne de caractères en \"joignant\" les éléments de la liste\n",
        "# ici \" | \" sert de liant.\n",
        "requete = input(f\"Donnez le nom d'un joueur pour connaître son score (valeurs possibles: {val_possibles}): \")\n",
        "\n",
        "if requete in scores.keys():\n",
        "    print(f\"Voici le score de {requete}: {scores[requete]} points\")\n",
        "else:\n",
        "    print(\"Ce joueur n'existe pas dans la base.\")"
      ],
      "metadata": {
        "id": "U84qSI8x6hkS",
        "outputId": "a9a23014-55cf-45dd-a5bb-c6e74af9ac74",
        "colab": {
          "base_uri": "https://localhost:8080/"
        }
      },
      "execution_count": 2,
      "outputs": [
        {
          "output_type": "stream",
          "name": "stdout",
          "text": [
            "Donnez le nom d'un joueur pour connaître son score (valeurs possibles: joueur1 | joueur2 | joueur3): joueur2\n",
            "Voici le score de joueur2: 42 points\n"
          ]
        }
      ]
    },
    {
      "cell_type": "markdown",
      "source": [
        "# Dictionnaires 5\n",
        "\n",
        "Écrivez une fonction qui prend en entrée une liste de mots et renvoie un dictionnaire où les clés sont les mots et les valeurs sont le nombre d'occurrences de chaque mot dans la liste. Par exemple, si la liste est [\"chat\", \"chien\", \"chat\", \"souris\", \"chien\"], la fonction devrait renvoyer le dictionnaire {\"chat\": 2, \"chien\": 2, \"souris\": 1}."
      ],
      "metadata": {
        "id": "55zCzLp86rMF"
      }
    },
    {
      "cell_type": "code",
      "source": [
        "# écrire le code ici\n",
        "\n",
        "def compteur(liste):\n",
        "    mon_dict = {} # j'initialise un dictionnaire dans lequel je vais stocker les mots et leur nombre d'occurrences\n",
        "    for elem in liste:\n",
        "        if elem in mon_dict.keys():\n",
        "            mon_dict[elem] += 1\n",
        "        else:\n",
        "            mon_dict[elem] = 1 # la première fois qu'on voit un nouveau mot, on crée une nouvelle clef et on lui donne la valeur 1\n",
        "    return mon_dict\n",
        "\n",
        "ma_liste = [\"chat\", \"chien\", \"chat\", \"souris\", \"chien\"]\n",
        "print(compteur(ma_liste))"
      ],
      "metadata": {
        "id": "w6Ity2Se6upI",
        "outputId": "ad4a0c86-3f99-445d-cb83-4c902da642e3",
        "colab": {
          "base_uri": "https://localhost:8080/"
        }
      },
      "execution_count": 6,
      "outputs": [
        {
          "output_type": "stream",
          "name": "stdout",
          "text": [
            "{'chat': 2, 'chien': 2, 'souris': 1}\n"
          ]
        }
      ]
    },
    {
      "cell_type": "markdown",
      "source": [
        "Notez que la librairie built-in `collections`, et en particulier l'objet \"Counter\" permet de faire la même chose. ([la doc par ici](https://docs.python.org/3/library/collections.html#collections.Counter))"
      ],
      "metadata": {
        "id": "DwsVPKPdUymK"
      }
    },
    {
      "cell_type": "code",
      "source": [
        "from collections import Counter\n",
        "\n",
        "ma_liste = [\"chat\", \"chien\", \"chat\", \"souris\", \"chien\"]\n",
        "print(Counter(ma_liste))"
      ],
      "metadata": {
        "id": "mOE_UHIhUx01",
        "outputId": "2071fd7b-24fb-4fac-b334-229d040a880f",
        "colab": {
          "base_uri": "https://localhost:8080/"
        }
      },
      "execution_count": 3,
      "outputs": [
        {
          "output_type": "stream",
          "name": "stdout",
          "text": [
            "Counter({'chat': 2, 'chien': 2, 'souris': 1})\n"
          ]
        }
      ]
    },
    {
      "cell_type": "markdown",
      "source": [
        "# Fichiers 1\n",
        "\n",
        "Écrivez un programme qui demande à l'utilisateur d'entrer du texte à partir du clavier, puis enregistre ce texte dans un fichier texte nommé \"mon_fichier.txt\". Assurez-vous de créer le fichier s'il n'existe pas déjà, et de l'ouvrir en mode écriture pour y écrire le contenu."
      ],
      "metadata": {
        "id": "kyz5iQ-q7K29"
      }
    },
    {
      "cell_type": "code",
      "source": [
        "# écrire le code ici\n",
        "text = input(\"Entrez une citation : \")\n",
        "\n",
        "with open(\"mon_fichier.txt\", \"w\", encoding=\"utf8\") as file:\n",
        "    file.write(text)"
      ],
      "metadata": {
        "id": "RrUU1Ij97N5z",
        "outputId": "eaeee97f-5019-471b-d28d-b87f36237974",
        "colab": {
          "base_uri": "https://localhost:8080/"
        }
      },
      "execution_count": 7,
      "outputs": [
        {
          "name": "stdout",
          "output_type": "stream",
          "text": [
            "Entrez une citation : passons passons puisque tout passe\n"
          ]
        }
      ]
    },
    {
      "cell_type": "code",
      "source": [
        "import os\n",
        "\n",
        "os.listdir()"
      ],
      "metadata": {
        "id": "mw7g3ZgBmgme",
        "outputId": "a178c100-f43b-434b-f15b-c97ff0a1d02b",
        "colab": {
          "base_uri": "https://localhost:8080/"
        }
      },
      "execution_count": 26,
      "outputs": [
        {
          "output_type": "execute_result",
          "data": {
            "text/plain": [
              "['.config', 'mon_fichier.txt', 'sample_data']"
            ]
          },
          "metadata": {},
          "execution_count": 26
        }
      ]
    },
    {
      "cell_type": "markdown",
      "source": [
        "# Fichiers 2\n",
        "\n",
        "Sachant que `chaine.split(\"\\n\")` permet de créer une liste de chaines de caractères en découpant une chaine de caractères à chaque apparition d'un caractère entre ().\n",
        "\n",
        "    # par exemple:\n",
        "    ma_chaine = \"Bonjour tout le monde\"\n",
        "    print(ma_chaine.split(\" \") # on découpe sur les espaces\n",
        "    >>> ['Bonjour', 'tout', 'le', 'monde']\n",
        "\n",
        "Écrivez une fonction qui prend en entrée un nom de fichier et renvoie le nombre de lignes dans ce fichier. Ouvrez le fichier en mode lecture, parcourez-le ligne par ligne, et utilisez une variable pour compter le nombre de lignes. Ensuite, renvoyez cette valeur."
      ],
      "metadata": {
        "id": "0_XfI6Md7Syt"
      }
    },
    {
      "cell_type": "code",
      "source": [
        "# écrire le code ici\n",
        "def fichier(file):\n",
        "    with open(file, \"r\", encoding=\"utf8\") as f:\n",
        "        text = f.read()\n",
        "\n",
        "    lignes = text.split(\"\\n\")\n",
        "    #print(lignes)\n",
        "    print(f\"Il y a {len(lignes)} lignes dans le fichier\")\n",
        "    print(f\"Il y a {len(text)} caractères dans le fichier\")\n",
        "    print(f\"soit {len(text)//len(lignes)} caractères par ligne\")\n",
        "\n",
        "fichier(\"example.txt\")"
      ],
      "metadata": {
        "id": "UXaeldnR7vK5",
        "outputId": "7b4c917c-5789-4dff-abf1-06246c56b612",
        "colab": {
          "base_uri": "https://localhost:8080/"
        }
      },
      "execution_count": 33,
      "outputs": [
        {
          "output_type": "stream",
          "name": "stdout",
          "text": [
            "Il y a 27 lignes dans le fichier\n",
            "Il y a 1704 caractères dans le fichier\n",
            "soit 63 caractères par ligne\n"
          ]
        }
      ]
    },
    {
      "cell_type": "markdown",
      "source": [
        "# Fichiers 3\n",
        "\n",
        "Écrivez une fonction qui prend en entrée un nom de fichier et un mot, et renvoie le nombre de fois que ce mot apparaît dans le fichier. Ouvrez le fichier en mode lecture, parcourez-le mot par mot, et utilisez une variable pour compter le nombre d'occurrences du mot. Ensuite, renvoyez cette valeur."
      ],
      "metadata": {
        "id": "451sPsJB73m5"
      }
    },
    {
      "cell_type": "code",
      "source": [
        "# attention, il faut déjà avoir créé un fichier contenant du texte.\n",
        "# ce bloc sert simplement à créer ce fichier mais vous pouvez aussi le faire à la main\n",
        "import requests\n",
        "\n",
        "# on va utiliser le projet Gutemberg pour créer un fichier qui contient du texte\n",
        "r = requests.get(\"https://www.gutenberg.org/cache/epub/15462/pg15462.txt\")\n",
        "if r.status_code == 200:\n",
        "    text = r.text\n",
        "else:\n",
        "    print(\"il y a un problème avec l'URL\")\n",
        "    text = \"Pas de contenu à mettre dans ce fichier...\"\n",
        "\n",
        "with open(\"fichier_de_test.txt\", \"w\", encoding=\"utf8\") as fh:\n",
        "    fh.write(text)\n",
        "\n",
        "print(\"le fichier 'fichier_de_test.txt' a bien été créé !\")"
      ],
      "metadata": {
        "id": "HUwcylIIXYaC",
        "outputId": "4823d3f5-b98a-4ae0-e3b2-7f69c608e5fc",
        "colab": {
          "base_uri": "https://localhost:8080/"
        }
      },
      "execution_count": 14,
      "outputs": [
        {
          "output_type": "stream",
          "name": "stdout",
          "text": [
            "le fichier 'fichier_de_test.txt' a bien été créé !\n"
          ]
        }
      ]
    },
    {
      "cell_type": "code",
      "source": [
        "# écrire le code ici\n",
        "\n",
        "def ouvre_et_compte(nom_fichier, mot_cherché):\n",
        "    # on ouvre le fichier\n",
        "    with open(nom_fichier, \"r\", encoding=\"utf8\") as fh:\n",
        "        contenu = fh.read()\n",
        "    # on découpe le texte en mots avec la fonction .split()\n",
        "    mots = contenu.split(\" \")\n",
        "    compté = 0\n",
        "    for mot in mots:\n",
        "        if mot == mot_cherché:\n",
        "            compté += 1\n",
        "    return compté\n",
        "\n",
        "chemin_vers_fichier = \"fichier_de_test.txt\"\n",
        "mot_a_chercher = \"je\"\n",
        "\n",
        "print(f\"J'ai trouvé {ouvre_et_compte(chemin_vers_fichier, mot_a_chercher)} fois \"\n",
        "        f\"le mot '{mot_a_chercher}' dans le fichier.\")"
      ],
      "metadata": {
        "id": "9_tes6Px73Au",
        "outputId": "847f6fc8-99ec-4089-9845-2652b06bb45e",
        "colab": {
          "base_uri": "https://localhost:8080/"
        }
      },
      "execution_count": 15,
      "outputs": [
        {
          "output_type": "stream",
          "name": "stdout",
          "text": [
            "J'ai trouvé 111 fois le mot 'je' dans le fichier.\n"
          ]
        }
      ]
    },
    {
      "cell_type": "markdown",
      "source": [
        "# Requêtes Web 1\n",
        "\n",
        "Refaire l'exercice Fichiers 3, mais en utilisant cette fois-ici le texte issu de la page web suivante : https://www.gutenberg.org/cache/epub/43/pg43.txt (vous aurez besoin d'importer le package requests)."
      ],
      "metadata": {
        "id": "yNkE0OuF77Eb"
      }
    },
    {
      "cell_type": "code",
      "source": [
        "# écrire le code ici\n",
        "import requests\n",
        "\n",
        "def récupère_un_texte_en_ligne(url):\n",
        "    r = requests.get(url)\n",
        "    if r.status_code == 200:\n",
        "        contenu = r.text\n",
        "    else:\n",
        "        print(f\"erreur {r.status_code} lors de la connexion à {url}\")\n",
        "        contenu = \"\"\n",
        "    return contenu\n",
        "\n",
        "def compte_mot_dans_texte(mot, texte):\n",
        "    mots = texte.split(\" \")\n",
        "    compté = 0\n",
        "    for m in mots:\n",
        "        if m == mot:\n",
        "            compté += 1\n",
        "    return compté\n",
        "\n",
        "contenu_page_web = récupère_un_texte_en_ligne(\"https://www.gutenberg.org/cache/epub/43/pg43.txt\")\n",
        "# on transforme le texte en minuscules pour trouver toutes les occurrences du mot\n",
        "min_contenu_page_web = contenu_page_web.lower()\n",
        "compte_mot_dans_texte(\"jekyll\", min_contenu_page_web)"
      ],
      "metadata": {
        "id": "JMMXaYA78U09",
        "outputId": "18138455-8f0b-4ff7-f992-c16b5552c9c9",
        "colab": {
          "base_uri": "https://localhost:8080/"
        }
      },
      "execution_count": 34,
      "outputs": [
        {
          "output_type": "execute_result",
          "data": {
            "text/plain": [
              "34"
            ]
          },
          "metadata": {},
          "execution_count": 34
        }
      ]
    },
    {
      "cell_type": "markdown",
      "source": [
        "⬅ lien vers le précédent notebook https://github.com/alix-tz/HNU6059/blob/main/jour_3/HNU3059_E2023_S3_Pratique.ipynb"
      ],
      "metadata": {
        "id": "woI4j_boEFAd"
      }
    }
  ]
}
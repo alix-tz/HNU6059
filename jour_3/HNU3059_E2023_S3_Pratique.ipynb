{
  "nbformat": 4,
  "nbformat_minor": 0,
  "metadata": {
    "colab": {
      "provenance": [],
      "toc_visible": true
    },
    "kernelspec": {
      "name": "python3",
      "display_name": "Python 3"
    },
    "language_info": {
      "name": "python"
    }
  },
  "cells": [
    {
      "cell_type": "markdown",
      "source": [
        "# HNU 3059 (HNU 6059) - Séance 3 - Pratique\n",
        "\n",
        "Lien vers le cours sur StudiUM: https://studium.umontreal.ca/course/view.php?id=237645\n"
      ],
      "metadata": {
        "id": "3LNTNlP3DW9E"
      }
    },
    {
      "cell_type": "markdown",
      "source": [
        "⬅ lien vers le précédent notebook: https://github.com/alix-tz/HNU6059/blob/main/jour_3/HNU3059_E2023_S3_Th%C3%A9orie.ipynb"
      ],
      "metadata": {
        "id": "JL9HPhX8DZQV"
      }
    },
    {
      "cell_type": "markdown",
      "source": [
        "# Contenu de ce notebook\n",
        "\n",
        "1. Les dictionnaires\n",
        "2. Interaction avec un fichier\n",
        "3. Packages et modules\n",
        "4. Interaction avec une page web\n",
        "5. Debriefing\n",
        "\n"
      ],
      "metadata": {
        "id": "-B5m3eiPDpYO"
      }
    },
    {
      "cell_type": "markdown",
      "source": [
        "# Les dictionnaires"
      ],
      "metadata": {
        "id": "6vCuvk1mFmDu"
      }
    },
    {
      "cell_type": "markdown",
      "source": [
        "- syntaxe\n",
        "- clefs et valeurs\n",
        "- utilisations"
      ],
      "metadata": {
        "id": "3AJfMMXnGeRo"
      }
    },
    {
      "cell_type": "markdown",
      "source": [
        "## Il est temps pour...\n",
        "\n",
        "<img src=\"https://boisestate.pressbooks.pub/app/uploads/sites/144/2022/05/2-2.png\" width=\"600px\">"
      ],
      "metadata": {
        "id": "vJUOtLvxQOJE"
      }
    },
    {
      "cell_type": "markdown",
      "source": [
        "# Interaction avec un fichier"
      ],
      "metadata": {
        "id": "7QsDbz_-Fq82"
      }
    },
    {
      "cell_type": "markdown",
      "source": [
        "- `open()` et `close()`\n",
        "- encoding et mode d'ouverture\n",
        "- lire le contenu d'un fichier\n",
        "- écrire dans un fichier\n",
        "- le bloc `with`"
      ],
      "metadata": {
        "id": "X1NNQy-ZGFOA"
      }
    },
    {
      "cell_type": "markdown",
      "source": [
        "## Il est temps pour...\n",
        "\n",
        "<img src=\"https://boisestate.pressbooks.pub/app/uploads/sites/144/2022/05/2-2.png\" width=\"600px\">"
      ],
      "metadata": {
        "id": "3wYgNGpxQdSd"
      }
    },
    {
      "cell_type": "markdown",
      "source": [
        "# Packages et modules"
      ],
      "metadata": {
        "id": "AdN8hAX5FuWw"
      }
    },
    {
      "cell_type": "markdown",
      "source": [
        "- discutons de la vidéo de Machine Learnia\n",
        "- utilité\n",
        "- syntaxe\n",
        "- trouver ou choisir un paquet\n",
        "- les bonnes pratiques avec les [imports](https://peps.python.org/pep-0008/#imports) (ou le retour de la PEP 8)"
      ],
      "metadata": {
        "id": "hu0OFrqHGpqh"
      }
    },
    {
      "cell_type": "markdown",
      "source": [
        "# Interaction avec une page web"
      ],
      "metadata": {
        "id": "sw-yWaKPFxID"
      }
    },
    {
      "cell_type": "markdown",
      "source": [
        "- module requests\n",
        "- formuler une requête\n",
        "- comprendre la réponse\n",
        "- utiliser le réponse"
      ],
      "metadata": {
        "id": "s_2wWwL6F0um"
      }
    },
    {
      "cell_type": "markdown",
      "source": [
        "## Il est temps pour...\n",
        "\n",
        "<img src=\"https://boisestate.pressbooks.pub/app/uploads/sites/144/2022/05/2-2.png\" width=\"600px\">"
      ],
      "metadata": {
        "id": "lhLoSYhbFpjT"
      }
    },
    {
      "cell_type": "markdown",
      "source": [
        "# Debriefing"
      ],
      "metadata": {
        "id": "IrLwVwhTPmd_"
      }
    },
    {
      "cell_type": "markdown",
      "source": [
        "- impressions sur le programmation et sur Python ?\n",
        "- des questions ?"
      ],
      "metadata": {
        "id": "vIwSv-xUFgaP"
      }
    },
    {
      "cell_type": "markdown",
      "source": [
        "# Lien vers le prochain notebook\n",
        "\n",
        "➡ https://github.com/alix-tz/HNU6059/blob/main/jour_3/HNU3059_E2023_S3_Exercices.ipynb"
      ],
      "metadata": {
        "id": "1iateixaD6Qh"
      }
    }
  ]
}
{
  "cells": [
    {
      "cell_type": "markdown",
      "metadata": {
        "id": "j0bfpOG4ECDh"
      },
      "source": [
        "# HNU 3059 (HNU 6059) - Séance 3 - Exercices\n",
        "\n",
        "Lien vers le cours sur StudiUM: https://studium.umontreal.ca/course/view.php?id=278064\n"
      ]
    },
    {
      "cell_type": "markdown",
      "metadata": {
        "id": "BW8mW9otEXFF"
      },
      "source": [
        "# Contenu de ce notebook\n",
        "\n",
        "- Dictionnaires 1\n",
        "- Dictionnaires 2\n",
        "- Dictionnaires 3\n",
        "- Dictionnaires 4\n",
        "- Dictionnaires 5\n",
        "- Fichiers 1\n",
        "- Fichiers 2\n",
        "- Fichiers 3\n",
        "- Requêtes Web 1"
      ]
    },
    {
      "cell_type": "markdown",
      "metadata": {
        "id": "o7PFPstT6AYw"
      },
      "source": [
        "Quelques exercices sur les dictionnaires, en grande partie proposés par ChatGPT... 🤖💬"
      ]
    },
    {
      "cell_type": "markdown",
      "metadata": {
        "id": "6F9vT-0r6F1M"
      },
      "source": [
        "# Dictionnaires 1\n",
        "\n",
        "Créez un dictionnaire vide appelé `personne`. Demandez à l'utilisateur-rice d'entrer son nom, son âge et son lieu de résidence, puis ajoutez ces informations au dictionnaire. Enfin, affichez le dictionnaire complet.\n"
      ]
    },
    {
      "cell_type": "code",
      "execution_count": null,
      "metadata": {
        "id": "2Fgn0NAn6KtC"
      },
      "outputs": [],
      "source": [
        "# écrire le code ici"
      ]
    },
    {
      "cell_type": "markdown",
      "metadata": {
        "id": "EZ205q3s6Lzj"
      },
      "source": [
        "# Dictionnaires 2\n",
        "\n",
        "Créez un dictionnaire appelé `fruits` qui contient les paires clé-valeur suivantes :\n",
        "\n",
        "    \"pomme\" : 3\n",
        "    \"banane\" : 6\n",
        "    \"orange\" : 2\n",
        "    \"fraise\" : 10\n",
        "\n",
        "Affichez le nombre de bananes dans le dictionnaire."
      ]
    },
    {
      "cell_type": "code",
      "execution_count": null,
      "metadata": {
        "id": "0R3xXjdi6T2E"
      },
      "outputs": [],
      "source": [
        "# écrire le code ici"
      ]
    },
    {
      "cell_type": "markdown",
      "metadata": {
        "id": "rzh_jy1_6QXB"
      },
      "source": [
        "# Dictionnaires 3\n",
        "\n",
        "Créez un dictionnaire appelé `etudiants` qui contient les informations suivantes sur plusieurs étudiant-es :\n",
        "\n",
        "    Clé : Nom de l'étudiant-e\n",
        "    Valeur : Liste des matières qu'il/elle étudie (par exemple, [\"maths\", \"physique\", \"chimie\"])\n",
        "\n",
        "Ajoutez les informations pour au moins trois étudiant-es. Ensuite, demandez à l'utilisateur-rice d'entrer le nom d'un-e étudiant-e et affichez les matières qu'il/elle étudie."
      ]
    },
    {
      "cell_type": "code",
      "execution_count": null,
      "metadata": {
        "id": "2ArlcusG6Vc8"
      },
      "outputs": [],
      "source": [
        "# écrire le code ici"
      ]
    },
    {
      "cell_type": "markdown",
      "metadata": {
        "id": "oU9JSCkG6e6X"
      },
      "source": [
        "# Dictionnaires 4\n",
        "\n",
        "Créez un dictionnaire appelé `scores` qui contient les scores de plusieurs joueur-euses à un jeu. Les clés sont les noms des joueur-euses et les valeurs sont les scores correspondants.\n",
        "\n",
        "Demandez à l'utilisateur-rice d'entrer le nom d'un-e joueur-euse et affichez son score. Si le/la joueur-euse n'existe pas dans le dictionnaire, affichez un message approprié."
      ]
    },
    {
      "cell_type": "code",
      "execution_count": null,
      "metadata": {
        "id": "U84qSI8x6hkS"
      },
      "outputs": [],
      "source": [
        "# écrire le code ici"
      ]
    },
    {
      "cell_type": "markdown",
      "metadata": {
        "id": "55zCzLp86rMF"
      },
      "source": [
        "# Dictionnaires 5\n",
        "\n",
        "Écrivez une fonction qui prend en entrée une liste de mots et renvoie un dictionnaire où les clés sont les mots et les valeurs sont le nombre d'occurrences de chaque mot dans la liste. Par exemple, si la liste est [\"chat\", \"chien\", \"chat\", \"souris\", \"chien\"], la fonction devrait renvoyer le dictionnaire {\"chat\": 2, \"chien\": 2, \"souris\": 1}."
      ]
    },
    {
      "cell_type": "code",
      "execution_count": null,
      "metadata": {
        "id": "w6Ity2Se6upI"
      },
      "outputs": [],
      "source": [
        "# écrire le code ici"
      ]
    },
    {
      "cell_type": "markdown",
      "metadata": {
        "id": "kyz5iQ-q7K29"
      },
      "source": [
        "# Fichiers 1\n",
        "\n",
        "Écrivez un programme qui demande à l'utilisateur-rice d'entrer du texte à partir du clavier, puis enregistre ce texte dans un fichier texte nommé \"mon_fichier.txt\". Assurez-vous de créer le fichier s'il n'existe pas déjà, et de l'ouvrir en mode écriture pour y écrire le contenu."
      ]
    },
    {
      "cell_type": "code",
      "execution_count": null,
      "metadata": {
        "id": "RrUU1Ij97N5z"
      },
      "outputs": [],
      "source": [
        "# écrire le code ici"
      ]
    },
    {
      "cell_type": "markdown",
      "metadata": {
        "id": "0_XfI6Md7Syt"
      },
      "source": [
        "# Fichiers 2\n",
        "\n",
        "Sachant que `chaine.split(\"\\n\")` permet de créer une liste de chaines de caractères en découpant une chaine de caractères à chaque apparition d'un caractère entre ().\n",
        "\n",
        "    # par exemple:\n",
        "    ma_chaine = \"Bonjour tout le monde\"\n",
        "    print(ma_chaine.split(\" \") # on découpe sur les espaces\n",
        "    >>> ['Bonjour', 'tout', 'le', 'monde']\n",
        "\n",
        "Écrivez une fonction qui prend en entrée un nom de fichier et renvoie le nombre de lignes dans ce fichier. Ouvrez le fichier en mode lecture, parcourez-le ligne par ligne, et utilisez une variable pour compter le nombre de lignes. Ensuite, renvoyez cette valeur."
      ]
    },
    {
      "cell_type": "code",
      "execution_count": null,
      "metadata": {
        "id": "UXaeldnR7vK5"
      },
      "outputs": [],
      "source": [
        "# écrire le code ici"
      ]
    },
    {
      "cell_type": "markdown",
      "metadata": {
        "id": "451sPsJB73m5"
      },
      "source": [
        "# Fichiers 3\n",
        "\n",
        "Écrivez une fonction qui prend en entrée un nom de fichier et un mot, et renvoie le nombre de fois que ce mot apparaît dans le fichier. Ouvrez le fichier en mode lecture, parcourez-le mot par mot, et utilisez une variable pour compter le nombre d'occurrences du mot. Ensuite, renvoyez cette valeur."
      ]
    },
    {
      "cell_type": "code",
      "execution_count": null,
      "metadata": {
        "id": "9_tes6Px73Au"
      },
      "outputs": [],
      "source": [
        "# écrire le code ici"
      ]
    },
    {
      "cell_type": "markdown",
      "metadata": {
        "id": "yNkE0OuF77Eb"
      },
      "source": [
        "# Requêtes Web 1\n",
        "\n",
        "Refaire l'exercice Fichiers 3, mais en utilisant cette fois-ici le texte issu de la page web suivante : https://www.gutenberg.org/cache/epub/43/pg43.txt (vous aurez besoin d'importer le package requests)."
      ]
    },
    {
      "cell_type": "code",
      "execution_count": null,
      "metadata": {
        "id": "JMMXaYA78U09"
      },
      "outputs": [],
      "source": [
        "# écrire le code ici"
      ]
    },
    {
      "cell_type": "markdown",
      "metadata": {
        "id": "woI4j_boEFAd"
      },
      "source": [
        "⬅ lien vers le précédent notebook https://github.com/alix-tz/HNU6059/blob/main/jour_3/HNU3059_E2023_S3_Pratique.ipynb"
      ]
    }
  ],
  "metadata": {
    "colab": {
      "provenance": []
    },
    "kernelspec": {
      "display_name": "Python 3",
      "name": "python3"
    },
    "language_info": {
      "name": "python"
    }
  },
  "nbformat": 4,
  "nbformat_minor": 0
}

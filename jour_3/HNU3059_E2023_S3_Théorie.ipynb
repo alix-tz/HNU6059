{
  "cells": [
    {
      "cell_type": "markdown",
      "metadata": {
        "id": "omhdCs_s4ouL"
      },
      "source": [
        "# HNU 3059 (HNU 6059) - Séance 3 - Théorie\n",
        "\n",
        "Lien vers le cours sur StudiUM: https://studium.umontreal.ca/course/view.php?id=278064\n"
      ]
    },
    {
      "cell_type": "markdown",
      "metadata": {
        "id": "_T0Ywe064r6a"
      },
      "source": [
        "# Contenu de ce notebook\n",
        "\n",
        "1. Discutons des lectures sur les langages de programmation\n",
        "2. Continuer à apprendre\n",
        "3. Consignes du travail final (rappel)\n"
      ]
    },
    {
      "cell_type": "markdown",
      "metadata": {
        "id": "30QaTxhuDLp-"
      },
      "source": [
        "# Les langages de programmation\n",
        "\n",
        "- quels langages étaient listés dans les lectures ?\n",
        "- un avis sur les lectures ?"
      ]
    },
    {
      "cell_type": "markdown",
      "metadata": {
        "id": "gv0FutAzDN92"
      },
      "source": [
        "# Continuer à apprendre à programmer"
      ]
    },
    {
      "cell_type": "markdown",
      "metadata": {
        "id": "p6t3vc1u9tmI"
      },
      "source": [
        "- ressources comme Programming Historian (des tutoriels orientés vers une tâche particulière)\n",
        "- des MOOCs ou des cours en lignes (mais parfois trop orientés mathématiques)\n",
        "- des vidéos Youtube, comme la playlist de Machine Learnia\n",
        "- la documentation en ligne des fonctions, objets et librairies dont on a parlé\n",
        "- des petits projets personnels"
      ]
    },
    {
      "cell_type": "markdown",
      "metadata": {
        "id": "YhTNfIBV-5Kn"
      },
      "source": [
        "Pourquoi pas demander des exercices à ChatGPT plus des corrections ?"
      ]
    },
    {
      "cell_type": "markdown",
      "metadata": {
        "id": "NuEmq1od-gfa"
      },
      "source": [
        "Passé l'apprentissage des bases, il vaut mieux se concentrer sur des aspects ponctuels (par exemple, découvrire ce que permettent des librairies comme `pandas` ou `matplotlib` ou `opencv`, respectivement pour la gestion de tableaux de données, pour la création de visualisations de données et pour la manipulation d'images), ou sur des tâches particulières que l'on veut faire avec Python."
      ]
    },
    {
      "cell_type": "markdown",
      "metadata": {
        "id": "JjabD6LcCK0b"
      },
      "source": [
        "# A propos du Quiz 3"
      ]
    },
    {
      "cell_type": "markdown",
      "metadata": {
        "id": "6GNlJr_TCNit"
      },
      "source": [
        "- prenez le temps de bien lire le code\n",
        "- prenez le temps de lire toutes les affirmations\n",
        "- copiez-collez le code dans colab et exécutez-le\n",
        "- ce n'est pas parce que le code donne une erreur que toutes les autres affirmations sont fausses"
      ]
    },
    {
      "cell_type": "markdown",
      "metadata": {
        "id": "KMFfkjDjDQAn"
      },
      "source": [
        "# Consignes du travail final (rappel)"
      ]
    },
    {
      "cell_type": "markdown",
      "metadata": {
        "id": "SJHz5wc7CfGM"
      },
      "source": [
        "- **qui prévoit de le faire et de le faire compter dans la note?**"
      ]
    },
    {
      "cell_type": "markdown",
      "metadata": {
        "id": "-KDo-mTeDVjk"
      },
      "source": [
        "- exercice bonus pour les étudiant-es du premier cycle\n",
        "- obligatoire pour les étudiant-es du troisième cycle\n",
        "- une proposition d'exercice:\n",
        "    - https://github.com/alix-tz/HNU6059/blob/main/Projet%20final/HNU3059_E2023_Projet_consignes.ipynb\n",
        "- à rendre dans un fichier `.ipynb` ou un fichier `.py` pour la fin du mois (30 juin)\n",
        "- pensez à mettre votre nom dans le nom du fichier !!"
      ]
    },
    {
      "cell_type": "markdown",
      "metadata": {
        "id": "OjXeaWxUD6t6"
      },
      "source": [
        "Critères d'évaluation :\n",
        "\n",
        "- est-ce que le code fonctionne ?\n",
        "- les consignes sont-elles respectées ?\n",
        "- le code mobilise-t-il les bonnes pratiques de développement avec Python ? (code documenté, normes de nommage des variables, etc.)\n",
        "- le programme utilise-t-il des éléments vus durant le cours ?"
      ]
    },
    {
      "cell_type": "markdown",
      "metadata": {
        "id": "_9u54a8YEd4d"
      },
      "source": [
        "**Nota :** si utilisez ChatGPT, gardez en tête que le but de l'exercice est de vous donner un projet pratique sur lequel vous exercer."
      ]
    },
    {
      "cell_type": "markdown",
      "metadata": {
        "id": "SkAjxhSV4yXk"
      },
      "source": [
        "# Lien vers le prochain notebook\n",
        "\n",
        "➡ https://github.com/alix-tz/HNU6059/blob/main/jour_3/HNU3059_E2023_S3_Pratique.ipynb"
      ]
    }
  ],
  "metadata": {
    "colab": {
      "provenance": []
    },
    "kernelspec": {
      "display_name": "Python 3",
      "name": "python3"
    },
    "language_info": {
      "name": "python"
    }
  },
  "nbformat": 4,
  "nbformat_minor": 0
}

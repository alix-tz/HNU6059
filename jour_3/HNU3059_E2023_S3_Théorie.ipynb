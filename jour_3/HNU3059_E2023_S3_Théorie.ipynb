{
  "nbformat": 4,
  "nbformat_minor": 0,
  "metadata": {
    "colab": {
      "provenance": [],
      "toc_visible": true
    },
    "kernelspec": {
      "name": "python3",
      "display_name": "Python 3"
    },
    "language_info": {
      "name": "python"
    }
  },
  "cells": [
    {
      "cell_type": "markdown",
      "source": [
        "# HNU 3059 (HNU 6059) - Séance 3 - Théorie\n",
        "\n",
        "Lien vers le cours sur StudiUM: https://studium.umontreal.ca/course/view.php?id=237645\n"
      ],
      "metadata": {
        "id": "omhdCs_s4ouL"
      }
    },
    {
      "cell_type": "markdown",
      "source": [
        "# Contenu de ce notebook\n",
        "\n",
        "1. Discutons des lectures sur les langages de programmation\n",
        "2. Continuer à apprendre\n",
        "3. Consignes du travail final (rappel)\n"
      ],
      "metadata": {
        "id": "_T0Ywe064r6a"
      }
    },
    {
      "cell_type": "markdown",
      "source": [
        "# Les langages de programmation\n",
        "\n",
        "- quels langages étaient listés dans les lectures ?\n",
        "- un avis sur les lectures ?"
      ],
      "metadata": {
        "id": "30QaTxhuDLp-"
      }
    },
    {
      "cell_type": "markdown",
      "source": [
        "# Continuer à apprendre à programmer"
      ],
      "metadata": {
        "id": "gv0FutAzDN92"
      }
    },
    {
      "cell_type": "markdown",
      "source": [
        "- ressources comme Programming Historian (des tutoriels orientés vers une tâche particulière)\n",
        "- des MOOCs ou des cours en lignes (mais parfois trop orientés mathématiques)\n",
        "- des vidéos Youtube, comme la playlist de Machine Learnia\n",
        "- la documentation en ligne des fonctions, objets et librairies dont on a parlé\n",
        "- des petits projets personnels"
      ],
      "metadata": {
        "id": "p6t3vc1u9tmI"
      }
    },
    {
      "cell_type": "markdown",
      "source": [
        "Pourquoi pas demander des exercices à ChatGPT plus des corrections ?"
      ],
      "metadata": {
        "id": "YhTNfIBV-5Kn"
      }
    },
    {
      "cell_type": "markdown",
      "source": [
        "Passé l'apprentissage des bases, il vaut mieux se concentrer sur des aspects ponctuels (par exemple, découvrire ce que permettent des librairies comme `pandas` ou `matplotlib` ou `opencv`, respectivement pour la gestion de tableaux de données, pour la création de visualisations de données et pour la manipulation d'images), ou sur des tâches particulières que l'on veut faire avec Python."
      ],
      "metadata": {
        "id": "NuEmq1od-gfa"
      }
    },
    {
      "cell_type": "markdown",
      "source": [
        "# A propos du Quiz 3"
      ],
      "metadata": {
        "id": "JjabD6LcCK0b"
      }
    },
    {
      "cell_type": "markdown",
      "source": [
        "- prenez le temps de bien lire le code\n",
        "- prenez le temps de lire toutes les affirmations\n",
        "- copiez-collez le code dans colab et exécutez-le\n",
        "- ce n'est pas parce que le code donne une erreur que toutes les autres affirmations sont fausses"
      ],
      "metadata": {
        "id": "6GNlJr_TCNit"
      }
    },
    {
      "cell_type": "markdown",
      "source": [
        "# Consignes du travail final (rappel)"
      ],
      "metadata": {
        "id": "KMFfkjDjDQAn"
      }
    },
    {
      "cell_type": "markdown",
      "source": [
        "- **qui prévoit de le faire et de le faire compter dans la note?**"
      ],
      "metadata": {
        "id": "SJHz5wc7CfGM"
      }
    },
    {
      "cell_type": "markdown",
      "source": [
        "- exercice bonus pour les étudiant-es du premier cycle\n",
        "- obligatoire pour les étudiant-es du troisième cycle\n",
        "- une proposition d'exercice:\n",
        "    - https://github.com/alix-tz/HNU6059/blob/main/Projet%20final/HNU3059_E2023_Projet_consignes.ipynb\n",
        "- à rendre dans un fichier `.ipynb` ou un fichier `.py` pour la fin du mois (30 juin)\n",
        "- pensez à mettre votre nom dans le nom du fichier !!"
      ],
      "metadata": {
        "id": "-KDo-mTeDVjk"
      }
    },
    {
      "cell_type": "markdown",
      "source": [
        "Critères d'évaluation :\n",
        "\n",
        "- est-ce que le code fonctionne ?\n",
        "- les consignes sont-elles respectées ?\n",
        "- le code mobilise-t-il les bonnes pratiques de développement avec Python ? (code documenté, normes de nommage des variables, etc.)\n",
        "- le programme utilise-t-il des éléments vus durant le cours ?"
      ],
      "metadata": {
        "id": "OjXeaWxUD6t6"
      }
    },
    {
      "cell_type": "markdown",
      "source": [
        "**Nota :** si utilisez ChatGPT, gardez en tête que le but de l'exercice est de vous donner un projet pratique sur lequel vous exercer."
      ],
      "metadata": {
        "id": "_9u54a8YEd4d"
      }
    },
    {
      "cell_type": "markdown",
      "source": [
        "# Lien vers le prochain notebook\n",
        "\n",
        "➡ https://github.com/alix-tz/HNU6059/blob/main/jour_3/HNU3059_E2023_S3_Pratique.ipynb"
      ],
      "metadata": {
        "id": "SkAjxhSV4yXk"
      }
    }
  ]
}